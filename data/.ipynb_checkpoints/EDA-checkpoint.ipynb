{
 "cells": [
  {
   "cell_type": "markdown",
   "id": "4e1debb1-0e80-4152-9f58-7badfbab5004",
   "metadata": {},
   "source": [
    "# Fire\n",
    "\n",
    "Explore the problem in following stages:\n",
    "1. Hypothesis Generation – understanding the problem better by brainstorming possible factors that can impact the outcome\n",
    "2. Data Exploration – looking at categorical and continuous feature summaries and making inferences about the data.\n",
    "3. Data Cleaning – imputing missing values in the data and checking for outliers\n",
    "4. Feature Engineering – modifying existing variables and creating new ones for analysis\n",
    "5. Model Building – making predictive models on the data\n",
    "\n",
    "\n",
    "\n",
    "## 1. Hypothesis Generation\n",
    "\n",
    "My hypothesis is that weather, size, and location will have the most impact on predicting the cause of a fire\n",
    "\n",
    "## 2. Data Exploration"
   ]
  },
  {
   "cell_type": "markdown",
   "id": "e42d112c-57b0-4d58-a84a-75c5cd599e2d",
   "metadata": {},
   "source": [
    "### 2022 BC Fire Data\n",
    "https://catalogue.data.gov.bc.ca/dataset/fire-locations-current/resource/26ca32d0-1217-4642-9578-616a250f62a0"
   ]
  },
  {
   "cell_type": "code",
   "execution_count": 1,
   "id": "73d93ba2-a569-42d2-9118-0af5d3ec3501",
   "metadata": {},
   "outputs": [],
   "source": [
    "import pandas as pd"
   ]
  },
  {
   "cell_type": "code",
   "execution_count": 44,
   "id": "70181e83-7c43-4854-819a-0feeb19d3b35",
   "metadata": {},
   "outputs": [],
   "source": [
    "bc = pd.read_csv(\"C_FIRE_PNT.csv\") "
   ]
  },
  {
   "cell_type": "code",
   "execution_count": 34,
   "id": "199f3c29-973a-4d73-aed7-ee5eec664b04",
   "metadata": {},
   "outputs": [
    {
     "data": {
      "text/html": [
       "<div>\n",
       "<style scoped>\n",
       "    .dataframe tbody tr th:only-of-type {\n",
       "        vertical-align: middle;\n",
       "    }\n",
       "\n",
       "    .dataframe tbody tr th {\n",
       "        vertical-align: top;\n",
       "    }\n",
       "\n",
       "    .dataframe thead th {\n",
       "        text-align: right;\n",
       "    }\n",
       "</style>\n",
       "<table border=\"1\" class=\"dataframe\">\n",
       "  <thead>\n",
       "    <tr style=\"text-align: right;\">\n",
       "      <th></th>\n",
       "      <th>FIRE_NO</th>\n",
       "      <th>FIRE_YEAR</th>\n",
       "      <th>IGN_DATE</th>\n",
       "      <th>FIRESTATUS</th>\n",
       "      <th>FIRE_CAUSE</th>\n",
       "      <th>FIRE_CENTR</th>\n",
       "      <th>ZONE</th>\n",
       "      <th>FIRE_ID</th>\n",
       "      <th>FIRE_TYPE</th>\n",
       "      <th>GEO_DESC</th>\n",
       "      <th>...</th>\n",
       "      <th>LONGITUDE</th>\n",
       "      <th>SIZE_HA</th>\n",
       "      <th>FIRE_NT_ID</th>\n",
       "      <th>FIRE_NT_NM</th>\n",
       "      <th>FIRE_NT_LK</th>\n",
       "      <th>FCODE</th>\n",
       "      <th>SHAPE</th>\n",
       "      <th>OBJECTID</th>\n",
       "      <th>X</th>\n",
       "      <th>Y</th>\n",
       "    </tr>\n",
       "  </thead>\n",
       "  <tbody>\n",
       "    <tr>\n",
       "      <th>0</th>\n",
       "      <td>K20325</td>\n",
       "      <td>2022</td>\n",
       "      <td>20220621222315</td>\n",
       "      <td>Out</td>\n",
       "      <td>Person</td>\n",
       "      <td>5</td>\n",
       "      <td>2</td>\n",
       "      <td>325</td>\n",
       "      <td>Fire</td>\n",
       "      <td>Turquoise Lake</td>\n",
       "      <td>...</td>\n",
       "      <td>-121.6413</td>\n",
       "      <td>0.520</td>\n",
       "      <td>NaN</td>\n",
       "      <td>NaN</td>\n",
       "      <td>NaN</td>\n",
       "      <td>JA70003000</td>\n",
       "      <td>NaN</td>\n",
       "      <td>34678946</td>\n",
       "      <td>-121.641250</td>\n",
       "      <td>50.812367</td>\n",
       "    </tr>\n",
       "    <tr>\n",
       "      <th>1</th>\n",
       "      <td>N40326</td>\n",
       "      <td>2022</td>\n",
       "      <td>20220622163901</td>\n",
       "      <td>Out</td>\n",
       "      <td>Lightning</td>\n",
       "      <td>6</td>\n",
       "      <td>4</td>\n",
       "      <td>326</td>\n",
       "      <td>Fire</td>\n",
       "      <td>3Km NW of Martha Creek</td>\n",
       "      <td>...</td>\n",
       "      <td>-118.2365</td>\n",
       "      <td>0.009</td>\n",
       "      <td>NaN</td>\n",
       "      <td>NaN</td>\n",
       "      <td>NaN</td>\n",
       "      <td>JA70003000</td>\n",
       "      <td>NaN</td>\n",
       "      <td>34678947</td>\n",
       "      <td>-118.236533</td>\n",
       "      <td>51.166333</td>\n",
       "    </tr>\n",
       "    <tr>\n",
       "      <th>2</th>\n",
       "      <td>C50332</td>\n",
       "      <td>2022</td>\n",
       "      <td>20220623140807</td>\n",
       "      <td>Out</td>\n",
       "      <td>Person</td>\n",
       "      <td>7</td>\n",
       "      <td>5</td>\n",
       "      <td>332</td>\n",
       "      <td>Fire</td>\n",
       "      <td>Ulkatcho Reserve</td>\n",
       "      <td>...</td>\n",
       "      <td>-125.3068</td>\n",
       "      <td>0.009</td>\n",
       "      <td>NaN</td>\n",
       "      <td>NaN</td>\n",
       "      <td>NaN</td>\n",
       "      <td>JA70003000</td>\n",
       "      <td>NaN</td>\n",
       "      <td>34678948</td>\n",
       "      <td>-125.306800</td>\n",
       "      <td>52.467733</td>\n",
       "    </tr>\n",
       "    <tr>\n",
       "      <th>3</th>\n",
       "      <td>K20333</td>\n",
       "      <td>2022</td>\n",
       "      <td>20210628173729</td>\n",
       "      <td>Out</td>\n",
       "      <td>Person</td>\n",
       "      <td>5</td>\n",
       "      <td>2</td>\n",
       "      <td>333</td>\n",
       "      <td>Fire</td>\n",
       "      <td>53km up Criss Creek FSR</td>\n",
       "      <td>...</td>\n",
       "      <td>-120.7622</td>\n",
       "      <td>0.009</td>\n",
       "      <td>NaN</td>\n",
       "      <td>NaN</td>\n",
       "      <td>NaN</td>\n",
       "      <td>JA70003000</td>\n",
       "      <td>NaN</td>\n",
       "      <td>34678949</td>\n",
       "      <td>-120.762200</td>\n",
       "      <td>51.027867</td>\n",
       "    </tr>\n",
       "    <tr>\n",
       "      <th>4</th>\n",
       "      <td>R90334</td>\n",
       "      <td>2022</td>\n",
       "      <td>20220623165816</td>\n",
       "      <td>Out</td>\n",
       "      <td>Lightning</td>\n",
       "      <td>3</td>\n",
       "      <td>9</td>\n",
       "      <td>334</td>\n",
       "      <td>Fire</td>\n",
       "      <td>Hyland Post</td>\n",
       "      <td>...</td>\n",
       "      <td>-127.9811</td>\n",
       "      <td>0.500</td>\n",
       "      <td>NaN</td>\n",
       "      <td>NaN</td>\n",
       "      <td>NaN</td>\n",
       "      <td>JA70003000</td>\n",
       "      <td>NaN</td>\n",
       "      <td>34678950</td>\n",
       "      <td>-127.981083</td>\n",
       "      <td>57.703867</td>\n",
       "    </tr>\n",
       "  </tbody>\n",
       "</table>\n",
       "<p>5 rows × 21 columns</p>\n",
       "</div>"
      ],
      "text/plain": [
       "  FIRE_NO  FIRE_YEAR        IGN_DATE FIRESTATUS FIRE_CAUSE  FIRE_CENTR  ZONE  \\\n",
       "0  K20325       2022  20220621222315        Out     Person           5     2   \n",
       "1  N40326       2022  20220622163901        Out  Lightning           6     4   \n",
       "2  C50332       2022  20220623140807        Out     Person           7     5   \n",
       "3  K20333       2022  20210628173729        Out     Person           5     2   \n",
       "4  R90334       2022  20220623165816        Out  Lightning           3     9   \n",
       "\n",
       "   FIRE_ID FIRE_TYPE                 GEO_DESC  ...  LONGITUDE  SIZE_HA  \\\n",
       "0      325      Fire           Turquoise Lake  ...  -121.6413    0.520   \n",
       "1      326      Fire   3Km NW of Martha Creek  ...  -118.2365    0.009   \n",
       "2      332      Fire         Ulkatcho Reserve  ...  -125.3068    0.009   \n",
       "3      333      Fire  53km up Criss Creek FSR  ...  -120.7622    0.009   \n",
       "4      334      Fire              Hyland Post  ...  -127.9811    0.500   \n",
       "\n",
       "   FIRE_NT_ID  FIRE_NT_NM FIRE_NT_LK       FCODE SHAPE  OBJECTID           X  \\\n",
       "0         NaN         NaN        NaN  JA70003000   NaN  34678946 -121.641250   \n",
       "1         NaN         NaN        NaN  JA70003000   NaN  34678947 -118.236533   \n",
       "2         NaN         NaN        NaN  JA70003000   NaN  34678948 -125.306800   \n",
       "3         NaN         NaN        NaN  JA70003000   NaN  34678949 -120.762200   \n",
       "4         NaN         NaN        NaN  JA70003000   NaN  34678950 -127.981083   \n",
       "\n",
       "           Y  \n",
       "0  50.812367  \n",
       "1  51.166333  \n",
       "2  52.467733  \n",
       "3  51.027867  \n",
       "4  57.703867  \n",
       "\n",
       "[5 rows x 21 columns]"
      ]
     },
     "execution_count": 34,
     "metadata": {},
     "output_type": "execute_result"
    }
   ],
   "source": [
    "bc.head()"
   ]
  },
  {
   "cell_type": "code",
   "execution_count": 24,
   "id": "1e0c180a-75ae-4413-a310-358c2ea0a769",
   "metadata": {},
   "outputs": [
    {
     "data": {
      "text/plain": [
       "(1765, 21)"
      ]
     },
     "execution_count": 24,
     "metadata": {},
     "output_type": "execute_result"
    }
   ],
   "source": [
    "bc.shape"
   ]
  },
  {
   "cell_type": "code",
   "execution_count": 25,
   "id": "8885bef1-b3b1-4c4c-ae74-51b67db8bdcd",
   "metadata": {},
   "outputs": [
    {
     "data": {
      "text/plain": [
       "1"
      ]
     },
     "execution_count": 25,
     "metadata": {},
     "output_type": "execute_result"
    }
   ],
   "source": [
    "bc['FIRE_YEAR'].nunique()"
   ]
  },
  {
   "cell_type": "code",
   "execution_count": 26,
   "id": "d65d9828-9df1-4344-867e-469d80786dc9",
   "metadata": {},
   "outputs": [
    {
     "data": {
      "text/plain": [
       "FIRE_NO          0\n",
       "FIRE_YEAR        0\n",
       "IGN_DATE         0\n",
       "FIRESTATUS       0\n",
       "FIRE_CAUSE       0\n",
       "FIRE_CENTR       0\n",
       "ZONE             0\n",
       "FIRE_ID          0\n",
       "FIRE_TYPE        0\n",
       "GEO_DESC         2\n",
       "LATITUDE         0\n",
       "LONGITUDE        0\n",
       "SIZE_HA          0\n",
       "FIRE_NT_ID    1748\n",
       "FIRE_NT_NM    1748\n",
       "FIRE_NT_LK    1748\n",
       "FCODE            0\n",
       "SHAPE         1765\n",
       "OBJECTID         0\n",
       "X                0\n",
       "Y                0\n",
       "dtype: int64"
      ]
     },
     "execution_count": 26,
     "metadata": {},
     "output_type": "execute_result"
    }
   ],
   "source": [
    "bc.isna().sum()"
   ]
  },
  {
   "cell_type": "code",
   "execution_count": 27,
   "id": "f002afb9-80d4-4651-861a-8fd467fc91e3",
   "metadata": {},
   "outputs": [
    {
     "data": {
      "text/plain": [
       "FIRE_NO        object\n",
       "FIRE_YEAR       int64\n",
       "IGN_DATE        int64\n",
       "FIRESTATUS     object\n",
       "FIRE_CAUSE     object\n",
       "FIRE_CENTR      int64\n",
       "ZONE            int64\n",
       "FIRE_ID         int64\n",
       "FIRE_TYPE      object\n",
       "GEO_DESC       object\n",
       "LATITUDE      float64\n",
       "LONGITUDE     float64\n",
       "SIZE_HA       float64\n",
       "FIRE_NT_ID    float64\n",
       "FIRE_NT_NM     object\n",
       "FIRE_NT_LK     object\n",
       "FCODE          object\n",
       "SHAPE         float64\n",
       "OBJECTID        int64\n",
       "X             float64\n",
       "Y             float64\n",
       "dtype: object"
      ]
     },
     "execution_count": 27,
     "metadata": {},
     "output_type": "execute_result"
    }
   ],
   "source": [
    "bc.dtypes"
   ]
  },
  {
   "cell_type": "markdown",
   "id": "0d2058fc-f5e8-4f40-8700-dfbfbd55617e",
   "metadata": {},
   "source": [
    "https://docs.python.org/3/library/datetime.html#strftime-and-strptime-behavior"
   ]
  },
  {
   "cell_type": "code",
   "execution_count": 53,
   "id": "c0694f80-f4d5-47c9-a46a-a11fa6528d13",
   "metadata": {},
   "outputs": [],
   "source": [
    "import datetime as dt"
   ]
  },
  {
   "cell_type": "code",
   "execution_count": 54,
   "id": "a9005b41-5520-439d-8d4c-1285a35533c6",
   "metadata": {},
   "outputs": [],
   "source": [
    "def date_process(x):\n",
    "    x = str(x)\n",
    "    if len(x) == 14:\n",
    "        return dt.datetime.strptime(x, \"%Y%m%d%H%M%S\")\n",
    "    elif len(x) == 8:\n",
    "        return dt.datetime.strptime(x, \"%Y%m%d\")\n",
    "    else:\n",
    "        return dateparser.parse(x)\n",
    "\n",
    "bc['IGN_DATE'] = bc['IGN_DATE'].apply(date_process)"
   ]
  },
  {
   "cell_type": "code",
   "execution_count": 55,
   "id": "e929b3b7-554b-4fb4-845f-538326b7fa4e",
   "metadata": {},
   "outputs": [
    {
     "data": {
      "text/plain": [
       "0    2022-06-21 22:23:15\n",
       "1    2022-06-22 16:39:01\n",
       "2    2022-06-23 14:08:07\n",
       "3    2021-06-28 17:37:29\n",
       "4    2022-06-23 16:58:16\n",
       "Name: IGN_DATE, dtype: object"
      ]
     },
     "execution_count": 55,
     "metadata": {},
     "output_type": "execute_result"
    }
   ],
   "source": [
    "bc['IGN_DATE'].head()"
   ]
  },
  {
   "cell_type": "code",
   "execution_count": 56,
   "id": "e64de498-61b6-4d26-a8b9-8b8553e09533",
   "metadata": {},
   "outputs": [
    {
     "data": {
      "text/plain": [
       "17"
      ]
     },
     "execution_count": 56,
     "metadata": {},
     "output_type": "execute_result"
    }
   ],
   "source": [
    "bc['FIRE_NT_ID'].nunique()"
   ]
  },
  {
   "cell_type": "code",
   "execution_count": 57,
   "id": "6615c78f-2496-4bc1-9f40-f7f6b9d565fe",
   "metadata": {},
   "outputs": [
    {
     "data": {
      "text/plain": [
       "array([ nan, 877., 880., 881., 882., 884., 883., 885., 878., 879., 886.,\n",
       "       891., 890., 888., 893., 892., 887., 889.])"
      ]
     },
     "execution_count": 57,
     "metadata": {},
     "output_type": "execute_result"
    }
   ],
   "source": [
    "bc['FIRE_NT_ID'].unique()"
   ]
  },
  {
   "cell_type": "code",
   "execution_count": 58,
   "id": "04ef10d7-b371-48f4-9f32-471e27d8c403",
   "metadata": {},
   "outputs": [],
   "source": [
    "features = pd.read_csv(\"BC_Fire_Features.csv\", encoding='cp1252') "
   ]
  },
  {
   "cell_type": "code",
   "execution_count": 59,
   "id": "b2cd2cd8-853a-4a15-984d-1fece661c6d9",
   "metadata": {},
   "outputs": [
    {
     "data": {
      "text/html": [
       "<div>\n",
       "<style scoped>\n",
       "    .dataframe tbody tr th:only-of-type {\n",
       "        vertical-align: middle;\n",
       "    }\n",
       "\n",
       "    .dataframe tbody tr th {\n",
       "        vertical-align: top;\n",
       "    }\n",
       "\n",
       "    .dataframe thead th {\n",
       "        text-align: right;\n",
       "    }\n",
       "</style>\n",
       "<table border=\"1\" class=\"dataframe\">\n",
       "  <thead>\n",
       "    <tr style=\"text-align: right;\">\n",
       "      <th></th>\n",
       "      <th>Column Name</th>\n",
       "      <th>Short Name</th>\n",
       "      <th>Data Type</th>\n",
       "      <th>Data Precision</th>\n",
       "      <th>Column Comments</th>\n",
       "    </tr>\n",
       "  </thead>\n",
       "  <tbody>\n",
       "    <tr>\n",
       "      <th>0</th>\n",
       "      <td>FIRE_NUMBER</td>\n",
       "      <td>FIRE_NO</td>\n",
       "      <td>VARCHAR2</td>\n",
       "      <td>6</td>\n",
       "      <td>FIRE_NUMBER is a composite of the following fi...</td>\n",
       "    </tr>\n",
       "    <tr>\n",
       "      <th>1</th>\n",
       "      <td>FIRE_YEAR</td>\n",
       "      <td>FIRE_YEAR</td>\n",
       "      <td>NUMBER</td>\n",
       "      <td>4</td>\n",
       "      <td>FIRE_YEAR represents the fiscal year, April 1 ...</td>\n",
       "    </tr>\n",
       "    <tr>\n",
       "      <th>2</th>\n",
       "      <td>IGNITION_DATE</td>\n",
       "      <td>IGN_DATE</td>\n",
       "      <td>DATE</td>\n",
       "      <td>7</td>\n",
       "      <td>IGNITION_DATE is the discovery date of the fire.</td>\n",
       "    </tr>\n",
       "    <tr>\n",
       "      <th>3</th>\n",
       "      <td>FIRE_STATUS</td>\n",
       "      <td>FIRESTATUS</td>\n",
       "      <td>VARCHAR2</td>\n",
       "      <td>30</td>\n",
       "      <td>FIRE_STATUS is the control stage of the fire a...</td>\n",
       "    </tr>\n",
       "    <tr>\n",
       "      <th>4</th>\n",
       "      <td>FIRE_CAUSE</td>\n",
       "      <td>FIRE_CAUSE</td>\n",
       "      <td>VARCHAR2</td>\n",
       "      <td>20</td>\n",
       "      <td>FIRE_CAUSE is the suspected cause of the fire,...</td>\n",
       "    </tr>\n",
       "    <tr>\n",
       "      <th>5</th>\n",
       "      <td>FIRE_CENTRE</td>\n",
       "      <td>FIRE_CENTR</td>\n",
       "      <td>NUMBER</td>\n",
       "      <td>10</td>\n",
       "      <td>FIRE_CENTRE represents the BC Wildfire Service...</td>\n",
       "    </tr>\n",
       "    <tr>\n",
       "      <th>6</th>\n",
       "      <td>ZONE</td>\n",
       "      <td>ZONE</td>\n",
       "      <td>NUMBER</td>\n",
       "      <td>10</td>\n",
       "      <td>ZONE is a subset of the BC Wildfire Service Ce...</td>\n",
       "    </tr>\n",
       "    <tr>\n",
       "      <th>7</th>\n",
       "      <td>FIRE_ID</td>\n",
       "      <td>FIRE_ID</td>\n",
       "      <td>NUMBER</td>\n",
       "      <td>10</td>\n",
       "      <td>FIRE_ID is a unique number, system-generated, ...</td>\n",
       "    </tr>\n",
       "    <tr>\n",
       "      <th>8</th>\n",
       "      <td>FIRE_TYPE</td>\n",
       "      <td>FIRE_TYPE</td>\n",
       "      <td>VARCHAR2</td>\n",
       "      <td>20</td>\n",
       "      <td>FIRE_TYPE defines the type of incident that oc...</td>\n",
       "    </tr>\n",
       "    <tr>\n",
       "      <th>9</th>\n",
       "      <td>GEOGRAPHIC_DESCRIPTION</td>\n",
       "      <td>GEO_DESC</td>\n",
       "      <td>VARCHAR2</td>\n",
       "      <td>50</td>\n",
       "      <td>GEOGRAPHIC_DESCRIPTION is a description of the...</td>\n",
       "    </tr>\n",
       "    <tr>\n",
       "      <th>10</th>\n",
       "      <td>LATITUDE</td>\n",
       "      <td>LATITUDE</td>\n",
       "      <td>NUMBER</td>\n",
       "      <td>11</td>\n",
       "      <td>LATITUDE is the geographic coordinate, in deci...</td>\n",
       "    </tr>\n",
       "    <tr>\n",
       "      <th>11</th>\n",
       "      <td>LONGITUDE</td>\n",
       "      <td>LONGITUDE</td>\n",
       "      <td>NUMBER</td>\n",
       "      <td>11</td>\n",
       "      <td>LONGITUDE is the geographic coordinate, in dec...</td>\n",
       "    </tr>\n",
       "    <tr>\n",
       "      <th>12</th>\n",
       "      <td>CURRENT_SIZE</td>\n",
       "      <td>SIZE_HA</td>\n",
       "      <td>NUMBER</td>\n",
       "      <td>9</td>\n",
       "      <td>CURRENT_SIZE is the estimated size of the area...</td>\n",
       "    </tr>\n",
       "    <tr>\n",
       "      <th>13</th>\n",
       "      <td>FIRE_OF_NOTE_ID</td>\n",
       "      <td>FIRE_NT_ID</td>\n",
       "      <td>NUMBER</td>\n",
       "      <td>10</td>\n",
       "      <td>FIRE_OF_NOTE_ID is the project number for this...</td>\n",
       "    </tr>\n",
       "    <tr>\n",
       "      <th>14</th>\n",
       "      <td>FIRE_OF_NOTE_NAME</td>\n",
       "      <td>FIRE_NT_NM</td>\n",
       "      <td>VARCHAR2</td>\n",
       "      <td>50</td>\n",
       "      <td>FIRE_OF_NOTE_NAME is the display name used in ...</td>\n",
       "    </tr>\n",
       "    <tr>\n",
       "      <th>15</th>\n",
       "      <td>FIRE_OF_NOTE_URL</td>\n",
       "      <td>FIRE_NT_LK</td>\n",
       "      <td>VARCHAR2</td>\n",
       "      <td>255</td>\n",
       "      <td>FIRE_OF_NOTE_URL is the link to the Fire of No...</td>\n",
       "    </tr>\n",
       "    <tr>\n",
       "      <th>16</th>\n",
       "      <td>FEATURE_CODE</td>\n",
       "      <td>FCODE</td>\n",
       "      <td>VARCHAR2</td>\n",
       "      <td>10</td>\n",
       "      <td>FEATURE_CODE contains an alphanumeric value ba...</td>\n",
       "    </tr>\n",
       "    <tr>\n",
       "      <th>17</th>\n",
       "      <td>SHAPE</td>\n",
       "      <td>SHAPE</td>\n",
       "      <td>SDO_GEOMETRY</td>\n",
       "      <td>1</td>\n",
       "      <td>SHAPE is the column used to reference the spat...</td>\n",
       "    </tr>\n",
       "    <tr>\n",
       "      <th>18</th>\n",
       "      <td>OBJECTID</td>\n",
       "      <td>OBJECTID</td>\n",
       "      <td>NUMBER</td>\n",
       "      <td>38</td>\n",
       "      <td>OBJECTID is a column required by spatial layer...</td>\n",
       "    </tr>\n",
       "    <tr>\n",
       "      <th>19</th>\n",
       "      <td>SE_ANNO_CAD_DATA</td>\n",
       "      <td>NaN</td>\n",
       "      <td>BLOB</td>\n",
       "      <td>4000</td>\n",
       "      <td>SE_ANNO_CAD_DATA is a binary column used by sp...</td>\n",
       "    </tr>\n",
       "  </tbody>\n",
       "</table>\n",
       "</div>"
      ],
      "text/plain": [
       "               Column Name  Short Name     Data Type  Data Precision  \\\n",
       "0              FIRE_NUMBER     FIRE_NO      VARCHAR2               6   \n",
       "1                FIRE_YEAR   FIRE_YEAR        NUMBER               4   \n",
       "2            IGNITION_DATE    IGN_DATE          DATE               7   \n",
       "3              FIRE_STATUS  FIRESTATUS      VARCHAR2              30   \n",
       "4               FIRE_CAUSE  FIRE_CAUSE      VARCHAR2              20   \n",
       "5              FIRE_CENTRE  FIRE_CENTR        NUMBER              10   \n",
       "6                     ZONE        ZONE        NUMBER              10   \n",
       "7                  FIRE_ID     FIRE_ID        NUMBER              10   \n",
       "8                FIRE_TYPE   FIRE_TYPE      VARCHAR2              20   \n",
       "9   GEOGRAPHIC_DESCRIPTION    GEO_DESC      VARCHAR2              50   \n",
       "10                LATITUDE    LATITUDE        NUMBER              11   \n",
       "11               LONGITUDE   LONGITUDE        NUMBER              11   \n",
       "12            CURRENT_SIZE     SIZE_HA        NUMBER               9   \n",
       "13         FIRE_OF_NOTE_ID  FIRE_NT_ID        NUMBER              10   \n",
       "14       FIRE_OF_NOTE_NAME  FIRE_NT_NM      VARCHAR2              50   \n",
       "15        FIRE_OF_NOTE_URL  FIRE_NT_LK      VARCHAR2             255   \n",
       "16            FEATURE_CODE       FCODE      VARCHAR2              10   \n",
       "17                   SHAPE       SHAPE  SDO_GEOMETRY               1   \n",
       "18                OBJECTID    OBJECTID        NUMBER              38   \n",
       "19        SE_ANNO_CAD_DATA         NaN          BLOB            4000   \n",
       "\n",
       "                                      Column Comments  \n",
       "0   FIRE_NUMBER is a composite of the following fi...  \n",
       "1   FIRE_YEAR represents the fiscal year, April 1 ...  \n",
       "2    IGNITION_DATE is the discovery date of the fire.  \n",
       "3   FIRE_STATUS is the control stage of the fire a...  \n",
       "4   FIRE_CAUSE is the suspected cause of the fire,...  \n",
       "5   FIRE_CENTRE represents the BC Wildfire Service...  \n",
       "6   ZONE is a subset of the BC Wildfire Service Ce...  \n",
       "7   FIRE_ID is a unique number, system-generated, ...  \n",
       "8   FIRE_TYPE defines the type of incident that oc...  \n",
       "9   GEOGRAPHIC_DESCRIPTION is a description of the...  \n",
       "10  LATITUDE is the geographic coordinate, in deci...  \n",
       "11  LONGITUDE is the geographic coordinate, in dec...  \n",
       "12  CURRENT_SIZE is the estimated size of the area...  \n",
       "13  FIRE_OF_NOTE_ID is the project number for this...  \n",
       "14  FIRE_OF_NOTE_NAME is the display name used in ...  \n",
       "15  FIRE_OF_NOTE_URL is the link to the Fire of No...  \n",
       "16  FEATURE_CODE contains an alphanumeric value ba...  \n",
       "17  SHAPE is the column used to reference the spat...  \n",
       "18  OBJECTID is a column required by spatial layer...  \n",
       "19  SE_ANNO_CAD_DATA is a binary column used by sp...  "
      ]
     },
     "execution_count": 59,
     "metadata": {},
     "output_type": "execute_result"
    }
   ],
   "source": [
    "features"
   ]
  },
  {
   "cell_type": "code",
   "execution_count": 60,
   "id": "fa3df37d-6eac-4f3c-9387-5fb66685f44e",
   "metadata": {},
   "outputs": [
    {
     "data": {
      "text/plain": [
       "'FIRE_OF_NOTE_ID is the project number for this fire.'"
      ]
     },
     "execution_count": 60,
     "metadata": {},
     "output_type": "execute_result"
    }
   ],
   "source": [
    "features['Column Comments'][13]"
   ]
  },
  {
   "cell_type": "code",
   "execution_count": 61,
   "id": "fd478760-cb65-4726-b057-e114443553f4",
   "metadata": {},
   "outputs": [],
   "source": [
    "import seaborn as sns\n",
    "import matplotlib.pyplot as plt"
   ]
  },
  {
   "cell_type": "code",
   "execution_count": 14,
   "id": "6fcec94e-5e6e-4a3a-a0ad-b216915dbf0e",
   "metadata": {
    "collapsed": true,
    "jupyter": {
     "outputs_hidden": true
    },
    "tags": []
   },
   "outputs": [
    {
     "name": "stderr",
     "output_type": "stream",
     "text": [
      "\n",
      "KeyboardInterrupt\n",
      "\n"
     ]
    },
    {
     "name": "stdout",
     "output_type": "stream",
     "text": [
      "Error in callback <function flush_figures at 0x000001CA11DC6550> (for post_execute):\n"
     ]
    },
    {
     "ename": "KeyboardInterrupt",
     "evalue": "",
     "output_type": "error",
     "traceback": [
      "\u001b[1;31m---------------------------------------------------------------------------\u001b[0m",
      "\u001b[1;31mKeyboardInterrupt\u001b[0m                         Traceback (most recent call last)",
      "File \u001b[1;32m~\\anaconda3\\envs\\lighthouse_env\\lib\\site-packages\\matplotlib_inline\\backend_inline.py:121\u001b[0m, in \u001b[0;36mflush_figures\u001b[1;34m()\u001b[0m\n\u001b[0;32m    118\u001b[0m \u001b[38;5;28;01mif\u001b[39;00m InlineBackend\u001b[38;5;241m.\u001b[39minstance()\u001b[38;5;241m.\u001b[39mclose_figures:\n\u001b[0;32m    119\u001b[0m     \u001b[38;5;66;03m# ignore the tracking, just draw and close all figures\u001b[39;00m\n\u001b[0;32m    120\u001b[0m     \u001b[38;5;28;01mtry\u001b[39;00m:\n\u001b[1;32m--> 121\u001b[0m         \u001b[38;5;28;01mreturn\u001b[39;00m \u001b[43mshow\u001b[49m\u001b[43m(\u001b[49m\u001b[38;5;28;43;01mTrue\u001b[39;49;00m\u001b[43m)\u001b[49m\n\u001b[0;32m    122\u001b[0m     \u001b[38;5;28;01mexcept\u001b[39;00m \u001b[38;5;167;01mException\u001b[39;00m \u001b[38;5;28;01mas\u001b[39;00m e:\n\u001b[0;32m    123\u001b[0m         \u001b[38;5;66;03m# safely show traceback if in IPython, else raise\u001b[39;00m\n\u001b[0;32m    124\u001b[0m         ip \u001b[38;5;241m=\u001b[39m get_ipython()\n",
      "File \u001b[1;32m~\\anaconda3\\envs\\lighthouse_env\\lib\\site-packages\\matplotlib_inline\\backend_inline.py:41\u001b[0m, in \u001b[0;36mshow\u001b[1;34m(close, block)\u001b[0m\n\u001b[0;32m     39\u001b[0m \u001b[38;5;28;01mtry\u001b[39;00m:\n\u001b[0;32m     40\u001b[0m     \u001b[38;5;28;01mfor\u001b[39;00m figure_manager \u001b[38;5;129;01min\u001b[39;00m Gcf\u001b[38;5;241m.\u001b[39mget_all_fig_managers():\n\u001b[1;32m---> 41\u001b[0m         \u001b[43mdisplay\u001b[49m\u001b[43m(\u001b[49m\n\u001b[0;32m     42\u001b[0m \u001b[43m            \u001b[49m\u001b[43mfigure_manager\u001b[49m\u001b[38;5;241;43m.\u001b[39;49m\u001b[43mcanvas\u001b[49m\u001b[38;5;241;43m.\u001b[39;49m\u001b[43mfigure\u001b[49m\u001b[43m,\u001b[49m\n\u001b[0;32m     43\u001b[0m \u001b[43m            \u001b[49m\u001b[43mmetadata\u001b[49m\u001b[38;5;241;43m=\u001b[39;49m\u001b[43m_fetch_figure_metadata\u001b[49m\u001b[43m(\u001b[49m\u001b[43mfigure_manager\u001b[49m\u001b[38;5;241;43m.\u001b[39;49m\u001b[43mcanvas\u001b[49m\u001b[38;5;241;43m.\u001b[39;49m\u001b[43mfigure\u001b[49m\u001b[43m)\u001b[49m\n\u001b[0;32m     44\u001b[0m \u001b[43m        \u001b[49m\u001b[43m)\u001b[49m\n\u001b[0;32m     45\u001b[0m \u001b[38;5;28;01mfinally\u001b[39;00m:\n\u001b[0;32m     46\u001b[0m     show\u001b[38;5;241m.\u001b[39m_to_draw \u001b[38;5;241m=\u001b[39m []\n",
      "File \u001b[1;32m~\\anaconda3\\envs\\lighthouse_env\\lib\\site-packages\\IPython\\core\\display_functions.py:298\u001b[0m, in \u001b[0;36mdisplay\u001b[1;34m(include, exclude, metadata, transient, display_id, raw, clear, *objs, **kwargs)\u001b[0m\n\u001b[0;32m    296\u001b[0m     publish_display_data(data\u001b[38;5;241m=\u001b[39mobj, metadata\u001b[38;5;241m=\u001b[39mmetadata, \u001b[38;5;241m*\u001b[39m\u001b[38;5;241m*\u001b[39mkwargs)\n\u001b[0;32m    297\u001b[0m \u001b[38;5;28;01melse\u001b[39;00m:\n\u001b[1;32m--> 298\u001b[0m     format_dict, md_dict \u001b[38;5;241m=\u001b[39m \u001b[38;5;28;43mformat\u001b[39;49m\u001b[43m(\u001b[49m\u001b[43mobj\u001b[49m\u001b[43m,\u001b[49m\u001b[43m \u001b[49m\u001b[43minclude\u001b[49m\u001b[38;5;241;43m=\u001b[39;49m\u001b[43minclude\u001b[49m\u001b[43m,\u001b[49m\u001b[43m \u001b[49m\u001b[43mexclude\u001b[49m\u001b[38;5;241;43m=\u001b[39;49m\u001b[43mexclude\u001b[49m\u001b[43m)\u001b[49m\n\u001b[0;32m    299\u001b[0m     \u001b[38;5;28;01mif\u001b[39;00m \u001b[38;5;129;01mnot\u001b[39;00m format_dict:\n\u001b[0;32m    300\u001b[0m         \u001b[38;5;66;03m# nothing to display (e.g. _ipython_display_ took over)\u001b[39;00m\n\u001b[0;32m    301\u001b[0m         \u001b[38;5;28;01mcontinue\u001b[39;00m\n",
      "File \u001b[1;32m~\\anaconda3\\envs\\lighthouse_env\\lib\\site-packages\\IPython\\core\\formatters.py:178\u001b[0m, in \u001b[0;36mDisplayFormatter.format\u001b[1;34m(self, obj, include, exclude)\u001b[0m\n\u001b[0;32m    176\u001b[0m md \u001b[38;5;241m=\u001b[39m \u001b[38;5;28;01mNone\u001b[39;00m\n\u001b[0;32m    177\u001b[0m \u001b[38;5;28;01mtry\u001b[39;00m:\n\u001b[1;32m--> 178\u001b[0m     data \u001b[38;5;241m=\u001b[39m \u001b[43mformatter\u001b[49m\u001b[43m(\u001b[49m\u001b[43mobj\u001b[49m\u001b[43m)\u001b[49m\n\u001b[0;32m    179\u001b[0m \u001b[38;5;28;01mexcept\u001b[39;00m:\n\u001b[0;32m    180\u001b[0m     \u001b[38;5;66;03m# FIXME: log the exception\u001b[39;00m\n\u001b[0;32m    181\u001b[0m     \u001b[38;5;28;01mraise\u001b[39;00m\n",
      "File \u001b[1;32m~\\anaconda3\\envs\\lighthouse_env\\lib\\site-packages\\decorator.py:232\u001b[0m, in \u001b[0;36mdecorate.<locals>.fun\u001b[1;34m(*args, **kw)\u001b[0m\n\u001b[0;32m    230\u001b[0m \u001b[38;5;28;01mif\u001b[39;00m \u001b[38;5;129;01mnot\u001b[39;00m kwsyntax:\n\u001b[0;32m    231\u001b[0m     args, kw \u001b[38;5;241m=\u001b[39m fix(args, kw, sig)\n\u001b[1;32m--> 232\u001b[0m \u001b[38;5;28;01mreturn\u001b[39;00m caller(func, \u001b[38;5;241m*\u001b[39m(extras \u001b[38;5;241m+\u001b[39m args), \u001b[38;5;241m*\u001b[39m\u001b[38;5;241m*\u001b[39mkw)\n",
      "File \u001b[1;32m~\\anaconda3\\envs\\lighthouse_env\\lib\\site-packages\\IPython\\core\\formatters.py:222\u001b[0m, in \u001b[0;36mcatch_format_error\u001b[1;34m(method, self, *args, **kwargs)\u001b[0m\n\u001b[0;32m    220\u001b[0m \u001b[38;5;124;03m\"\"\"show traceback on failed format call\"\"\"\u001b[39;00m\n\u001b[0;32m    221\u001b[0m \u001b[38;5;28;01mtry\u001b[39;00m:\n\u001b[1;32m--> 222\u001b[0m     r \u001b[38;5;241m=\u001b[39m method(\u001b[38;5;28mself\u001b[39m, \u001b[38;5;241m*\u001b[39margs, \u001b[38;5;241m*\u001b[39m\u001b[38;5;241m*\u001b[39mkwargs)\n\u001b[0;32m    223\u001b[0m \u001b[38;5;28;01mexcept\u001b[39;00m \u001b[38;5;167;01mNotImplementedError\u001b[39;00m:\n\u001b[0;32m    224\u001b[0m     \u001b[38;5;66;03m# don't warn on NotImplementedErrors\u001b[39;00m\n\u001b[0;32m    225\u001b[0m     \u001b[38;5;28;01mreturn\u001b[39;00m \u001b[38;5;28mself\u001b[39m\u001b[38;5;241m.\u001b[39m_check_return(\u001b[38;5;28;01mNone\u001b[39;00m, args[\u001b[38;5;241m0\u001b[39m])\n",
      "File \u001b[1;32m~\\anaconda3\\envs\\lighthouse_env\\lib\\site-packages\\IPython\\core\\formatters.py:339\u001b[0m, in \u001b[0;36mBaseFormatter.__call__\u001b[1;34m(self, obj)\u001b[0m\n\u001b[0;32m    337\u001b[0m     \u001b[38;5;28;01mpass\u001b[39;00m\n\u001b[0;32m    338\u001b[0m \u001b[38;5;28;01melse\u001b[39;00m:\n\u001b[1;32m--> 339\u001b[0m     \u001b[38;5;28;01mreturn\u001b[39;00m \u001b[43mprinter\u001b[49m\u001b[43m(\u001b[49m\u001b[43mobj\u001b[49m\u001b[43m)\u001b[49m\n\u001b[0;32m    340\u001b[0m \u001b[38;5;66;03m# Finally look for special method names\u001b[39;00m\n\u001b[0;32m    341\u001b[0m method \u001b[38;5;241m=\u001b[39m get_real_method(obj, \u001b[38;5;28mself\u001b[39m\u001b[38;5;241m.\u001b[39mprint_method)\n",
      "File \u001b[1;32m~\\anaconda3\\envs\\lighthouse_env\\lib\\site-packages\\IPython\\core\\pylabtools.py:151\u001b[0m, in \u001b[0;36mprint_figure\u001b[1;34m(fig, fmt, bbox_inches, base64, **kwargs)\u001b[0m\n\u001b[0;32m    148\u001b[0m     \u001b[38;5;28;01mfrom\u001b[39;00m \u001b[38;5;21;01mmatplotlib\u001b[39;00m\u001b[38;5;21;01m.\u001b[39;00m\u001b[38;5;21;01mbackend_bases\u001b[39;00m \u001b[38;5;28;01mimport\u001b[39;00m FigureCanvasBase\n\u001b[0;32m    149\u001b[0m     FigureCanvasBase(fig)\n\u001b[1;32m--> 151\u001b[0m fig\u001b[38;5;241m.\u001b[39mcanvas\u001b[38;5;241m.\u001b[39mprint_figure(bytes_io, \u001b[38;5;241m*\u001b[39m\u001b[38;5;241m*\u001b[39mkw)\n\u001b[0;32m    152\u001b[0m data \u001b[38;5;241m=\u001b[39m bytes_io\u001b[38;5;241m.\u001b[39mgetvalue()\n\u001b[0;32m    153\u001b[0m \u001b[38;5;28;01mif\u001b[39;00m fmt \u001b[38;5;241m==\u001b[39m \u001b[38;5;124m'\u001b[39m\u001b[38;5;124msvg\u001b[39m\u001b[38;5;124m'\u001b[39m:\n",
      "File \u001b[1;32m~\\anaconda3\\envs\\lighthouse_env\\lib\\site-packages\\matplotlib\\backend_bases.py:2299\u001b[0m, in \u001b[0;36mFigureCanvasBase.print_figure\u001b[1;34m(self, filename, dpi, facecolor, edgecolor, orientation, format, bbox_inches, pad_inches, bbox_extra_artists, backend, **kwargs)\u001b[0m\n\u001b[0;32m   2297\u001b[0m \u001b[38;5;28;01mif\u001b[39;00m bbox_inches:\n\u001b[0;32m   2298\u001b[0m     \u001b[38;5;28;01mif\u001b[39;00m bbox_inches \u001b[38;5;241m==\u001b[39m \u001b[38;5;124m\"\u001b[39m\u001b[38;5;124mtight\u001b[39m\u001b[38;5;124m\"\u001b[39m:\n\u001b[1;32m-> 2299\u001b[0m         bbox_inches \u001b[38;5;241m=\u001b[39m \u001b[38;5;28;43mself\u001b[39;49m\u001b[38;5;241;43m.\u001b[39;49m\u001b[43mfigure\u001b[49m\u001b[38;5;241;43m.\u001b[39;49m\u001b[43mget_tightbbox\u001b[49m\u001b[43m(\u001b[49m\n\u001b[0;32m   2300\u001b[0m \u001b[43m            \u001b[49m\u001b[43mrenderer\u001b[49m\u001b[43m,\u001b[49m\u001b[43m \u001b[49m\u001b[43mbbox_extra_artists\u001b[49m\u001b[38;5;241;43m=\u001b[39;49m\u001b[43mbbox_extra_artists\u001b[49m\u001b[43m)\u001b[49m\n\u001b[0;32m   2301\u001b[0m         \u001b[38;5;28;01mif\u001b[39;00m pad_inches \u001b[38;5;129;01mis\u001b[39;00m \u001b[38;5;28;01mNone\u001b[39;00m:\n\u001b[0;32m   2302\u001b[0m             pad_inches \u001b[38;5;241m=\u001b[39m rcParams[\u001b[38;5;124m'\u001b[39m\u001b[38;5;124msavefig.pad_inches\u001b[39m\u001b[38;5;124m'\u001b[39m]\n",
      "File \u001b[1;32m~\\anaconda3\\envs\\lighthouse_env\\lib\\site-packages\\matplotlib\\figure.py:1684\u001b[0m, in \u001b[0;36mFigureBase.get_tightbbox\u001b[1;34m(self, renderer, bbox_extra_artists)\u001b[0m\n\u001b[0;32m   1681\u001b[0m     artists \u001b[38;5;241m=\u001b[39m bbox_extra_artists\n\u001b[0;32m   1683\u001b[0m \u001b[38;5;28;01mfor\u001b[39;00m a \u001b[38;5;129;01min\u001b[39;00m artists:\n\u001b[1;32m-> 1684\u001b[0m     bbox \u001b[38;5;241m=\u001b[39m \u001b[43ma\u001b[49m\u001b[38;5;241;43m.\u001b[39;49m\u001b[43mget_tightbbox\u001b[49m\u001b[43m(\u001b[49m\u001b[43mrenderer\u001b[49m\u001b[43m)\u001b[49m\n\u001b[0;32m   1685\u001b[0m     \u001b[38;5;28;01mif\u001b[39;00m bbox \u001b[38;5;129;01mis\u001b[39;00m \u001b[38;5;129;01mnot\u001b[39;00m \u001b[38;5;28;01mNone\u001b[39;00m \u001b[38;5;129;01mand\u001b[39;00m (bbox\u001b[38;5;241m.\u001b[39mwidth \u001b[38;5;241m!=\u001b[39m \u001b[38;5;241m0\u001b[39m \u001b[38;5;129;01mor\u001b[39;00m bbox\u001b[38;5;241m.\u001b[39mheight \u001b[38;5;241m!=\u001b[39m \u001b[38;5;241m0\u001b[39m):\n\u001b[0;32m   1686\u001b[0m         bb\u001b[38;5;241m.\u001b[39mappend(bbox)\n",
      "File \u001b[1;32m~\\anaconda3\\envs\\lighthouse_env\\lib\\site-packages\\matplotlib\\axes\\_base.py:4671\u001b[0m, in \u001b[0;36m_AxesBase.get_tightbbox\u001b[1;34m(self, renderer, call_axes_locator, bbox_extra_artists, for_layout_only)\u001b[0m\n\u001b[0;32m   4668\u001b[0m \u001b[38;5;28;01mif\u001b[39;00m clip_extent \u001b[38;5;129;01mis\u001b[39;00m \u001b[38;5;129;01mnot\u001b[39;00m \u001b[38;5;28;01mNone\u001b[39;00m:\n\u001b[0;32m   4669\u001b[0m     clip_extent \u001b[38;5;241m=\u001b[39m mtransforms\u001b[38;5;241m.\u001b[39mBbox\u001b[38;5;241m.\u001b[39mintersection(\n\u001b[0;32m   4670\u001b[0m         clip_extent, axbbox)\n\u001b[1;32m-> 4671\u001b[0m     \u001b[38;5;28;01mif\u001b[39;00m np\u001b[38;5;241m.\u001b[39mall(\u001b[43mclip_extent\u001b[49m\u001b[38;5;241;43m.\u001b[39;49m\u001b[43mextents\u001b[49m \u001b[38;5;241m==\u001b[39m axbbox\u001b[38;5;241m.\u001b[39mextents):\n\u001b[0;32m   4672\u001b[0m         \u001b[38;5;66;03m# clip extent is inside the Axes bbox so don't check\u001b[39;00m\n\u001b[0;32m   4673\u001b[0m         \u001b[38;5;66;03m# this artist\u001b[39;00m\n\u001b[0;32m   4674\u001b[0m         \u001b[38;5;28;01mcontinue\u001b[39;00m\n\u001b[0;32m   4675\u001b[0m bbox \u001b[38;5;241m=\u001b[39m a\u001b[38;5;241m.\u001b[39mget_tightbbox(renderer)\n",
      "File \u001b[1;32m~\\anaconda3\\envs\\lighthouse_env\\lib\\site-packages\\matplotlib\\transforms.py:401\u001b[0m, in \u001b[0;36mBboxBase.extents\u001b[1;34m(self)\u001b[0m\n\u001b[0;32m    398\u001b[0m \u001b[38;5;129m@property\u001b[39m\n\u001b[0;32m    399\u001b[0m \u001b[38;5;28;01mdef\u001b[39;00m \u001b[38;5;21mextents\u001b[39m(\u001b[38;5;28mself\u001b[39m):\n\u001b[0;32m    400\u001b[0m     \u001b[38;5;124;03m\"\"\"Return (:attr:`x0`, :attr:`y0`, :attr:`x1`, :attr:`y1`).\"\"\"\u001b[39;00m\n\u001b[1;32m--> 401\u001b[0m     \u001b[38;5;28;01mreturn\u001b[39;00m \u001b[38;5;28;43mself\u001b[39;49m\u001b[38;5;241;43m.\u001b[39;49m\u001b[43mget_points\u001b[49m\u001b[43m(\u001b[49m\u001b[43m)\u001b[49m\u001b[38;5;241;43m.\u001b[39;49m\u001b[43mflatten\u001b[49m\u001b[43m(\u001b[49m\u001b[43m)\u001b[49m\n",
      "\u001b[1;31mKeyboardInterrupt\u001b[0m: "
     ]
    }
   ],
   "source": [
    "sns.set(style=\"whitegrid\")  \n",
    "fig,axs = plt.subplots(2,3, figsize = (15,10))\n",
    "\n",
    "sns.histplot(data=bc, x=\"FIRE_YEAR\", kde=True, color=\"skyblue\", ax=axs[0, 0])\n",
    "sns.histplot(data=bc, x=\"FIRE_TYPE\", kde=True, color=\"olive\", ax=axs[0, 1])\n",
    "sns.histplot(data=bc, x=\"IGN_DATE\", kde=True, color=\"gold\", ax=axs[0,2])\n",
    "\n",
    "sns.histplot(data=bc, x=\"FIRE_CAUSE\", kde=True, color=\"teal\", ax=axs[1, 0])\n",
    "sns.histplot(data=bc, x=\"ZONE\", kde=True, color=\"teal\", ax=axs[1,1])\n",
    "sns.histplot(data=bc, x=\"SIZE_HA\", kde=True, color=\"blue\", ax=axs[1,2])\n",
    "fig.tight_layout()"
   ]
  },
  {
   "cell_type": "code",
   "execution_count": 62,
   "id": "5a8424f0-1eee-409f-b74b-2f5b62f6c5f2",
   "metadata": {},
   "outputs": [
    {
     "data": {
      "text/plain": [
       "<AxesSubplot:xlabel='FIRE_YEAR', ylabel='Count'>"
      ]
     },
     "execution_count": 62,
     "metadata": {},
     "output_type": "execute_result"
    },
    {
     "data": {
      "image/png": "[encoded data removed]",
      "text/plain": [
       "<Figure size 432x288 with 1 Axes>"
      ]
     },
     "metadata": {
      "needs_background": "light"
     },
     "output_type": "display_data"
    }
   ],
   "source": [
    "sns.histplot(data=bc, x=\"FIRE_YEAR\", kde=True, color=\"skyblue\")"
   ]
  },
  {
   "cell_type": "code",
   "execution_count": 63,
   "id": "3b107023-0543-4de2-9078-2b8036599539",
   "metadata": {},
   "outputs": [
    {
     "data": {
      "text/plain": [
       "<AxesSubplot:xlabel='IGN_DATE', ylabel='Count'>"
      ]
     },
     "execution_count": 63,
     "metadata": {},
     "output_type": "execute_result"
    },
    {
     "data": {
      "image/png": "[encoded data removed]",
      "text/plain": [
       "<Figure size 432x288 with 1 Axes>"
      ]
     },
     "metadata": {
      "needs_background": "light"
     },
     "output_type": "display_data"
    }
   ],
   "source": [
    "sns.histplot(data=bc, x=\"IGN_DATE\", kde=True, color=\"skyblue\")"
   ]
  },
  {
   "cell_type": "code",
   "execution_count": null,
   "id": "82a59f22-8dee-4480-8b28-d4420c2754b0",
   "metadata": {},
   "outputs": [],
   "source": [
    "#why is this taking forever?"
   ]
  },
  {
   "cell_type": "code",
   "execution_count": null,
   "id": "ac7d3571-7b36-422c-9342-c00208b78915",
   "metadata": {},
   "outputs": [],
   "source": [
    "fig,axs = plt.subplots(1,3, figsize = (15,8))\n",
    "sns.scatterplot(data=df, x=\"IGN_DATE\", y=\"SIZE_HA\", hue=\"FIRE_CAUSE\", ax=axs[0])                     \n",
    "sns.scatterplot(data=df, x=\"ZONE\", y=\"SIZE_HA\", hue=\"FIRE_CAUSE\", ax=axs[1])          \n",
    "sns.scatterplot(data=df, x=\"FIRE_TYPE\", y=\"SIZE_HA\", hue=\"FIRE_CAUSE\", ax=axs[2])        \n",
    "fig.tight_layout()"
   ]
  },
  {
   "cell_type": "code",
   "execution_count": null,
   "id": "cfd97310-d49e-428a-8ae4-9dc22cc37b47",
   "metadata": {},
   "outputs": [],
   "source": [
    "sns.set(style=\"whitegrid\") \n",
    "\n",
    "# creating a figure composed of two matplotlib.Axes objects (ax_box and ax_hist)\n",
    "fig, (ax_box, ax_hist) = plt.subplots(2, sharex=True, figsize = (15,10), gridspec_kw={\"height_ratios\": (.15, .85)})\n",
    " \n",
    "# assigning a graph to each ax\n",
    "sns.boxplot(data=df, x=\"ApplicantIncome\", color = 'skyblue', ax=ax_box)\n",
    "sns.histplot(data=df, x=\"ApplicantIncome\", kde=True, palette= \"pastel\", hue = \"Education\", ax=ax_hist).set(title='Applicant Income by Education', xlabel='Applicant Income')\n",
    " \n",
    "# Remove x axis name for the boxplot\n",
    "ax_box.set(xlabel='')\n",
    "plt.show()"
   ]
  },
  {
   "cell_type": "code",
   "execution_count": null,
   "id": "8b66f294-6e80-4099-bda8-fe3d0d0ba642",
   "metadata": {},
   "outputs": [],
   "source": []
  },
  {
   "cell_type": "code",
   "execution_count": null,
   "id": "24064aac-79a7-4c52-a49c-126ccc919d63",
   "metadata": {},
   "outputs": [],
   "source": []
  },
  {
   "cell_type": "code",
   "execution_count": null,
   "id": "07db1148-bfa1-47e1-a7cd-e80094220393",
   "metadata": {},
   "outputs": [],
   "source": []
  },
  {
   "cell_type": "markdown",
   "id": "ac233058-c272-421f-90b6-5237b552899f",
   "metadata": {},
   "source": [
    "### BC Historic Data"
   ]
  },
  {
   "cell_type": "code",
   "execution_count": 64,
   "id": "a4dee1ea-35d5-4372-a32a-9c7fab0a5c5e",
   "metadata": {},
   "outputs": [
    {
     "name": "stderr",
     "output_type": "stream",
     "text": [
      "C:\\Users\\3_hal\\AppData\\Local\\Temp\\ipykernel_19400\\3224770598.py:1: DtypeWarning: Columns (9) have mixed types. Specify dtype option on import or set low_memory=False.\n",
      "  bc_hist = pd.read_csv(\"H_Fire_PNT.csv\")\n"
     ]
    }
   ],
   "source": [
    "bc_hist = pd.read_csv(\"H_Fire_PNT.csv\") "
   ]
  },
  {
   "cell_type": "code",
   "execution_count": 65,
   "id": "0e362412-71e4-416e-bb61-15263d4c8be8",
   "metadata": {},
   "outputs": [
    {
     "data": {
      "text/html": [
       "<div>\n",
       "<style scoped>\n",
       "    .dataframe tbody tr th:only-of-type {\n",
       "        vertical-align: middle;\n",
       "    }\n",
       "\n",
       "    .dataframe tbody tr th {\n",
       "        vertical-align: top;\n",
       "    }\n",
       "\n",
       "    .dataframe thead th {\n",
       "        text-align: right;\n",
       "    }\n",
       "</style>\n",
       "<table border=\"1\" class=\"dataframe\">\n",
       "  <thead>\n",
       "    <tr style=\"text-align: right;\">\n",
       "      <th></th>\n",
       "      <th>FIRE_NO</th>\n",
       "      <th>FIRE_YEAR</th>\n",
       "      <th>IGN_DATE</th>\n",
       "      <th>FIRE_CAUSE</th>\n",
       "      <th>FIRELABEL</th>\n",
       "      <th>FRCNTR</th>\n",
       "      <th>ZONE</th>\n",
       "      <th>FIRE_ID</th>\n",
       "      <th>FIRE_TYPE</th>\n",
       "      <th>GEO_DESC</th>\n",
       "      <th>LATITUDE</th>\n",
       "      <th>LONGITUDE</th>\n",
       "      <th>SIZE_HA</th>\n",
       "      <th>FCODE</th>\n",
       "      <th>SHAPE</th>\n",
       "      <th>OBJECTID</th>\n",
       "      <th>X</th>\n",
       "      <th>Y</th>\n",
       "    </tr>\n",
       "  </thead>\n",
       "  <tbody>\n",
       "    <tr>\n",
       "      <th>0</th>\n",
       "      <td>C30140</td>\n",
       "      <td>2014</td>\n",
       "      <td>2.014080e+13</td>\n",
       "      <td>Lightning</td>\n",
       "      <td>2014-C30140</td>\n",
       "      <td>7.0</td>\n",
       "      <td>3.0</td>\n",
       "      <td>700140</td>\n",
       "      <td>Fire</td>\n",
       "      <td>North Arm Quesnel Lake</td>\n",
       "      <td>52.7163</td>\n",
       "      <td>-120.8649</td>\n",
       "      <td>0.009</td>\n",
       "      <td>JA70003000</td>\n",
       "      <td>NaN</td>\n",
       "      <td>16015562</td>\n",
       "      <td>-120.864937</td>\n",
       "      <td>52.716331</td>\n",
       "    </tr>\n",
       "    <tr>\n",
       "      <th>1</th>\n",
       "      <td>C40162</td>\n",
       "      <td>2003</td>\n",
       "      <td>2.003071e+13</td>\n",
       "      <td>Lightning</td>\n",
       "      <td>2003-C40162</td>\n",
       "      <td>7.0</td>\n",
       "      <td>4.0</td>\n",
       "      <td>700162</td>\n",
       "      <td>Fire</td>\n",
       "      <td>Young Lake</td>\n",
       "      <td>51.3333</td>\n",
       "      <td>-120.8167</td>\n",
       "      <td>0.009</td>\n",
       "      <td>JA70003000</td>\n",
       "      <td>NaN</td>\n",
       "      <td>16015563</td>\n",
       "      <td>-120.816667</td>\n",
       "      <td>51.333333</td>\n",
       "    </tr>\n",
       "    <tr>\n",
       "      <th>2</th>\n",
       "      <td>G70464</td>\n",
       "      <td>2003</td>\n",
       "      <td>2.003091e+13</td>\n",
       "      <td>Person</td>\n",
       "      <td>2003-G70464</td>\n",
       "      <td>4.0</td>\n",
       "      <td>7.0</td>\n",
       "      <td>400464</td>\n",
       "      <td>Fire</td>\n",
       "      <td>Groundbirch</td>\n",
       "      <td>55.7837</td>\n",
       "      <td>-120.9953</td>\n",
       "      <td>2.500</td>\n",
       "      <td>JA70003000</td>\n",
       "      <td>NaN</td>\n",
       "      <td>16015564</td>\n",
       "      <td>-120.995333</td>\n",
       "      <td>55.783667</td>\n",
       "    </tr>\n",
       "    <tr>\n",
       "      <th>3</th>\n",
       "      <td>K61089</td>\n",
       "      <td>2007</td>\n",
       "      <td>2.007081e+13</td>\n",
       "      <td>Person</td>\n",
       "      <td>2007-K61089</td>\n",
       "      <td>5.0</td>\n",
       "      <td>6.0</td>\n",
       "      <td>501089</td>\n",
       "      <td>Nuisance Fire</td>\n",
       "      <td>Gillis Lake</td>\n",
       "      <td>49.9222</td>\n",
       "      <td>-120.9523</td>\n",
       "      <td>0.009</td>\n",
       "      <td>JA70003000</td>\n",
       "      <td>NaN</td>\n",
       "      <td>16015565</td>\n",
       "      <td>-120.952267</td>\n",
       "      <td>49.922167</td>\n",
       "    </tr>\n",
       "    <tr>\n",
       "      <th>4</th>\n",
       "      <td>K30682</td>\n",
       "      <td>2007</td>\n",
       "      <td>2.007071e+13</td>\n",
       "      <td>Lightning</td>\n",
       "      <td>2007-K30682</td>\n",
       "      <td>5.0</td>\n",
       "      <td>3.0</td>\n",
       "      <td>500682</td>\n",
       "      <td>Fire</td>\n",
       "      <td>West of Hunakwa Lake</td>\n",
       "      <td>51.1633</td>\n",
       "      <td>-118.9430</td>\n",
       "      <td>0.009</td>\n",
       "      <td>JA70003000</td>\n",
       "      <td>NaN</td>\n",
       "      <td>16015566</td>\n",
       "      <td>-118.943000</td>\n",
       "      <td>51.163333</td>\n",
       "    </tr>\n",
       "  </tbody>\n",
       "</table>\n",
       "</div>"
      ],
      "text/plain": [
       "  FIRE_NO  FIRE_YEAR      IGN_DATE FIRE_CAUSE     FIRELABEL  FRCNTR  ZONE  \\\n",
       "0  C30140       2014  2.014080e+13  Lightning  2014-C30140      7.0   3.0   \n",
       "1  C40162       2003  2.003071e+13  Lightning  2003-C40162      7.0   4.0   \n",
       "2  G70464       2003  2.003091e+13     Person  2003-G70464      4.0   7.0   \n",
       "3  K61089       2007  2.007081e+13     Person  2007-K61089      5.0   6.0   \n",
       "4  K30682       2007  2.007071e+13  Lightning  2007-K30682      5.0   3.0   \n",
       "\n",
       "   FIRE_ID      FIRE_TYPE                GEO_DESC  LATITUDE  LONGITUDE  \\\n",
       "0   700140           Fire  North Arm Quesnel Lake   52.7163  -120.8649   \n",
       "1   700162           Fire              Young Lake   51.3333  -120.8167   \n",
       "2   400464           Fire             Groundbirch   55.7837  -120.9953   \n",
       "3   501089  Nuisance Fire             Gillis Lake   49.9222  -120.9523   \n",
       "4   500682           Fire    West of Hunakwa Lake   51.1633  -118.9430   \n",
       "\n",
       "   SIZE_HA       FCODE  SHAPE  OBJECTID           X          Y  \n",
       "0    0.009  JA70003000    NaN  16015562 -120.864937  52.716331  \n",
       "1    0.009  JA70003000    NaN  16015563 -120.816667  51.333333  \n",
       "2    2.500  JA70003000    NaN  16015564 -120.995333  55.783667  \n",
       "3    0.009  JA70003000    NaN  16015565 -120.952267  49.922167  \n",
       "4    0.009  JA70003000    NaN  16015566 -118.943000  51.163333  "
      ]
     },
     "execution_count": 65,
     "metadata": {},
     "output_type": "execute_result"
    }
   ],
   "source": [
    "bc_hist.head()"
   ]
  },
  {
   "cell_type": "code",
   "execution_count": 66,
   "id": "51496a04-f60d-4dd6-abf2-814ba8b0fa29",
   "metadata": {},
   "outputs": [
    {
     "data": {
      "text/plain": [
       "(187147, 18)"
      ]
     },
     "execution_count": 66,
     "metadata": {},
     "output_type": "execute_result"
    }
   ],
   "source": [
    "bc_hist.shape"
   ]
  },
  {
   "cell_type": "code",
   "execution_count": 67,
   "id": "16c90e8d-1951-4595-bde0-c9c310e6bee2",
   "metadata": {},
   "outputs": [
    {
     "data": {
      "text/plain": [
       "<AxesSubplot:xlabel='FIRE_YEAR', ylabel='Count'>"
      ]
     },
     "execution_count": 67,
     "metadata": {},
     "output_type": "execute_result"
    },
    {
     "data": {
      "image/png": "[encoded data removed]",
      "text/plain": [
       "<Figure size 432x288 with 1 Axes>"
      ]
     },
     "metadata": {
      "needs_background": "light"
     },
     "output_type": "display_data"
    }
   ],
   "source": [
    "sns.histplot(data=bc_hist, x=\"FIRE_YEAR\", color=\"skyblue\")"
   ]
  },
  {
   "cell_type": "markdown",
   "id": "ce7e80ab-7450-4b66-b9b8-b15619b30a36",
   "metadata": {},
   "source": [
    "## 3. Data Cleaning"
   ]
  },
  {
   "cell_type": "code",
   "execution_count": 77,
   "id": "20a9afb8-8945-405f-8dc1-773dfd430a13",
   "metadata": {},
   "outputs": [],
   "source": [
    "def date_process(x):\n",
    "    if x > 0:\n",
    "        x = str(round(x))\n",
    "        if len(x) == 14: \n",
    "            return pd.to_datetime(x, format=\"%Y%m%d%H%M%S\")\n",
    "        \n",
    "            #return dt.datetime.strptime(x, \"%Y%m%d%H%M%S\")\n",
    "        elif len(x) == 8:\n",
    "            return dt.datetime.strptime(x, \"%Y%m%d\")            #need to add time here to make them all the same\n",
    "        else:\n",
    "            return 'error'\n",
    "    else:\n",
    "        return 'error'"
   ]
  },
  {
   "cell_type": "code",
   "execution_count": null,
   "id": "f21ea012-21ef-4f45-a515-70cc666deaf3",
   "metadata": {},
   "outputs": [],
   "source": [
    "# check how many are length 8\n",
    "# questionable time of day\n",
    "\n",
    "#if it's all old data without the time, maybe just get rid of that"
   ]
  },
  {
   "cell_type": "code",
   "execution_count": null,
   "id": "d720d2ef-6514-41ba-b275-93e38d223abe",
   "metadata": {},
   "outputs": [],
   "source": [
    "collisions_18_20['Accident_Date'] = pd.to_datetime(collisions_18_20['Accident_Date'], format='%Y/%m/%d')\n",
    "collisions_18_20['month'] = pd.DatetimeIndex(collisions_18_20['Accident_Date']).month\n",
    "\n",
    "#could slice by length"
   ]
  },
  {
   "cell_type": "code",
   "execution_count": 78,
   "id": "8cfd1661-8889-4fcd-9ccf-74b22b20462c",
   "metadata": {
    "tags": []
   },
   "outputs": [],
   "source": [
    "bc_hist['IGN_DATE'] = bc_hist['IGN_DATE'].apply(date_process)"
   ]
  },
  {
   "cell_type": "code",
   "execution_count": 79,
   "id": "b02c3a9b-f676-4e8b-9f2b-349a5adec880",
   "metadata": {},
   "outputs": [
    {
     "data": {
      "text/plain": [
       "datetime.datetime(2014, 8, 3, 17, 3)"
      ]
     },
     "execution_count": 79,
     "metadata": {},
     "output_type": "execute_result"
    }
   ],
   "source": [
    "bc_hist['IGN_DATE'][0]"
   ]
  },
  {
   "cell_type": "code",
   "execution_count": 101,
   "id": "53e3daa3-5dc2-43a3-af5e-ccae5d26f162",
   "metadata": {},
   "outputs": [
    {
     "data": {
      "text/plain": [
       "datetime.datetime"
      ]
     },
     "execution_count": 101,
     "metadata": {},
     "output_type": "execute_result"
    }
   ],
   "source": [
    "type(bc_hist['IGN_DATE'][0])"
   ]
  },
  {
   "cell_type": "code",
   "execution_count": 103,
   "id": "4b3b8977-1d75-4481-8358-d2367e09828b",
   "metadata": {},
   "outputs": [
    {
     "data": {
      "text/plain": [
       "dtype('O')"
      ]
     },
     "execution_count": 103,
     "metadata": {},
     "output_type": "execute_result"
    }
   ],
   "source": [
    "bc_hist['IGN_DATE'].dtype"
   ]
  },
  {
   "cell_type": "code",
   "execution_count": 104,
   "id": "61bb16ae-9b31-4e49-b911-dbfa3cd28352",
   "metadata": {},
   "outputs": [
    {
     "data": {
      "text/plain": [
       "8"
      ]
     },
     "execution_count": 104,
     "metadata": {},
     "output_type": "execute_result"
    }
   ],
   "source": [
    "bc_hist['IGN_DATE'][0].month"
   ]
  },
  {
   "cell_type": "code",
   "execution_count": 106,
   "id": "f2e420a0-29c4-4e28-824b-acbbc7a5e3ad",
   "metadata": {
    "tags": []
   },
   "outputs": [
    {
     "ename": "AttributeError",
     "evalue": "'str' object has no attribute 'month'",
     "output_type": "error",
     "traceback": [
      "\u001b[1;31m---------------------------------------------------------------------------\u001b[0m",
      "\u001b[1;31mAttributeError\u001b[0m                            Traceback (most recent call last)",
      "Input \u001b[1;32mIn [106]\u001b[0m, in \u001b[0;36m<cell line: 2>\u001b[1;34m()\u001b[0m\n\u001b[0;32m      1\u001b[0m \u001b[38;5;66;03m#break date into pieces\u001b[39;00m\n\u001b[1;32m----> 2\u001b[0m bc_hist[\u001b[38;5;124m'\u001b[39m\u001b[38;5;124mmonth\u001b[39m\u001b[38;5;124m'\u001b[39m] \u001b[38;5;241m=\u001b[39m \u001b[43mbc_hist\u001b[49m\u001b[43m[\u001b[49m\u001b[38;5;124;43m'\u001b[39;49m\u001b[38;5;124;43mIGN_DATE\u001b[39;49m\u001b[38;5;124;43m'\u001b[39;49m\u001b[43m]\u001b[49m\u001b[38;5;241;43m.\u001b[39;49m\u001b[43mapply\u001b[49m\u001b[43m(\u001b[49m\u001b[38;5;28;43;01mlambda\u001b[39;49;00m\u001b[43m \u001b[49m\u001b[43mx\u001b[49m\u001b[43m:\u001b[49m\u001b[43m \u001b[49m\u001b[43mx\u001b[49m\u001b[38;5;241;43m.\u001b[39;49m\u001b[43mmonth\u001b[49m\u001b[43m)\u001b[49m\n",
      "File \u001b[1;32m~\\anaconda3\\envs\\lighthouse_env\\lib\\site-packages\\pandas\\core\\series.py:4433\u001b[0m, in \u001b[0;36mSeries.apply\u001b[1;34m(self, func, convert_dtype, args, **kwargs)\u001b[0m\n\u001b[0;32m   4323\u001b[0m \u001b[38;5;28;01mdef\u001b[39;00m \u001b[38;5;21mapply\u001b[39m(\n\u001b[0;32m   4324\u001b[0m     \u001b[38;5;28mself\u001b[39m,\n\u001b[0;32m   4325\u001b[0m     func: AggFuncType,\n\u001b[1;32m   (...)\u001b[0m\n\u001b[0;32m   4328\u001b[0m     \u001b[38;5;241m*\u001b[39m\u001b[38;5;241m*\u001b[39mkwargs,\n\u001b[0;32m   4329\u001b[0m ) \u001b[38;5;241m-\u001b[39m\u001b[38;5;241m>\u001b[39m DataFrame \u001b[38;5;241m|\u001b[39m Series:\n\u001b[0;32m   4330\u001b[0m     \u001b[38;5;124;03m\"\"\"\u001b[39;00m\n\u001b[0;32m   4331\u001b[0m \u001b[38;5;124;03m    Invoke function on values of Series.\u001b[39;00m\n\u001b[0;32m   4332\u001b[0m \n\u001b[1;32m   (...)\u001b[0m\n\u001b[0;32m   4431\u001b[0m \u001b[38;5;124;03m    dtype: float64\u001b[39;00m\n\u001b[0;32m   4432\u001b[0m \u001b[38;5;124;03m    \"\"\"\u001b[39;00m\n\u001b[1;32m-> 4433\u001b[0m     \u001b[38;5;28;01mreturn\u001b[39;00m \u001b[43mSeriesApply\u001b[49m\u001b[43m(\u001b[49m\u001b[38;5;28;43mself\u001b[39;49m\u001b[43m,\u001b[49m\u001b[43m \u001b[49m\u001b[43mfunc\u001b[49m\u001b[43m,\u001b[49m\u001b[43m \u001b[49m\u001b[43mconvert_dtype\u001b[49m\u001b[43m,\u001b[49m\u001b[43m \u001b[49m\u001b[43margs\u001b[49m\u001b[43m,\u001b[49m\u001b[43m \u001b[49m\u001b[43mkwargs\u001b[49m\u001b[43m)\u001b[49m\u001b[38;5;241;43m.\u001b[39;49m\u001b[43mapply\u001b[49m\u001b[43m(\u001b[49m\u001b[43m)\u001b[49m\n",
      "File \u001b[1;32m~\\anaconda3\\envs\\lighthouse_env\\lib\\site-packages\\pandas\\core\\apply.py:1088\u001b[0m, in \u001b[0;36mSeriesApply.apply\u001b[1;34m(self)\u001b[0m\n\u001b[0;32m   1084\u001b[0m \u001b[38;5;28;01mif\u001b[39;00m \u001b[38;5;28misinstance\u001b[39m(\u001b[38;5;28mself\u001b[39m\u001b[38;5;241m.\u001b[39mf, \u001b[38;5;28mstr\u001b[39m):\n\u001b[0;32m   1085\u001b[0m     \u001b[38;5;66;03m# if we are a string, try to dispatch\u001b[39;00m\n\u001b[0;32m   1086\u001b[0m     \u001b[38;5;28;01mreturn\u001b[39;00m \u001b[38;5;28mself\u001b[39m\u001b[38;5;241m.\u001b[39mapply_str()\n\u001b[1;32m-> 1088\u001b[0m \u001b[38;5;28;01mreturn\u001b[39;00m \u001b[38;5;28;43mself\u001b[39;49m\u001b[38;5;241;43m.\u001b[39;49m\u001b[43mapply_standard\u001b[49m\u001b[43m(\u001b[49m\u001b[43m)\u001b[49m\n",
      "File \u001b[1;32m~\\anaconda3\\envs\\lighthouse_env\\lib\\site-packages\\pandas\\core\\apply.py:1143\u001b[0m, in \u001b[0;36mSeriesApply.apply_standard\u001b[1;34m(self)\u001b[0m\n\u001b[0;32m   1137\u001b[0m         values \u001b[38;5;241m=\u001b[39m obj\u001b[38;5;241m.\u001b[39mastype(\u001b[38;5;28mobject\u001b[39m)\u001b[38;5;241m.\u001b[39m_values\n\u001b[0;32m   1138\u001b[0m         \u001b[38;5;66;03m# error: Argument 2 to \"map_infer\" has incompatible type\u001b[39;00m\n\u001b[0;32m   1139\u001b[0m         \u001b[38;5;66;03m# \"Union[Callable[..., Any], str, List[Union[Callable[..., Any], str]],\u001b[39;00m\n\u001b[0;32m   1140\u001b[0m         \u001b[38;5;66;03m# Dict[Hashable, Union[Union[Callable[..., Any], str],\u001b[39;00m\n\u001b[0;32m   1141\u001b[0m         \u001b[38;5;66;03m# List[Union[Callable[..., Any], str]]]]]\"; expected\u001b[39;00m\n\u001b[0;32m   1142\u001b[0m         \u001b[38;5;66;03m# \"Callable[[Any], Any]\"\u001b[39;00m\n\u001b[1;32m-> 1143\u001b[0m         mapped \u001b[38;5;241m=\u001b[39m \u001b[43mlib\u001b[49m\u001b[38;5;241;43m.\u001b[39;49m\u001b[43mmap_infer\u001b[49m\u001b[43m(\u001b[49m\n\u001b[0;32m   1144\u001b[0m \u001b[43m            \u001b[49m\u001b[43mvalues\u001b[49m\u001b[43m,\u001b[49m\n\u001b[0;32m   1145\u001b[0m \u001b[43m            \u001b[49m\u001b[43mf\u001b[49m\u001b[43m,\u001b[49m\u001b[43m  \u001b[49m\u001b[38;5;66;43;03m# type: ignore[arg-type]\u001b[39;49;00m\n\u001b[0;32m   1146\u001b[0m \u001b[43m            \u001b[49m\u001b[43mconvert\u001b[49m\u001b[38;5;241;43m=\u001b[39;49m\u001b[38;5;28;43mself\u001b[39;49m\u001b[38;5;241;43m.\u001b[39;49m\u001b[43mconvert_dtype\u001b[49m\u001b[43m,\u001b[49m\n\u001b[0;32m   1147\u001b[0m \u001b[43m        \u001b[49m\u001b[43m)\u001b[49m\n\u001b[0;32m   1149\u001b[0m \u001b[38;5;28;01mif\u001b[39;00m \u001b[38;5;28mlen\u001b[39m(mapped) \u001b[38;5;129;01mand\u001b[39;00m \u001b[38;5;28misinstance\u001b[39m(mapped[\u001b[38;5;241m0\u001b[39m], ABCSeries):\n\u001b[0;32m   1150\u001b[0m     \u001b[38;5;66;03m# GH#43986 Need to do list(mapped) in order to get treated as nested\u001b[39;00m\n\u001b[0;32m   1151\u001b[0m     \u001b[38;5;66;03m#  See also GH#25959 regarding EA support\u001b[39;00m\n\u001b[0;32m   1152\u001b[0m     \u001b[38;5;28;01mreturn\u001b[39;00m obj\u001b[38;5;241m.\u001b[39m_constructor_expanddim(\u001b[38;5;28mlist\u001b[39m(mapped), index\u001b[38;5;241m=\u001b[39mobj\u001b[38;5;241m.\u001b[39mindex)\n",
      "File \u001b[1;32m~\\anaconda3\\envs\\lighthouse_env\\lib\\site-packages\\pandas\\_libs\\lib.pyx:2870\u001b[0m, in \u001b[0;36mpandas._libs.lib.map_infer\u001b[1;34m()\u001b[0m\n",
      "Input \u001b[1;32mIn [106]\u001b[0m, in \u001b[0;36m<lambda>\u001b[1;34m(x)\u001b[0m\n\u001b[0;32m      1\u001b[0m \u001b[38;5;66;03m#break date into pieces\u001b[39;00m\n\u001b[1;32m----> 2\u001b[0m bc_hist[\u001b[38;5;124m'\u001b[39m\u001b[38;5;124mmonth\u001b[39m\u001b[38;5;124m'\u001b[39m] \u001b[38;5;241m=\u001b[39m bc_hist[\u001b[38;5;124m'\u001b[39m\u001b[38;5;124mIGN_DATE\u001b[39m\u001b[38;5;124m'\u001b[39m]\u001b[38;5;241m.\u001b[39mapply(\u001b[38;5;28;01mlambda\u001b[39;00m x: \u001b[43mx\u001b[49m\u001b[38;5;241;43m.\u001b[39;49m\u001b[43mmonth\u001b[49m)\n",
      "\u001b[1;31mAttributeError\u001b[0m: 'str' object has no attribute 'month'"
     ]
    }
   ],
   "source": [
    "#break date into pieces\n",
    "bc_hist['month'] = bc_hist['IGN_DATE'].apply(lambda x: x.month)"
   ]
  },
  {
   "cell_type": "code",
   "execution_count": 80,
   "id": "eb3d341a-9977-47e7-9f32-c5bebef061c9",
   "metadata": {},
   "outputs": [
    {
     "data": {
      "text/html": [
       "<div>\n",
       "<style scoped>\n",
       "    .dataframe tbody tr th:only-of-type {\n",
       "        vertical-align: middle;\n",
       "    }\n",
       "\n",
       "    .dataframe tbody tr th {\n",
       "        vertical-align: top;\n",
       "    }\n",
       "\n",
       "    .dataframe thead th {\n",
       "        text-align: right;\n",
       "    }\n",
       "</style>\n",
       "<table border=\"1\" class=\"dataframe\">\n",
       "  <thead>\n",
       "    <tr style=\"text-align: right;\">\n",
       "      <th></th>\n",
       "      <th>FIRE_NO</th>\n",
       "      <th>FIRE_YEAR</th>\n",
       "      <th>IGN_DATE</th>\n",
       "      <th>FIRE_CAUSE</th>\n",
       "      <th>FIRELABEL</th>\n",
       "      <th>FRCNTR</th>\n",
       "      <th>ZONE</th>\n",
       "      <th>FIRE_ID</th>\n",
       "      <th>FIRE_TYPE</th>\n",
       "      <th>GEO_DESC</th>\n",
       "      <th>LATITUDE</th>\n",
       "      <th>LONGITUDE</th>\n",
       "      <th>SIZE_HA</th>\n",
       "      <th>FCODE</th>\n",
       "      <th>SHAPE</th>\n",
       "      <th>OBJECTID</th>\n",
       "      <th>X</th>\n",
       "      <th>Y</th>\n",
       "    </tr>\n",
       "  </thead>\n",
       "  <tbody>\n",
       "    <tr>\n",
       "      <th>0</th>\n",
       "      <td>C30140</td>\n",
       "      <td>2014</td>\n",
       "      <td>2014-08-03 17:03:00</td>\n",
       "      <td>Lightning</td>\n",
       "      <td>2014-C30140</td>\n",
       "      <td>7.0</td>\n",
       "      <td>3.0</td>\n",
       "      <td>700140</td>\n",
       "      <td>Fire</td>\n",
       "      <td>North Arm Quesnel Lake</td>\n",
       "      <td>52.7163</td>\n",
       "      <td>-120.8649</td>\n",
       "      <td>0.009</td>\n",
       "      <td>JA70003000</td>\n",
       "      <td>NaN</td>\n",
       "      <td>16015562</td>\n",
       "      <td>-120.864937</td>\n",
       "      <td>52.716331</td>\n",
       "    </tr>\n",
       "    <tr>\n",
       "      <th>1</th>\n",
       "      <td>C40162</td>\n",
       "      <td>2003</td>\n",
       "      <td>2003-07-12 01:06:00</td>\n",
       "      <td>Lightning</td>\n",
       "      <td>2003-C40162</td>\n",
       "      <td>7.0</td>\n",
       "      <td>4.0</td>\n",
       "      <td>700162</td>\n",
       "      <td>Fire</td>\n",
       "      <td>Young Lake</td>\n",
       "      <td>51.3333</td>\n",
       "      <td>-120.8167</td>\n",
       "      <td>0.009</td>\n",
       "      <td>JA70003000</td>\n",
       "      <td>NaN</td>\n",
       "      <td>16015563</td>\n",
       "      <td>-120.816667</td>\n",
       "      <td>51.333333</td>\n",
       "    </tr>\n",
       "  </tbody>\n",
       "</table>\n",
       "</div>"
      ],
      "text/plain": [
       "  FIRE_NO  FIRE_YEAR             IGN_DATE FIRE_CAUSE     FIRELABEL  FRCNTR  \\\n",
       "0  C30140       2014  2014-08-03 17:03:00  Lightning  2014-C30140      7.0   \n",
       "1  C40162       2003  2003-07-12 01:06:00  Lightning  2003-C40162      7.0   \n",
       "\n",
       "   ZONE  FIRE_ID FIRE_TYPE                GEO_DESC  LATITUDE  LONGITUDE  \\\n",
       "0   3.0   700140      Fire  North Arm Quesnel Lake   52.7163  -120.8649   \n",
       "1   4.0   700162      Fire              Young Lake   51.3333  -120.8167   \n",
       "\n",
       "   SIZE_HA       FCODE  SHAPE  OBJECTID           X          Y  \n",
       "0    0.009  JA70003000    NaN  16015562 -120.864937  52.716331  \n",
       "1    0.009  JA70003000    NaN  16015563 -120.816667  51.333333  "
      ]
     },
     "execution_count": 80,
     "metadata": {},
     "output_type": "execute_result"
    }
   ],
   "source": [
    "bc_hist.head(2)"
   ]
  },
  {
   "cell_type": "code",
   "execution_count": 83,
   "id": "20a33421-e932-4063-88a9-de91958fe554",
   "metadata": {},
   "outputs": [
    {
     "data": {
      "text/plain": [
       "array(['Fire', 'Nuisance Fire', 'Unknown', 'Smoke Chase', 'Duplicate',\n",
       "       'Agency Assist', 'Field Activity', 'Nuisance'], dtype=object)"
      ]
     },
     "execution_count": 83,
     "metadata": {},
     "output_type": "execute_result"
    }
   ],
   "source": [
    "bc_hist['FIRE_TYPE'].unique()"
   ]
  },
  {
   "cell_type": "code",
   "execution_count": 85,
   "id": "11b21f44-8530-4e74-9537-2dde231d7480",
   "metadata": {},
   "outputs": [
    {
     "data": {
      "text/html": [
       "<div>\n",
       "<style scoped>\n",
       "    .dataframe tbody tr th:only-of-type {\n",
       "        vertical-align: middle;\n",
       "    }\n",
       "\n",
       "    .dataframe tbody tr th {\n",
       "        vertical-align: top;\n",
       "    }\n",
       "\n",
       "    .dataframe thead th {\n",
       "        text-align: right;\n",
       "    }\n",
       "</style>\n",
       "<table border=\"1\" class=\"dataframe\">\n",
       "  <thead>\n",
       "    <tr style=\"text-align: right;\">\n",
       "      <th></th>\n",
       "      <th>FIRE_NO</th>\n",
       "      <th>FIRE_YEAR</th>\n",
       "      <th>IGN_DATE</th>\n",
       "      <th>FIRE_CAUSE</th>\n",
       "      <th>FIRELABEL</th>\n",
       "      <th>FRCNTR</th>\n",
       "      <th>ZONE</th>\n",
       "      <th>FIRE_ID</th>\n",
       "      <th>GEO_DESC</th>\n",
       "      <th>LATITUDE</th>\n",
       "      <th>LONGITUDE</th>\n",
       "      <th>SIZE_HA</th>\n",
       "      <th>FCODE</th>\n",
       "      <th>SHAPE</th>\n",
       "      <th>OBJECTID</th>\n",
       "      <th>X</th>\n",
       "      <th>Y</th>\n",
       "    </tr>\n",
       "    <tr>\n",
       "      <th>FIRE_TYPE</th>\n",
       "      <th></th>\n",
       "      <th></th>\n",
       "      <th></th>\n",
       "      <th></th>\n",
       "      <th></th>\n",
       "      <th></th>\n",
       "      <th></th>\n",
       "      <th></th>\n",
       "      <th></th>\n",
       "      <th></th>\n",
       "      <th></th>\n",
       "      <th></th>\n",
       "      <th></th>\n",
       "      <th></th>\n",
       "      <th></th>\n",
       "      <th></th>\n",
       "      <th></th>\n",
       "    </tr>\n",
       "  </thead>\n",
       "  <tbody>\n",
       "    <tr>\n",
       "      <th>Agency Assist</th>\n",
       "      <td>32</td>\n",
       "      <td>32</td>\n",
       "      <td>32</td>\n",
       "      <td>32</td>\n",
       "      <td>32</td>\n",
       "      <td>29</td>\n",
       "      <td>29</td>\n",
       "      <td>32</td>\n",
       "      <td>25</td>\n",
       "      <td>32</td>\n",
       "      <td>32</td>\n",
       "      <td>32</td>\n",
       "      <td>32</td>\n",
       "      <td>0</td>\n",
       "      <td>32</td>\n",
       "      <td>32</td>\n",
       "      <td>32</td>\n",
       "    </tr>\n",
       "    <tr>\n",
       "      <th>Duplicate</th>\n",
       "      <td>951</td>\n",
       "      <td>951</td>\n",
       "      <td>951</td>\n",
       "      <td>951</td>\n",
       "      <td>951</td>\n",
       "      <td>951</td>\n",
       "      <td>951</td>\n",
       "      <td>951</td>\n",
       "      <td>928</td>\n",
       "      <td>951</td>\n",
       "      <td>951</td>\n",
       "      <td>506</td>\n",
       "      <td>951</td>\n",
       "      <td>0</td>\n",
       "      <td>951</td>\n",
       "      <td>951</td>\n",
       "      <td>951</td>\n",
       "    </tr>\n",
       "    <tr>\n",
       "      <th>Field Activity</th>\n",
       "      <td>304</td>\n",
       "      <td>304</td>\n",
       "      <td>304</td>\n",
       "      <td>304</td>\n",
       "      <td>304</td>\n",
       "      <td>294</td>\n",
       "      <td>294</td>\n",
       "      <td>304</td>\n",
       "      <td>283</td>\n",
       "      <td>304</td>\n",
       "      <td>304</td>\n",
       "      <td>304</td>\n",
       "      <td>304</td>\n",
       "      <td>0</td>\n",
       "      <td>304</td>\n",
       "      <td>304</td>\n",
       "      <td>304</td>\n",
       "    </tr>\n",
       "    <tr>\n",
       "      <th>Fire</th>\n",
       "      <td>149431</td>\n",
       "      <td>149431</td>\n",
       "      <td>149431</td>\n",
       "      <td>149431</td>\n",
       "      <td>149431</td>\n",
       "      <td>149431</td>\n",
       "      <td>149431</td>\n",
       "      <td>149431</td>\n",
       "      <td>39301</td>\n",
       "      <td>149431</td>\n",
       "      <td>149431</td>\n",
       "      <td>149392</td>\n",
       "      <td>149431</td>\n",
       "      <td>0</td>\n",
       "      <td>149431</td>\n",
       "      <td>149431</td>\n",
       "      <td>149431</td>\n",
       "    </tr>\n",
       "    <tr>\n",
       "      <th>Nuisance</th>\n",
       "      <td>328</td>\n",
       "      <td>328</td>\n",
       "      <td>328</td>\n",
       "      <td>328</td>\n",
       "      <td>328</td>\n",
       "      <td>328</td>\n",
       "      <td>328</td>\n",
       "      <td>328</td>\n",
       "      <td>327</td>\n",
       "      <td>328</td>\n",
       "      <td>328</td>\n",
       "      <td>328</td>\n",
       "      <td>328</td>\n",
       "      <td>0</td>\n",
       "      <td>328</td>\n",
       "      <td>328</td>\n",
       "      <td>328</td>\n",
       "    </tr>\n",
       "    <tr>\n",
       "      <th>Nuisance Fire</th>\n",
       "      <td>24430</td>\n",
       "      <td>24430</td>\n",
       "      <td>24430</td>\n",
       "      <td>24430</td>\n",
       "      <td>24430</td>\n",
       "      <td>24430</td>\n",
       "      <td>24430</td>\n",
       "      <td>24430</td>\n",
       "      <td>24414</td>\n",
       "      <td>24430</td>\n",
       "      <td>24430</td>\n",
       "      <td>19382</td>\n",
       "      <td>24430</td>\n",
       "      <td>0</td>\n",
       "      <td>24430</td>\n",
       "      <td>24430</td>\n",
       "      <td>24430</td>\n",
       "    </tr>\n",
       "    <tr>\n",
       "      <th>Smoke Chase</th>\n",
       "      <td>10561</td>\n",
       "      <td>10561</td>\n",
       "      <td>10561</td>\n",
       "      <td>10561</td>\n",
       "      <td>10561</td>\n",
       "      <td>10561</td>\n",
       "      <td>10561</td>\n",
       "      <td>10561</td>\n",
       "      <td>10434</td>\n",
       "      <td>10561</td>\n",
       "      <td>10561</td>\n",
       "      <td>1474</td>\n",
       "      <td>10561</td>\n",
       "      <td>0</td>\n",
       "      <td>10561</td>\n",
       "      <td>10561</td>\n",
       "      <td>10561</td>\n",
       "    </tr>\n",
       "    <tr>\n",
       "      <th>Unknown</th>\n",
       "      <td>1110</td>\n",
       "      <td>1110</td>\n",
       "      <td>1110</td>\n",
       "      <td>1110</td>\n",
       "      <td>1110</td>\n",
       "      <td>1110</td>\n",
       "      <td>1110</td>\n",
       "      <td>1110</td>\n",
       "      <td>1109</td>\n",
       "      <td>1110</td>\n",
       "      <td>1110</td>\n",
       "      <td>152</td>\n",
       "      <td>1110</td>\n",
       "      <td>0</td>\n",
       "      <td>1110</td>\n",
       "      <td>1110</td>\n",
       "      <td>1110</td>\n",
       "    </tr>\n",
       "  </tbody>\n",
       "</table>\n",
       "</div>"
      ],
      "text/plain": [
       "                FIRE_NO  FIRE_YEAR  IGN_DATE  FIRE_CAUSE  FIRELABEL  FRCNTR  \\\n",
       "FIRE_TYPE                                                                     \n",
       "Agency Assist        32         32        32          32         32      29   \n",
       "Duplicate           951        951       951         951        951     951   \n",
       "Field Activity      304        304       304         304        304     294   \n",
       "Fire             149431     149431    149431      149431     149431  149431   \n",
       "Nuisance            328        328       328         328        328     328   \n",
       "Nuisance Fire     24430      24430     24430       24430      24430   24430   \n",
       "Smoke Chase       10561      10561     10561       10561      10561   10561   \n",
       "Unknown            1110       1110      1110        1110       1110    1110   \n",
       "\n",
       "                  ZONE  FIRE_ID  GEO_DESC  LATITUDE  LONGITUDE  SIZE_HA  \\\n",
       "FIRE_TYPE                                                                 \n",
       "Agency Assist       29       32        25        32         32       32   \n",
       "Duplicate          951      951       928       951        951      506   \n",
       "Field Activity     294      304       283       304        304      304   \n",
       "Fire            149431   149431     39301    149431     149431   149392   \n",
       "Nuisance           328      328       327       328        328      328   \n",
       "Nuisance Fire    24430    24430     24414     24430      24430    19382   \n",
       "Smoke Chase      10561    10561     10434     10561      10561     1474   \n",
       "Unknown           1110     1110      1109      1110       1110      152   \n",
       "\n",
       "                 FCODE  SHAPE  OBJECTID       X       Y  \n",
       "FIRE_TYPE                                                \n",
       "Agency Assist       32      0        32      32      32  \n",
       "Duplicate          951      0       951     951     951  \n",
       "Field Activity     304      0       304     304     304  \n",
       "Fire            149431      0    149431  149431  149431  \n",
       "Nuisance           328      0       328     328     328  \n",
       "Nuisance Fire    24430      0     24430   24430   24430  \n",
       "Smoke Chase      10561      0     10561   10561   10561  \n",
       "Unknown           1110      0      1110    1110    1110  "
      ]
     },
     "execution_count": 85,
     "metadata": {},
     "output_type": "execute_result"
    }
   ],
   "source": [
    "bc_hist.groupby(['FIRE_TYPE']).count()"
   ]
  },
  {
   "cell_type": "code",
   "execution_count": 86,
   "id": "ed7558ab-0dcf-4d5a-838e-c320cc088f83",
   "metadata": {},
   "outputs": [],
   "source": [
    "#fire vs. nuisance fire?, let's drop all non-Fire\n",
    "bc_hist= bc_hist[bc_hist['FIRE_TYPE'] == 'Fire']"
   ]
  },
  {
   "cell_type": "code",
   "execution_count": 87,
   "id": "7ee1d24e-0ada-4117-a5ff-074e645f244a",
   "metadata": {},
   "outputs": [
    {
     "data": {
      "text/plain": [
       "FIRE_NO        object\n",
       "FIRE_YEAR       int64\n",
       "IGN_DATE       object\n",
       "FIRE_CAUSE     object\n",
       "FIRELABEL      object\n",
       "FRCNTR        float64\n",
       "ZONE          float64\n",
       "FIRE_ID         int64\n",
       "FIRE_TYPE      object\n",
       "GEO_DESC       object\n",
       "LATITUDE      float64\n",
       "LONGITUDE     float64\n",
       "SIZE_HA       float64\n",
       "FCODE          object\n",
       "SHAPE         float64\n",
       "OBJECTID        int64\n",
       "X             float64\n",
       "Y             float64\n",
       "dtype: object"
      ]
     },
     "execution_count": 87,
     "metadata": {},
     "output_type": "execute_result"
    }
   ],
   "source": [
    "bc_hist.dtypes"
   ]
  },
  {
   "cell_type": "code",
   "execution_count": null,
   "id": "2fabc3c6-143f-45c6-988b-1c80865495dc",
   "metadata": {},
   "outputs": [],
   "source": [
    "# FIRE_CAUSE is the target"
   ]
  },
  {
   "cell_type": "code",
   "execution_count": 88,
   "id": "49ec5da4-0b84-49e6-8449-e3e24dcb3ea6",
   "metadata": {},
   "outputs": [],
   "source": [
    "bc_hist.drop(['FIRE_NO', 'FIRELABEL', 'FIRE_ID', 'FIRE_TYPE', 'GEO_DESC', 'FCODE', 'SHAPE', 'OBJECTID', 'X', 'Y'], inplace = True, axis = 1)"
   ]
  },
  {
   "cell_type": "code",
   "execution_count": 89,
   "id": "ae123629-1954-4ded-8714-2cd8931e5133",
   "metadata": {},
   "outputs": [
    {
     "data": {
      "text/plain": [
       "FIRE_YEAR       int64\n",
       "IGN_DATE       object\n",
       "FIRE_CAUSE     object\n",
       "FRCNTR        float64\n",
       "ZONE          float64\n",
       "LATITUDE      float64\n",
       "LONGITUDE     float64\n",
       "SIZE_HA       float64\n",
       "dtype: object"
      ]
     },
     "execution_count": 89,
     "metadata": {},
     "output_type": "execute_result"
    }
   ],
   "source": [
    "bc_hist.dtypes"
   ]
  },
  {
   "cell_type": "code",
   "execution_count": 122,
   "id": "895d2175-7e63-4adb-9490-b2fb814289e4",
   "metadata": {
    "collapsed": true,
    "jupyter": {
     "outputs_hidden": true
    },
    "tags": []
   },
   "outputs": [
    {
     "ename": "KeyError",
     "evalue": "'FIRE_CAUSE'",
     "output_type": "error",
     "traceback": [
      "\u001b[1;31m---------------------------------------------------------------------------\u001b[0m",
      "\u001b[1;31mKeyError\u001b[0m                                  Traceback (most recent call last)",
      "Input \u001b[1;32mIn [122]\u001b[0m, in \u001b[0;36m<cell line: 1>\u001b[1;34m()\u001b[0m\n\u001b[1;32m----> 1\u001b[0m \u001b[43mbc_hist\u001b[49m\u001b[38;5;241;43m.\u001b[39;49m\u001b[43mgroupby\u001b[49m\u001b[43m(\u001b[49m\u001b[38;5;124;43m'\u001b[39;49m\u001b[38;5;124;43mFIRE_CAUSE\u001b[39;49m\u001b[38;5;124;43m'\u001b[39;49m\u001b[43m)\u001b[49m\u001b[38;5;241m.\u001b[39mcount()\n",
      "File \u001b[1;32m~\\anaconda3\\envs\\lighthouse_env\\lib\\site-packages\\pandas\\core\\frame.py:7721\u001b[0m, in \u001b[0;36mDataFrame.groupby\u001b[1;34m(self, by, axis, level, as_index, sort, group_keys, squeeze, observed, dropna)\u001b[0m\n\u001b[0;32m   7716\u001b[0m axis \u001b[38;5;241m=\u001b[39m \u001b[38;5;28mself\u001b[39m\u001b[38;5;241m.\u001b[39m_get_axis_number(axis)\n\u001b[0;32m   7718\u001b[0m \u001b[38;5;66;03m# https://github.com/python/mypy/issues/7642\u001b[39;00m\n\u001b[0;32m   7719\u001b[0m \u001b[38;5;66;03m# error: Argument \"squeeze\" to \"DataFrameGroupBy\" has incompatible type\u001b[39;00m\n\u001b[0;32m   7720\u001b[0m \u001b[38;5;66;03m# \"Union[bool, NoDefault]\"; expected \"bool\"\u001b[39;00m\n\u001b[1;32m-> 7721\u001b[0m \u001b[38;5;28;01mreturn\u001b[39;00m \u001b[43mDataFrameGroupBy\u001b[49m\u001b[43m(\u001b[49m\n\u001b[0;32m   7722\u001b[0m \u001b[43m    \u001b[49m\u001b[43mobj\u001b[49m\u001b[38;5;241;43m=\u001b[39;49m\u001b[38;5;28;43mself\u001b[39;49m\u001b[43m,\u001b[49m\n\u001b[0;32m   7723\u001b[0m \u001b[43m    \u001b[49m\u001b[43mkeys\u001b[49m\u001b[38;5;241;43m=\u001b[39;49m\u001b[43mby\u001b[49m\u001b[43m,\u001b[49m\n\u001b[0;32m   7724\u001b[0m \u001b[43m    \u001b[49m\u001b[43maxis\u001b[49m\u001b[38;5;241;43m=\u001b[39;49m\u001b[43maxis\u001b[49m\u001b[43m,\u001b[49m\n\u001b[0;32m   7725\u001b[0m \u001b[43m    \u001b[49m\u001b[43mlevel\u001b[49m\u001b[38;5;241;43m=\u001b[39;49m\u001b[43mlevel\u001b[49m\u001b[43m,\u001b[49m\n\u001b[0;32m   7726\u001b[0m \u001b[43m    \u001b[49m\u001b[43mas_index\u001b[49m\u001b[38;5;241;43m=\u001b[39;49m\u001b[43mas_index\u001b[49m\u001b[43m,\u001b[49m\n\u001b[0;32m   7727\u001b[0m \u001b[43m    \u001b[49m\u001b[43msort\u001b[49m\u001b[38;5;241;43m=\u001b[39;49m\u001b[43msort\u001b[49m\u001b[43m,\u001b[49m\n\u001b[0;32m   7728\u001b[0m \u001b[43m    \u001b[49m\u001b[43mgroup_keys\u001b[49m\u001b[38;5;241;43m=\u001b[39;49m\u001b[43mgroup_keys\u001b[49m\u001b[43m,\u001b[49m\n\u001b[0;32m   7729\u001b[0m \u001b[43m    \u001b[49m\u001b[43msqueeze\u001b[49m\u001b[38;5;241;43m=\u001b[39;49m\u001b[43msqueeze\u001b[49m\u001b[43m,\u001b[49m\u001b[43m  \u001b[49m\u001b[38;5;66;43;03m# type: ignore[arg-type]\u001b[39;49;00m\n\u001b[0;32m   7730\u001b[0m \u001b[43m    \u001b[49m\u001b[43mobserved\u001b[49m\u001b[38;5;241;43m=\u001b[39;49m\u001b[43mobserved\u001b[49m\u001b[43m,\u001b[49m\n\u001b[0;32m   7731\u001b[0m \u001b[43m    \u001b[49m\u001b[43mdropna\u001b[49m\u001b[38;5;241;43m=\u001b[39;49m\u001b[43mdropna\u001b[49m\u001b[43m,\u001b[49m\n\u001b[0;32m   7732\u001b[0m \u001b[43m\u001b[49m\u001b[43m)\u001b[49m\n",
      "File \u001b[1;32m~\\anaconda3\\envs\\lighthouse_env\\lib\\site-packages\\pandas\\core\\groupby\\groupby.py:882\u001b[0m, in \u001b[0;36mGroupBy.__init__\u001b[1;34m(self, obj, keys, axis, level, grouper, exclusions, selection, as_index, sort, group_keys, squeeze, observed, mutated, dropna)\u001b[0m\n\u001b[0;32m    879\u001b[0m \u001b[38;5;28;01mif\u001b[39;00m grouper \u001b[38;5;129;01mis\u001b[39;00m \u001b[38;5;28;01mNone\u001b[39;00m:\n\u001b[0;32m    880\u001b[0m     \u001b[38;5;28;01mfrom\u001b[39;00m \u001b[38;5;21;01mpandas\u001b[39;00m\u001b[38;5;21;01m.\u001b[39;00m\u001b[38;5;21;01mcore\u001b[39;00m\u001b[38;5;21;01m.\u001b[39;00m\u001b[38;5;21;01mgroupby\u001b[39;00m\u001b[38;5;21;01m.\u001b[39;00m\u001b[38;5;21;01mgrouper\u001b[39;00m \u001b[38;5;28;01mimport\u001b[39;00m get_grouper\n\u001b[1;32m--> 882\u001b[0m     grouper, exclusions, obj \u001b[38;5;241m=\u001b[39m \u001b[43mget_grouper\u001b[49m\u001b[43m(\u001b[49m\n\u001b[0;32m    883\u001b[0m \u001b[43m        \u001b[49m\u001b[43mobj\u001b[49m\u001b[43m,\u001b[49m\n\u001b[0;32m    884\u001b[0m \u001b[43m        \u001b[49m\u001b[43mkeys\u001b[49m\u001b[43m,\u001b[49m\n\u001b[0;32m    885\u001b[0m \u001b[43m        \u001b[49m\u001b[43maxis\u001b[49m\u001b[38;5;241;43m=\u001b[39;49m\u001b[43maxis\u001b[49m\u001b[43m,\u001b[49m\n\u001b[0;32m    886\u001b[0m \u001b[43m        \u001b[49m\u001b[43mlevel\u001b[49m\u001b[38;5;241;43m=\u001b[39;49m\u001b[43mlevel\u001b[49m\u001b[43m,\u001b[49m\n\u001b[0;32m    887\u001b[0m \u001b[43m        \u001b[49m\u001b[43msort\u001b[49m\u001b[38;5;241;43m=\u001b[39;49m\u001b[43msort\u001b[49m\u001b[43m,\u001b[49m\n\u001b[0;32m    888\u001b[0m \u001b[43m        \u001b[49m\u001b[43mobserved\u001b[49m\u001b[38;5;241;43m=\u001b[39;49m\u001b[43mobserved\u001b[49m\u001b[43m,\u001b[49m\n\u001b[0;32m    889\u001b[0m \u001b[43m        \u001b[49m\u001b[43mmutated\u001b[49m\u001b[38;5;241;43m=\u001b[39;49m\u001b[38;5;28;43mself\u001b[39;49m\u001b[38;5;241;43m.\u001b[39;49m\u001b[43mmutated\u001b[49m\u001b[43m,\u001b[49m\n\u001b[0;32m    890\u001b[0m \u001b[43m        \u001b[49m\u001b[43mdropna\u001b[49m\u001b[38;5;241;43m=\u001b[39;49m\u001b[38;5;28;43mself\u001b[39;49m\u001b[38;5;241;43m.\u001b[39;49m\u001b[43mdropna\u001b[49m\u001b[43m,\u001b[49m\n\u001b[0;32m    891\u001b[0m \u001b[43m    \u001b[49m\u001b[43m)\u001b[49m\n\u001b[0;32m    893\u001b[0m \u001b[38;5;28mself\u001b[39m\u001b[38;5;241m.\u001b[39mobj \u001b[38;5;241m=\u001b[39m obj\n\u001b[0;32m    894\u001b[0m \u001b[38;5;28mself\u001b[39m\u001b[38;5;241m.\u001b[39maxis \u001b[38;5;241m=\u001b[39m obj\u001b[38;5;241m.\u001b[39m_get_axis_number(axis)\n",
      "File \u001b[1;32m~\\anaconda3\\envs\\lighthouse_env\\lib\\site-packages\\pandas\\core\\groupby\\grouper.py:882\u001b[0m, in \u001b[0;36mget_grouper\u001b[1;34m(obj, key, axis, level, sort, observed, mutated, validate, dropna)\u001b[0m\n\u001b[0;32m    880\u001b[0m         in_axis, level, gpr \u001b[38;5;241m=\u001b[39m \u001b[38;5;28;01mFalse\u001b[39;00m, gpr, \u001b[38;5;28;01mNone\u001b[39;00m\n\u001b[0;32m    881\u001b[0m     \u001b[38;5;28;01melse\u001b[39;00m:\n\u001b[1;32m--> 882\u001b[0m         \u001b[38;5;28;01mraise\u001b[39;00m \u001b[38;5;167;01mKeyError\u001b[39;00m(gpr)\n\u001b[0;32m    883\u001b[0m \u001b[38;5;28;01melif\u001b[39;00m \u001b[38;5;28misinstance\u001b[39m(gpr, Grouper) \u001b[38;5;129;01mand\u001b[39;00m gpr\u001b[38;5;241m.\u001b[39mkey \u001b[38;5;129;01mis\u001b[39;00m \u001b[38;5;129;01mnot\u001b[39;00m \u001b[38;5;28;01mNone\u001b[39;00m:\n\u001b[0;32m    884\u001b[0m     \u001b[38;5;66;03m# Add key to exclusions\u001b[39;00m\n\u001b[0;32m    885\u001b[0m     exclusions\u001b[38;5;241m.\u001b[39madd(gpr\u001b[38;5;241m.\u001b[39mkey)\n",
      "\u001b[1;31mKeyError\u001b[0m: 'FIRE_CAUSE'"
     ]
    }
   ],
   "source": [
    "bc_hist.groupby('FIRE_CAUSE').count()"
   ]
  },
  {
   "cell_type": "markdown",
   "id": "21f6be93-a346-4754-b73e-7bb7ca621ee0",
   "metadata": {},
   "source": [
    "### 4. Baseline Model"
   ]
  },
  {
   "cell_type": "code",
   "execution_count": 111,
   "id": "4774e55d-c061-4284-93a3-b995e9990092",
   "metadata": {},
   "outputs": [
    {
     "data": {
      "text/plain": [
       "array(['Lightning', 'Person', 'Unknown'], dtype=object)"
      ]
     },
     "execution_count": 111,
     "metadata": {},
     "output_type": "execute_result"
    }
   ],
   "source": [
    "bc_hist['FIRE_CAUSE'].unique()"
   ]
  },
  {
   "cell_type": "code",
   "execution_count": 107,
   "id": "13efd9b8-5bab-4e0e-b941-1a057c7a87ea",
   "metadata": {},
   "outputs": [],
   "source": [
    "#encode target\n",
    "from sklearn import preprocessing"
   ]
  },
  {
   "cell_type": "code",
   "execution_count": 112,
   "id": "2abb083a-bafe-4d1d-b539-f747d78b1528",
   "metadata": {},
   "outputs": [],
   "source": [
    "le = preprocessing.LabelEncoder()\n",
    "le.fit(['Lightning', 'Person', 'Unknown'])\n",
    "list(le.classes_)\n",
    "bc_hist['FIRE_CAUSE_encoded'] = le.transform(bc_hist['FIRE_CAUSE'])"
   ]
  },
  {
   "cell_type": "code",
   "execution_count": 113,
   "id": "b0428db9-ec1b-42b2-b9c0-ee2a4a7159f0",
   "metadata": {},
   "outputs": [],
   "source": [
    "#drop ignition date until I fix the dtype\n",
    "bc_hist.drop(['FIRE_CAUSE', 'IGN_DATE'], inplace = True, axis = 1)"
   ]
  },
  {
   "cell_type": "code",
   "execution_count": 114,
   "id": "1f49231f-0b7c-489a-8919-31f977a44222",
   "metadata": {},
   "outputs": [
    {
     "data": {
      "text/plain": [
       "FIRE_YEAR               int64\n",
       "FRCNTR                float64\n",
       "ZONE                  float64\n",
       "LATITUDE              float64\n",
       "LONGITUDE             float64\n",
       "SIZE_HA               float64\n",
       "FIRE_CAUSE_encoded      int32\n",
       "dtype: object"
      ]
     },
     "execution_count": 114,
     "metadata": {},
     "output_type": "execute_result"
    }
   ],
   "source": [
    "bc_hist.dtypes"
   ]
  },
  {
   "cell_type": "code",
   "execution_count": 115,
   "id": "548c8209-a555-48a1-b031-a7f7aa036147",
   "metadata": {},
   "outputs": [],
   "source": [
    "X = bc_hist.drop('FIRE_CAUSE_encoded', axis = 1)\n",
    "y = bc_hist['FIRE_CAUSE_encoded']"
   ]
  },
  {
   "cell_type": "code",
   "execution_count": 116,
   "id": "20c59a3f-9599-4306-9207-8508ba2a44fd",
   "metadata": {},
   "outputs": [],
   "source": [
    "from sklearn.metrics import f1_score\n",
    "from sklearn.pipeline import Pipeline, FeatureUnion\n",
    "from sklearn.compose import ColumnTransformer\n",
    "from sklearn.preprocessing import StandardScaler\n",
    "from sklearn.impute import SimpleImputer\n",
    "from sklearn.preprocessing import FunctionTransformer\n",
    "from sklearn.ensemble import RandomForestClassifier\n",
    "from sklearn.preprocessing import OneHotEncoder"
   ]
  },
  {
   "cell_type": "code",
   "execution_count": 118,
   "id": "6de496bb-589a-40dd-b0f9-1954058ef09e",
   "metadata": {},
   "outputs": [],
   "source": [
    "from sklearn.model_selection import train_test_split"
   ]
  },
  {
   "cell_type": "code",
   "execution_count": 119,
   "id": "a67390c9-0611-4726-bebb-a8f20526f554",
   "metadata": {},
   "outputs": [],
   "source": [
    "X_train, X_test, y_train, y_test = train_test_split(X, y, test_size=0.20, random_state=42)"
   ]
  },
  {
   "cell_type": "code",
   "execution_count": 120,
   "id": "ed644afc-97c3-4a68-8e7f-04cf12eebe2f",
   "metadata": {},
   "outputs": [],
   "source": [
    "#categorical features\n",
    "cat_feats = X_train.dtypes[X_train.dtypes == 'object'].index.tolist()\n",
    "#numeric features\n",
    "num_feats = X_train.dtypes[~X_train.dtypes.index.isin(cat_feats)].index.tolist()"
   ]
  },
  {
   "cell_type": "code",
   "execution_count": 121,
   "id": "307ecae9-738d-4806-a019-ffe44b71a740",
   "metadata": {},
   "outputs": [
    {
     "name": "stdout",
     "output_type": "stream",
     "text": [
      "Test set score: 0.8086124401913876\n"
     ]
    }
   ],
   "source": [
    "numeric_transform = Pipeline([('FunctionTransformer', FunctionTransformer()), ('impute_mean', SimpleImputer(strategy='mean')),\n",
    "                              ('scaling', StandardScaler())]\n",
    "                            )\n",
    "\n",
    "categorical_transform = Pipeline([('FunctionTransformer',FunctionTransformer()), ('impute_mode', SimpleImputer(strategy='most_frequent')), \n",
    "                                  ('one-hot-encode', OneHotEncoder(sparse=False, handle_unknown='ignore'))]\n",
    "                                )\n",
    "\n",
    "preprocessing = ColumnTransformer([('numeric', numeric_transform, num_feats), \n",
    "                                        ('categorical', categorical_transform, cat_feats)])\n",
    "\n",
    "pipeline = Pipeline([('preprocessing', preprocessing), ('model', RandomForestClassifier())])\n",
    "\n",
    "pipeline.fit(X_train, y_train)\n",
    "score = pipeline.score(X_test, y_test)          \n",
    "print(f'Test set score: {score}')"
   ]
  },
  {
   "cell_type": "code",
   "execution_count": 123,
   "id": "803144ab-1ae0-45b8-8c51-81fe0d32d970",
   "metadata": {},
   "outputs": [],
   "source": [
    "#sweet, now let's get to 90% accuracy with some weather api"
   ]
  },
  {
   "cell_type": "code",
   "execution_count": null,
   "id": "38e2adc3-3b4b-4acc-a603-59fcbb999573",
   "metadata": {},
   "outputs": [],
   "source": [
    "# are the human fires close to x location or activity?\n",
    "# using ML to ID fires with unknown cause\n",
    "# you can do better analytics labeled data\n",
    "\n",
    "#BC reading"
   ]
  },
  {
   "cell_type": "code",
   "execution_count": null,
   "id": "8251ed11-107d-4d6e-9b4f-af93b78838d8",
   "metadata": {},
   "outputs": [],
   "source": [
    "# consider useing satelite imagine - brandon is doing CNN, \n",
    "## can we do it without going there- $$"
   ]
  },
  {
   "cell_type": "code",
   "execution_count": null,
   "id": "df766556-e2b1-44bc-9ff3-2afffdf380be",
   "metadata": {},
   "outputs": [],
   "source": []
  },
  {
   "cell_type": "code",
   "execution_count": null,
   "id": "e87900ef-9af8-4745-984b-734109297217",
   "metadata": {},
   "outputs": [],
   "source": []
  },
  {
   "cell_type": "markdown",
   "id": "03cdc028-68be-411d-930c-946e62888f09",
   "metadata": {
    "jp-MarkdownHeadingCollapsed": true,
    "tags": []
   },
   "source": [
    "# Cali Data"
   ]
  },
  {
   "cell_type": "code",
   "execution_count": 7,
   "id": "852e6ad3-da97-4611-95d2-53fb353c8e77",
   "metadata": {},
   "outputs": [],
   "source": [
    "cali = pd.read_csv(\"California_Fire_Incidents.csv\") "
   ]
  },
  {
   "cell_type": "code",
   "execution_count": 9,
   "id": "afcdb812-fece-44a1-96c3-ef678e31535d",
   "metadata": {},
   "outputs": [
    {
     "data": {
      "text/html": [
       "<div>\n",
       "<style scoped>\n",
       "    .dataframe tbody tr th:only-of-type {\n",
       "        vertical-align: middle;\n",
       "    }\n",
       "\n",
       "    .dataframe tbody tr th {\n",
       "        vertical-align: top;\n",
       "    }\n",
       "\n",
       "    .dataframe thead th {\n",
       "        text-align: right;\n",
       "    }\n",
       "</style>\n",
       "<table border=\"1\" class=\"dataframe\">\n",
       "  <thead>\n",
       "    <tr style=\"text-align: right;\">\n",
       "      <th></th>\n",
       "      <th>AcresBurned</th>\n",
       "      <th>Active</th>\n",
       "      <th>AdminUnit</th>\n",
       "      <th>AirTankers</th>\n",
       "      <th>ArchiveYear</th>\n",
       "      <th>CalFireIncident</th>\n",
       "      <th>CanonicalUrl</th>\n",
       "      <th>ConditionStatement</th>\n",
       "      <th>ControlStatement</th>\n",
       "      <th>Counties</th>\n",
       "      <th>...</th>\n",
       "      <th>SearchKeywords</th>\n",
       "      <th>Started</th>\n",
       "      <th>Status</th>\n",
       "      <th>StructuresDamaged</th>\n",
       "      <th>StructuresDestroyed</th>\n",
       "      <th>StructuresEvacuated</th>\n",
       "      <th>StructuresThreatened</th>\n",
       "      <th>UniqueId</th>\n",
       "      <th>Updated</th>\n",
       "      <th>WaterTenders</th>\n",
       "    </tr>\n",
       "  </thead>\n",
       "  <tbody>\n",
       "    <tr>\n",
       "      <th>0</th>\n",
       "      <td>257314.0</td>\n",
       "      <td>False</td>\n",
       "      <td>Stanislaus National Forest/Yosemite National Park</td>\n",
       "      <td>NaN</td>\n",
       "      <td>2013</td>\n",
       "      <td>True</td>\n",
       "      <td>/incidents/2013/8/17/rim-fire/</td>\n",
       "      <td>NaN</td>\n",
       "      <td>NaN</td>\n",
       "      <td>Tuolumne</td>\n",
       "      <td>...</td>\n",
       "      <td>Rim Fire, Stanislaus National Forest, Yosemite...</td>\n",
       "      <td>2013-08-17T15:25:00Z</td>\n",
       "      <td>Finalized</td>\n",
       "      <td>NaN</td>\n",
       "      <td>NaN</td>\n",
       "      <td>NaN</td>\n",
       "      <td>NaN</td>\n",
       "      <td>5fb18d4d-213f-4d83-a179-daaf11939e78</td>\n",
       "      <td>2013-09-06T18:30:00Z</td>\n",
       "      <td>NaN</td>\n",
       "    </tr>\n",
       "    <tr>\n",
       "      <th>1</th>\n",
       "      <td>30274.0</td>\n",
       "      <td>False</td>\n",
       "      <td>USFS Angeles National Forest/Los Angeles Count...</td>\n",
       "      <td>NaN</td>\n",
       "      <td>2013</td>\n",
       "      <td>True</td>\n",
       "      <td>/incidents/2013/5/30/powerhouse-fire/</td>\n",
       "      <td>NaN</td>\n",
       "      <td>NaN</td>\n",
       "      <td>Los Angeles</td>\n",
       "      <td>...</td>\n",
       "      <td>Powerhouse Fire, May 2013, June 2013, Angeles ...</td>\n",
       "      <td>2013-05-30T15:28:00Z</td>\n",
       "      <td>Finalized</td>\n",
       "      <td>NaN</td>\n",
       "      <td>NaN</td>\n",
       "      <td>NaN</td>\n",
       "      <td>NaN</td>\n",
       "      <td>bf37805e-1cc2-4208-9972-753e47874c87</td>\n",
       "      <td>2013-06-08T18:30:00Z</td>\n",
       "      <td>NaN</td>\n",
       "    </tr>\n",
       "    <tr>\n",
       "      <th>2</th>\n",
       "      <td>27531.0</td>\n",
       "      <td>False</td>\n",
       "      <td>CAL FIRE Riverside Unit / San Bernardino Natio...</td>\n",
       "      <td>NaN</td>\n",
       "      <td>2013</td>\n",
       "      <td>True</td>\n",
       "      <td>/incidents/2013/7/15/mountain-fire/</td>\n",
       "      <td>NaN</td>\n",
       "      <td>NaN</td>\n",
       "      <td>Riverside</td>\n",
       "      <td>...</td>\n",
       "      <td>Mountain Fire, July 2013, Highway 243, Highway...</td>\n",
       "      <td>2013-07-15T13:43:00Z</td>\n",
       "      <td>Finalized</td>\n",
       "      <td>NaN</td>\n",
       "      <td>NaN</td>\n",
       "      <td>NaN</td>\n",
       "      <td>NaN</td>\n",
       "      <td>a3149fec-4d48-427c-8b2c-59e8b79d59db</td>\n",
       "      <td>2013-07-30T18:00:00Z</td>\n",
       "      <td>NaN</td>\n",
       "    </tr>\n",
       "    <tr>\n",
       "      <th>3</th>\n",
       "      <td>27440.0</td>\n",
       "      <td>False</td>\n",
       "      <td>Tahoe National Forest</td>\n",
       "      <td>NaN</td>\n",
       "      <td>2013</td>\n",
       "      <td>False</td>\n",
       "      <td>/incidents/2013/8/10/american-fire/</td>\n",
       "      <td>NaN</td>\n",
       "      <td>NaN</td>\n",
       "      <td>Placer</td>\n",
       "      <td>...</td>\n",
       "      <td>American Fire, August 2013, Deadwood Ridge, Fo...</td>\n",
       "      <td>2013-08-10T16:30:00Z</td>\n",
       "      <td>Finalized</td>\n",
       "      <td>NaN</td>\n",
       "      <td>NaN</td>\n",
       "      <td>NaN</td>\n",
       "      <td>NaN</td>\n",
       "      <td>8213f5c7-34fa-403b-a4bc-da2ace6e6625</td>\n",
       "      <td>2013-08-30T08:00:00Z</td>\n",
       "      <td>NaN</td>\n",
       "    </tr>\n",
       "    <tr>\n",
       "      <th>4</th>\n",
       "      <td>24251.0</td>\n",
       "      <td>False</td>\n",
       "      <td>Ventura County Fire/CAL FIRE</td>\n",
       "      <td>NaN</td>\n",
       "      <td>2013</td>\n",
       "      <td>True</td>\n",
       "      <td>/incidents/2013/5/2/springs-fire/</td>\n",
       "      <td>Acreage has been reduced based upon more accur...</td>\n",
       "      <td>NaN</td>\n",
       "      <td>Ventura</td>\n",
       "      <td>...</td>\n",
       "      <td>Springs Fire, May 2013, Highway 101, Camarillo...</td>\n",
       "      <td>2013-05-02T07:01:00Z</td>\n",
       "      <td>Finalized</td>\n",
       "      <td>6.0</td>\n",
       "      <td>10.0</td>\n",
       "      <td>NaN</td>\n",
       "      <td>NaN</td>\n",
       "      <td>46731fb8-3350-4920-bdf7-910ac0eb715c</td>\n",
       "      <td>2013-05-11T06:30:00Z</td>\n",
       "      <td>11.0</td>\n",
       "    </tr>\n",
       "  </tbody>\n",
       "</table>\n",
       "<p>5 rows × 40 columns</p>\n",
       "</div>"
      ],
      "text/plain": [
       "   AcresBurned  Active                                          AdminUnit  \\\n",
       "0     257314.0   False  Stanislaus National Forest/Yosemite National Park   \n",
       "1      30274.0   False  USFS Angeles National Forest/Los Angeles Count...   \n",
       "2      27531.0   False  CAL FIRE Riverside Unit / San Bernardino Natio...   \n",
       "3      27440.0   False                              Tahoe National Forest   \n",
       "4      24251.0   False                       Ventura County Fire/CAL FIRE   \n",
       "\n",
       "   AirTankers  ArchiveYear  CalFireIncident  \\\n",
       "0         NaN         2013             True   \n",
       "1         NaN         2013             True   \n",
       "2         NaN         2013             True   \n",
       "3         NaN         2013            False   \n",
       "4         NaN         2013             True   \n",
       "\n",
       "                            CanonicalUrl  \\\n",
       "0         /incidents/2013/8/17/rim-fire/   \n",
       "1  /incidents/2013/5/30/powerhouse-fire/   \n",
       "2    /incidents/2013/7/15/mountain-fire/   \n",
       "3    /incidents/2013/8/10/american-fire/   \n",
       "4      /incidents/2013/5/2/springs-fire/   \n",
       "\n",
       "                                  ConditionStatement ControlStatement  \\\n",
       "0                                                NaN              NaN   \n",
       "1                                                NaN              NaN   \n",
       "2                                                NaN              NaN   \n",
       "3                                                NaN              NaN   \n",
       "4  Acreage has been reduced based upon more accur...              NaN   \n",
       "\n",
       "      Counties  ...                                     SearchKeywords  \\\n",
       "0     Tuolumne  ...  Rim Fire, Stanislaus National Forest, Yosemite...   \n",
       "1  Los Angeles  ...  Powerhouse Fire, May 2013, June 2013, Angeles ...   \n",
       "2    Riverside  ...  Mountain Fire, July 2013, Highway 243, Highway...   \n",
       "3       Placer  ...  American Fire, August 2013, Deadwood Ridge, Fo...   \n",
       "4      Ventura  ...  Springs Fire, May 2013, Highway 101, Camarillo...   \n",
       "\n",
       "                Started     Status  StructuresDamaged StructuresDestroyed  \\\n",
       "0  2013-08-17T15:25:00Z  Finalized                NaN                 NaN   \n",
       "1  2013-05-30T15:28:00Z  Finalized                NaN                 NaN   \n",
       "2  2013-07-15T13:43:00Z  Finalized                NaN                 NaN   \n",
       "3  2013-08-10T16:30:00Z  Finalized                NaN                 NaN   \n",
       "4  2013-05-02T07:01:00Z  Finalized                6.0                10.0   \n",
       "\n",
       "   StructuresEvacuated  StructuresThreatened  \\\n",
       "0                  NaN                   NaN   \n",
       "1                  NaN                   NaN   \n",
       "2                  NaN                   NaN   \n",
       "3                  NaN                   NaN   \n",
       "4                  NaN                   NaN   \n",
       "\n",
       "                               UniqueId               Updated  WaterTenders  \n",
       "0  5fb18d4d-213f-4d83-a179-daaf11939e78  2013-09-06T18:30:00Z           NaN  \n",
       "1  bf37805e-1cc2-4208-9972-753e47874c87  2013-06-08T18:30:00Z           NaN  \n",
       "2  a3149fec-4d48-427c-8b2c-59e8b79d59db  2013-07-30T18:00:00Z           NaN  \n",
       "3  8213f5c7-34fa-403b-a4bc-da2ace6e6625  2013-08-30T08:00:00Z           NaN  \n",
       "4  46731fb8-3350-4920-bdf7-910ac0eb715c  2013-05-11T06:30:00Z          11.0  \n",
       "\n",
       "[5 rows x 40 columns]"
      ]
     },
     "execution_count": 9,
     "metadata": {},
     "output_type": "execute_result"
    }
   ],
   "source": [
    "cali.head()"
   ]
  },
  {
   "cell_type": "code",
   "execution_count": 10,
   "id": "b4d9447c-771b-4633-84ba-d5f703a7285b",
   "metadata": {},
   "outputs": [
    {
     "data": {
      "text/plain": [
       "(1636, 40)"
      ]
     },
     "execution_count": 10,
     "metadata": {},
     "output_type": "execute_result"
    }
   ],
   "source": [
    "cali.shape"
   ]
  },
  {
   "cell_type": "code",
   "execution_count": null,
   "id": "571a19ad-ffa8-4ecb-8869-4c54db2877a3",
   "metadata": {},
   "outputs": [],
   "source": []
  }
 ],
 "metadata": {
  "kernelspec": {
   "display_name": "lighthouse_env",
   "language": "python",
   "name": "lighthouse_env"
  },
  "language_info": {
   "codemirror_mode": {
    "name": "ipython",
    "version": 3
   },
   "file_extension": ".py",
   "mimetype": "text/x-python",
   "name": "python",
   "nbconvert_exporter": "python",
   "pygments_lexer": "ipython3",
   "version": "3.9.13"
  }
 },
 "nbformat": 4,
 "nbformat_minor": 5
}
