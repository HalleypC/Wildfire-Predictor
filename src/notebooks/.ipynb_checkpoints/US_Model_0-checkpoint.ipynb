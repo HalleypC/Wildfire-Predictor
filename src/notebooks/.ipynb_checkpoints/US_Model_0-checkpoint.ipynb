{
 "cells": [
  {
   "cell_type": "markdown",
   "id": "4e1debb1-0e80-4152-9f58-7badfbab5004",
   "metadata": {},
   "source": [
    "# Fire\n",
    "\n",
    "Explore the problem in following stages:\n",
    "1. Hypothesis Generation – understanding the problem better by brainstorming possible factors that can impact the outcome\n",
    "2. Data Exploration – looking at categorical and continuous feature summaries and making inferences about the data.\n",
    "3. Data Cleaning – imputing missing values in the data and checking for outliers\n",
    "4. Feature Engineering – modifying existing variables and creating new ones for analysis\n",
    "5. Model Building – making predictive models on the data\n",
    "\n",
    "## 5. Model Building"
   ]
  },
  {
   "cell_type": "code",
   "execution_count": 2,
   "id": "73d93ba2-a569-42d2-9118-0af5d3ec3501",
   "metadata": {},
   "outputs": [],
   "source": [
    "import pandas as pd"
   ]
  },
  {
   "cell_type": "code",
   "execution_count": 14,
   "id": "a4dee1ea-35d5-4372-a32a-9c7fab0a5c5e",
   "metadata": {},
   "outputs": [],
   "source": [
    "df = pd.read_csv(\"../../data/SQL/fires_clean.csv\", index_col = 0)"
   ]
  },
  {
   "cell_type": "code",
   "execution_count": 15,
   "id": "0e362412-71e4-416e-bb61-15263d4c8be8",
   "metadata": {},
   "outputs": [
    {
     "data": {
      "text/html": [
       "<div>\n",
       "<style scoped>\n",
       "    .dataframe tbody tr th:only-of-type {\n",
       "        vertical-align: middle;\n",
       "    }\n",
       "\n",
       "    .dataframe tbody tr th {\n",
       "        vertical-align: top;\n",
       "    }\n",
       "\n",
       "    .dataframe thead th {\n",
       "        text-align: right;\n",
       "    }\n",
       "</style>\n",
       "<table border=\"1\" class=\"dataframe\">\n",
       "  <thead>\n",
       "    <tr style=\"text-align: right;\">\n",
       "      <th></th>\n",
       "      <th>OBJECTID</th>\n",
       "      <th>FOD_ID</th>\n",
       "      <th>FPA_ID</th>\n",
       "      <th>SOURCE_SYSTEM_TYPE</th>\n",
       "      <th>SOURCE_SYSTEM</th>\n",
       "      <th>NWCG_REPORTING_AGENCY</th>\n",
       "      <th>NWCG_REPORTING_UNIT_ID</th>\n",
       "      <th>NWCG_REPORTING_UNIT_NAME</th>\n",
       "      <th>SOURCE_REPORTING_UNIT</th>\n",
       "      <th>SOURCE_REPORTING_UNIT_NAME</th>\n",
       "      <th>...</th>\n",
       "      <th>OWNER_CODE</th>\n",
       "      <th>OWNER_DESCR</th>\n",
       "      <th>STATE</th>\n",
       "      <th>Shape</th>\n",
       "      <th>DISC_GREG_DATE</th>\n",
       "      <th>CONT_GREG_DATE</th>\n",
       "      <th>DISC_MONTH</th>\n",
       "      <th>DISC_DAY</th>\n",
       "      <th>DISC_DAYOFWEEK</th>\n",
       "      <th>FIRE_DURATION</th>\n",
       "    </tr>\n",
       "  </thead>\n",
       "  <tbody>\n",
       "    <tr>\n",
       "      <th>1</th>\n",
       "      <td>2</td>\n",
       "      <td>2</td>\n",
       "      <td>FS-1418827</td>\n",
       "      <td>FED</td>\n",
       "      <td>FS-FIRESTAT</td>\n",
       "      <td>FS</td>\n",
       "      <td>USCAENF</td>\n",
       "      <td>Eldorado National Forest</td>\n",
       "      <td>0503</td>\n",
       "      <td>Eldorado National Forest</td>\n",
       "      <td>...</td>\n",
       "      <td>5.0</td>\n",
       "      <td>USFS</td>\n",
       "      <td>CA</td>\n",
       "      <td>b'\\x00\\x01\\xad\\x10\\x00\\x00T\\xb6\\xeej\\xe2\\x19^\\...</td>\n",
       "      <td>2004-05-12</td>\n",
       "      <td>2004-05-12 00:00:00.000000000</td>\n",
       "      <td>5</td>\n",
       "      <td>12</td>\n",
       "      <td>2</td>\n",
       "      <td>0</td>\n",
       "    </tr>\n",
       "    <tr>\n",
       "      <th>2</th>\n",
       "      <td>3</td>\n",
       "      <td>3</td>\n",
       "      <td>FS-1418835</td>\n",
       "      <td>FED</td>\n",
       "      <td>FS-FIRESTAT</td>\n",
       "      <td>FS</td>\n",
       "      <td>USCAENF</td>\n",
       "      <td>Eldorado National Forest</td>\n",
       "      <td>0503</td>\n",
       "      <td>Eldorado National Forest</td>\n",
       "      <td>...</td>\n",
       "      <td>13.0</td>\n",
       "      <td>STATE OR PRIVATE</td>\n",
       "      <td>CA</td>\n",
       "      <td>b'\\x00\\x01\\xad\\x10\\x00\\x00\\xd0\\xa5\\xa0W\\x13/^\\...</td>\n",
       "      <td>2004-05-31</td>\n",
       "      <td>2004-05-31 00:00:00.000000000</td>\n",
       "      <td>5</td>\n",
       "      <td>31</td>\n",
       "      <td>0</td>\n",
       "      <td>0</td>\n",
       "    </tr>\n",
       "    <tr>\n",
       "      <th>3</th>\n",
       "      <td>4</td>\n",
       "      <td>4</td>\n",
       "      <td>FS-1418845</td>\n",
       "      <td>FED</td>\n",
       "      <td>FS-FIRESTAT</td>\n",
       "      <td>FS</td>\n",
       "      <td>USCAENF</td>\n",
       "      <td>Eldorado National Forest</td>\n",
       "      <td>0503</td>\n",
       "      <td>Eldorado National Forest</td>\n",
       "      <td>...</td>\n",
       "      <td>5.0</td>\n",
       "      <td>USFS</td>\n",
       "      <td>CA</td>\n",
       "      <td>b'\\x00\\x01\\xad\\x10\\x00\\x00\\x94\\xac\\xa3\\rt\\xfa]...</td>\n",
       "      <td>2004-06-28</td>\n",
       "      <td>2004-07-03 00:00:00.000000000</td>\n",
       "      <td>6</td>\n",
       "      <td>28</td>\n",
       "      <td>0</td>\n",
       "      <td>5</td>\n",
       "    </tr>\n",
       "    <tr>\n",
       "      <th>4</th>\n",
       "      <td>5</td>\n",
       "      <td>5</td>\n",
       "      <td>FS-1418847</td>\n",
       "      <td>FED</td>\n",
       "      <td>FS-FIRESTAT</td>\n",
       "      <td>FS</td>\n",
       "      <td>USCAENF</td>\n",
       "      <td>Eldorado National Forest</td>\n",
       "      <td>0503</td>\n",
       "      <td>Eldorado National Forest</td>\n",
       "      <td>...</td>\n",
       "      <td>5.0</td>\n",
       "      <td>USFS</td>\n",
       "      <td>CA</td>\n",
       "      <td>b'\\x00\\x01\\xad\\x10\\x00\\x00@\\xe3\\xaa.\\xb7\\xfb]\\...</td>\n",
       "      <td>2004-06-28</td>\n",
       "      <td>2004-07-03 00:00:00.000000000</td>\n",
       "      <td>6</td>\n",
       "      <td>28</td>\n",
       "      <td>0</td>\n",
       "      <td>5</td>\n",
       "    </tr>\n",
       "    <tr>\n",
       "      <th>5</th>\n",
       "      <td>6</td>\n",
       "      <td>6</td>\n",
       "      <td>FS-1418849</td>\n",
       "      <td>FED</td>\n",
       "      <td>FS-FIRESTAT</td>\n",
       "      <td>FS</td>\n",
       "      <td>USCAENF</td>\n",
       "      <td>Eldorado National Forest</td>\n",
       "      <td>0503</td>\n",
       "      <td>Eldorado National Forest</td>\n",
       "      <td>...</td>\n",
       "      <td>5.0</td>\n",
       "      <td>USFS</td>\n",
       "      <td>CA</td>\n",
       "      <td>b'\\x00\\x01\\xad\\x10\\x00\\x00\\xf0&lt;~\\x90\\xa1\\x06^\\...</td>\n",
       "      <td>2004-06-30</td>\n",
       "      <td>2004-07-01 00:00:00.000000000</td>\n",
       "      <td>6</td>\n",
       "      <td>30</td>\n",
       "      <td>2</td>\n",
       "      <td>1</td>\n",
       "    </tr>\n",
       "  </tbody>\n",
       "</table>\n",
       "<p>5 rows × 30 columns</p>\n",
       "</div>"
      ],
      "text/plain": [
       "   OBJECTID  FOD_ID      FPA_ID SOURCE_SYSTEM_TYPE SOURCE_SYSTEM  \\\n",
       "1         2       2  FS-1418827                FED   FS-FIRESTAT   \n",
       "2         3       3  FS-1418835                FED   FS-FIRESTAT   \n",
       "3         4       4  FS-1418845                FED   FS-FIRESTAT   \n",
       "4         5       5  FS-1418847                FED   FS-FIRESTAT   \n",
       "5         6       6  FS-1418849                FED   FS-FIRESTAT   \n",
       "\n",
       "  NWCG_REPORTING_AGENCY NWCG_REPORTING_UNIT_ID  NWCG_REPORTING_UNIT_NAME  \\\n",
       "1                    FS                USCAENF  Eldorado National Forest   \n",
       "2                    FS                USCAENF  Eldorado National Forest   \n",
       "3                    FS                USCAENF  Eldorado National Forest   \n",
       "4                    FS                USCAENF  Eldorado National Forest   \n",
       "5                    FS                USCAENF  Eldorado National Forest   \n",
       "\n",
       "  SOURCE_REPORTING_UNIT SOURCE_REPORTING_UNIT_NAME  ... OWNER_CODE  \\\n",
       "1                  0503   Eldorado National Forest  ...        5.0   \n",
       "2                  0503   Eldorado National Forest  ...       13.0   \n",
       "3                  0503   Eldorado National Forest  ...        5.0   \n",
       "4                  0503   Eldorado National Forest  ...        5.0   \n",
       "5                  0503   Eldorado National Forest  ...        5.0   \n",
       "\n",
       "        OWNER_DESCR  STATE                                              Shape  \\\n",
       "1              USFS     CA  b'\\x00\\x01\\xad\\x10\\x00\\x00T\\xb6\\xeej\\xe2\\x19^\\...   \n",
       "2  STATE OR PRIVATE     CA  b'\\x00\\x01\\xad\\x10\\x00\\x00\\xd0\\xa5\\xa0W\\x13/^\\...   \n",
       "3              USFS     CA  b'\\x00\\x01\\xad\\x10\\x00\\x00\\x94\\xac\\xa3\\rt\\xfa]...   \n",
       "4              USFS     CA  b'\\x00\\x01\\xad\\x10\\x00\\x00@\\xe3\\xaa.\\xb7\\xfb]\\...   \n",
       "5              USFS     CA  b'\\x00\\x01\\xad\\x10\\x00\\x00\\xf0<~\\x90\\xa1\\x06^\\...   \n",
       "\n",
       "   DISC_GREG_DATE                 CONT_GREG_DATE  DISC_MONTH DISC_DAY  \\\n",
       "1      2004-05-12  2004-05-12 00:00:00.000000000           5       12   \n",
       "2      2004-05-31  2004-05-31 00:00:00.000000000           5       31   \n",
       "3      2004-06-28  2004-07-03 00:00:00.000000000           6       28   \n",
       "4      2004-06-28  2004-07-03 00:00:00.000000000           6       28   \n",
       "5      2004-06-30  2004-07-01 00:00:00.000000000           6       30   \n",
       "\n",
       "   DISC_DAYOFWEEK  FIRE_DURATION  \n",
       "1               2              0  \n",
       "2               0              0  \n",
       "3               0              5  \n",
       "4               0              5  \n",
       "5               2              1  \n",
       "\n",
       "[5 rows x 30 columns]"
      ]
     },
     "execution_count": 15,
     "metadata": {},
     "output_type": "execute_result"
    }
   ],
   "source": [
    "df.head()"
   ]
  },
  {
   "cell_type": "markdown",
   "id": "e5e84969-cdb8-49ef-9360-ffbdc0d737b4",
   "metadata": {},
   "source": [
    "#### For the basemodel, we will just drop all objects and any categorical features"
   ]
  },
  {
   "cell_type": "code",
   "execution_count": 17,
   "id": "82496c71-3fa1-4eb4-9592-7deed9f56813",
   "metadata": {},
   "outputs": [
    {
     "data": {
      "text/plain": [
       "OBJECTID                        int64\n",
       "FOD_ID                          int64\n",
       "FPA_ID                         object\n",
       "SOURCE_SYSTEM_TYPE             object\n",
       "SOURCE_SYSTEM                  object\n",
       "NWCG_REPORTING_AGENCY          object\n",
       "NWCG_REPORTING_UNIT_ID         object\n",
       "NWCG_REPORTING_UNIT_NAME       object\n",
       "SOURCE_REPORTING_UNIT          object\n",
       "SOURCE_REPORTING_UNIT_NAME     object\n",
       "FIRE_NAME                      object\n",
       "FIRE_YEAR                       int64\n",
       "DISCOVERY_DATE                float64\n",
       "DISCOVERY_DOY                   int64\n",
       "STAT_CAUSE_CODE               float64\n",
       "STAT_CAUSE_DESCR               object\n",
       "FIRE_SIZE                     float64\n",
       "FIRE_SIZE_CLASS                object\n",
       "LATITUDE                      float64\n",
       "LONGITUDE                     float64\n",
       "OWNER_CODE                    float64\n",
       "OWNER_DESCR                    object\n",
       "STATE                          object\n",
       "Shape                          object\n",
       "DISC_GREG_DATE                 object\n",
       "CONT_GREG_DATE                 object\n",
       "DISC_MONTH                      int64\n",
       "DISC_DAY                        int64\n",
       "DISC_DAYOFWEEK                  int64\n",
       "FIRE_DURATION                   int64\n",
       "dtype: object"
      ]
     },
     "execution_count": 17,
     "metadata": {},
     "output_type": "execute_result"
    }
   ],
   "source": [
    "df.dtypes"
   ]
  },
  {
   "cell_type": "code",
   "execution_count": 21,
   "id": "73afb415-6b95-4cf5-8c53-b10059b7e502",
   "metadata": {},
   "outputs": [],
   "source": [
    "df_base = df[['FIRE_YEAR', 'DISCOVERY_DOY', 'STAT_CAUSE_CODE', 'FIRE_SIZE', 'LATITUDE', 'LONGITUDE', 'DISC_MONTH', 'DISC_DAY', 'FIRE_DURATION', 'DISC_DAYOFWEEK']]"
   ]
  },
  {
   "cell_type": "markdown",
   "id": "4d91513a-b003-483a-b835-555b0d938288",
   "metadata": {},
   "source": [
    "### Check that all is clean"
   ]
  },
  {
   "cell_type": "code",
   "execution_count": 22,
   "id": "ae123629-1954-4ded-8714-2cd8931e5133",
   "metadata": {},
   "outputs": [
    {
     "data": {
      "text/plain": [
       "FIRE_YEAR            int64\n",
       "DISCOVERY_DOY        int64\n",
       "STAT_CAUSE_CODE    float64\n",
       "FIRE_SIZE          float64\n",
       "LATITUDE           float64\n",
       "LONGITUDE          float64\n",
       "DISC_MONTH           int64\n",
       "DISC_DAY             int64\n",
       "FIRE_DURATION        int64\n",
       "DISC_DAYOFWEEK       int64\n",
       "dtype: object"
      ]
     },
     "execution_count": 22,
     "metadata": {},
     "output_type": "execute_result"
    }
   ],
   "source": [
    "df_base.dtypes"
   ]
  },
  {
   "cell_type": "code",
   "execution_count": 29,
   "id": "c0270a2a-48d3-4d89-ba91-7d53498879c2",
   "metadata": {},
   "outputs": [
    {
     "data": {
      "text/plain": [
       "(205299, 10)"
      ]
     },
     "execution_count": 29,
     "metadata": {},
     "output_type": "execute_result"
    }
   ],
   "source": [
    "df_base.shape"
   ]
  },
  {
   "cell_type": "markdown",
   "id": "21f6be93-a346-4754-b73e-7bb7ca621ee0",
   "metadata": {
    "tags": []
   },
   "source": [
    "### Baseline Model\n",
    "- using only the date, size, duration, and location of fire"
   ]
  },
  {
   "cell_type": "code",
   "execution_count": 24,
   "id": "6de496bb-589a-40dd-b0f9-1954058ef09e",
   "metadata": {},
   "outputs": [],
   "source": [
    "from sklearn.model_selection import train_test_split"
   ]
  },
  {
   "cell_type": "code",
   "execution_count": 25,
   "id": "548c8209-a555-48a1-b031-a7f7aa036147",
   "metadata": {},
   "outputs": [],
   "source": [
    "X = df_base.drop('STAT_CAUSE_CODE', axis = 1)\n",
    "y = df_base['STAT_CAUSE_CODE']"
   ]
  },
  {
   "cell_type": "code",
   "execution_count": 26,
   "id": "a67390c9-0611-4726-bebb-a8f20526f554",
   "metadata": {},
   "outputs": [],
   "source": [
    "X_train, X_test, y_train, y_test = train_test_split(X, y, test_size=0.20, random_state=42)"
   ]
  },
  {
   "cell_type": "code",
   "execution_count": 27,
   "id": "20c59a3f-9599-4306-9207-8508ba2a44fd",
   "metadata": {},
   "outputs": [],
   "source": [
    "from sklearn.metrics import f1_score\n",
    "from sklearn.pipeline import Pipeline\n",
    "from sklearn.preprocessing import StandardScaler\n",
    "from sklearn.impute import SimpleImputer\n",
    "from sklearn.preprocessing import FunctionTransformer\n",
    "from sklearn.ensemble import RandomForestClassifier"
   ]
  },
  {
   "cell_type": "markdown",
   "id": "498cf48d-d9c4-4f45-ae86-775d579b6b0d",
   "metadata": {},
   "source": [
    "since we only have numeric features the pipeline is simple"
   ]
  },
  {
   "cell_type": "code",
   "execution_count": 28,
   "id": "307ecae9-738d-4806-a019-ffe44b71a740",
   "metadata": {},
   "outputs": [
    {
     "name": "stdout",
     "output_type": "stream",
     "text": [
      "Test set score: 0.6477837311251826\n"
     ]
    }
   ],
   "source": [
    "numeric_transform = Pipeline([('impute_mean', SimpleImputer(strategy='mean')), ('scaling', StandardScaler())])\n",
    "\n",
    "pipeline = Pipeline([('preprocessing', numeric_transform), ('model', RandomForestClassifier())])\n",
    "\n",
    "pipeline.fit(X_train, y_train)\n",
    "score = pipeline.score(X_test, y_test)          \n",
    "print(f'Test set score: {score}')"
   ]
  },
  {
   "cell_type": "code",
   "execution_count": null,
   "id": "b7c6ee29-f915-420b-8f64-2498958d5820",
   "metadata": {},
   "outputs": [],
   "source": [
    "#Try another algorithm"
   ]
  },
  {
   "cell_type": "code",
   "execution_count": null,
   "id": "ccef1599-31c9-40fc-8c50-ae427efc2fdf",
   "metadata": {},
   "outputs": [],
   "source": []
  },
  {
   "cell_type": "code",
   "execution_count": null,
   "id": "3ec69f93-2579-46af-b7cd-2653d8daa0a2",
   "metadata": {},
   "outputs": [],
   "source": []
  },
  {
   "cell_type": "code",
   "execution_count": null,
   "id": "d723b1c4-dcd7-4545-8d0c-446ee36354a0",
   "metadata": {},
   "outputs": [],
   "source": []
  },
  {
   "cell_type": "markdown",
   "id": "e18ed0d7-60db-4a9d-b816-0bda9c375432",
   "metadata": {},
   "source": [
    "### Basemodel Results"
   ]
  },
  {
   "cell_type": "code",
   "execution_count": 32,
   "id": "e87900ef-9af8-4745-984b-734109297217",
   "metadata": {},
   "outputs": [],
   "source": [
    "from sklearn.metrics import ConfusionMatrixDisplay"
   ]
  },
  {
   "cell_type": "code",
   "execution_count": 33,
   "id": "571a19ad-ffa8-4ecb-8869-4c54db2877a3",
   "metadata": {},
   "outputs": [
    {
     "data": {
      "text/plain": [
       "<sklearn.metrics._plot.confusion_matrix.ConfusionMatrixDisplay at 0x28b260b5ca0>"
      ]
     },
     "execution_count": 33,
     "metadata": {},
     "output_type": "execute_result"
    },
    {
     "data": {
      "image/png": "[encoded data removed]",
      "text/plain": [
       "<Figure size 432x288 with 2 Axes>"
      ]
     },
     "metadata": {
      "needs_background": "light"
     },
     "output_type": "display_data"
    }
   ],
   "source": [
    "y_pred = pipeline.predict(X_test)\n",
    "ConfusionMatrixDisplay.from_predictions(y_test, y_pred)"
   ]
  },
  {
   "cell_type": "markdown",
   "id": "221b6985-d568-48f8-b004-5fab58418cd5",
   "metadata": {},
   "source": [
    "looks like it didn't predict any STAT_CAUSE_CODE 12 (structure)"
   ]
  }
 ],
 "metadata": {
  "kernelspec": {
   "display_name": "lighthouse_env",
   "language": "python",
   "name": "lighthouse_env"
  },
  "language_info": {
   "codemirror_mode": {
    "name": "ipython",
    "version": 3
   },
   "file_extension": ".py",
   "mimetype": "text/x-python",
   "name": "python",
   "nbconvert_exporter": "python",
   "pygments_lexer": "ipython3",
   "version": "3.9.13"
  }
 },
 "nbformat": 4,
 "nbformat_minor": 5
}
