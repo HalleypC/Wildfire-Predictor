{
 "cells": [
  {
   "cell_type": "markdown",
   "id": "4e1debb1-0e80-4152-9f58-7badfbab5004",
   "metadata": {},
   "source": [
    "# Wildfire Prediction Project\n",
    "## Notebook 5) Model 1\n",
    "\n",
    "In this notebook, I will run a model that includes more features than the baseline model.\n",
    "This model will consider the engineered fire_duration feature, the owner description features which notes the type of land owner, and the weather features pulled from the API in the last notebook."
   ]
  },
  {
   "cell_type": "code",
   "execution_count": 1,
   "id": "73d93ba2-a569-42d2-9118-0af5d3ec3501",
   "metadata": {},
   "outputs": [],
   "source": [
    "import pandas as pd"
   ]
  },
  {
   "cell_type": "code",
   "execution_count": 10,
   "id": "91568a7e-c0ad-475d-a0de-05efdd002c68",
   "metadata": {},
   "outputs": [],
   "source": [
    "import seaborn as sns\n",
    "import matplotlib.pyplot as plt"
   ]
  },
  {
   "cell_type": "code",
   "execution_count": 20,
   "id": "20c59a3f-9599-4306-9207-8508ba2a44fd",
   "metadata": {},
   "outputs": [],
   "source": [
    "from sklearn.model_selection import train_test_split\n",
    "from sklearn.pipeline import Pipeline\n",
    "from sklearn.preprocessing import StandardScaler, OneHotEncoder, FunctionTransformer\n",
    "from sklearn.impute import SimpleImputer\n",
    "from sklearn.ensemble import RandomForestClassifier\n",
    "from sklearn.svm import SVC\n",
    "from sklearn.compose import ColumnTransformer\n",
    "\n",
    "from sklearn.metrics import f1_score, balanced_accuracy_score, ConfusionMatrixDisplay, classification_report"
   ]
  },
  {
   "cell_type": "code",
   "execution_count": 29,
   "id": "757e2580-b995-4d02-952a-8ee458f436dc",
   "metadata": {},
   "outputs": [],
   "source": [
    "from sklearn.model_selection import GridSearchCV"
   ]
  },
  {
   "cell_type": "code",
   "execution_count": 3,
   "id": "a4dee1ea-35d5-4372-a32a-9c7fab0a5c5e",
   "metadata": {},
   "outputs": [],
   "source": [
    "df = pd.read_csv(\"../../data/data_weather.csv\", index_col = 0)"
   ]
  },
  {
   "cell_type": "code",
   "execution_count": 4,
   "id": "0e362412-71e4-416e-bb61-15263d4c8be8",
   "metadata": {},
   "outputs": [
    {
     "data": {
      "text/html": [
       "<div>\n",
       "<style scoped>\n",
       "    .dataframe tbody tr th:only-of-type {\n",
       "        vertical-align: middle;\n",
       "    }\n",
       "\n",
       "    .dataframe tbody tr th {\n",
       "        vertical-align: top;\n",
       "    }\n",
       "\n",
       "    .dataframe thead th {\n",
       "        text-align: right;\n",
       "    }\n",
       "</style>\n",
       "<table border=\"1\" class=\"dataframe\">\n",
       "  <thead>\n",
       "    <tr style=\"text-align: right;\">\n",
       "      <th></th>\n",
       "      <th>OBJECTID</th>\n",
       "      <th>FOD_ID</th>\n",
       "      <th>FPA_ID</th>\n",
       "      <th>SOURCE_SYSTEM_TYPE</th>\n",
       "      <th>SOURCE_SYSTEM</th>\n",
       "      <th>NWCG_REPORTING_AGENCY</th>\n",
       "      <th>NWCG_REPORTING_UNIT_ID</th>\n",
       "      <th>NWCG_REPORTING_UNIT_NAME</th>\n",
       "      <th>SOURCE_REPORTING_UNIT</th>\n",
       "      <th>SOURCE_REPORTING_UNIT_NAME</th>\n",
       "      <th>...</th>\n",
       "      <th>Wind Gusts (10 m)</th>\n",
       "      <th>Soil Temperature (0-7 cm)</th>\n",
       "      <th>Soil Temperature (7-28 cm)</th>\n",
       "      <th>Soil Moisture (0-7 cm)</th>\n",
       "      <th>Soil Moisture (7-28 cm)</th>\n",
       "      <th>Maximum Temperature (2 m)</th>\n",
       "      <th>Minimum Temperature (2 m)</th>\n",
       "      <th>Precipitation Sum</th>\n",
       "      <th>Rain Sum</th>\n",
       "      <th>Snowfall Sum</th>\n",
       "    </tr>\n",
       "  </thead>\n",
       "  <tbody>\n",
       "    <tr>\n",
       "      <th>0</th>\n",
       "      <td>2</td>\n",
       "      <td>2</td>\n",
       "      <td>FS-1418827</td>\n",
       "      <td>FED</td>\n",
       "      <td>FS-FIRESTAT</td>\n",
       "      <td>FS</td>\n",
       "      <td>USCAENF</td>\n",
       "      <td>Eldorado National Forest</td>\n",
       "      <td>0503</td>\n",
       "      <td>Eldorado National Forest</td>\n",
       "      <td>...</td>\n",
       "      <td>30.0</td>\n",
       "      <td>5.0</td>\n",
       "      <td>4.0</td>\n",
       "      <td>0.0</td>\n",
       "      <td>0.0</td>\n",
       "      <td>15.0</td>\n",
       "      <td>0.0</td>\n",
       "      <td>0.0</td>\n",
       "      <td>0.0</td>\n",
       "      <td>0.0</td>\n",
       "    </tr>\n",
       "    <tr>\n",
       "      <th>1</th>\n",
       "      <td>3</td>\n",
       "      <td>3</td>\n",
       "      <td>FS-1418835</td>\n",
       "      <td>FED</td>\n",
       "      <td>FS-FIRESTAT</td>\n",
       "      <td>FS</td>\n",
       "      <td>USCAENF</td>\n",
       "      <td>Eldorado National Forest</td>\n",
       "      <td>0503</td>\n",
       "      <td>Eldorado National Forest</td>\n",
       "      <td>...</td>\n",
       "      <td>21.0</td>\n",
       "      <td>17.0</td>\n",
       "      <td>15.0</td>\n",
       "      <td>0.0</td>\n",
       "      <td>0.0</td>\n",
       "      <td>27.0</td>\n",
       "      <td>9.0</td>\n",
       "      <td>0.0</td>\n",
       "      <td>0.0</td>\n",
       "      <td>0.0</td>\n",
       "    </tr>\n",
       "  </tbody>\n",
       "</table>\n",
       "<p>2 rows × 48 columns</p>\n",
       "</div>"
      ],
      "text/plain": [
       "   OBJECTID  FOD_ID      FPA_ID SOURCE_SYSTEM_TYPE SOURCE_SYSTEM  \\\n",
       "0         2       2  FS-1418827                FED   FS-FIRESTAT   \n",
       "1         3       3  FS-1418835                FED   FS-FIRESTAT   \n",
       "\n",
       "  NWCG_REPORTING_AGENCY NWCG_REPORTING_UNIT_ID  NWCG_REPORTING_UNIT_NAME  \\\n",
       "0                    FS                USCAENF  Eldorado National Forest   \n",
       "1                    FS                USCAENF  Eldorado National Forest   \n",
       "\n",
       "  SOURCE_REPORTING_UNIT SOURCE_REPORTING_UNIT_NAME  ... Wind Gusts (10 m)  \\\n",
       "0                  0503   Eldorado National Forest  ...              30.0   \n",
       "1                  0503   Eldorado National Forest  ...              21.0   \n",
       "\n",
       "   Soil Temperature (0-7 cm)  Soil Temperature (7-28 cm)  \\\n",
       "0                        5.0                         4.0   \n",
       "1                       17.0                        15.0   \n",
       "\n",
       "   Soil Moisture (0-7 cm)  Soil Moisture (7-28 cm)  Maximum Temperature (2 m)  \\\n",
       "0                     0.0                      0.0                       15.0   \n",
       "1                     0.0                      0.0                       27.0   \n",
       "\n",
       "  Minimum Temperature (2 m)  Precipitation Sum  Rain Sum  Snowfall Sum  \n",
       "0                       0.0                0.0       0.0           0.0  \n",
       "1                       9.0                0.0       0.0           0.0  \n",
       "\n",
       "[2 rows x 48 columns]"
      ]
     },
     "execution_count": 4,
     "metadata": {},
     "output_type": "execute_result"
    }
   ],
   "source": [
    "df.head(2)"
   ]
  },
  {
   "cell_type": "code",
   "execution_count": 5,
   "id": "82496c71-3fa1-4eb4-9592-7deed9f56813",
   "metadata": {},
   "outputs": [
    {
     "data": {
      "text/plain": [
       "OBJECTID                        int64\n",
       "FOD_ID                          int64\n",
       "FPA_ID                         object\n",
       "SOURCE_SYSTEM_TYPE             object\n",
       "SOURCE_SYSTEM                  object\n",
       "NWCG_REPORTING_AGENCY          object\n",
       "NWCG_REPORTING_UNIT_ID         object\n",
       "NWCG_REPORTING_UNIT_NAME       object\n",
       "SOURCE_REPORTING_UNIT          object\n",
       "SOURCE_REPORTING_UNIT_NAME     object\n",
       "FIRE_NAME                      object\n",
       "FIRE_YEAR                       int64\n",
       "DISCOVERY_DATE                float64\n",
       "DISCOVERY_DOY                   int64\n",
       "DISCOVERY_TIME                float64\n",
       "STAT_CAUSE_CODE               float64\n",
       "STAT_CAUSE_DESCR               object\n",
       "CONT_DATE                     float64\n",
       "CONT_DOY                      float64\n",
       "FIRE_SIZE                     float64\n",
       "FIRE_SIZE_CLASS                object\n",
       "LATITUDE                      float64\n",
       "LONGITUDE                     float64\n",
       "OWNER_CODE                    float64\n",
       "OWNER_DESCR                    object\n",
       "STATE                          object\n",
       "COUNTY                         object\n",
       "FIPS_CODE                     float64\n",
       "FIPS_NAME                      object\n",
       "Shape                          object\n",
       "DISC_GREG_DATE                 object\n",
       "CONT_GREG_DATE                 object\n",
       "DISC_MONTH                      int64\n",
       "DISC_DAY                        int64\n",
       "DISC_DAYOFWEEK                  int64\n",
       "FIRE_DURATION                   int64\n",
       "Elevation                     float64\n",
       "Temperature (2 m)             float64\n",
       "Wind Gusts (10 m)             float64\n",
       "Soil Temperature (0-7 cm)     float64\n",
       "Soil Temperature (7-28 cm)    float64\n",
       "Soil Moisture (0-7 cm)        float64\n",
       "Soil Moisture (7-28 cm)       float64\n",
       "Maximum Temperature (2 m)     float64\n",
       "Minimum Temperature (2 m)     float64\n",
       "Precipitation Sum             float64\n",
       "Rain Sum                      float64\n",
       "Snowfall Sum                  float64\n",
       "dtype: object"
      ]
     },
     "execution_count": 5,
     "metadata": {},
     "output_type": "execute_result"
    }
   ],
   "source": [
    "df.dtypes"
   ]
  },
  {
   "cell_type": "code",
   "execution_count": 6,
   "id": "8ca2282a-f48d-405a-9220-5ce7fb924223",
   "metadata": {},
   "outputs": [
    {
     "data": {
      "text/plain": [
       "Index(['OBJECTID', 'FOD_ID', 'FPA_ID', 'SOURCE_SYSTEM_TYPE', 'SOURCE_SYSTEM',\n",
       "       'NWCG_REPORTING_AGENCY', 'NWCG_REPORTING_UNIT_ID',\n",
       "       'NWCG_REPORTING_UNIT_NAME', 'SOURCE_REPORTING_UNIT',\n",
       "       'SOURCE_REPORTING_UNIT_NAME', 'FIRE_NAME', 'FIRE_YEAR',\n",
       "       'DISCOVERY_DATE', 'DISCOVERY_DOY', 'DISCOVERY_TIME', 'STAT_CAUSE_CODE',\n",
       "       'STAT_CAUSE_DESCR', 'CONT_DATE', 'CONT_DOY', 'FIRE_SIZE',\n",
       "       'FIRE_SIZE_CLASS', 'LATITUDE', 'LONGITUDE', 'OWNER_CODE', 'OWNER_DESCR',\n",
       "       'STATE', 'COUNTY', 'FIPS_CODE', 'FIPS_NAME', 'Shape', 'DISC_GREG_DATE',\n",
       "       'CONT_GREG_DATE', 'DISC_MONTH', 'DISC_DAY', 'DISC_DAYOFWEEK',\n",
       "       'FIRE_DURATION', 'Elevation', 'Temperature (2 m)', 'Wind Gusts (10 m)',\n",
       "       'Soil Temperature (0-7 cm)', 'Soil Temperature (7-28 cm)',\n",
       "       'Soil Moisture (0-7 cm)', 'Soil Moisture (7-28 cm)',\n",
       "       'Maximum Temperature (2 m)', 'Minimum Temperature (2 m)',\n",
       "       'Precipitation Sum', 'Rain Sum', 'Snowfall Sum'],\n",
       "      dtype='object')"
      ]
     },
     "execution_count": 6,
     "metadata": {},
     "output_type": "execute_result"
    }
   ],
   "source": [
    "df.columns"
   ]
  },
  {
   "cell_type": "code",
   "execution_count": 7,
   "id": "73afb415-6b95-4cf5-8c53-b10059b7e502",
   "metadata": {},
   "outputs": [],
   "source": [
    "df_base = df[['FIRE_YEAR', 'DISCOVERY_DOY', 'STAT_CAUSE_CODE', 'FIRE_SIZE', 'LATITUDE', 'LONGITUDE', \n",
    "              'DISC_MONTH', 'DISC_DAY', 'FIRE_DURATION', 'DISC_DAYOFWEEK', 'OWNER_DESCR', \n",
    "              'Elevation', 'Temperature (2 m)', 'Wind Gusts (10 m)', \n",
    "              'Soil Temperature (0-7 cm)', 'Soil Temperature (7-28 cm)',\n",
    "              'Maximum Temperature (2 m)', 'Minimum Temperature (2 m)',\n",
    "              'Precipitation Sum', 'Rain Sum', 'Snowfall Sum']]"
   ]
  },
  {
   "cell_type": "code",
   "execution_count": 8,
   "id": "0524a846-8ff5-4bd2-8920-a2e811842db5",
   "metadata": {},
   "outputs": [
    {
     "data": {
      "text/plain": [
       "FIRE_YEAR                      0\n",
       "DISCOVERY_DOY                  0\n",
       "STAT_CAUSE_CODE                0\n",
       "FIRE_SIZE                      0\n",
       "LATITUDE                       0\n",
       "LONGITUDE                      0\n",
       "DISC_MONTH                     0\n",
       "DISC_DAY                       0\n",
       "FIRE_DURATION                  0\n",
       "DISC_DAYOFWEEK                 0\n",
       "OWNER_DESCR                    0\n",
       "Elevation                      1\n",
       "Temperature (2 m)             36\n",
       "Wind Gusts (10 m)             36\n",
       "Soil Temperature (0-7 cm)     36\n",
       "Soil Temperature (7-28 cm)    36\n",
       "Maximum Temperature (2 m)     36\n",
       "Minimum Temperature (2 m)     36\n",
       "Precipitation Sum             36\n",
       "Rain Sum                      36\n",
       "Snowfall Sum                  36\n",
       "dtype: int64"
      ]
     },
     "execution_count": 8,
     "metadata": {},
     "output_type": "execute_result"
    }
   ],
   "source": [
    "df_base.isna().sum()"
   ]
  },
  {
   "cell_type": "code",
   "execution_count": 9,
   "id": "d225470b-087a-472d-8c92-f62ba24dc16a",
   "metadata": {},
   "outputs": [
    {
     "name": "stderr",
     "output_type": "stream",
     "text": [
      "C:\\Users\\3_hal\\AppData\\Local\\Temp\\ipykernel_14168\\3944916447.py:1: SettingWithCopyWarning: \n",
      "A value is trying to be set on a copy of a slice from a DataFrame\n",
      "\n",
      "See the caveats in the documentation: https://pandas.pydata.org/pandas-docs/stable/user_guide/indexing.html#returning-a-view-versus-a-copy\n",
      "  df_base.dropna(inplace = True, axis = 0)\n"
     ]
    }
   ],
   "source": [
    "df_base.dropna(inplace = True, axis = 0)"
   ]
  },
  {
   "cell_type": "code",
   "execution_count": 12,
   "id": "c0270a2a-48d3-4d89-ba91-7d53498879c2",
   "metadata": {},
   "outputs": [
    {
     "data": {
      "text/plain": [
       "(84859, 21)"
      ]
     },
     "execution_count": 12,
     "metadata": {},
     "output_type": "execute_result"
    }
   ],
   "source": [
    "df_base.shape"
   ]
  },
  {
   "cell_type": "markdown",
   "id": "f05c1d50-39b0-40e4-8b3e-0a71c0044e55",
   "metadata": {},
   "source": [
    "#### Plot Correlation"
   ]
  },
  {
   "cell_type": "code",
   "execution_count": 11,
   "id": "f71c8ec0-fd86-4656-90ca-4b217258566b",
   "metadata": {},
   "outputs": [
    {
     "data": {
      "text/plain": [
       "<AxesSubplot:>"
      ]
     },
     "execution_count": 11,
     "metadata": {},
     "output_type": "execute_result"
    },
    {
     "data": {
      "image/png": "[encoded data removed]",
      "text/plain": [
       "<Figure size 432x288 with 2 Axes>"
      ]
     },
     "metadata": {
      "needs_background": "light"
     },
     "output_type": "display_data"
    }
   ],
   "source": [
    "corr = df_base.corr()\n",
    "sns.heatmap(corr, annot=False)"
   ]
  },
  {
   "cell_type": "markdown",
   "id": "21f6be93-a346-4754-b73e-7bb7ca621ee0",
   "metadata": {
    "tags": []
   },
   "source": [
    "### Model 1\n",
    "- using the date, size, duration, and location of fire\n",
    "- added the owner code and state features\n",
    "- added weather features"
   ]
  },
  {
   "cell_type": "code",
   "execution_count": 14,
   "id": "548c8209-a555-48a1-b031-a7f7aa036147",
   "metadata": {},
   "outputs": [],
   "source": [
    "X = df_base.drop('STAT_CAUSE_CODE', axis = 1)\n",
    "y = df_base['STAT_CAUSE_CODE']"
   ]
  },
  {
   "cell_type": "code",
   "execution_count": 15,
   "id": "a67390c9-0611-4726-bebb-a8f20526f554",
   "metadata": {},
   "outputs": [],
   "source": [
    "X_train, X_test, y_train, y_test = train_test_split(X, y, test_size=0.20, random_state=42)"
   ]
  },
  {
   "cell_type": "code",
   "execution_count": 16,
   "id": "b5b503e5-b246-4cf5-9889-afe7715729a6",
   "metadata": {},
   "outputs": [],
   "source": [
    "#categorical features\n",
    "cat_feats = X_train.dtypes[X_train.dtypes == 'object'].index.tolist()\n",
    "#numeric features\n",
    "num_feats = X_train.dtypes[~X_train.dtypes.index.isin(cat_feats)].index.tolist()"
   ]
  },
  {
   "cell_type": "code",
   "execution_count": 36,
   "id": "e22729af-c4e2-4d40-b199-583cce32dff3",
   "metadata": {},
   "outputs": [
    {
     "data": {
      "text/plain": [
       "['OWNER_DESCR']"
      ]
     },
     "execution_count": 36,
     "metadata": {},
     "output_type": "execute_result"
    }
   ],
   "source": [
    "cat_feats"
   ]
  },
  {
   "cell_type": "code",
   "execution_count": 37,
   "id": "cfd1cf12-84dc-4c2b-92e3-3215aad2b0f6",
   "metadata": {},
   "outputs": [
    {
     "data": {
      "text/plain": [
       "['FIRE_YEAR',\n",
       " 'DISCOVERY_DOY',\n",
       " 'FIRE_SIZE',\n",
       " 'LATITUDE',\n",
       " 'LONGITUDE',\n",
       " 'DISC_MONTH',\n",
       " 'DISC_DAY',\n",
       " 'FIRE_DURATION',\n",
       " 'DISC_DAYOFWEEK',\n",
       " 'Elevation',\n",
       " 'Temperature (2 m)',\n",
       " 'Wind Gusts (10 m)',\n",
       " 'Soil Temperature (0-7 cm)',\n",
       " 'Soil Temperature (7-28 cm)',\n",
       " 'Maximum Temperature (2 m)',\n",
       " 'Minimum Temperature (2 m)',\n",
       " 'Precipitation Sum',\n",
       " 'Rain Sum',\n",
       " 'Snowfall Sum']"
      ]
     },
     "execution_count": 37,
     "metadata": {},
     "output_type": "execute_result"
    }
   ],
   "source": [
    "num_feats"
   ]
  },
  {
   "cell_type": "markdown",
   "id": "914da98b-0cdb-41c4-ba32-7f719911b7ae",
   "metadata": {},
   "source": [
    "#### Random Forest"
   ]
  },
  {
   "cell_type": "code",
   "execution_count": 21,
   "id": "307ecae9-738d-4806-a019-ffe44b71a740",
   "metadata": {},
   "outputs": [],
   "source": [
    "numeric_transform = Pipeline([('FunctionTransformer', FunctionTransformer()), ('impute_mean', SimpleImputer(strategy='mean')),\n",
    "                              ('scaling', StandardScaler())])\n",
    "\n",
    "categorical_transform = Pipeline([('FunctionTransformer',FunctionTransformer()), ('impute_mode', SimpleImputer(strategy='most_frequent')), \n",
    "                                  ('one-hot-encode', OneHotEncoder(sparse=False))])\n",
    "\n",
    "preprocessing = ColumnTransformer([('numeric', numeric_transform, num_feats), \n",
    "                                        ('categorical', categorical_transform, cat_feats)])\n",
    "\n",
    "pipeline = Pipeline([('preprocessing', preprocessing), ('model', RandomForestClassifier())])"
   ]
  },
  {
   "cell_type": "code",
   "execution_count": 26,
   "id": "ccef1599-31c9-40fc-8c50-ae427efc2fdf",
   "metadata": {},
   "outputs": [
    {
     "data": {
      "text/html": [
       "<style>#sk-container-id-1 {color: black;background-color: white;}#sk-container-id-1 pre{padding: 0;}#sk-container-id-1 div.sk-toggleable {background-color: white;}#sk-container-id-1 label.sk-toggleable__label {cursor: pointer;display: block;width: 100%;margin-bottom: 0;padding: 0.3em;box-sizing: border-box;text-align: center;}#sk-container-id-1 label.sk-toggleable__label-arrow:before {content: \"▸\";float: left;margin-right: 0.25em;color: #696969;}#sk-container-id-1 label.sk-toggleable__label-arrow:hover:before {color: black;}#sk-container-id-1 div.sk-estimator:hover label.sk-toggleable__label-arrow:before {color: black;}#sk-container-id-1 div.sk-toggleable__content {max-height: 0;max-width: 0;overflow: hidden;text-align: left;background-color: #f0f8ff;}#sk-container-id-1 div.sk-toggleable__content pre {margin: 0.2em;color: black;border-radius: 0.25em;background-color: #f0f8ff;}#sk-container-id-1 input.sk-toggleable__control:checked~div.sk-toggleable__content {max-height: 200px;max-width: 100%;overflow: auto;}#sk-container-id-1 input.sk-toggleable__control:checked~label.sk-toggleable__label-arrow:before {content: \"▾\";}#sk-container-id-1 div.sk-estimator input.sk-toggleable__control:checked~label.sk-toggleable__label {background-color: #d4ebff;}#sk-container-id-1 div.sk-label input.sk-toggleable__control:checked~label.sk-toggleable__label {background-color: #d4ebff;}#sk-container-id-1 input.sk-hidden--visually {border: 0;clip: rect(1px 1px 1px 1px);clip: rect(1px, 1px, 1px, 1px);height: 1px;margin: -1px;overflow: hidden;padding: 0;position: absolute;width: 1px;}#sk-container-id-1 div.sk-estimator {font-family: monospace;background-color: #f0f8ff;border: 1px dotted black;border-radius: 0.25em;box-sizing: border-box;margin-bottom: 0.5em;}#sk-container-id-1 div.sk-estimator:hover {background-color: #d4ebff;}#sk-container-id-1 div.sk-parallel-item::after {content: \"\";width: 100%;border-bottom: 1px solid gray;flex-grow: 1;}#sk-container-id-1 div.sk-label:hover label.sk-toggleable__label {background-color: #d4ebff;}#sk-container-id-1 div.sk-serial::before {content: \"\";position: absolute;border-left: 1px solid gray;box-sizing: border-box;top: 0;bottom: 0;left: 50%;z-index: 0;}#sk-container-id-1 div.sk-serial {display: flex;flex-direction: column;align-items: center;background-color: white;padding-right: 0.2em;padding-left: 0.2em;position: relative;}#sk-container-id-1 div.sk-item {position: relative;z-index: 1;}#sk-container-id-1 div.sk-parallel {display: flex;align-items: stretch;justify-content: center;background-color: white;position: relative;}#sk-container-id-1 div.sk-item::before, #sk-container-id-1 div.sk-parallel-item::before {content: \"\";position: absolute;border-left: 1px solid gray;box-sizing: border-box;top: 0;bottom: 0;left: 50%;z-index: -1;}#sk-container-id-1 div.sk-parallel-item {display: flex;flex-direction: column;z-index: 1;position: relative;background-color: white;}#sk-container-id-1 div.sk-parallel-item:first-child::after {align-self: flex-end;width: 50%;}#sk-container-id-1 div.sk-parallel-item:last-child::after {align-self: flex-start;width: 50%;}#sk-container-id-1 div.sk-parallel-item:only-child::after {width: 0;}#sk-container-id-1 div.sk-dashed-wrapped {border: 1px dashed gray;margin: 0 0.4em 0.5em 0.4em;box-sizing: border-box;padding-bottom: 0.4em;background-color: white;}#sk-container-id-1 div.sk-label label {font-family: monospace;font-weight: bold;display: inline-block;line-height: 1.2em;}#sk-container-id-1 div.sk-label-container {text-align: center;}#sk-container-id-1 div.sk-container {/* jupyter's `normalize.less` sets `[hidden] { display: none; }` but bootstrap.min.css set `[hidden] { display: none !important; }` so we also need the `!important` here to be able to override the default hidden behavior on the sphinx rendered scikit-learn.org. See: https://github.com/scikit-learn/scikit-learn/issues/21755 */display: inline-block !important;position: relative;}#sk-container-id-1 div.sk-text-repr-fallback {display: none;}</style><div id=\"sk-container-id-1\" class=\"sk-top-container\"><div class=\"sk-text-repr-fallback\"><pre>Pipeline(steps=[(&#x27;preprocessing&#x27;,\n",
       "                 ColumnTransformer(transformers=[(&#x27;numeric&#x27;,\n",
       "                                                  Pipeline(steps=[(&#x27;FunctionTransformer&#x27;,\n",
       "                                                                   FunctionTransformer()),\n",
       "                                                                  (&#x27;impute_mean&#x27;,\n",
       "                                                                   SimpleImputer()),\n",
       "                                                                  (&#x27;scaling&#x27;,\n",
       "                                                                   StandardScaler())]),\n",
       "                                                  [&#x27;FIRE_YEAR&#x27;, &#x27;DISCOVERY_DOY&#x27;,\n",
       "                                                   &#x27;FIRE_SIZE&#x27;, &#x27;LATITUDE&#x27;,\n",
       "                                                   &#x27;LONGITUDE&#x27;, &#x27;DISC_MONTH&#x27;,\n",
       "                                                   &#x27;DISC_DAY&#x27;, &#x27;FIRE_DURATION&#x27;,\n",
       "                                                   &#x27;DISC_DAYOFWEEK&#x27;,\n",
       "                                                   &#x27;Elevation&#x27;,\n",
       "                                                   &#x27;Temperature (2 m)...\n",
       "                                                   &#x27;Soil Temperature (7-28 cm)&#x27;,\n",
       "                                                   &#x27;Maximum Temperature (2 m)&#x27;,\n",
       "                                                   &#x27;Minimum Temperature (2 m)&#x27;,\n",
       "                                                   &#x27;Precipitation Sum&#x27;,\n",
       "                                                   &#x27;Rain Sum&#x27;,\n",
       "                                                   &#x27;Snowfall Sum&#x27;]),\n",
       "                                                 (&#x27;categorical&#x27;,\n",
       "                                                  Pipeline(steps=[(&#x27;FunctionTransformer&#x27;,\n",
       "                                                                   FunctionTransformer()),\n",
       "                                                                  (&#x27;impute_mode&#x27;,\n",
       "                                                                   SimpleImputer(strategy=&#x27;most_frequent&#x27;)),\n",
       "                                                                  (&#x27;one-hot-encode&#x27;,\n",
       "                                                                   OneHotEncoder(sparse=False))]),\n",
       "                                                  [&#x27;OWNER_DESCR&#x27;])])),\n",
       "                (&#x27;model&#x27;, RandomForestClassifier())])</pre><b>In a Jupyter environment, please rerun this cell to show the HTML representation or trust the notebook. <br />On GitHub, the HTML representation is unable to render, please try loading this page with nbviewer.org.</b></div><div class=\"sk-container\" hidden><div class=\"sk-item sk-dashed-wrapped\"><div class=\"sk-label-container\"><div class=\"sk-label sk-toggleable\"><input class=\"sk-toggleable__control sk-hidden--visually\" id=\"sk-estimator-id-1\" type=\"checkbox\" ><label for=\"sk-estimator-id-1\" class=\"sk-toggleable__label sk-toggleable__label-arrow\">Pipeline</label><div class=\"sk-toggleable__content\"><pre>Pipeline(steps=[(&#x27;preprocessing&#x27;,\n",
       "                 ColumnTransformer(transformers=[(&#x27;numeric&#x27;,\n",
       "                                                  Pipeline(steps=[(&#x27;FunctionTransformer&#x27;,\n",
       "                                                                   FunctionTransformer()),\n",
       "                                                                  (&#x27;impute_mean&#x27;,\n",
       "                                                                   SimpleImputer()),\n",
       "                                                                  (&#x27;scaling&#x27;,\n",
       "                                                                   StandardScaler())]),\n",
       "                                                  [&#x27;FIRE_YEAR&#x27;, &#x27;DISCOVERY_DOY&#x27;,\n",
       "                                                   &#x27;FIRE_SIZE&#x27;, &#x27;LATITUDE&#x27;,\n",
       "                                                   &#x27;LONGITUDE&#x27;, &#x27;DISC_MONTH&#x27;,\n",
       "                                                   &#x27;DISC_DAY&#x27;, &#x27;FIRE_DURATION&#x27;,\n",
       "                                                   &#x27;DISC_DAYOFWEEK&#x27;,\n",
       "                                                   &#x27;Elevation&#x27;,\n",
       "                                                   &#x27;Temperature (2 m)...\n",
       "                                                   &#x27;Soil Temperature (7-28 cm)&#x27;,\n",
       "                                                   &#x27;Maximum Temperature (2 m)&#x27;,\n",
       "                                                   &#x27;Minimum Temperature (2 m)&#x27;,\n",
       "                                                   &#x27;Precipitation Sum&#x27;,\n",
       "                                                   &#x27;Rain Sum&#x27;,\n",
       "                                                   &#x27;Snowfall Sum&#x27;]),\n",
       "                                                 (&#x27;categorical&#x27;,\n",
       "                                                  Pipeline(steps=[(&#x27;FunctionTransformer&#x27;,\n",
       "                                                                   FunctionTransformer()),\n",
       "                                                                  (&#x27;impute_mode&#x27;,\n",
       "                                                                   SimpleImputer(strategy=&#x27;most_frequent&#x27;)),\n",
       "                                                                  (&#x27;one-hot-encode&#x27;,\n",
       "                                                                   OneHotEncoder(sparse=False))]),\n",
       "                                                  [&#x27;OWNER_DESCR&#x27;])])),\n",
       "                (&#x27;model&#x27;, RandomForestClassifier())])</pre></div></div></div><div class=\"sk-serial\"><div class=\"sk-item sk-dashed-wrapped\"><div class=\"sk-label-container\"><div class=\"sk-label sk-toggleable\"><input class=\"sk-toggleable__control sk-hidden--visually\" id=\"sk-estimator-id-2\" type=\"checkbox\" ><label for=\"sk-estimator-id-2\" class=\"sk-toggleable__label sk-toggleable__label-arrow\">preprocessing: ColumnTransformer</label><div class=\"sk-toggleable__content\"><pre>ColumnTransformer(transformers=[(&#x27;numeric&#x27;,\n",
       "                                 Pipeline(steps=[(&#x27;FunctionTransformer&#x27;,\n",
       "                                                  FunctionTransformer()),\n",
       "                                                 (&#x27;impute_mean&#x27;,\n",
       "                                                  SimpleImputer()),\n",
       "                                                 (&#x27;scaling&#x27;,\n",
       "                                                  StandardScaler())]),\n",
       "                                 [&#x27;FIRE_YEAR&#x27;, &#x27;DISCOVERY_DOY&#x27;, &#x27;FIRE_SIZE&#x27;,\n",
       "                                  &#x27;LATITUDE&#x27;, &#x27;LONGITUDE&#x27;, &#x27;DISC_MONTH&#x27;,\n",
       "                                  &#x27;DISC_DAY&#x27;, &#x27;FIRE_DURATION&#x27;, &#x27;DISC_DAYOFWEEK&#x27;,\n",
       "                                  &#x27;Elevation&#x27;, &#x27;Temperature (2 m)&#x27;,\n",
       "                                  &#x27;Wind Gusts (10 m)&#x27;,\n",
       "                                  &#x27;Soil Temperature (0-7 cm)&#x27;,\n",
       "                                  &#x27;Soil Temperature (7-28 cm)&#x27;,\n",
       "                                  &#x27;Maximum Temperature (2 m)&#x27;,\n",
       "                                  &#x27;Minimum Temperature (2 m)&#x27;,\n",
       "                                  &#x27;Precipitation Sum&#x27;, &#x27;Rain Sum&#x27;,\n",
       "                                  &#x27;Snowfall Sum&#x27;]),\n",
       "                                (&#x27;categorical&#x27;,\n",
       "                                 Pipeline(steps=[(&#x27;FunctionTransformer&#x27;,\n",
       "                                                  FunctionTransformer()),\n",
       "                                                 (&#x27;impute_mode&#x27;,\n",
       "                                                  SimpleImputer(strategy=&#x27;most_frequent&#x27;)),\n",
       "                                                 (&#x27;one-hot-encode&#x27;,\n",
       "                                                  OneHotEncoder(sparse=False))]),\n",
       "                                 [&#x27;OWNER_DESCR&#x27;])])</pre></div></div></div><div class=\"sk-parallel\"><div class=\"sk-parallel-item\"><div class=\"sk-item\"><div class=\"sk-label-container\"><div class=\"sk-label sk-toggleable\"><input class=\"sk-toggleable__control sk-hidden--visually\" id=\"sk-estimator-id-3\" type=\"checkbox\" ><label for=\"sk-estimator-id-3\" class=\"sk-toggleable__label sk-toggleable__label-arrow\">numeric</label><div class=\"sk-toggleable__content\"><pre>[&#x27;FIRE_YEAR&#x27;, &#x27;DISCOVERY_DOY&#x27;, &#x27;FIRE_SIZE&#x27;, &#x27;LATITUDE&#x27;, &#x27;LONGITUDE&#x27;, &#x27;DISC_MONTH&#x27;, &#x27;DISC_DAY&#x27;, &#x27;FIRE_DURATION&#x27;, &#x27;DISC_DAYOFWEEK&#x27;, &#x27;Elevation&#x27;, &#x27;Temperature (2 m)&#x27;, &#x27;Wind Gusts (10 m)&#x27;, &#x27;Soil Temperature (0-7 cm)&#x27;, &#x27;Soil Temperature (7-28 cm)&#x27;, &#x27;Maximum Temperature (2 m)&#x27;, &#x27;Minimum Temperature (2 m)&#x27;, &#x27;Precipitation Sum&#x27;, &#x27;Rain Sum&#x27;, &#x27;Snowfall Sum&#x27;]</pre></div></div></div><div class=\"sk-serial\"><div class=\"sk-item\"><div class=\"sk-serial\"><div class=\"sk-item\"><div class=\"sk-estimator sk-toggleable\"><input class=\"sk-toggleable__control sk-hidden--visually\" id=\"sk-estimator-id-4\" type=\"checkbox\" ><label for=\"sk-estimator-id-4\" class=\"sk-toggleable__label sk-toggleable__label-arrow\">FunctionTransformer</label><div class=\"sk-toggleable__content\"><pre>FunctionTransformer()</pre></div></div></div><div class=\"sk-item\"><div class=\"sk-estimator sk-toggleable\"><input class=\"sk-toggleable__control sk-hidden--visually\" id=\"sk-estimator-id-5\" type=\"checkbox\" ><label for=\"sk-estimator-id-5\" class=\"sk-toggleable__label sk-toggleable__label-arrow\">SimpleImputer</label><div class=\"sk-toggleable__content\"><pre>SimpleImputer()</pre></div></div></div><div class=\"sk-item\"><div class=\"sk-estimator sk-toggleable\"><input class=\"sk-toggleable__control sk-hidden--visually\" id=\"sk-estimator-id-6\" type=\"checkbox\" ><label for=\"sk-estimator-id-6\" class=\"sk-toggleable__label sk-toggleable__label-arrow\">StandardScaler</label><div class=\"sk-toggleable__content\"><pre>StandardScaler()</pre></div></div></div></div></div></div></div></div><div class=\"sk-parallel-item\"><div class=\"sk-item\"><div class=\"sk-label-container\"><div class=\"sk-label sk-toggleable\"><input class=\"sk-toggleable__control sk-hidden--visually\" id=\"sk-estimator-id-7\" type=\"checkbox\" ><label for=\"sk-estimator-id-7\" class=\"sk-toggleable__label sk-toggleable__label-arrow\">categorical</label><div class=\"sk-toggleable__content\"><pre>[&#x27;OWNER_DESCR&#x27;]</pre></div></div></div><div class=\"sk-serial\"><div class=\"sk-item\"><div class=\"sk-serial\"><div class=\"sk-item\"><div class=\"sk-estimator sk-toggleable\"><input class=\"sk-toggleable__control sk-hidden--visually\" id=\"sk-estimator-id-8\" type=\"checkbox\" ><label for=\"sk-estimator-id-8\" class=\"sk-toggleable__label sk-toggleable__label-arrow\">FunctionTransformer</label><div class=\"sk-toggleable__content\"><pre>FunctionTransformer()</pre></div></div></div><div class=\"sk-item\"><div class=\"sk-estimator sk-toggleable\"><input class=\"sk-toggleable__control sk-hidden--visually\" id=\"sk-estimator-id-9\" type=\"checkbox\" ><label for=\"sk-estimator-id-9\" class=\"sk-toggleable__label sk-toggleable__label-arrow\">SimpleImputer</label><div class=\"sk-toggleable__content\"><pre>SimpleImputer(strategy=&#x27;most_frequent&#x27;)</pre></div></div></div><div class=\"sk-item\"><div class=\"sk-estimator sk-toggleable\"><input class=\"sk-toggleable__control sk-hidden--visually\" id=\"sk-estimator-id-10\" type=\"checkbox\" ><label for=\"sk-estimator-id-10\" class=\"sk-toggleable__label sk-toggleable__label-arrow\">OneHotEncoder</label><div class=\"sk-toggleable__content\"><pre>OneHotEncoder(sparse=False)</pre></div></div></div></div></div></div></div></div></div></div><div class=\"sk-item\"><div class=\"sk-estimator sk-toggleable\"><input class=\"sk-toggleable__control sk-hidden--visually\" id=\"sk-estimator-id-11\" type=\"checkbox\" ><label for=\"sk-estimator-id-11\" class=\"sk-toggleable__label sk-toggleable__label-arrow\">RandomForestClassifier</label><div class=\"sk-toggleable__content\"><pre>RandomForestClassifier()</pre></div></div></div></div></div></div></div>"
      ],
      "text/plain": [
       "Pipeline(steps=[('preprocessing',\n",
       "                 ColumnTransformer(transformers=[('numeric',\n",
       "                                                  Pipeline(steps=[('FunctionTransformer',\n",
       "                                                                   FunctionTransformer()),\n",
       "                                                                  ('impute_mean',\n",
       "                                                                   SimpleImputer()),\n",
       "                                                                  ('scaling',\n",
       "                                                                   StandardScaler())]),\n",
       "                                                  ['FIRE_YEAR', 'DISCOVERY_DOY',\n",
       "                                                   'FIRE_SIZE', 'LATITUDE',\n",
       "                                                   'LONGITUDE', 'DISC_MONTH',\n",
       "                                                   'DISC_DAY', 'FIRE_DURATION',\n",
       "                                                   'DISC_DAYOFWEEK',\n",
       "                                                   'Elevation',\n",
       "                                                   'Temperature (2 m)...\n",
       "                                                   'Soil Temperature (7-28 cm)',\n",
       "                                                   'Maximum Temperature (2 m)',\n",
       "                                                   'Minimum Temperature (2 m)',\n",
       "                                                   'Precipitation Sum',\n",
       "                                                   'Rain Sum',\n",
       "                                                   'Snowfall Sum']),\n",
       "                                                 ('categorical',\n",
       "                                                  Pipeline(steps=[('FunctionTransformer',\n",
       "                                                                   FunctionTransformer()),\n",
       "                                                                  ('impute_mode',\n",
       "                                                                   SimpleImputer(strategy='most_frequent')),\n",
       "                                                                  ('one-hot-encode',\n",
       "                                                                   OneHotEncoder(sparse=False))]),\n",
       "                                                  ['OWNER_DESCR'])])),\n",
       "                ('model', RandomForestClassifier())])"
      ]
     },
     "metadata": {},
     "output_type": "display_data"
    }
   ],
   "source": [
    "#display pipeline\n",
    "from sklearn import set_config\n",
    "\n",
    "set_config(display='diagram')\n",
    "display(pipeline)"
   ]
  },
  {
   "cell_type": "code",
   "execution_count": 22,
   "id": "f46d0b09-834d-4da0-9eac-5a4bb856990b",
   "metadata": {},
   "outputs": [
    {
     "name": "stdout",
     "output_type": "stream",
     "text": [
      "Test set score: 0.6593801555503181\n"
     ]
    }
   ],
   "source": [
    "pipeline.fit(X_train, y_train)\n",
    "score = pipeline.score(X_test, y_test)          \n",
    "print(f'Test set score: {score}')"
   ]
  },
  {
   "cell_type": "code",
   "execution_count": 24,
   "id": "fae80732-2ab9-4e79-b834-9f3d9ef5d1f5",
   "metadata": {},
   "outputs": [
    {
     "name": "stdout",
     "output_type": "stream",
     "text": [
      "0.690583937019208 0.3275657240390736\n"
     ]
    }
   ],
   "source": [
    "y_pred = pipeline.predict(X_test)\n",
    "print(f1_score(y_pred, y_test, average='weighted'), balanced_accuracy_score(y_test, y_pred))"
   ]
  },
  {
   "cell_type": "code",
   "execution_count": 25,
   "id": "2f80cd89-72e1-4bda-a808-b2350588a824",
   "metadata": {},
   "outputs": [
    {
     "name": "stdout",
     "output_type": "stream",
     "text": [
      "              precision    recall  f1-score   support\n",
      "\n",
      "         1.0       0.81      0.93      0.87      6736\n",
      "         2.0       0.47      0.60      0.52      2384\n",
      "         3.0       0.27      0.07      0.11       760\n",
      "         4.0       0.63      0.56      0.59      2058\n",
      "         5.0       0.57      0.72      0.64      2433\n",
      "         6.0       0.73      0.15      0.25       108\n",
      "         7.0       0.52      0.30      0.38      1442\n",
      "         8.0       0.27      0.08      0.12       737\n",
      "        10.0       1.00      0.08      0.16        59\n",
      "        11.0       0.50      0.12      0.19       216\n",
      "        12.0       0.00      0.00      0.00        39\n",
      "\n",
      "    accuracy                           0.66     16972\n",
      "   macro avg       0.53      0.33      0.35     16972\n",
      "weighted avg       0.63      0.66      0.63     16972\n",
      "\n"
     ]
    }
   ],
   "source": [
    "print(classification_report(y_test, y_pred))"
   ]
  },
  {
   "cell_type": "markdown",
   "id": "c1a3081f-a87a-4f1d-af5f-ee69f0987170",
   "metadata": {
    "tags": []
   },
   "source": [
    "### Investigate feature importance\n",
    "- first make a features list accounting for the 'OWNER_DESCR' being one-hot encoded"
   ]
  },
  {
   "cell_type": "code",
   "execution_count": 46,
   "id": "b131c5af-476f-458d-bf26-2e83bee458cb",
   "metadata": {},
   "outputs": [
    {
     "data": {
      "text/plain": [
       "15"
      ]
     },
     "execution_count": 46,
     "metadata": {},
     "output_type": "execute_result"
    }
   ],
   "source": [
    "len(X_train['OWNER_DESCR'].unique())"
   ]
  },
  {
   "cell_type": "code",
   "execution_count": 47,
   "id": "0ccfc9b5-966a-435a-93f3-5713137face0",
   "metadata": {},
   "outputs": [
    {
     "data": {
      "text/plain": [
       "Index(['FIRE_YEAR', 'DISCOVERY_DOY', 'FIRE_SIZE', 'LATITUDE', 'LONGITUDE',\n",
       "       'DISC_MONTH', 'DISC_DAY', 'FIRE_DURATION', 'DISC_DAYOFWEEK',\n",
       "       'OWNER_DESCR', 'Elevation', 'Temperature (2 m)', 'Wind Gusts (10 m)',\n",
       "       'Soil Temperature (0-7 cm)', 'Soil Temperature (7-28 cm)',\n",
       "       'Maximum Temperature (2 m)', 'Minimum Temperature (2 m)',\n",
       "       'Precipitation Sum', 'Rain Sum', 'Snowfall Sum'],\n",
       "      dtype='object')"
      ]
     },
     "execution_count": 47,
     "metadata": {},
     "output_type": "execute_result"
    }
   ],
   "source": [
    "X_train.columns"
   ]
  },
  {
   "cell_type": "code",
   "execution_count": 48,
   "id": "0a6a5cd0-e143-4cb4-9503-1608fdc70a07",
   "metadata": {},
   "outputs": [
    {
     "data": {
      "text/plain": [
       "'OWNER_DESCR'"
      ]
     },
     "execution_count": 48,
     "metadata": {},
     "output_type": "execute_result"
    }
   ],
   "source": [
    "features = X_train.columns.to_list()\n",
    "features.pop(9)"
   ]
  },
  {
   "cell_type": "code",
   "execution_count": 49,
   "id": "9f6ca12b-3223-43ed-b00c-cfc41c250b98",
   "metadata": {},
   "outputs": [
    {
     "data": {
      "text/plain": [
       "array(['PRIVATE', 'USFS', 'BLM', 'MISSING/NOT SPECIFIED',\n",
       "       'STATE OR PRIVATE', 'COUNTY', 'UNDEFINED FEDERAL', 'STATE', 'FWS',\n",
       "       'NPS', 'BOR', 'MUNICIPAL/LOCAL', 'TRIBAL', 'OTHER FEDERAL', 'BIA'],\n",
       "      dtype=object)"
      ]
     },
     "execution_count": 49,
     "metadata": {},
     "output_type": "execute_result"
    }
   ],
   "source": [
    "X_train['OWNER_DESCR'].unique()"
   ]
  },
  {
   "cell_type": "code",
   "execution_count": 50,
   "id": "96be7741-94a0-47eb-8bc5-c58cc8b45592",
   "metadata": {},
   "outputs": [],
   "source": [
    "features.extend(['PRIVATE', 'USFS', 'BLM', 'MISSING/NOT SPECIFIED',\n",
    "       'STATE OR PRIVATE', 'COUNTY', 'UNDEFINED FEDERAL', 'STATE', 'FWS',\n",
    "       'NPS', 'BOR', 'MUNICIPAL/LOCAL', 'TRIBAL', 'OTHER FEDERAL', 'BIA'])"
   ]
  },
  {
   "cell_type": "code",
   "execution_count": 51,
   "id": "f1de4180-b0cc-4148-841d-409e8d7720e6",
   "metadata": {},
   "outputs": [
    {
     "data": {
      "text/plain": [
       "34"
      ]
     },
     "execution_count": 51,
     "metadata": {},
     "output_type": "execute_result"
    }
   ],
   "source": [
    "len(features)"
   ]
  },
  {
   "cell_type": "code",
   "execution_count": 52,
   "id": "0ae6a2e2-eb69-478a-b499-e4677a86558c",
   "metadata": {},
   "outputs": [],
   "source": [
    "importances = pd.DataFrame(data={\n",
    "    'Attribute': features,\n",
    "    'Importance': pipeline.steps[1][1].feature_importances_\n",
    "})\n",
    "importances = importances.sort_values(by='Importance', ascending=False)"
   ]
  },
  {
   "cell_type": "code",
   "execution_count": 53,
   "id": "c1750d44-dc05-4477-842f-3ffe5e778133",
   "metadata": {},
   "outputs": [
    {
     "data": {
      "image/png": "[encoded data removed]",
      "text/plain": [
       "<Figure size 864x576 with 1 Axes>"
      ]
     },
     "metadata": {
      "needs_background": "light"
     },
     "output_type": "display_data"
    }
   ],
   "source": [
    "plt.figure(figsize=(12,8))\n",
    "plt.bar(x=importances['Attribute'], height=importances['Importance'], color='#087E8B')\n",
    "plt.title('Feature importances obtained from coefficients', size=20)\n",
    "plt.xticks(rotation='vertical')\n",
    "plt.savefig('../../output/figures/FeatureImportanceM1.png', dpi=300)\n",
    "plt.show()"
   ]
  },
  {
   "cell_type": "markdown",
   "id": "aff5ae3d-94ac-4702-8169-4e4d4070f807",
   "metadata": {},
   "source": [
    "#### SVM Algorithm"
   ]
  },
  {
   "cell_type": "code",
   "execution_count": 40,
   "id": "a25e2039-1131-49ab-85c3-71523672a787",
   "metadata": {},
   "outputs": [],
   "source": [
    "numeric_transform = Pipeline([('FunctionTransformer', FunctionTransformer()), ('impute_mean', SimpleImputer(strategy='mean')),\n",
    "                              ('scaling', StandardScaler())])\n",
    "\n",
    "categorical_transform = Pipeline([('FunctionTransformer', FunctionTransformer()), ('impute_mode', SimpleImputer(strategy='most_frequent')), \n",
    "                                  ('one-hot-encode', OneHotEncoder(sparse=False))])\n",
    "\n",
    "preprocessing = ColumnTransformer([('numeric', numeric_transform, num_feats), \n",
    "                                   ('categorical', categorical_transform, cat_feats)])\n",
    "\n",
    "pipeline1 = Pipeline([('preprocessing', preprocessing), ('model', SVC(gamma='auto'))])"
   ]
  },
  {
   "cell_type": "code",
   "execution_count": 41,
   "id": "caca8601-101a-4161-a9da-e1e091f53ddd",
   "metadata": {},
   "outputs": [
    {
     "data": {
      "text/html": [
       "<style>#sk-container-id-2 {color: black;background-color: white;}#sk-container-id-2 pre{padding: 0;}#sk-container-id-2 div.sk-toggleable {background-color: white;}#sk-container-id-2 label.sk-toggleable__label {cursor: pointer;display: block;width: 100%;margin-bottom: 0;padding: 0.3em;box-sizing: border-box;text-align: center;}#sk-container-id-2 label.sk-toggleable__label-arrow:before {content: \"▸\";float: left;margin-right: 0.25em;color: #696969;}#sk-container-id-2 label.sk-toggleable__label-arrow:hover:before {color: black;}#sk-container-id-2 div.sk-estimator:hover label.sk-toggleable__label-arrow:before {color: black;}#sk-container-id-2 div.sk-toggleable__content {max-height: 0;max-width: 0;overflow: hidden;text-align: left;background-color: #f0f8ff;}#sk-container-id-2 div.sk-toggleable__content pre {margin: 0.2em;color: black;border-radius: 0.25em;background-color: #f0f8ff;}#sk-container-id-2 input.sk-toggleable__control:checked~div.sk-toggleable__content {max-height: 200px;max-width: 100%;overflow: auto;}#sk-container-id-2 input.sk-toggleable__control:checked~label.sk-toggleable__label-arrow:before {content: \"▾\";}#sk-container-id-2 div.sk-estimator input.sk-toggleable__control:checked~label.sk-toggleable__label {background-color: #d4ebff;}#sk-container-id-2 div.sk-label input.sk-toggleable__control:checked~label.sk-toggleable__label {background-color: #d4ebff;}#sk-container-id-2 input.sk-hidden--visually {border: 0;clip: rect(1px 1px 1px 1px);clip: rect(1px, 1px, 1px, 1px);height: 1px;margin: -1px;overflow: hidden;padding: 0;position: absolute;width: 1px;}#sk-container-id-2 div.sk-estimator {font-family: monospace;background-color: #f0f8ff;border: 1px dotted black;border-radius: 0.25em;box-sizing: border-box;margin-bottom: 0.5em;}#sk-container-id-2 div.sk-estimator:hover {background-color: #d4ebff;}#sk-container-id-2 div.sk-parallel-item::after {content: \"\";width: 100%;border-bottom: 1px solid gray;flex-grow: 1;}#sk-container-id-2 div.sk-label:hover label.sk-toggleable__label {background-color: #d4ebff;}#sk-container-id-2 div.sk-serial::before {content: \"\";position: absolute;border-left: 1px solid gray;box-sizing: border-box;top: 0;bottom: 0;left: 50%;z-index: 0;}#sk-container-id-2 div.sk-serial {display: flex;flex-direction: column;align-items: center;background-color: white;padding-right: 0.2em;padding-left: 0.2em;position: relative;}#sk-container-id-2 div.sk-item {position: relative;z-index: 1;}#sk-container-id-2 div.sk-parallel {display: flex;align-items: stretch;justify-content: center;background-color: white;position: relative;}#sk-container-id-2 div.sk-item::before, #sk-container-id-2 div.sk-parallel-item::before {content: \"\";position: absolute;border-left: 1px solid gray;box-sizing: border-box;top: 0;bottom: 0;left: 50%;z-index: -1;}#sk-container-id-2 div.sk-parallel-item {display: flex;flex-direction: column;z-index: 1;position: relative;background-color: white;}#sk-container-id-2 div.sk-parallel-item:first-child::after {align-self: flex-end;width: 50%;}#sk-container-id-2 div.sk-parallel-item:last-child::after {align-self: flex-start;width: 50%;}#sk-container-id-2 div.sk-parallel-item:only-child::after {width: 0;}#sk-container-id-2 div.sk-dashed-wrapped {border: 1px dashed gray;margin: 0 0.4em 0.5em 0.4em;box-sizing: border-box;padding-bottom: 0.4em;background-color: white;}#sk-container-id-2 div.sk-label label {font-family: monospace;font-weight: bold;display: inline-block;line-height: 1.2em;}#sk-container-id-2 div.sk-label-container {text-align: center;}#sk-container-id-2 div.sk-container {/* jupyter's `normalize.less` sets `[hidden] { display: none; }` but bootstrap.min.css set `[hidden] { display: none !important; }` so we also need the `!important` here to be able to override the default hidden behavior on the sphinx rendered scikit-learn.org. See: https://github.com/scikit-learn/scikit-learn/issues/21755 */display: inline-block !important;position: relative;}#sk-container-id-2 div.sk-text-repr-fallback {display: none;}</style><div id=\"sk-container-id-2\" class=\"sk-top-container\"><div class=\"sk-text-repr-fallback\"><pre>Pipeline(steps=[(&#x27;preprocessing&#x27;,\n",
       "                 ColumnTransformer(transformers=[(&#x27;numeric&#x27;,\n",
       "                                                  Pipeline(steps=[(&#x27;FunctionTransformer&#x27;,\n",
       "                                                                   FunctionTransformer()),\n",
       "                                                                  (&#x27;impute_mean&#x27;,\n",
       "                                                                   SimpleImputer()),\n",
       "                                                                  (&#x27;scaling&#x27;,\n",
       "                                                                   StandardScaler())]),\n",
       "                                                  [&#x27;FIRE_YEAR&#x27;, &#x27;DISCOVERY_DOY&#x27;,\n",
       "                                                   &#x27;FIRE_SIZE&#x27;, &#x27;LATITUDE&#x27;,\n",
       "                                                   &#x27;LONGITUDE&#x27;, &#x27;DISC_MONTH&#x27;,\n",
       "                                                   &#x27;DISC_DAY&#x27;, &#x27;FIRE_DURATION&#x27;,\n",
       "                                                   &#x27;DISC_DAYOFWEEK&#x27;,\n",
       "                                                   &#x27;Elevation&#x27;,\n",
       "                                                   &#x27;Temperature (2 m)...\n",
       "                                                   &#x27;Soil Temperature (7-28 cm)&#x27;,\n",
       "                                                   &#x27;Maximum Temperature (2 m)&#x27;,\n",
       "                                                   &#x27;Minimum Temperature (2 m)&#x27;,\n",
       "                                                   &#x27;Precipitation Sum&#x27;,\n",
       "                                                   &#x27;Rain Sum&#x27;,\n",
       "                                                   &#x27;Snowfall Sum&#x27;]),\n",
       "                                                 (&#x27;categorical&#x27;,\n",
       "                                                  Pipeline(steps=[(&#x27;FunctionTransformer&#x27;,\n",
       "                                                                   FunctionTransformer()),\n",
       "                                                                  (&#x27;impute_mode&#x27;,\n",
       "                                                                   SimpleImputer(strategy=&#x27;most_frequent&#x27;)),\n",
       "                                                                  (&#x27;one-hot-encode&#x27;,\n",
       "                                                                   OneHotEncoder(sparse=False))]),\n",
       "                                                  [&#x27;OWNER_DESCR&#x27;])])),\n",
       "                (&#x27;model&#x27;, SVC(gamma=&#x27;auto&#x27;))])</pre><b>In a Jupyter environment, please rerun this cell to show the HTML representation or trust the notebook. <br />On GitHub, the HTML representation is unable to render, please try loading this page with nbviewer.org.</b></div><div class=\"sk-container\" hidden><div class=\"sk-item sk-dashed-wrapped\"><div class=\"sk-label-container\"><div class=\"sk-label sk-toggleable\"><input class=\"sk-toggleable__control sk-hidden--visually\" id=\"sk-estimator-id-12\" type=\"checkbox\" ><label for=\"sk-estimator-id-12\" class=\"sk-toggleable__label sk-toggleable__label-arrow\">Pipeline</label><div class=\"sk-toggleable__content\"><pre>Pipeline(steps=[(&#x27;preprocessing&#x27;,\n",
       "                 ColumnTransformer(transformers=[(&#x27;numeric&#x27;,\n",
       "                                                  Pipeline(steps=[(&#x27;FunctionTransformer&#x27;,\n",
       "                                                                   FunctionTransformer()),\n",
       "                                                                  (&#x27;impute_mean&#x27;,\n",
       "                                                                   SimpleImputer()),\n",
       "                                                                  (&#x27;scaling&#x27;,\n",
       "                                                                   StandardScaler())]),\n",
       "                                                  [&#x27;FIRE_YEAR&#x27;, &#x27;DISCOVERY_DOY&#x27;,\n",
       "                                                   &#x27;FIRE_SIZE&#x27;, &#x27;LATITUDE&#x27;,\n",
       "                                                   &#x27;LONGITUDE&#x27;, &#x27;DISC_MONTH&#x27;,\n",
       "                                                   &#x27;DISC_DAY&#x27;, &#x27;FIRE_DURATION&#x27;,\n",
       "                                                   &#x27;DISC_DAYOFWEEK&#x27;,\n",
       "                                                   &#x27;Elevation&#x27;,\n",
       "                                                   &#x27;Temperature (2 m)...\n",
       "                                                   &#x27;Soil Temperature (7-28 cm)&#x27;,\n",
       "                                                   &#x27;Maximum Temperature (2 m)&#x27;,\n",
       "                                                   &#x27;Minimum Temperature (2 m)&#x27;,\n",
       "                                                   &#x27;Precipitation Sum&#x27;,\n",
       "                                                   &#x27;Rain Sum&#x27;,\n",
       "                                                   &#x27;Snowfall Sum&#x27;]),\n",
       "                                                 (&#x27;categorical&#x27;,\n",
       "                                                  Pipeline(steps=[(&#x27;FunctionTransformer&#x27;,\n",
       "                                                                   FunctionTransformer()),\n",
       "                                                                  (&#x27;impute_mode&#x27;,\n",
       "                                                                   SimpleImputer(strategy=&#x27;most_frequent&#x27;)),\n",
       "                                                                  (&#x27;one-hot-encode&#x27;,\n",
       "                                                                   OneHotEncoder(sparse=False))]),\n",
       "                                                  [&#x27;OWNER_DESCR&#x27;])])),\n",
       "                (&#x27;model&#x27;, SVC(gamma=&#x27;auto&#x27;))])</pre></div></div></div><div class=\"sk-serial\"><div class=\"sk-item sk-dashed-wrapped\"><div class=\"sk-label-container\"><div class=\"sk-label sk-toggleable\"><input class=\"sk-toggleable__control sk-hidden--visually\" id=\"sk-estimator-id-13\" type=\"checkbox\" ><label for=\"sk-estimator-id-13\" class=\"sk-toggleable__label sk-toggleable__label-arrow\">preprocessing: ColumnTransformer</label><div class=\"sk-toggleable__content\"><pre>ColumnTransformer(transformers=[(&#x27;numeric&#x27;,\n",
       "                                 Pipeline(steps=[(&#x27;FunctionTransformer&#x27;,\n",
       "                                                  FunctionTransformer()),\n",
       "                                                 (&#x27;impute_mean&#x27;,\n",
       "                                                  SimpleImputer()),\n",
       "                                                 (&#x27;scaling&#x27;,\n",
       "                                                  StandardScaler())]),\n",
       "                                 [&#x27;FIRE_YEAR&#x27;, &#x27;DISCOVERY_DOY&#x27;, &#x27;FIRE_SIZE&#x27;,\n",
       "                                  &#x27;LATITUDE&#x27;, &#x27;LONGITUDE&#x27;, &#x27;DISC_MONTH&#x27;,\n",
       "                                  &#x27;DISC_DAY&#x27;, &#x27;FIRE_DURATION&#x27;, &#x27;DISC_DAYOFWEEK&#x27;,\n",
       "                                  &#x27;Elevation&#x27;, &#x27;Temperature (2 m)&#x27;,\n",
       "                                  &#x27;Wind Gusts (10 m)&#x27;,\n",
       "                                  &#x27;Soil Temperature (0-7 cm)&#x27;,\n",
       "                                  &#x27;Soil Temperature (7-28 cm)&#x27;,\n",
       "                                  &#x27;Maximum Temperature (2 m)&#x27;,\n",
       "                                  &#x27;Minimum Temperature (2 m)&#x27;,\n",
       "                                  &#x27;Precipitation Sum&#x27;, &#x27;Rain Sum&#x27;,\n",
       "                                  &#x27;Snowfall Sum&#x27;]),\n",
       "                                (&#x27;categorical&#x27;,\n",
       "                                 Pipeline(steps=[(&#x27;FunctionTransformer&#x27;,\n",
       "                                                  FunctionTransformer()),\n",
       "                                                 (&#x27;impute_mode&#x27;,\n",
       "                                                  SimpleImputer(strategy=&#x27;most_frequent&#x27;)),\n",
       "                                                 (&#x27;one-hot-encode&#x27;,\n",
       "                                                  OneHotEncoder(sparse=False))]),\n",
       "                                 [&#x27;OWNER_DESCR&#x27;])])</pre></div></div></div><div class=\"sk-parallel\"><div class=\"sk-parallel-item\"><div class=\"sk-item\"><div class=\"sk-label-container\"><div class=\"sk-label sk-toggleable\"><input class=\"sk-toggleable__control sk-hidden--visually\" id=\"sk-estimator-id-14\" type=\"checkbox\" ><label for=\"sk-estimator-id-14\" class=\"sk-toggleable__label sk-toggleable__label-arrow\">numeric</label><div class=\"sk-toggleable__content\"><pre>[&#x27;FIRE_YEAR&#x27;, &#x27;DISCOVERY_DOY&#x27;, &#x27;FIRE_SIZE&#x27;, &#x27;LATITUDE&#x27;, &#x27;LONGITUDE&#x27;, &#x27;DISC_MONTH&#x27;, &#x27;DISC_DAY&#x27;, &#x27;FIRE_DURATION&#x27;, &#x27;DISC_DAYOFWEEK&#x27;, &#x27;Elevation&#x27;, &#x27;Temperature (2 m)&#x27;, &#x27;Wind Gusts (10 m)&#x27;, &#x27;Soil Temperature (0-7 cm)&#x27;, &#x27;Soil Temperature (7-28 cm)&#x27;, &#x27;Maximum Temperature (2 m)&#x27;, &#x27;Minimum Temperature (2 m)&#x27;, &#x27;Precipitation Sum&#x27;, &#x27;Rain Sum&#x27;, &#x27;Snowfall Sum&#x27;]</pre></div></div></div><div class=\"sk-serial\"><div class=\"sk-item\"><div class=\"sk-serial\"><div class=\"sk-item\"><div class=\"sk-estimator sk-toggleable\"><input class=\"sk-toggleable__control sk-hidden--visually\" id=\"sk-estimator-id-15\" type=\"checkbox\" ><label for=\"sk-estimator-id-15\" class=\"sk-toggleable__label sk-toggleable__label-arrow\">FunctionTransformer</label><div class=\"sk-toggleable__content\"><pre>FunctionTransformer()</pre></div></div></div><div class=\"sk-item\"><div class=\"sk-estimator sk-toggleable\"><input class=\"sk-toggleable__control sk-hidden--visually\" id=\"sk-estimator-id-16\" type=\"checkbox\" ><label for=\"sk-estimator-id-16\" class=\"sk-toggleable__label sk-toggleable__label-arrow\">SimpleImputer</label><div class=\"sk-toggleable__content\"><pre>SimpleImputer()</pre></div></div></div><div class=\"sk-item\"><div class=\"sk-estimator sk-toggleable\"><input class=\"sk-toggleable__control sk-hidden--visually\" id=\"sk-estimator-id-17\" type=\"checkbox\" ><label for=\"sk-estimator-id-17\" class=\"sk-toggleable__label sk-toggleable__label-arrow\">StandardScaler</label><div class=\"sk-toggleable__content\"><pre>StandardScaler()</pre></div></div></div></div></div></div></div></div><div class=\"sk-parallel-item\"><div class=\"sk-item\"><div class=\"sk-label-container\"><div class=\"sk-label sk-toggleable\"><input class=\"sk-toggleable__control sk-hidden--visually\" id=\"sk-estimator-id-18\" type=\"checkbox\" ><label for=\"sk-estimator-id-18\" class=\"sk-toggleable__label sk-toggleable__label-arrow\">categorical</label><div class=\"sk-toggleable__content\"><pre>[&#x27;OWNER_DESCR&#x27;]</pre></div></div></div><div class=\"sk-serial\"><div class=\"sk-item\"><div class=\"sk-serial\"><div class=\"sk-item\"><div class=\"sk-estimator sk-toggleable\"><input class=\"sk-toggleable__control sk-hidden--visually\" id=\"sk-estimator-id-19\" type=\"checkbox\" ><label for=\"sk-estimator-id-19\" class=\"sk-toggleable__label sk-toggleable__label-arrow\">FunctionTransformer</label><div class=\"sk-toggleable__content\"><pre>FunctionTransformer()</pre></div></div></div><div class=\"sk-item\"><div class=\"sk-estimator sk-toggleable\"><input class=\"sk-toggleable__control sk-hidden--visually\" id=\"sk-estimator-id-20\" type=\"checkbox\" ><label for=\"sk-estimator-id-20\" class=\"sk-toggleable__label sk-toggleable__label-arrow\">SimpleImputer</label><div class=\"sk-toggleable__content\"><pre>SimpleImputer(strategy=&#x27;most_frequent&#x27;)</pre></div></div></div><div class=\"sk-item\"><div class=\"sk-estimator sk-toggleable\"><input class=\"sk-toggleable__control sk-hidden--visually\" id=\"sk-estimator-id-21\" type=\"checkbox\" ><label for=\"sk-estimator-id-21\" class=\"sk-toggleable__label sk-toggleable__label-arrow\">OneHotEncoder</label><div class=\"sk-toggleable__content\"><pre>OneHotEncoder(sparse=False)</pre></div></div></div></div></div></div></div></div></div></div><div class=\"sk-item\"><div class=\"sk-estimator sk-toggleable\"><input class=\"sk-toggleable__control sk-hidden--visually\" id=\"sk-estimator-id-22\" type=\"checkbox\" ><label for=\"sk-estimator-id-22\" class=\"sk-toggleable__label sk-toggleable__label-arrow\">SVC</label><div class=\"sk-toggleable__content\"><pre>SVC(gamma=&#x27;auto&#x27;)</pre></div></div></div></div></div></div></div>"
      ],
      "text/plain": [
       "Pipeline(steps=[('preprocessing',\n",
       "                 ColumnTransformer(transformers=[('numeric',\n",
       "                                                  Pipeline(steps=[('FunctionTransformer',\n",
       "                                                                   FunctionTransformer()),\n",
       "                                                                  ('impute_mean',\n",
       "                                                                   SimpleImputer()),\n",
       "                                                                  ('scaling',\n",
       "                                                                   StandardScaler())]),\n",
       "                                                  ['FIRE_YEAR', 'DISCOVERY_DOY',\n",
       "                                                   'FIRE_SIZE', 'LATITUDE',\n",
       "                                                   'LONGITUDE', 'DISC_MONTH',\n",
       "                                                   'DISC_DAY', 'FIRE_DURATION',\n",
       "                                                   'DISC_DAYOFWEEK',\n",
       "                                                   'Elevation',\n",
       "                                                   'Temperature (2 m)...\n",
       "                                                   'Soil Temperature (7-28 cm)',\n",
       "                                                   'Maximum Temperature (2 m)',\n",
       "                                                   'Minimum Temperature (2 m)',\n",
       "                                                   'Precipitation Sum',\n",
       "                                                   'Rain Sum',\n",
       "                                                   'Snowfall Sum']),\n",
       "                                                 ('categorical',\n",
       "                                                  Pipeline(steps=[('FunctionTransformer',\n",
       "                                                                   FunctionTransformer()),\n",
       "                                                                  ('impute_mode',\n",
       "                                                                   SimpleImputer(strategy='most_frequent')),\n",
       "                                                                  ('one-hot-encode',\n",
       "                                                                   OneHotEncoder(sparse=False))]),\n",
       "                                                  ['OWNER_DESCR'])])),\n",
       "                ('model', SVC(gamma='auto'))])"
      ]
     },
     "execution_count": 41,
     "metadata": {},
     "output_type": "execute_result"
    }
   ],
   "source": [
    "pipeline1.fit(X_train, y_train)"
   ]
  },
  {
   "cell_type": "code",
   "execution_count": 42,
   "id": "f04c6eec-aea3-4f06-b996-f12077f64615",
   "metadata": {},
   "outputs": [
    {
     "name": "stdout",
     "output_type": "stream",
     "text": [
      "Test set score: 0.6069997643176998\n"
     ]
    }
   ],
   "source": [
    "score = pipeline1.score(X_test, y_test)          \n",
    "print(f'Test set score: {score}')"
   ]
  },
  {
   "cell_type": "code",
   "execution_count": 43,
   "id": "d55c3176-b91e-445b-a8f9-db53ac7b9341",
   "metadata": {},
   "outputs": [
    {
     "name": "stdout",
     "output_type": "stream",
     "text": [
      "0.6665490254009984 0.24748213822124498\n"
     ]
    }
   ],
   "source": [
    "y_pred1 = pipeline1.predict(X_test) \n",
    "print(f1_score(y_pred1, y_test, average='weighted'), balanced_accuracy_score(y_test, y_pred1))"
   ]
  },
  {
   "cell_type": "code",
   "execution_count": 44,
   "id": "bb7ab6ed-a57f-4e19-8597-60556543826a",
   "metadata": {},
   "outputs": [
    {
     "data": {
      "text/plain": [
       "<sklearn.metrics._plot.confusion_matrix.ConfusionMatrixDisplay at 0x15fcb093460>"
      ]
     },
     "execution_count": 44,
     "metadata": {},
     "output_type": "execute_result"
    },
    {
     "data": {
      "image/png": "[encoded data removed]",
      "text/plain": [
       "<Figure size 432x288 with 2 Axes>"
      ]
     },
     "metadata": {
      "needs_background": "light"
     },
     "output_type": "display_data"
    }
   ],
   "source": [
    "ConfusionMatrixDisplay.from_predictions(y_test, y_pred1)"
   ]
  },
  {
   "cell_type": "code",
   "execution_count": 45,
   "id": "96008f3c-e562-4cb4-9c50-962a7ac362ca",
   "metadata": {},
   "outputs": [
    {
     "name": "stdout",
     "output_type": "stream",
     "text": [
      "              precision    recall  f1-score   support\n",
      "\n",
      "         1.0       0.75      0.91      0.82      6736\n",
      "         2.0       0.40      0.63      0.49      2384\n",
      "         3.0       0.20      0.00      0.01       760\n",
      "         4.0       0.55      0.42      0.47      2058\n",
      "         5.0       0.53      0.69      0.60      2433\n",
      "         6.0       0.00      0.00      0.00       108\n",
      "         7.0       0.52      0.06      0.10      1442\n",
      "         8.0       0.00      0.00      0.00       737\n",
      "        10.0       0.00      0.00      0.00        59\n",
      "        11.0       0.50      0.00      0.01       216\n",
      "        12.0       0.00      0.00      0.00        39\n",
      "\n",
      "    accuracy                           0.61     16972\n",
      "   macro avg       0.31      0.25      0.23     16972\n",
      "weighted avg       0.55      0.61      0.55     16972\n",
      "\n"
     ]
    },
    {
     "name": "stderr",
     "output_type": "stream",
     "text": [
      "C:\\Users\\3_hal\\anaconda3\\envs\\lighthouse_env\\lib\\site-packages\\sklearn\\metrics\\_classification.py:1327: UndefinedMetricWarning: Precision and F-score are ill-defined and being set to 0.0 in labels with no predicted samples. Use `zero_division` parameter to control this behavior.\n",
      "  _warn_prf(average, modifier, msg_start, len(result))\n",
      "C:\\Users\\3_hal\\anaconda3\\envs\\lighthouse_env\\lib\\site-packages\\sklearn\\metrics\\_classification.py:1327: UndefinedMetricWarning: Precision and F-score are ill-defined and being set to 0.0 in labels with no predicted samples. Use `zero_division` parameter to control this behavior.\n",
      "  _warn_prf(average, modifier, msg_start, len(result))\n",
      "C:\\Users\\3_hal\\anaconda3\\envs\\lighthouse_env\\lib\\site-packages\\sklearn\\metrics\\_classification.py:1327: UndefinedMetricWarning: Precision and F-score are ill-defined and being set to 0.0 in labels with no predicted samples. Use `zero_division` parameter to control this behavior.\n",
      "  _warn_prf(average, modifier, msg_start, len(result))\n"
     ]
    }
   ],
   "source": [
    "print(classification_report(y_test, y_pred1))"
   ]
  },
  {
   "cell_type": "markdown",
   "id": "010eac3b-3fab-46b9-bacf-0cf56edb4d5e",
   "metadata": {
    "tags": []
   },
   "source": [
    "#### XGBoost\n",
    "Labels must start at 0"
   ]
  },
  {
   "cell_type": "code",
   "execution_count": 54,
   "id": "f88b7fb9-b726-4ebc-baaf-b22ba8238c1b",
   "metadata": {},
   "outputs": [
    {
     "name": "stderr",
     "output_type": "stream",
     "text": [
      "C:\\Users\\3_hal\\anaconda3\\envs\\lighthouse_env\\lib\\site-packages\\xgboost\\compat.py:36: FutureWarning: pandas.Int64Index is deprecated and will be removed from pandas in a future version. Use pandas.Index with the appropriate dtype instead.\n",
      "  from pandas import MultiIndex, Int64Index\n"
     ]
    }
   ],
   "source": [
    "from xgboost import XGBClassifier"
   ]
  },
  {
   "cell_type": "code",
   "execution_count": 55,
   "id": "11d847e5-d1a2-4ff3-b0d2-3de7fc51fb0a",
   "metadata": {},
   "outputs": [],
   "source": [
    "# start at 0 and convert from float to int\n",
    "y_train_xg = (y_train - 1).astype('int64')\n",
    "y_test_xg = (y_test - 1).astype('int64')"
   ]
  },
  {
   "cell_type": "code",
   "execution_count": 56,
   "id": "fb9f6e3a-87c5-4870-b17a-de9816c2f043",
   "metadata": {
    "tags": []
   },
   "outputs": [],
   "source": [
    "numeric_transform = Pipeline([('FunctionTransformer', FunctionTransformer()), ('impute_mean', SimpleImputer(strategy='mean')),\n",
    "                              ('scaling', StandardScaler())])\n",
    "\n",
    "categorical_transform = Pipeline([('FunctionTransformer', FunctionTransformer()), ('impute_mode', SimpleImputer(strategy='most_frequent')), \n",
    "                                  ('one-hot-encode', OneHotEncoder(sparse=False))])\n",
    "\n",
    "preprocessing = ColumnTransformer([('numeric', numeric_transform, num_feats), \n",
    "                                   ('categorical', categorical_transform, cat_feats)])\n",
    "\n",
    "pipeline2 = Pipeline([('preprocessing', preprocessing), ('model', XGBClassifier(eval_metric= 'merror'))])"
   ]
  },
  {
   "cell_type": "code",
   "execution_count": 57,
   "id": "60101457-2f18-4471-96d8-8f8839dbf0f1",
   "metadata": {
    "tags": []
   },
   "outputs": [
    {
     "name": "stderr",
     "output_type": "stream",
     "text": [
      "C:\\Users\\3_hal\\anaconda3\\envs\\lighthouse_env\\lib\\site-packages\\xgboost\\sklearn.py:1224: UserWarning: The use of label encoder in XGBClassifier is deprecated and will be removed in a future release. To remove this warning, do the following: 1) Pass option use_label_encoder=False when constructing XGBClassifier object; and 2) Encode your labels (y) as integers starting with 0, i.e. 0, 1, 2, ..., [num_class - 1].\n",
      "  warnings.warn(label_encoder_deprecation_msg, UserWarning)\n"
     ]
    },
    {
     "data": {
      "text/html": [
       "<style>#sk-container-id-3 {color: black;background-color: white;}#sk-container-id-3 pre{padding: 0;}#sk-container-id-3 div.sk-toggleable {background-color: white;}#sk-container-id-3 label.sk-toggleable__label {cursor: pointer;display: block;width: 100%;margin-bottom: 0;padding: 0.3em;box-sizing: border-box;text-align: center;}#sk-container-id-3 label.sk-toggleable__label-arrow:before {content: \"▸\";float: left;margin-right: 0.25em;color: #696969;}#sk-container-id-3 label.sk-toggleable__label-arrow:hover:before {color: black;}#sk-container-id-3 div.sk-estimator:hover label.sk-toggleable__label-arrow:before {color: black;}#sk-container-id-3 div.sk-toggleable__content {max-height: 0;max-width: 0;overflow: hidden;text-align: left;background-color: #f0f8ff;}#sk-container-id-3 div.sk-toggleable__content pre {margin: 0.2em;color: black;border-radius: 0.25em;background-color: #f0f8ff;}#sk-container-id-3 input.sk-toggleable__control:checked~div.sk-toggleable__content {max-height: 200px;max-width: 100%;overflow: auto;}#sk-container-id-3 input.sk-toggleable__control:checked~label.sk-toggleable__label-arrow:before {content: \"▾\";}#sk-container-id-3 div.sk-estimator input.sk-toggleable__control:checked~label.sk-toggleable__label {background-color: #d4ebff;}#sk-container-id-3 div.sk-label input.sk-toggleable__control:checked~label.sk-toggleable__label {background-color: #d4ebff;}#sk-container-id-3 input.sk-hidden--visually {border: 0;clip: rect(1px 1px 1px 1px);clip: rect(1px, 1px, 1px, 1px);height: 1px;margin: -1px;overflow: hidden;padding: 0;position: absolute;width: 1px;}#sk-container-id-3 div.sk-estimator {font-family: monospace;background-color: #f0f8ff;border: 1px dotted black;border-radius: 0.25em;box-sizing: border-box;margin-bottom: 0.5em;}#sk-container-id-3 div.sk-estimator:hover {background-color: #d4ebff;}#sk-container-id-3 div.sk-parallel-item::after {content: \"\";width: 100%;border-bottom: 1px solid gray;flex-grow: 1;}#sk-container-id-3 div.sk-label:hover label.sk-toggleable__label {background-color: #d4ebff;}#sk-container-id-3 div.sk-serial::before {content: \"\";position: absolute;border-left: 1px solid gray;box-sizing: border-box;top: 0;bottom: 0;left: 50%;z-index: 0;}#sk-container-id-3 div.sk-serial {display: flex;flex-direction: column;align-items: center;background-color: white;padding-right: 0.2em;padding-left: 0.2em;position: relative;}#sk-container-id-3 div.sk-item {position: relative;z-index: 1;}#sk-container-id-3 div.sk-parallel {display: flex;align-items: stretch;justify-content: center;background-color: white;position: relative;}#sk-container-id-3 div.sk-item::before, #sk-container-id-3 div.sk-parallel-item::before {content: \"\";position: absolute;border-left: 1px solid gray;box-sizing: border-box;top: 0;bottom: 0;left: 50%;z-index: -1;}#sk-container-id-3 div.sk-parallel-item {display: flex;flex-direction: column;z-index: 1;position: relative;background-color: white;}#sk-container-id-3 div.sk-parallel-item:first-child::after {align-self: flex-end;width: 50%;}#sk-container-id-3 div.sk-parallel-item:last-child::after {align-self: flex-start;width: 50%;}#sk-container-id-3 div.sk-parallel-item:only-child::after {width: 0;}#sk-container-id-3 div.sk-dashed-wrapped {border: 1px dashed gray;margin: 0 0.4em 0.5em 0.4em;box-sizing: border-box;padding-bottom: 0.4em;background-color: white;}#sk-container-id-3 div.sk-label label {font-family: monospace;font-weight: bold;display: inline-block;line-height: 1.2em;}#sk-container-id-3 div.sk-label-container {text-align: center;}#sk-container-id-3 div.sk-container {/* jupyter's `normalize.less` sets `[hidden] { display: none; }` but bootstrap.min.css set `[hidden] { display: none !important; }` so we also need the `!important` here to be able to override the default hidden behavior on the sphinx rendered scikit-learn.org. See: https://github.com/scikit-learn/scikit-learn/issues/21755 */display: inline-block !important;position: relative;}#sk-container-id-3 div.sk-text-repr-fallback {display: none;}</style><div id=\"sk-container-id-3\" class=\"sk-top-container\"><div class=\"sk-text-repr-fallback\"><pre>Pipeline(steps=[(&#x27;preprocessing&#x27;,\n",
       "                 ColumnTransformer(transformers=[(&#x27;numeric&#x27;,\n",
       "                                                  Pipeline(steps=[(&#x27;FunctionTransformer&#x27;,\n",
       "                                                                   FunctionTransformer()),\n",
       "                                                                  (&#x27;impute_mean&#x27;,\n",
       "                                                                   SimpleImputer()),\n",
       "                                                                  (&#x27;scaling&#x27;,\n",
       "                                                                   StandardScaler())]),\n",
       "                                                  [&#x27;FIRE_YEAR&#x27;, &#x27;DISCOVERY_DOY&#x27;,\n",
       "                                                   &#x27;FIRE_SIZE&#x27;, &#x27;LATITUDE&#x27;,\n",
       "                                                   &#x27;LONGITUDE&#x27;, &#x27;DISC_MONTH&#x27;,\n",
       "                                                   &#x27;DISC_DAY&#x27;, &#x27;FIRE_DURATION&#x27;,\n",
       "                                                   &#x27;DISC_DAYOFWEEK&#x27;,\n",
       "                                                   &#x27;Elevation&#x27;,\n",
       "                                                   &#x27;Temperature (2 m)...\n",
       "                               importance_type=None, interaction_constraints=&#x27;&#x27;,\n",
       "                               learning_rate=0.300000012, max_delta_step=0,\n",
       "                               max_depth=6, min_child_weight=1, missing=nan,\n",
       "                               monotone_constraints=&#x27;()&#x27;, n_estimators=100,\n",
       "                               n_jobs=8, num_parallel_tree=1,\n",
       "                               objective=&#x27;multi:softprob&#x27;, predictor=&#x27;auto&#x27;,\n",
       "                               random_state=0, reg_alpha=0, reg_lambda=1,\n",
       "                               scale_pos_weight=None, subsample=1,\n",
       "                               tree_method=&#x27;exact&#x27;, validate_parameters=1,\n",
       "                               verbosity=None))])</pre><b>In a Jupyter environment, please rerun this cell to show the HTML representation or trust the notebook. <br />On GitHub, the HTML representation is unable to render, please try loading this page with nbviewer.org.</b></div><div class=\"sk-container\" hidden><div class=\"sk-item sk-dashed-wrapped\"><div class=\"sk-label-container\"><div class=\"sk-label sk-toggleable\"><input class=\"sk-toggleable__control sk-hidden--visually\" id=\"sk-estimator-id-23\" type=\"checkbox\" ><label for=\"sk-estimator-id-23\" class=\"sk-toggleable__label sk-toggleable__label-arrow\">Pipeline</label><div class=\"sk-toggleable__content\"><pre>Pipeline(steps=[(&#x27;preprocessing&#x27;,\n",
       "                 ColumnTransformer(transformers=[(&#x27;numeric&#x27;,\n",
       "                                                  Pipeline(steps=[(&#x27;FunctionTransformer&#x27;,\n",
       "                                                                   FunctionTransformer()),\n",
       "                                                                  (&#x27;impute_mean&#x27;,\n",
       "                                                                   SimpleImputer()),\n",
       "                                                                  (&#x27;scaling&#x27;,\n",
       "                                                                   StandardScaler())]),\n",
       "                                                  [&#x27;FIRE_YEAR&#x27;, &#x27;DISCOVERY_DOY&#x27;,\n",
       "                                                   &#x27;FIRE_SIZE&#x27;, &#x27;LATITUDE&#x27;,\n",
       "                                                   &#x27;LONGITUDE&#x27;, &#x27;DISC_MONTH&#x27;,\n",
       "                                                   &#x27;DISC_DAY&#x27;, &#x27;FIRE_DURATION&#x27;,\n",
       "                                                   &#x27;DISC_DAYOFWEEK&#x27;,\n",
       "                                                   &#x27;Elevation&#x27;,\n",
       "                                                   &#x27;Temperature (2 m)...\n",
       "                               importance_type=None, interaction_constraints=&#x27;&#x27;,\n",
       "                               learning_rate=0.300000012, max_delta_step=0,\n",
       "                               max_depth=6, min_child_weight=1, missing=nan,\n",
       "                               monotone_constraints=&#x27;()&#x27;, n_estimators=100,\n",
       "                               n_jobs=8, num_parallel_tree=1,\n",
       "                               objective=&#x27;multi:softprob&#x27;, predictor=&#x27;auto&#x27;,\n",
       "                               random_state=0, reg_alpha=0, reg_lambda=1,\n",
       "                               scale_pos_weight=None, subsample=1,\n",
       "                               tree_method=&#x27;exact&#x27;, validate_parameters=1,\n",
       "                               verbosity=None))])</pre></div></div></div><div class=\"sk-serial\"><div class=\"sk-item sk-dashed-wrapped\"><div class=\"sk-label-container\"><div class=\"sk-label sk-toggleable\"><input class=\"sk-toggleable__control sk-hidden--visually\" id=\"sk-estimator-id-24\" type=\"checkbox\" ><label for=\"sk-estimator-id-24\" class=\"sk-toggleable__label sk-toggleable__label-arrow\">preprocessing: ColumnTransformer</label><div class=\"sk-toggleable__content\"><pre>ColumnTransformer(transformers=[(&#x27;numeric&#x27;,\n",
       "                                 Pipeline(steps=[(&#x27;FunctionTransformer&#x27;,\n",
       "                                                  FunctionTransformer()),\n",
       "                                                 (&#x27;impute_mean&#x27;,\n",
       "                                                  SimpleImputer()),\n",
       "                                                 (&#x27;scaling&#x27;,\n",
       "                                                  StandardScaler())]),\n",
       "                                 [&#x27;FIRE_YEAR&#x27;, &#x27;DISCOVERY_DOY&#x27;, &#x27;FIRE_SIZE&#x27;,\n",
       "                                  &#x27;LATITUDE&#x27;, &#x27;LONGITUDE&#x27;, &#x27;DISC_MONTH&#x27;,\n",
       "                                  &#x27;DISC_DAY&#x27;, &#x27;FIRE_DURATION&#x27;, &#x27;DISC_DAYOFWEEK&#x27;,\n",
       "                                  &#x27;Elevation&#x27;, &#x27;Temperature (2 m)&#x27;,\n",
       "                                  &#x27;Wind Gusts (10 m)&#x27;,\n",
       "                                  &#x27;Soil Temperature (0-7 cm)&#x27;,\n",
       "                                  &#x27;Soil Temperature (7-28 cm)&#x27;,\n",
       "                                  &#x27;Maximum Temperature (2 m)&#x27;,\n",
       "                                  &#x27;Minimum Temperature (2 m)&#x27;,\n",
       "                                  &#x27;Precipitation Sum&#x27;, &#x27;Rain Sum&#x27;,\n",
       "                                  &#x27;Snowfall Sum&#x27;]),\n",
       "                                (&#x27;categorical&#x27;,\n",
       "                                 Pipeline(steps=[(&#x27;FunctionTransformer&#x27;,\n",
       "                                                  FunctionTransformer()),\n",
       "                                                 (&#x27;impute_mode&#x27;,\n",
       "                                                  SimpleImputer(strategy=&#x27;most_frequent&#x27;)),\n",
       "                                                 (&#x27;one-hot-encode&#x27;,\n",
       "                                                  OneHotEncoder(sparse=False))]),\n",
       "                                 [&#x27;OWNER_DESCR&#x27;])])</pre></div></div></div><div class=\"sk-parallel\"><div class=\"sk-parallel-item\"><div class=\"sk-item\"><div class=\"sk-label-container\"><div class=\"sk-label sk-toggleable\"><input class=\"sk-toggleable__control sk-hidden--visually\" id=\"sk-estimator-id-25\" type=\"checkbox\" ><label for=\"sk-estimator-id-25\" class=\"sk-toggleable__label sk-toggleable__label-arrow\">numeric</label><div class=\"sk-toggleable__content\"><pre>[&#x27;FIRE_YEAR&#x27;, &#x27;DISCOVERY_DOY&#x27;, &#x27;FIRE_SIZE&#x27;, &#x27;LATITUDE&#x27;, &#x27;LONGITUDE&#x27;, &#x27;DISC_MONTH&#x27;, &#x27;DISC_DAY&#x27;, &#x27;FIRE_DURATION&#x27;, &#x27;DISC_DAYOFWEEK&#x27;, &#x27;Elevation&#x27;, &#x27;Temperature (2 m)&#x27;, &#x27;Wind Gusts (10 m)&#x27;, &#x27;Soil Temperature (0-7 cm)&#x27;, &#x27;Soil Temperature (7-28 cm)&#x27;, &#x27;Maximum Temperature (2 m)&#x27;, &#x27;Minimum Temperature (2 m)&#x27;, &#x27;Precipitation Sum&#x27;, &#x27;Rain Sum&#x27;, &#x27;Snowfall Sum&#x27;]</pre></div></div></div><div class=\"sk-serial\"><div class=\"sk-item\"><div class=\"sk-serial\"><div class=\"sk-item\"><div class=\"sk-estimator sk-toggleable\"><input class=\"sk-toggleable__control sk-hidden--visually\" id=\"sk-estimator-id-26\" type=\"checkbox\" ><label for=\"sk-estimator-id-26\" class=\"sk-toggleable__label sk-toggleable__label-arrow\">FunctionTransformer</label><div class=\"sk-toggleable__content\"><pre>FunctionTransformer()</pre></div></div></div><div class=\"sk-item\"><div class=\"sk-estimator sk-toggleable\"><input class=\"sk-toggleable__control sk-hidden--visually\" id=\"sk-estimator-id-27\" type=\"checkbox\" ><label for=\"sk-estimator-id-27\" class=\"sk-toggleable__label sk-toggleable__label-arrow\">SimpleImputer</label><div class=\"sk-toggleable__content\"><pre>SimpleImputer()</pre></div></div></div><div class=\"sk-item\"><div class=\"sk-estimator sk-toggleable\"><input class=\"sk-toggleable__control sk-hidden--visually\" id=\"sk-estimator-id-28\" type=\"checkbox\" ><label for=\"sk-estimator-id-28\" class=\"sk-toggleable__label sk-toggleable__label-arrow\">StandardScaler</label><div class=\"sk-toggleable__content\"><pre>StandardScaler()</pre></div></div></div></div></div></div></div></div><div class=\"sk-parallel-item\"><div class=\"sk-item\"><div class=\"sk-label-container\"><div class=\"sk-label sk-toggleable\"><input class=\"sk-toggleable__control sk-hidden--visually\" id=\"sk-estimator-id-29\" type=\"checkbox\" ><label for=\"sk-estimator-id-29\" class=\"sk-toggleable__label sk-toggleable__label-arrow\">categorical</label><div class=\"sk-toggleable__content\"><pre>[&#x27;OWNER_DESCR&#x27;]</pre></div></div></div><div class=\"sk-serial\"><div class=\"sk-item\"><div class=\"sk-serial\"><div class=\"sk-item\"><div class=\"sk-estimator sk-toggleable\"><input class=\"sk-toggleable__control sk-hidden--visually\" id=\"sk-estimator-id-30\" type=\"checkbox\" ><label for=\"sk-estimator-id-30\" class=\"sk-toggleable__label sk-toggleable__label-arrow\">FunctionTransformer</label><div class=\"sk-toggleable__content\"><pre>FunctionTransformer()</pre></div></div></div><div class=\"sk-item\"><div class=\"sk-estimator sk-toggleable\"><input class=\"sk-toggleable__control sk-hidden--visually\" id=\"sk-estimator-id-31\" type=\"checkbox\" ><label for=\"sk-estimator-id-31\" class=\"sk-toggleable__label sk-toggleable__label-arrow\">SimpleImputer</label><div class=\"sk-toggleable__content\"><pre>SimpleImputer(strategy=&#x27;most_frequent&#x27;)</pre></div></div></div><div class=\"sk-item\"><div class=\"sk-estimator sk-toggleable\"><input class=\"sk-toggleable__control sk-hidden--visually\" id=\"sk-estimator-id-32\" type=\"checkbox\" ><label for=\"sk-estimator-id-32\" class=\"sk-toggleable__label sk-toggleable__label-arrow\">OneHotEncoder</label><div class=\"sk-toggleable__content\"><pre>OneHotEncoder(sparse=False)</pre></div></div></div></div></div></div></div></div></div></div><div class=\"sk-item\"><div class=\"sk-estimator sk-toggleable\"><input class=\"sk-toggleable__control sk-hidden--visually\" id=\"sk-estimator-id-33\" type=\"checkbox\" ><label for=\"sk-estimator-id-33\" class=\"sk-toggleable__label sk-toggleable__label-arrow\">XGBClassifier</label><div class=\"sk-toggleable__content\"><pre>XGBClassifier(base_score=0.5, booster=&#x27;gbtree&#x27;, colsample_bylevel=1,\n",
       "              colsample_bynode=1, colsample_bytree=1, enable_categorical=False,\n",
       "              eval_metric=&#x27;merror&#x27;, gamma=0, gpu_id=-1, importance_type=None,\n",
       "              interaction_constraints=&#x27;&#x27;, learning_rate=0.300000012,\n",
       "              max_delta_step=0, max_depth=6, min_child_weight=1, missing=nan,\n",
       "              monotone_constraints=&#x27;()&#x27;, n_estimators=100, n_jobs=8,\n",
       "              num_parallel_tree=1, objective=&#x27;multi:softprob&#x27;, predictor=&#x27;auto&#x27;,\n",
       "              random_state=0, reg_alpha=0, reg_lambda=1, scale_pos_weight=None,\n",
       "              subsample=1, tree_method=&#x27;exact&#x27;, validate_parameters=1,\n",
       "              verbosity=None)</pre></div></div></div></div></div></div></div>"
      ],
      "text/plain": [
       "Pipeline(steps=[('preprocessing',\n",
       "                 ColumnTransformer(transformers=[('numeric',\n",
       "                                                  Pipeline(steps=[('FunctionTransformer',\n",
       "                                                                   FunctionTransformer()),\n",
       "                                                                  ('impute_mean',\n",
       "                                                                   SimpleImputer()),\n",
       "                                                                  ('scaling',\n",
       "                                                                   StandardScaler())]),\n",
       "                                                  ['FIRE_YEAR', 'DISCOVERY_DOY',\n",
       "                                                   'FIRE_SIZE', 'LATITUDE',\n",
       "                                                   'LONGITUDE', 'DISC_MONTH',\n",
       "                                                   'DISC_DAY', 'FIRE_DURATION',\n",
       "                                                   'DISC_DAYOFWEEK',\n",
       "                                                   'Elevation',\n",
       "                                                   'Temperature (2 m)...\n",
       "                               importance_type=None, interaction_constraints='',\n",
       "                               learning_rate=0.300000012, max_delta_step=0,\n",
       "                               max_depth=6, min_child_weight=1, missing=nan,\n",
       "                               monotone_constraints='()', n_estimators=100,\n",
       "                               n_jobs=8, num_parallel_tree=1,\n",
       "                               objective='multi:softprob', predictor='auto',\n",
       "                               random_state=0, reg_alpha=0, reg_lambda=1,\n",
       "                               scale_pos_weight=None, subsample=1,\n",
       "                               tree_method='exact', validate_parameters=1,\n",
       "                               verbosity=None))])"
      ]
     },
     "execution_count": 57,
     "metadata": {},
     "output_type": "execute_result"
    }
   ],
   "source": [
    "pipeline2.fit(X_train, y_train_xg)"
   ]
  },
  {
   "cell_type": "code",
   "execution_count": 58,
   "id": "48c36321-6080-4db5-9337-3f2d0e473e36",
   "metadata": {},
   "outputs": [
    {
     "name": "stdout",
     "output_type": "stream",
     "text": [
      "Test set score: 0.666686306858355\n"
     ]
    }
   ],
   "source": [
    "score = pipeline2.score(X_test, y_test_xg)          \n",
    "print(f'Test set score: {score}')"
   ]
  },
  {
   "cell_type": "code",
   "execution_count": 60,
   "id": "23ab3ed6-55bc-4539-8fe9-61022127d9fa",
   "metadata": {},
   "outputs": [
    {
     "name": "stdout",
     "output_type": "stream",
     "text": [
      "0.6927291905786602 0.3637033590069539\n"
     ]
    }
   ],
   "source": [
    "y_pred2 = pipeline2.predict(X_test) \n",
    "print(f1_score(y_pred2, y_test_xg, average='weighted'), balanced_accuracy_score(y_test_xg, y_pred2))"
   ]
  },
  {
   "cell_type": "code",
   "execution_count": 94,
   "id": "8b5fb140-29b6-4e23-b978-23b6069a9ff0",
   "metadata": {},
   "outputs": [
    {
     "name": "stdout",
     "output_type": "stream",
     "text": [
      "              precision    recall  f1-score   support\n",
      "\n",
      "           0       0.83      0.93      0.88      6736\n",
      "           1       0.47      0.62      0.53      2384\n",
      "           2       0.38      0.10      0.16       760\n",
      "           3       0.63      0.58      0.60      2058\n",
      "           4       0.58      0.72      0.64      2433\n",
      "           5       0.50      0.21      0.30       108\n",
      "           6       0.51      0.27      0.36      1442\n",
      "           7       0.37      0.12      0.18       737\n",
      "           9       0.48      0.20      0.29        59\n",
      "          10       0.56      0.21      0.30       216\n",
      "          11       0.17      0.03      0.04        39\n",
      "\n",
      "    accuracy                           0.67     16972\n",
      "   macro avg       0.50      0.36      0.39     16972\n",
      "weighted avg       0.64      0.67      0.64     16972\n",
      "\n"
     ]
    }
   ],
   "source": [
    "print(classification_report(y_test_xg, y_pred2))"
   ]
  },
  {
   "cell_type": "code",
   "execution_count": 30,
   "id": "4a3d73a0-7664-49cf-9d6b-4bf7bd2269e6",
   "metadata": {},
   "outputs": [
    {
     "name": "stdout",
     "output_type": "stream",
     "text": [
      "Fitting 5 folds for each of 9 candidates, totalling 45 fits\n"
     ]
    },
    {
     "data": {
      "text/html": [
       "<style>#sk-container-id-2 {color: black;background-color: white;}#sk-container-id-2 pre{padding: 0;}#sk-container-id-2 div.sk-toggleable {background-color: white;}#sk-container-id-2 label.sk-toggleable__label {cursor: pointer;display: block;width: 100%;margin-bottom: 0;padding: 0.3em;box-sizing: border-box;text-align: center;}#sk-container-id-2 label.sk-toggleable__label-arrow:before {content: \"▸\";float: left;margin-right: 0.25em;color: #696969;}#sk-container-id-2 label.sk-toggleable__label-arrow:hover:before {color: black;}#sk-container-id-2 div.sk-estimator:hover label.sk-toggleable__label-arrow:before {color: black;}#sk-container-id-2 div.sk-toggleable__content {max-height: 0;max-width: 0;overflow: hidden;text-align: left;background-color: #f0f8ff;}#sk-container-id-2 div.sk-toggleable__content pre {margin: 0.2em;color: black;border-radius: 0.25em;background-color: #f0f8ff;}#sk-container-id-2 input.sk-toggleable__control:checked~div.sk-toggleable__content {max-height: 200px;max-width: 100%;overflow: auto;}#sk-container-id-2 input.sk-toggleable__control:checked~label.sk-toggleable__label-arrow:before {content: \"▾\";}#sk-container-id-2 div.sk-estimator input.sk-toggleable__control:checked~label.sk-toggleable__label {background-color: #d4ebff;}#sk-container-id-2 div.sk-label input.sk-toggleable__control:checked~label.sk-toggleable__label {background-color: #d4ebff;}#sk-container-id-2 input.sk-hidden--visually {border: 0;clip: rect(1px 1px 1px 1px);clip: rect(1px, 1px, 1px, 1px);height: 1px;margin: -1px;overflow: hidden;padding: 0;position: absolute;width: 1px;}#sk-container-id-2 div.sk-estimator {font-family: monospace;background-color: #f0f8ff;border: 1px dotted black;border-radius: 0.25em;box-sizing: border-box;margin-bottom: 0.5em;}#sk-container-id-2 div.sk-estimator:hover {background-color: #d4ebff;}#sk-container-id-2 div.sk-parallel-item::after {content: \"\";width: 100%;border-bottom: 1px solid gray;flex-grow: 1;}#sk-container-id-2 div.sk-label:hover label.sk-toggleable__label {background-color: #d4ebff;}#sk-container-id-2 div.sk-serial::before {content: \"\";position: absolute;border-left: 1px solid gray;box-sizing: border-box;top: 0;bottom: 0;left: 50%;z-index: 0;}#sk-container-id-2 div.sk-serial {display: flex;flex-direction: column;align-items: center;background-color: white;padding-right: 0.2em;padding-left: 0.2em;position: relative;}#sk-container-id-2 div.sk-item {position: relative;z-index: 1;}#sk-container-id-2 div.sk-parallel {display: flex;align-items: stretch;justify-content: center;background-color: white;position: relative;}#sk-container-id-2 div.sk-item::before, #sk-container-id-2 div.sk-parallel-item::before {content: \"\";position: absolute;border-left: 1px solid gray;box-sizing: border-box;top: 0;bottom: 0;left: 50%;z-index: -1;}#sk-container-id-2 div.sk-parallel-item {display: flex;flex-direction: column;z-index: 1;position: relative;background-color: white;}#sk-container-id-2 div.sk-parallel-item:first-child::after {align-self: flex-end;width: 50%;}#sk-container-id-2 div.sk-parallel-item:last-child::after {align-self: flex-start;width: 50%;}#sk-container-id-2 div.sk-parallel-item:only-child::after {width: 0;}#sk-container-id-2 div.sk-dashed-wrapped {border: 1px dashed gray;margin: 0 0.4em 0.5em 0.4em;box-sizing: border-box;padding-bottom: 0.4em;background-color: white;}#sk-container-id-2 div.sk-label label {font-family: monospace;font-weight: bold;display: inline-block;line-height: 1.2em;}#sk-container-id-2 div.sk-label-container {text-align: center;}#sk-container-id-2 div.sk-container {/* jupyter's `normalize.less` sets `[hidden] { display: none; }` but bootstrap.min.css set `[hidden] { display: none !important; }` so we also need the `!important` here to be able to override the default hidden behavior on the sphinx rendered scikit-learn.org. See: https://github.com/scikit-learn/scikit-learn/issues/21755 */display: inline-block !important;position: relative;}#sk-container-id-2 div.sk-text-repr-fallback {display: none;}</style><div id=\"sk-container-id-2\" class=\"sk-top-container\"><div class=\"sk-text-repr-fallback\"><pre>GridSearchCV(estimator=Pipeline(steps=[(&#x27;preprocessing&#x27;,\n",
       "                                        ColumnTransformer(transformers=[(&#x27;numeric&#x27;,\n",
       "                                                                         Pipeline(steps=[(&#x27;FunctionTransformer&#x27;,\n",
       "                                                                                          FunctionTransformer()),\n",
       "                                                                                         (&#x27;impute_mean&#x27;,\n",
       "                                                                                          SimpleImputer()),\n",
       "                                                                                         (&#x27;scaling&#x27;,\n",
       "                                                                                          StandardScaler())]),\n",
       "                                                                         [&#x27;FIRE_YEAR&#x27;,\n",
       "                                                                          &#x27;DISCOVERY_DOY&#x27;,\n",
       "                                                                          &#x27;FIRE_SIZE&#x27;,\n",
       "                                                                          &#x27;LATITUDE&#x27;,\n",
       "                                                                          &#x27;LONGITUDE&#x27;,\n",
       "                                                                          &#x27;DISC_MONTH&#x27;,\n",
       "                                                                          &#x27;DISC_DAY&#x27;,\n",
       "                                                                          &#x27;FIRE_DURATION&#x27;,\n",
       "                                                                          &#x27;DISC_DAYOFWEEK&#x27;,\n",
       "                                                                          &#x27;Elev...\n",
       "                                                                          &#x27;Snowfall &#x27;\n",
       "                                                                          &#x27;Sum&#x27;]),\n",
       "                                                                        (&#x27;categorical&#x27;,\n",
       "                                                                         Pipeline(steps=[(&#x27;FunctionTransformer&#x27;,\n",
       "                                                                                          FunctionTransformer()),\n",
       "                                                                                         (&#x27;impute_mode&#x27;,\n",
       "                                                                                          SimpleImputer(strategy=&#x27;most_frequent&#x27;)),\n",
       "                                                                                         (&#x27;one-hot-encode&#x27;,\n",
       "                                                                                          OneHotEncoder(sparse=False))]),\n",
       "                                                                         [&#x27;OWNER_DESCR&#x27;])])),\n",
       "                                       (&#x27;model&#x27;, RandomForestClassifier())]),\n",
       "             n_jobs=-1,\n",
       "             param_grid={&#x27;model__max_depth&#x27;: [19, 20, 21],\n",
       "                         &#x27;model__n_estimators&#x27;: [100, 120, 140]},\n",
       "             verbose=10)</pre><b>In a Jupyter environment, please rerun this cell to show the HTML representation or trust the notebook. <br />On GitHub, the HTML representation is unable to render, please try loading this page with nbviewer.org.</b></div><div class=\"sk-container\" hidden><div class=\"sk-item sk-dashed-wrapped\"><div class=\"sk-label-container\"><div class=\"sk-label sk-toggleable\"><input class=\"sk-toggleable__control sk-hidden--visually\" id=\"sk-estimator-id-12\" type=\"checkbox\" ><label for=\"sk-estimator-id-12\" class=\"sk-toggleable__label sk-toggleable__label-arrow\">GridSearchCV</label><div class=\"sk-toggleable__content\"><pre>GridSearchCV(estimator=Pipeline(steps=[(&#x27;preprocessing&#x27;,\n",
       "                                        ColumnTransformer(transformers=[(&#x27;numeric&#x27;,\n",
       "                                                                         Pipeline(steps=[(&#x27;FunctionTransformer&#x27;,\n",
       "                                                                                          FunctionTransformer()),\n",
       "                                                                                         (&#x27;impute_mean&#x27;,\n",
       "                                                                                          SimpleImputer()),\n",
       "                                                                                         (&#x27;scaling&#x27;,\n",
       "                                                                                          StandardScaler())]),\n",
       "                                                                         [&#x27;FIRE_YEAR&#x27;,\n",
       "                                                                          &#x27;DISCOVERY_DOY&#x27;,\n",
       "                                                                          &#x27;FIRE_SIZE&#x27;,\n",
       "                                                                          &#x27;LATITUDE&#x27;,\n",
       "                                                                          &#x27;LONGITUDE&#x27;,\n",
       "                                                                          &#x27;DISC_MONTH&#x27;,\n",
       "                                                                          &#x27;DISC_DAY&#x27;,\n",
       "                                                                          &#x27;FIRE_DURATION&#x27;,\n",
       "                                                                          &#x27;DISC_DAYOFWEEK&#x27;,\n",
       "                                                                          &#x27;Elev...\n",
       "                                                                          &#x27;Snowfall &#x27;\n",
       "                                                                          &#x27;Sum&#x27;]),\n",
       "                                                                        (&#x27;categorical&#x27;,\n",
       "                                                                         Pipeline(steps=[(&#x27;FunctionTransformer&#x27;,\n",
       "                                                                                          FunctionTransformer()),\n",
       "                                                                                         (&#x27;impute_mode&#x27;,\n",
       "                                                                                          SimpleImputer(strategy=&#x27;most_frequent&#x27;)),\n",
       "                                                                                         (&#x27;one-hot-encode&#x27;,\n",
       "                                                                                          OneHotEncoder(sparse=False))]),\n",
       "                                                                         [&#x27;OWNER_DESCR&#x27;])])),\n",
       "                                       (&#x27;model&#x27;, RandomForestClassifier())]),\n",
       "             n_jobs=-1,\n",
       "             param_grid={&#x27;model__max_depth&#x27;: [19, 20, 21],\n",
       "                         &#x27;model__n_estimators&#x27;: [100, 120, 140]},\n",
       "             verbose=10)</pre></div></div></div><div class=\"sk-parallel\"><div class=\"sk-parallel-item\"><div class=\"sk-item\"><div class=\"sk-label-container\"><div class=\"sk-label sk-toggleable\"><input class=\"sk-toggleable__control sk-hidden--visually\" id=\"sk-estimator-id-13\" type=\"checkbox\" ><label for=\"sk-estimator-id-13\" class=\"sk-toggleable__label sk-toggleable__label-arrow\">estimator: Pipeline</label><div class=\"sk-toggleable__content\"><pre>Pipeline(steps=[(&#x27;preprocessing&#x27;,\n",
       "                 ColumnTransformer(transformers=[(&#x27;numeric&#x27;,\n",
       "                                                  Pipeline(steps=[(&#x27;FunctionTransformer&#x27;,\n",
       "                                                                   FunctionTransformer()),\n",
       "                                                                  (&#x27;impute_mean&#x27;,\n",
       "                                                                   SimpleImputer()),\n",
       "                                                                  (&#x27;scaling&#x27;,\n",
       "                                                                   StandardScaler())]),\n",
       "                                                  [&#x27;FIRE_YEAR&#x27;, &#x27;DISCOVERY_DOY&#x27;,\n",
       "                                                   &#x27;FIRE_SIZE&#x27;, &#x27;LATITUDE&#x27;,\n",
       "                                                   &#x27;LONGITUDE&#x27;, &#x27;DISC_MONTH&#x27;,\n",
       "                                                   &#x27;DISC_DAY&#x27;, &#x27;FIRE_DURATION&#x27;,\n",
       "                                                   &#x27;DISC_DAYOFWEEK&#x27;,\n",
       "                                                   &#x27;Elevation&#x27;,\n",
       "                                                   &#x27;Temperature (2 m)...\n",
       "                                                   &#x27;Soil Temperature (7-28 cm)&#x27;,\n",
       "                                                   &#x27;Maximum Temperature (2 m)&#x27;,\n",
       "                                                   &#x27;Minimum Temperature (2 m)&#x27;,\n",
       "                                                   &#x27;Precipitation Sum&#x27;,\n",
       "                                                   &#x27;Rain Sum&#x27;,\n",
       "                                                   &#x27;Snowfall Sum&#x27;]),\n",
       "                                                 (&#x27;categorical&#x27;,\n",
       "                                                  Pipeline(steps=[(&#x27;FunctionTransformer&#x27;,\n",
       "                                                                   FunctionTransformer()),\n",
       "                                                                  (&#x27;impute_mode&#x27;,\n",
       "                                                                   SimpleImputer(strategy=&#x27;most_frequent&#x27;)),\n",
       "                                                                  (&#x27;one-hot-encode&#x27;,\n",
       "                                                                   OneHotEncoder(sparse=False))]),\n",
       "                                                  [&#x27;OWNER_DESCR&#x27;])])),\n",
       "                (&#x27;model&#x27;, RandomForestClassifier())])</pre></div></div></div><div class=\"sk-serial\"><div class=\"sk-item\"><div class=\"sk-serial\"><div class=\"sk-item sk-dashed-wrapped\"><div class=\"sk-label-container\"><div class=\"sk-label sk-toggleable\"><input class=\"sk-toggleable__control sk-hidden--visually\" id=\"sk-estimator-id-14\" type=\"checkbox\" ><label for=\"sk-estimator-id-14\" class=\"sk-toggleable__label sk-toggleable__label-arrow\">preprocessing: ColumnTransformer</label><div class=\"sk-toggleable__content\"><pre>ColumnTransformer(transformers=[(&#x27;numeric&#x27;,\n",
       "                                 Pipeline(steps=[(&#x27;FunctionTransformer&#x27;,\n",
       "                                                  FunctionTransformer()),\n",
       "                                                 (&#x27;impute_mean&#x27;,\n",
       "                                                  SimpleImputer()),\n",
       "                                                 (&#x27;scaling&#x27;,\n",
       "                                                  StandardScaler())]),\n",
       "                                 [&#x27;FIRE_YEAR&#x27;, &#x27;DISCOVERY_DOY&#x27;, &#x27;FIRE_SIZE&#x27;,\n",
       "                                  &#x27;LATITUDE&#x27;, &#x27;LONGITUDE&#x27;, &#x27;DISC_MONTH&#x27;,\n",
       "                                  &#x27;DISC_DAY&#x27;, &#x27;FIRE_DURATION&#x27;, &#x27;DISC_DAYOFWEEK&#x27;,\n",
       "                                  &#x27;Elevation&#x27;, &#x27;Temperature (2 m)&#x27;,\n",
       "                                  &#x27;Wind Gusts (10 m)&#x27;,\n",
       "                                  &#x27;Soil Temperature (0-7 cm)&#x27;,\n",
       "                                  &#x27;Soil Temperature (7-28 cm)&#x27;,\n",
       "                                  &#x27;Maximum Temperature (2 m)&#x27;,\n",
       "                                  &#x27;Minimum Temperature (2 m)&#x27;,\n",
       "                                  &#x27;Precipitation Sum&#x27;, &#x27;Rain Sum&#x27;,\n",
       "                                  &#x27;Snowfall Sum&#x27;]),\n",
       "                                (&#x27;categorical&#x27;,\n",
       "                                 Pipeline(steps=[(&#x27;FunctionTransformer&#x27;,\n",
       "                                                  FunctionTransformer()),\n",
       "                                                 (&#x27;impute_mode&#x27;,\n",
       "                                                  SimpleImputer(strategy=&#x27;most_frequent&#x27;)),\n",
       "                                                 (&#x27;one-hot-encode&#x27;,\n",
       "                                                  OneHotEncoder(sparse=False))]),\n",
       "                                 [&#x27;OWNER_DESCR&#x27;])])</pre></div></div></div><div class=\"sk-parallel\"><div class=\"sk-parallel-item\"><div class=\"sk-item\"><div class=\"sk-label-container\"><div class=\"sk-label sk-toggleable\"><input class=\"sk-toggleable__control sk-hidden--visually\" id=\"sk-estimator-id-15\" type=\"checkbox\" ><label for=\"sk-estimator-id-15\" class=\"sk-toggleable__label sk-toggleable__label-arrow\">numeric</label><div class=\"sk-toggleable__content\"><pre>[&#x27;FIRE_YEAR&#x27;, &#x27;DISCOVERY_DOY&#x27;, &#x27;FIRE_SIZE&#x27;, &#x27;LATITUDE&#x27;, &#x27;LONGITUDE&#x27;, &#x27;DISC_MONTH&#x27;, &#x27;DISC_DAY&#x27;, &#x27;FIRE_DURATION&#x27;, &#x27;DISC_DAYOFWEEK&#x27;, &#x27;Elevation&#x27;, &#x27;Temperature (2 m)&#x27;, &#x27;Wind Gusts (10 m)&#x27;, &#x27;Soil Temperature (0-7 cm)&#x27;, &#x27;Soil Temperature (7-28 cm)&#x27;, &#x27;Maximum Temperature (2 m)&#x27;, &#x27;Minimum Temperature (2 m)&#x27;, &#x27;Precipitation Sum&#x27;, &#x27;Rain Sum&#x27;, &#x27;Snowfall Sum&#x27;]</pre></div></div></div><div class=\"sk-serial\"><div class=\"sk-item\"><div class=\"sk-serial\"><div class=\"sk-item\"><div class=\"sk-estimator sk-toggleable\"><input class=\"sk-toggleable__control sk-hidden--visually\" id=\"sk-estimator-id-16\" type=\"checkbox\" ><label for=\"sk-estimator-id-16\" class=\"sk-toggleable__label sk-toggleable__label-arrow\">FunctionTransformer</label><div class=\"sk-toggleable__content\"><pre>FunctionTransformer()</pre></div></div></div><div class=\"sk-item\"><div class=\"sk-estimator sk-toggleable\"><input class=\"sk-toggleable__control sk-hidden--visually\" id=\"sk-estimator-id-17\" type=\"checkbox\" ><label for=\"sk-estimator-id-17\" class=\"sk-toggleable__label sk-toggleable__label-arrow\">SimpleImputer</label><div class=\"sk-toggleable__content\"><pre>SimpleImputer()</pre></div></div></div><div class=\"sk-item\"><div class=\"sk-estimator sk-toggleable\"><input class=\"sk-toggleable__control sk-hidden--visually\" id=\"sk-estimator-id-18\" type=\"checkbox\" ><label for=\"sk-estimator-id-18\" class=\"sk-toggleable__label sk-toggleable__label-arrow\">StandardScaler</label><div class=\"sk-toggleable__content\"><pre>StandardScaler()</pre></div></div></div></div></div></div></div></div><div class=\"sk-parallel-item\"><div class=\"sk-item\"><div class=\"sk-label-container\"><div class=\"sk-label sk-toggleable\"><input class=\"sk-toggleable__control sk-hidden--visually\" id=\"sk-estimator-id-19\" type=\"checkbox\" ><label for=\"sk-estimator-id-19\" class=\"sk-toggleable__label sk-toggleable__label-arrow\">categorical</label><div class=\"sk-toggleable__content\"><pre>[&#x27;OWNER_DESCR&#x27;]</pre></div></div></div><div class=\"sk-serial\"><div class=\"sk-item\"><div class=\"sk-serial\"><div class=\"sk-item\"><div class=\"sk-estimator sk-toggleable\"><input class=\"sk-toggleable__control sk-hidden--visually\" id=\"sk-estimator-id-20\" type=\"checkbox\" ><label for=\"sk-estimator-id-20\" class=\"sk-toggleable__label sk-toggleable__label-arrow\">FunctionTransformer</label><div class=\"sk-toggleable__content\"><pre>FunctionTransformer()</pre></div></div></div><div class=\"sk-item\"><div class=\"sk-estimator sk-toggleable\"><input class=\"sk-toggleable__control sk-hidden--visually\" id=\"sk-estimator-id-21\" type=\"checkbox\" ><label for=\"sk-estimator-id-21\" class=\"sk-toggleable__label sk-toggleable__label-arrow\">SimpleImputer</label><div class=\"sk-toggleable__content\"><pre>SimpleImputer(strategy=&#x27;most_frequent&#x27;)</pre></div></div></div><div class=\"sk-item\"><div class=\"sk-estimator sk-toggleable\"><input class=\"sk-toggleable__control sk-hidden--visually\" id=\"sk-estimator-id-22\" type=\"checkbox\" ><label for=\"sk-estimator-id-22\" class=\"sk-toggleable__label sk-toggleable__label-arrow\">OneHotEncoder</label><div class=\"sk-toggleable__content\"><pre>OneHotEncoder(sparse=False)</pre></div></div></div></div></div></div></div></div></div></div><div class=\"sk-item\"><div class=\"sk-estimator sk-toggleable\"><input class=\"sk-toggleable__control sk-hidden--visually\" id=\"sk-estimator-id-23\" type=\"checkbox\" ><label for=\"sk-estimator-id-23\" class=\"sk-toggleable__label sk-toggleable__label-arrow\">RandomForestClassifier</label><div class=\"sk-toggleable__content\"><pre>RandomForestClassifier()</pre></div></div></div></div></div></div></div></div></div></div></div></div>"
      ],
      "text/plain": [
       "GridSearchCV(estimator=Pipeline(steps=[('preprocessing',\n",
       "                                        ColumnTransformer(transformers=[('numeric',\n",
       "                                                                         Pipeline(steps=[('FunctionTransformer',\n",
       "                                                                                          FunctionTransformer()),\n",
       "                                                                                         ('impute_mean',\n",
       "                                                                                          SimpleImputer()),\n",
       "                                                                                         ('scaling',\n",
       "                                                                                          StandardScaler())]),\n",
       "                                                                         ['FIRE_YEAR',\n",
       "                                                                          'DISCOVERY_DOY',\n",
       "                                                                          'FIRE_SIZE',\n",
       "                                                                          'LATITUDE',\n",
       "                                                                          'LONGITUDE',\n",
       "                                                                          'DISC_MONTH',\n",
       "                                                                          'DISC_DAY',\n",
       "                                                                          'FIRE_DURATION',\n",
       "                                                                          'DISC_DAYOFWEEK',\n",
       "                                                                          'Elev...\n",
       "                                                                          'Snowfall '\n",
       "                                                                          'Sum']),\n",
       "                                                                        ('categorical',\n",
       "                                                                         Pipeline(steps=[('FunctionTransformer',\n",
       "                                                                                          FunctionTransformer()),\n",
       "                                                                                         ('impute_mode',\n",
       "                                                                                          SimpleImputer(strategy='most_frequent')),\n",
       "                                                                                         ('one-hot-encode',\n",
       "                                                                                          OneHotEncoder(sparse=False))]),\n",
       "                                                                         ['OWNER_DESCR'])])),\n",
       "                                       ('model', RandomForestClassifier())]),\n",
       "             n_jobs=-1,\n",
       "             param_grid={'model__max_depth': [19, 20, 21],\n",
       "                         'model__n_estimators': [100, 120, 140]},\n",
       "             verbose=10)"
      ]
     },
     "execution_count": 30,
     "metadata": {},
     "output_type": "execute_result"
    }
   ],
   "source": [
    "# set up our parameters grid\n",
    "param_grid = {\"model__n_estimators\":[100, 120, 140], \"model__max_depth\":[19, 20, 21]}\n",
    "\n",
    "# create a Grid Search object\n",
    "grid_search = GridSearchCV(pipeline, param_grid, n_jobs = -1, verbose=10, refit=True)    \n",
    "\n",
    "# fit the model and tune parameters\n",
    "grid_search.fit(X_train, y_train)"
   ]
  },
  {
   "cell_type": "code",
   "execution_count": 31,
   "id": "df628b44-eeb1-43de-b748-1e57b0dcbb84",
   "metadata": {},
   "outputs": [
    {
     "name": "stdout",
     "output_type": "stream",
     "text": [
      "{'model__max_depth': 20, 'model__n_estimators': 140}\n"
     ]
    }
   ],
   "source": [
    "print(grid_search.best_params_)"
   ]
  },
  {
   "cell_type": "code",
   "execution_count": 32,
   "id": "f1f6b93b-0fbb-4a6f-b9f1-b5f670cba41e",
   "metadata": {},
   "outputs": [],
   "source": [
    "pipeline = Pipeline([('preprocessing', preprocessing), ('model', RandomForestClassifier(max_depth=20, n_estimators= 140))])"
   ]
  },
  {
   "cell_type": "code",
   "execution_count": 33,
   "id": "d723b1c4-dcd7-4545-8d0c-446ee36354a0",
   "metadata": {},
   "outputs": [
    {
     "name": "stdout",
     "output_type": "stream",
     "text": [
      "Test set score: 0.6577303794485034\n"
     ]
    }
   ],
   "source": [
    "pipeline.fit(X_train, y_train)\n",
    "score = pipeline.score(X_test, y_test)          \n",
    "print(f'Test set score: {score}')"
   ]
  },
  {
   "cell_type": "markdown",
   "id": "115ea253-08fe-451a-9f67-0385fb747ff7",
   "metadata": {},
   "source": [
    "^this did worse than the pre-grid search?"
   ]
  },
  {
   "cell_type": "code",
   "execution_count": null,
   "id": "b7c6ee29-f915-420b-8f64-2498958d5820",
   "metadata": {},
   "outputs": [],
   "source": [
    "#Try another algorithm"
   ]
  },
  {
   "cell_type": "markdown",
   "id": "bf168f3c-cc6a-4354-8d43-9eb43c141490",
   "metadata": {},
   "source": [
    "### Save model as pickle to use in App"
   ]
  },
  {
   "cell_type": "code",
   "execution_count": 26,
   "id": "644bb32d-a71f-4238-b11a-d57047604b48",
   "metadata": {},
   "outputs": [],
   "source": [
    "import pickle"
   ]
  },
  {
   "cell_type": "code",
   "execution_count": 31,
   "id": "cc077673-bee4-4fe4-8522-4b25c93adaa3",
   "metadata": {},
   "outputs": [],
   "source": [
    "pickle.dump(pipeline, open( \"../scripts/model.p\", \"wb\" ))"
   ]
  },
  {
   "cell_type": "markdown",
   "id": "412153b5-85eb-4baa-a8b4-014d2e1f50c1",
   "metadata": {},
   "source": [
    "## Results"
   ]
  },
  {
   "cell_type": "code",
   "execution_count": 88,
   "id": "20bece14-e244-4bf5-92bf-d940b8811560",
   "metadata": {},
   "outputs": [],
   "source": [
    "results = pd.read_csv(\"../../output/results.csv\", index_col = 0)"
   ]
  },
  {
   "cell_type": "code",
   "execution_count": 89,
   "id": "87e6a058-695c-455f-be6e-2ce027e8e350",
   "metadata": {},
   "outputs": [],
   "source": [
    "new_rows = pd.DataFrame({'Model': [1, 1, 1], \n",
    "                                   'Classifier': ['Random Forest', 'SVC', 'XGBoost'], \n",
    "                                   'Accuracy': [0.6593801555503181, 0.6069997643176998, 0.666686306858355], \n",
    "                                   'Balanced Score': [0.3275657240390736, 0.24748213822124498, 0.3637033590069539], \n",
    "                                   'F1 Score': [0.690583937019208, 0.6665490254009984, 0.6927291905786602]})"
   ]
  },
  {
   "cell_type": "code",
   "execution_count": 90,
   "id": "8775ea28-1096-4314-b39f-ddcd1979149b",
   "metadata": {},
   "outputs": [],
   "source": [
    "results = pd.concat([results, new_rows])"
   ]
  },
  {
   "cell_type": "code",
   "execution_count": 91,
   "id": "9525dba8-d7f3-4b20-9be8-993465342c03",
   "metadata": {},
   "outputs": [],
   "source": [
    "results.reset_index(inplace=True, drop= True)"
   ]
  },
  {
   "cell_type": "code",
   "execution_count": 92,
   "id": "eca958a4-9599-45f5-8a88-3a5e0284d184",
   "metadata": {},
   "outputs": [
    {
     "data": {
      "text/html": [
       "<div>\n",
       "<style scoped>\n",
       "    .dataframe tbody tr th:only-of-type {\n",
       "        vertical-align: middle;\n",
       "    }\n",
       "\n",
       "    .dataframe tbody tr th {\n",
       "        vertical-align: top;\n",
       "    }\n",
       "\n",
       "    .dataframe thead th {\n",
       "        text-align: right;\n",
       "    }\n",
       "</style>\n",
       "<table border=\"1\" class=\"dataframe\">\n",
       "  <thead>\n",
       "    <tr style=\"text-align: right;\">\n",
       "      <th></th>\n",
       "      <th>Model</th>\n",
       "      <th>Classifier</th>\n",
       "      <th>Accuracy</th>\n",
       "      <th>Balanced Score</th>\n",
       "      <th>F1 Score</th>\n",
       "    </tr>\n",
       "  </thead>\n",
       "  <tbody>\n",
       "    <tr>\n",
       "      <th>0</th>\n",
       "      <td>0</td>\n",
       "      <td>Random Forest</td>\n",
       "      <td>0.646740</td>\n",
       "      <td>0.336719</td>\n",
       "      <td>0.675347</td>\n",
       "    </tr>\n",
       "    <tr>\n",
       "      <th>1</th>\n",
       "      <td>0</td>\n",
       "      <td>SVC</td>\n",
       "      <td>0.648684</td>\n",
       "      <td>0.204975</td>\n",
       "      <td>0.622821</td>\n",
       "    </tr>\n",
       "    <tr>\n",
       "      <th>2</th>\n",
       "      <td>0</td>\n",
       "      <td>XGBoost</td>\n",
       "      <td>0.653513</td>\n",
       "      <td>0.352869</td>\n",
       "      <td>0.681627</td>\n",
       "    </tr>\n",
       "    <tr>\n",
       "      <th>3</th>\n",
       "      <td>1</td>\n",
       "      <td>Random Forest</td>\n",
       "      <td>0.659380</td>\n",
       "      <td>0.327566</td>\n",
       "      <td>0.690584</td>\n",
       "    </tr>\n",
       "    <tr>\n",
       "      <th>4</th>\n",
       "      <td>1</td>\n",
       "      <td>SVC</td>\n",
       "      <td>0.607000</td>\n",
       "      <td>0.247482</td>\n",
       "      <td>0.666549</td>\n",
       "    </tr>\n",
       "    <tr>\n",
       "      <th>5</th>\n",
       "      <td>1</td>\n",
       "      <td>XGBoost</td>\n",
       "      <td>0.666686</td>\n",
       "      <td>0.363703</td>\n",
       "      <td>0.692729</td>\n",
       "    </tr>\n",
       "  </tbody>\n",
       "</table>\n",
       "</div>"
      ],
      "text/plain": [
       "   Model     Classifier  Accuracy  Balanced Score  F1 Score\n",
       "0      0  Random Forest  0.646740        0.336719  0.675347\n",
       "1      0            SVC  0.648684        0.204975  0.622821\n",
       "2      0        XGBoost  0.653513        0.352869  0.681627\n",
       "3      1  Random Forest  0.659380        0.327566  0.690584\n",
       "4      1            SVC  0.607000        0.247482  0.666549\n",
       "5      1        XGBoost  0.666686        0.363703  0.692729"
      ]
     },
     "execution_count": 92,
     "metadata": {},
     "output_type": "execute_result"
    }
   ],
   "source": [
    "results"
   ]
  },
  {
   "cell_type": "code",
   "execution_count": 93,
   "id": "7385514a-f603-49b8-bdbc-23bb2168421e",
   "metadata": {},
   "outputs": [],
   "source": [
    "results.to_csv(\"../../output/results.csv\")"
   ]
  },
  {
   "cell_type": "code",
   "execution_count": null,
   "id": "c55c34cc-a528-480d-a891-55fa81886fc0",
   "metadata": {},
   "outputs": [],
   "source": []
  }
 ],
 "metadata": {
  "kernelspec": {
   "display_name": "lighthouse_env",
   "language": "python",
   "name": "lighthouse_env"
  },
  "language_info": {
   "codemirror_mode": {
    "name": "ipython",
    "version": 3
   },
   "file_extension": ".py",
   "mimetype": "text/x-python",
   "name": "python",
   "nbconvert_exporter": "python",
   "pygments_lexer": "ipython3",
   "version": "3.9.13"
  }
 },
 "nbformat": 4,
 "nbformat_minor": 5
}
