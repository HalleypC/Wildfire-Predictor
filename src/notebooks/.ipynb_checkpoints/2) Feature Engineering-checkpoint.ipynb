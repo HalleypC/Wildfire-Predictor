{
 "cells": [
  {
   "cell_type": "markdown",
   "id": "4e1debb1-0e80-4152-9f58-7badfbab5004",
   "metadata": {},
   "source": [
    "# Fire\n",
    "\n",
    "Explore the problem in following stages:\n",
    "1. Hypothesis Generation – understanding the problem better by brainstorming possible factors that can impact the outcome\n",
    "2. Data Exploration – looking at categorical and continuous feature summaries and making inferences about the data.\n",
    "3. Data Cleaning – imputing missing values in the data and checking for outliers\n",
    "4. Feature Engineering – modifying existing variables and creating new ones for analysis\n",
    "5. Model Building – making predictive models on the data\n",
    "\n",
    "## 3. Feature Cleaning"
   ]
  },
  {
   "cell_type": "markdown",
   "id": "8814a242-0ab4-4ec1-8cb9-b6c7754a9e8f",
   "metadata": {},
   "source": [
    "During the EDA, we did complete some basic cleaning like converting the float date feature to datetime and extracted the month, day, and day of week. Now we will continue with the cleaning and adding features.\n",
    "\n",
    "* Imputing the containment date (this has >30% missing values, but we want to keep it to calculate fore length)\n",
    "* Calculating the fire duration (in days)\n",
    "* dropping features with over 30% null values\n",
    "* Dropping the Miscellaneous and Missing/Undefined fire causes"
   ]
  },
  {
   "cell_type": "code",
   "execution_count": 1,
   "id": "73d93ba2-a569-42d2-9118-0af5d3ec3501",
   "metadata": {},
   "outputs": [],
   "source": [
    "import pandas as pd"
   ]
  },
  {
   "cell_type": "code",
   "execution_count": 21,
   "id": "a4dee1ea-35d5-4372-a32a-9c7fab0a5c5e",
   "metadata": {},
   "outputs": [
    {
     "name": "stderr",
     "output_type": "stream",
     "text": [
      "C:\\Users\\3_hal\\AppData\\Local\\Temp\\ipykernel_3792\\2716397296.py:1: DtypeWarning: Columns (9,11,12,13,15,16,36,38,41) have mixed types. Specify dtype option on import or set low_memory=False.\n",
      "  df = pd.read_csv(\"../../data/SQL/Fires.csv\", index_col = 0)\n"
     ]
    }
   ],
   "source": [
    "df = pd.read_csv(\"../../data/SQL/Fires.csv\", index_col = 0) "
   ]
  },
  {
   "cell_type": "code",
   "execution_count": 6,
   "id": "0e362412-71e4-416e-bb61-15263d4c8be8",
   "metadata": {},
   "outputs": [
    {
     "data": {
      "text/html": [
       "<div>\n",
       "<style scoped>\n",
       "    .dataframe tbody tr th:only-of-type {\n",
       "        vertical-align: middle;\n",
       "    }\n",
       "\n",
       "    .dataframe tbody tr th {\n",
       "        vertical-align: top;\n",
       "    }\n",
       "\n",
       "    .dataframe thead th {\n",
       "        text-align: right;\n",
       "    }\n",
       "</style>\n",
       "<table border=\"1\" class=\"dataframe\">\n",
       "  <thead>\n",
       "    <tr style=\"text-align: right;\">\n",
       "      <th></th>\n",
       "      <th>OBJECTID</th>\n",
       "      <th>FOD_ID</th>\n",
       "      <th>FPA_ID</th>\n",
       "      <th>SOURCE_SYSTEM_TYPE</th>\n",
       "      <th>SOURCE_SYSTEM</th>\n",
       "      <th>NWCG_REPORTING_AGENCY</th>\n",
       "      <th>NWCG_REPORTING_UNIT_ID</th>\n",
       "      <th>NWCG_REPORTING_UNIT_NAME</th>\n",
       "      <th>SOURCE_REPORTING_UNIT</th>\n",
       "      <th>SOURCE_REPORTING_UNIT_NAME</th>\n",
       "      <th>...</th>\n",
       "      <th>STATE</th>\n",
       "      <th>COUNTY</th>\n",
       "      <th>FIPS_CODE</th>\n",
       "      <th>FIPS_NAME</th>\n",
       "      <th>Shape</th>\n",
       "      <th>DISC_GREG_DATE</th>\n",
       "      <th>CONT_GREG_DATE</th>\n",
       "      <th>DISC_MONTH</th>\n",
       "      <th>DISC_DAY</th>\n",
       "      <th>DISC_DAYOFWEEK</th>\n",
       "    </tr>\n",
       "  </thead>\n",
       "  <tbody>\n",
       "    <tr>\n",
       "      <th>0</th>\n",
       "      <td>1</td>\n",
       "      <td>1</td>\n",
       "      <td>FS-1418826</td>\n",
       "      <td>FED</td>\n",
       "      <td>FS-FIRESTAT</td>\n",
       "      <td>FS</td>\n",
       "      <td>USCAPNF</td>\n",
       "      <td>Plumas National Forest</td>\n",
       "      <td>0511</td>\n",
       "      <td>Plumas National Forest</td>\n",
       "      <td>...</td>\n",
       "      <td>CA</td>\n",
       "      <td>63.0</td>\n",
       "      <td>63.0</td>\n",
       "      <td>Plumas</td>\n",
       "      <td>b'\\x00\\x01\\xad\\x10\\x00\\x00\\xe8d\\xc2\\x92_@^\\xc0...</td>\n",
       "      <td>2005-02-02</td>\n",
       "      <td>2005-02-02</td>\n",
       "      <td>2</td>\n",
       "      <td>2</td>\n",
       "      <td>2</td>\n",
       "    </tr>\n",
       "    <tr>\n",
       "      <th>1</th>\n",
       "      <td>2</td>\n",
       "      <td>2</td>\n",
       "      <td>FS-1418827</td>\n",
       "      <td>FED</td>\n",
       "      <td>FS-FIRESTAT</td>\n",
       "      <td>FS</td>\n",
       "      <td>USCAENF</td>\n",
       "      <td>Eldorado National Forest</td>\n",
       "      <td>0503</td>\n",
       "      <td>Eldorado National Forest</td>\n",
       "      <td>...</td>\n",
       "      <td>CA</td>\n",
       "      <td>61.0</td>\n",
       "      <td>61.0</td>\n",
       "      <td>Placer</td>\n",
       "      <td>b'\\x00\\x01\\xad\\x10\\x00\\x00T\\xb6\\xeej\\xe2\\x19^\\...</td>\n",
       "      <td>2004-05-12</td>\n",
       "      <td>2004-05-12</td>\n",
       "      <td>5</td>\n",
       "      <td>12</td>\n",
       "      <td>2</td>\n",
       "    </tr>\n",
       "    <tr>\n",
       "      <th>2</th>\n",
       "      <td>3</td>\n",
       "      <td>3</td>\n",
       "      <td>FS-1418835</td>\n",
       "      <td>FED</td>\n",
       "      <td>FS-FIRESTAT</td>\n",
       "      <td>FS</td>\n",
       "      <td>USCAENF</td>\n",
       "      <td>Eldorado National Forest</td>\n",
       "      <td>0503</td>\n",
       "      <td>Eldorado National Forest</td>\n",
       "      <td>...</td>\n",
       "      <td>CA</td>\n",
       "      <td>17.0</td>\n",
       "      <td>17.0</td>\n",
       "      <td>El Dorado</td>\n",
       "      <td>b'\\x00\\x01\\xad\\x10\\x00\\x00\\xd0\\xa5\\xa0W\\x13/^\\...</td>\n",
       "      <td>2004-05-31</td>\n",
       "      <td>2004-05-31</td>\n",
       "      <td>5</td>\n",
       "      <td>31</td>\n",
       "      <td>0</td>\n",
       "    </tr>\n",
       "    <tr>\n",
       "      <th>3</th>\n",
       "      <td>4</td>\n",
       "      <td>4</td>\n",
       "      <td>FS-1418845</td>\n",
       "      <td>FED</td>\n",
       "      <td>FS-FIRESTAT</td>\n",
       "      <td>FS</td>\n",
       "      <td>USCAENF</td>\n",
       "      <td>Eldorado National Forest</td>\n",
       "      <td>0503</td>\n",
       "      <td>Eldorado National Forest</td>\n",
       "      <td>...</td>\n",
       "      <td>CA</td>\n",
       "      <td>3.0</td>\n",
       "      <td>3.0</td>\n",
       "      <td>Alpine</td>\n",
       "      <td>b'\\x00\\x01\\xad\\x10\\x00\\x00\\x94\\xac\\xa3\\rt\\xfa]...</td>\n",
       "      <td>2004-06-28</td>\n",
       "      <td>2004-07-03</td>\n",
       "      <td>6</td>\n",
       "      <td>28</td>\n",
       "      <td>0</td>\n",
       "    </tr>\n",
       "    <tr>\n",
       "      <th>4</th>\n",
       "      <td>5</td>\n",
       "      <td>5</td>\n",
       "      <td>FS-1418847</td>\n",
       "      <td>FED</td>\n",
       "      <td>FS-FIRESTAT</td>\n",
       "      <td>FS</td>\n",
       "      <td>USCAENF</td>\n",
       "      <td>Eldorado National Forest</td>\n",
       "      <td>0503</td>\n",
       "      <td>Eldorado National Forest</td>\n",
       "      <td>...</td>\n",
       "      <td>CA</td>\n",
       "      <td>3.0</td>\n",
       "      <td>3.0</td>\n",
       "      <td>Alpine</td>\n",
       "      <td>b'\\x00\\x01\\xad\\x10\\x00\\x00@\\xe3\\xaa.\\xb7\\xfb]\\...</td>\n",
       "      <td>2004-06-28</td>\n",
       "      <td>2004-07-03</td>\n",
       "      <td>6</td>\n",
       "      <td>28</td>\n",
       "      <td>0</td>\n",
       "    </tr>\n",
       "  </tbody>\n",
       "</table>\n",
       "<p>5 rows × 44 columns</p>\n",
       "</div>"
      ],
      "text/plain": [
       "   OBJECTID  FOD_ID      FPA_ID SOURCE_SYSTEM_TYPE SOURCE_SYSTEM  \\\n",
       "0         1       1  FS-1418826                FED   FS-FIRESTAT   \n",
       "1         2       2  FS-1418827                FED   FS-FIRESTAT   \n",
       "2         3       3  FS-1418835                FED   FS-FIRESTAT   \n",
       "3         4       4  FS-1418845                FED   FS-FIRESTAT   \n",
       "4         5       5  FS-1418847                FED   FS-FIRESTAT   \n",
       "\n",
       "  NWCG_REPORTING_AGENCY NWCG_REPORTING_UNIT_ID  NWCG_REPORTING_UNIT_NAME  \\\n",
       "0                    FS                USCAPNF    Plumas National Forest   \n",
       "1                    FS                USCAENF  Eldorado National Forest   \n",
       "2                    FS                USCAENF  Eldorado National Forest   \n",
       "3                    FS                USCAENF  Eldorado National Forest   \n",
       "4                    FS                USCAENF  Eldorado National Forest   \n",
       "\n",
       "  SOURCE_REPORTING_UNIT SOURCE_REPORTING_UNIT_NAME  ... STATE COUNTY  \\\n",
       "0                  0511     Plumas National Forest  ...    CA   63.0   \n",
       "1                  0503   Eldorado National Forest  ...    CA   61.0   \n",
       "2                  0503   Eldorado National Forest  ...    CA   17.0   \n",
       "3                  0503   Eldorado National Forest  ...    CA    3.0   \n",
       "4                  0503   Eldorado National Forest  ...    CA    3.0   \n",
       "\n",
       "  FIPS_CODE  FIPS_NAME                                              Shape  \\\n",
       "0      63.0     Plumas  b'\\x00\\x01\\xad\\x10\\x00\\x00\\xe8d\\xc2\\x92_@^\\xc0...   \n",
       "1      61.0     Placer  b'\\x00\\x01\\xad\\x10\\x00\\x00T\\xb6\\xeej\\xe2\\x19^\\...   \n",
       "2      17.0  El Dorado  b'\\x00\\x01\\xad\\x10\\x00\\x00\\xd0\\xa5\\xa0W\\x13/^\\...   \n",
       "3       3.0     Alpine  b'\\x00\\x01\\xad\\x10\\x00\\x00\\x94\\xac\\xa3\\rt\\xfa]...   \n",
       "4       3.0     Alpine  b'\\x00\\x01\\xad\\x10\\x00\\x00@\\xe3\\xaa.\\xb7\\xfb]\\...   \n",
       "\n",
       "  DISC_GREG_DATE CONT_GREG_DATE DISC_MONTH DISC_DAY  DISC_DAYOFWEEK  \n",
       "0     2005-02-02     2005-02-02          2        2               2  \n",
       "1     2004-05-12     2004-05-12          5       12               2  \n",
       "2     2004-05-31     2004-05-31          5       31               0  \n",
       "3     2004-06-28     2004-07-03          6       28               0  \n",
       "4     2004-06-28     2004-07-03          6       28               0  \n",
       "\n",
       "[5 rows x 44 columns]"
      ]
     },
     "execution_count": 6,
     "metadata": {},
     "output_type": "execute_result"
    }
   ],
   "source": [
    "df.head()"
   ]
  },
  {
   "cell_type": "code",
   "execution_count": 17,
   "id": "51496a04-f60d-4dd6-abf2-814ba8b0fa29",
   "metadata": {},
   "outputs": [
    {
     "data": {
      "text/plain": [
       "(284151, 44)"
      ]
     },
     "execution_count": 17,
     "metadata": {},
     "output_type": "execute_result"
    }
   ],
   "source": [
    "df.shape"
   ]
  },
  {
   "cell_type": "markdown",
   "id": "c0570c2e-55ba-4bcf-bee2-b036b85c52e6",
   "metadata": {},
   "source": [
    "### Fire Duration Feature"
   ]
  },
  {
   "cell_type": "code",
   "execution_count": 31,
   "id": "a947048a-6a69-43a8-a77b-08dbebd3bb14",
   "metadata": {},
   "outputs": [
    {
     "name": "stderr",
     "output_type": "stream",
     "text": [
      "C:\\Users\\3_hal\\AppData\\Local\\Temp\\ipykernel_3792\\2297893737.py:3: SettingWithCopyWarning: \n",
      "A value is trying to be set on a copy of a slice from a DataFrame\n",
      "\n",
      "See the caveats in the documentation: https://pandas.pydata.org/pandas-docs/stable/user_guide/indexing.html#returning-a-view-versus-a-copy\n",
      "  duration.dropna(inplace=True)\n"
     ]
    }
   ],
   "source": [
    "#we can correlate fire size with burn length so we can impute the containment date\n",
    "duration = df[['DISCOVERY_DOY', 'CONT_DOY','FIRE_SIZE_CLASS']]\n",
    "duration.dropna(inplace=True)"
   ]
  },
  {
   "cell_type": "code",
   "execution_count": 32,
   "id": "3db31640-921b-431a-899d-bf662a98f701",
   "metadata": {},
   "outputs": [
    {
     "data": {
      "text/plain": [
       "DISCOVERY_DOY        int64\n",
       "CONT_DOY           float64\n",
       "FIRE_SIZE_CLASS     object\n",
       "dtype: object"
      ]
     },
     "execution_count": 32,
     "metadata": {},
     "output_type": "execute_result"
    }
   ],
   "source": [
    "duration.dtypes"
   ]
  },
  {
   "cell_type": "code",
   "execution_count": 33,
   "id": "9fd9fe15-7f92-436b-a794-b46c3aa2c8e5",
   "metadata": {},
   "outputs": [
    {
     "name": "stderr",
     "output_type": "stream",
     "text": [
      "C:\\Users\\3_hal\\AppData\\Local\\Temp\\ipykernel_3792\\2299038276.py:1: SettingWithCopyWarning: \n",
      "A value is trying to be set on a copy of a slice from a DataFrame.\n",
      "Try using .loc[row_indexer,col_indexer] = value instead\n",
      "\n",
      "See the caveats in the documentation: https://pandas.pydata.org/pandas-docs/stable/user_guide/indexing.html#returning-a-view-versus-a-copy\n",
      "  duration['Fire_duration'] = duration['CONT_DOY'] - duration['DISCOVERY_DOY']\n"
     ]
    }
   ],
   "source": [
    "duration['Fire_duration'] = duration['CONT_DOY'] - duration['DISCOVERY_DOY']"
   ]
  },
  {
   "cell_type": "code",
   "execution_count": 34,
   "id": "bef7f4bb-c996-4d39-8d88-ec801ac9e6cc",
   "metadata": {},
   "outputs": [
    {
     "data": {
      "text/html": [
       "<div>\n",
       "<style scoped>\n",
       "    .dataframe tbody tr th:only-of-type {\n",
       "        vertical-align: middle;\n",
       "    }\n",
       "\n",
       "    .dataframe tbody tr th {\n",
       "        vertical-align: top;\n",
       "    }\n",
       "\n",
       "    .dataframe thead th {\n",
       "        text-align: right;\n",
       "    }\n",
       "</style>\n",
       "<table border=\"1\" class=\"dataframe\">\n",
       "  <thead>\n",
       "    <tr style=\"text-align: right;\">\n",
       "      <th></th>\n",
       "      <th>DISCOVERY_DOY</th>\n",
       "      <th>CONT_DOY</th>\n",
       "      <th>FIRE_SIZE_CLASS</th>\n",
       "      <th>Fire_duration</th>\n",
       "    </tr>\n",
       "  </thead>\n",
       "  <tbody>\n",
       "    <tr>\n",
       "      <th>0</th>\n",
       "      <td>33</td>\n",
       "      <td>33.0</td>\n",
       "      <td>A</td>\n",
       "      <td>0.0</td>\n",
       "    </tr>\n",
       "    <tr>\n",
       "      <th>1</th>\n",
       "      <td>133</td>\n",
       "      <td>133.0</td>\n",
       "      <td>A</td>\n",
       "      <td>0.0</td>\n",
       "    </tr>\n",
       "    <tr>\n",
       "      <th>2</th>\n",
       "      <td>152</td>\n",
       "      <td>152.0</td>\n",
       "      <td>A</td>\n",
       "      <td>0.0</td>\n",
       "    </tr>\n",
       "    <tr>\n",
       "      <th>3</th>\n",
       "      <td>180</td>\n",
       "      <td>185.0</td>\n",
       "      <td>A</td>\n",
       "      <td>5.0</td>\n",
       "    </tr>\n",
       "    <tr>\n",
       "      <th>4</th>\n",
       "      <td>180</td>\n",
       "      <td>185.0</td>\n",
       "      <td>A</td>\n",
       "      <td>5.0</td>\n",
       "    </tr>\n",
       "  </tbody>\n",
       "</table>\n",
       "</div>"
      ],
      "text/plain": [
       "   DISCOVERY_DOY  CONT_DOY FIRE_SIZE_CLASS  Fire_duration\n",
       "0             33      33.0               A            0.0\n",
       "1            133     133.0               A            0.0\n",
       "2            152     152.0               A            0.0\n",
       "3            180     185.0               A            5.0\n",
       "4            180     185.0               A            5.0"
      ]
     },
     "execution_count": 34,
     "metadata": {},
     "output_type": "execute_result"
    }
   ],
   "source": [
    "duration.head()"
   ]
  },
  {
   "cell_type": "code",
   "execution_count": 35,
   "id": "981050e5-285a-4f50-8760-0c7d38fca5df",
   "metadata": {},
   "outputs": [
    {
     "data": {
      "text/html": [
       "<div>\n",
       "<style scoped>\n",
       "    .dataframe tbody tr th:only-of-type {\n",
       "        vertical-align: middle;\n",
       "    }\n",
       "\n",
       "    .dataframe tbody tr th {\n",
       "        vertical-align: top;\n",
       "    }\n",
       "\n",
       "    .dataframe thead th {\n",
       "        text-align: right;\n",
       "    }\n",
       "</style>\n",
       "<table border=\"1\" class=\"dataframe\">\n",
       "  <thead>\n",
       "    <tr style=\"text-align: right;\">\n",
       "      <th></th>\n",
       "      <th>DISCOVERY_DOY</th>\n",
       "      <th>CONT_DOY</th>\n",
       "      <th>Fire_duration</th>\n",
       "    </tr>\n",
       "  </thead>\n",
       "  <tbody>\n",
       "    <tr>\n",
       "      <th>count</th>\n",
       "      <td>174022.000000</td>\n",
       "      <td>174022.000000</td>\n",
       "      <td>174022.000000</td>\n",
       "    </tr>\n",
       "    <tr>\n",
       "      <th>mean</th>\n",
       "      <td>207.507855</td>\n",
       "      <td>208.976440</td>\n",
       "      <td>1.468584</td>\n",
       "    </tr>\n",
       "    <tr>\n",
       "      <th>std</th>\n",
       "      <td>55.994966</td>\n",
       "      <td>56.472801</td>\n",
       "      <td>8.472870</td>\n",
       "    </tr>\n",
       "    <tr>\n",
       "      <th>min</th>\n",
       "      <td>1.000000</td>\n",
       "      <td>1.000000</td>\n",
       "      <td>-364.000000</td>\n",
       "    </tr>\n",
       "    <tr>\n",
       "      <th>25%</th>\n",
       "      <td>181.000000</td>\n",
       "      <td>182.000000</td>\n",
       "      <td>0.000000</td>\n",
       "    </tr>\n",
       "    <tr>\n",
       "      <th>50%</th>\n",
       "      <td>211.000000</td>\n",
       "      <td>212.000000</td>\n",
       "      <td>0.000000</td>\n",
       "    </tr>\n",
       "    <tr>\n",
       "      <th>75%</th>\n",
       "      <td>241.000000</td>\n",
       "      <td>243.000000</td>\n",
       "      <td>1.000000</td>\n",
       "    </tr>\n",
       "    <tr>\n",
       "      <th>max</th>\n",
       "      <td>366.000000</td>\n",
       "      <td>366.000000</td>\n",
       "      <td>335.000000</td>\n",
       "    </tr>\n",
       "  </tbody>\n",
       "</table>\n",
       "</div>"
      ],
      "text/plain": [
       "       DISCOVERY_DOY       CONT_DOY  Fire_duration\n",
       "count  174022.000000  174022.000000  174022.000000\n",
       "mean      207.507855     208.976440       1.468584\n",
       "std        55.994966      56.472801       8.472870\n",
       "min         1.000000       1.000000    -364.000000\n",
       "25%       181.000000     182.000000       0.000000\n",
       "50%       211.000000     212.000000       0.000000\n",
       "75%       241.000000     243.000000       1.000000\n",
       "max       366.000000     366.000000     335.000000"
      ]
     },
     "execution_count": 35,
     "metadata": {},
     "output_type": "execute_result"
    }
   ],
   "source": [
    "duration.describe()"
   ]
  },
  {
   "cell_type": "markdown",
   "id": "9cd0600e-33a6-4e6b-8fcb-07d83ebefa8f",
   "metadata": {},
   "source": [
    "Looks like fires that started and ended in different years are causing some negative fire durations."
   ]
  },
  {
   "cell_type": "code",
   "execution_count": 38,
   "id": "30730228-4811-40c2-b164-be1f94193fa2",
   "metadata": {},
   "outputs": [
    {
     "data": {
      "text/html": [
       "<div>\n",
       "<style scoped>\n",
       "    .dataframe tbody tr th:only-of-type {\n",
       "        vertical-align: middle;\n",
       "    }\n",
       "\n",
       "    .dataframe tbody tr th {\n",
       "        vertical-align: top;\n",
       "    }\n",
       "\n",
       "    .dataframe thead th {\n",
       "        text-align: right;\n",
       "    }\n",
       "</style>\n",
       "<table border=\"1\" class=\"dataframe\">\n",
       "  <thead>\n",
       "    <tr style=\"text-align: right;\">\n",
       "      <th></th>\n",
       "      <th>DISCOVERY_DOY</th>\n",
       "      <th>CONT_DOY</th>\n",
       "      <th>FIRE_SIZE_CLASS</th>\n",
       "      <th>Fire_duration</th>\n",
       "    </tr>\n",
       "  </thead>\n",
       "  <tbody>\n",
       "    <tr>\n",
       "      <th>7937</th>\n",
       "      <td>217</td>\n",
       "      <td>7.0</td>\n",
       "      <td>G</td>\n",
       "      <td>-210.0</td>\n",
       "    </tr>\n",
       "    <tr>\n",
       "      <th>8275</th>\n",
       "      <td>364</td>\n",
       "      <td>3.0</td>\n",
       "      <td>A</td>\n",
       "      <td>-361.0</td>\n",
       "    </tr>\n",
       "    <tr>\n",
       "      <th>16757</th>\n",
       "      <td>301</td>\n",
       "      <td>300.0</td>\n",
       "      <td>A</td>\n",
       "      <td>-1.0</td>\n",
       "    </tr>\n",
       "    <tr>\n",
       "      <th>40026</th>\n",
       "      <td>365</td>\n",
       "      <td>1.0</td>\n",
       "      <td>D</td>\n",
       "      <td>-364.0</td>\n",
       "    </tr>\n",
       "    <tr>\n",
       "      <th>46196</th>\n",
       "      <td>365</td>\n",
       "      <td>8.0</td>\n",
       "      <td>E</td>\n",
       "      <td>-357.0</td>\n",
       "    </tr>\n",
       "    <tr>\n",
       "      <th>64355</th>\n",
       "      <td>365</td>\n",
       "      <td>2.0</td>\n",
       "      <td>E</td>\n",
       "      <td>-363.0</td>\n",
       "    </tr>\n",
       "    <tr>\n",
       "      <th>65943</th>\n",
       "      <td>365</td>\n",
       "      <td>2.0</td>\n",
       "      <td>D</td>\n",
       "      <td>-363.0</td>\n",
       "    </tr>\n",
       "    <tr>\n",
       "      <th>68480</th>\n",
       "      <td>343</td>\n",
       "      <td>1.0</td>\n",
       "      <td>A</td>\n",
       "      <td>-342.0</td>\n",
       "    </tr>\n",
       "    <tr>\n",
       "      <th>214230</th>\n",
       "      <td>283</td>\n",
       "      <td>180.0</td>\n",
       "      <td>A</td>\n",
       "      <td>-103.0</td>\n",
       "    </tr>\n",
       "    <tr>\n",
       "      <th>224562</th>\n",
       "      <td>365</td>\n",
       "      <td>1.0</td>\n",
       "      <td>A</td>\n",
       "      <td>-364.0</td>\n",
       "    </tr>\n",
       "    <tr>\n",
       "      <th>257222</th>\n",
       "      <td>305</td>\n",
       "      <td>5.0</td>\n",
       "      <td>A</td>\n",
       "      <td>-300.0</td>\n",
       "    </tr>\n",
       "    <tr>\n",
       "      <th>260645</th>\n",
       "      <td>195</td>\n",
       "      <td>41.0</td>\n",
       "      <td>A</td>\n",
       "      <td>-154.0</td>\n",
       "    </tr>\n",
       "    <tr>\n",
       "      <th>260646</th>\n",
       "      <td>195</td>\n",
       "      <td>41.0</td>\n",
       "      <td>A</td>\n",
       "      <td>-154.0</td>\n",
       "    </tr>\n",
       "    <tr>\n",
       "      <th>260647</th>\n",
       "      <td>196</td>\n",
       "      <td>41.0</td>\n",
       "      <td>A</td>\n",
       "      <td>-155.0</td>\n",
       "    </tr>\n",
       "    <tr>\n",
       "      <th>263949</th>\n",
       "      <td>320</td>\n",
       "      <td>23.0</td>\n",
       "      <td>C</td>\n",
       "      <td>-297.0</td>\n",
       "    </tr>\n",
       "    <tr>\n",
       "      <th>263950</th>\n",
       "      <td>197</td>\n",
       "      <td>41.0</td>\n",
       "      <td>A</td>\n",
       "      <td>-156.0</td>\n",
       "    </tr>\n",
       "    <tr>\n",
       "      <th>263951</th>\n",
       "      <td>213</td>\n",
       "      <td>41.0</td>\n",
       "      <td>E</td>\n",
       "      <td>-172.0</td>\n",
       "    </tr>\n",
       "  </tbody>\n",
       "</table>\n",
       "</div>"
      ],
      "text/plain": [
       "        DISCOVERY_DOY  CONT_DOY FIRE_SIZE_CLASS  Fire_duration\n",
       "7937              217       7.0               G         -210.0\n",
       "8275              364       3.0               A         -361.0\n",
       "16757             301     300.0               A           -1.0\n",
       "40026             365       1.0               D         -364.0\n",
       "46196             365       8.0               E         -357.0\n",
       "64355             365       2.0               E         -363.0\n",
       "65943             365       2.0               D         -363.0\n",
       "68480             343       1.0               A         -342.0\n",
       "214230            283     180.0               A         -103.0\n",
       "224562            365       1.0               A         -364.0\n",
       "257222            305       5.0               A         -300.0\n",
       "260645            195      41.0               A         -154.0\n",
       "260646            195      41.0               A         -154.0\n",
       "260647            196      41.0               A         -155.0\n",
       "263949            320      23.0               C         -297.0\n",
       "263950            197      41.0               A         -156.0\n",
       "263951            213      41.0               E         -172.0"
      ]
     },
     "execution_count": 38,
     "metadata": {},
     "output_type": "execute_result"
    }
   ],
   "source": [
    "duration[duration['Fire_duration'] < 0]"
   ]
  },
  {
   "cell_type": "code",
   "execution_count": 40,
   "id": "6e371d99-380f-44a9-a55a-57a19d2157fa",
   "metadata": {},
   "outputs": [],
   "source": [
    "#lets just add 365 to these values\n",
    "duration.loc[duration['Fire_duration'] < 0, 'Fire_duration'] = duration['Fire_duration'] + 365"
   ]
  },
  {
   "cell_type": "code",
   "execution_count": 42,
   "id": "003ef6ab-5d15-4aee-87a0-83f5c252125a",
   "metadata": {},
   "outputs": [
    {
     "data": {
      "text/html": [
       "<div>\n",
       "<style scoped>\n",
       "    .dataframe tbody tr th:only-of-type {\n",
       "        vertical-align: middle;\n",
       "    }\n",
       "\n",
       "    .dataframe tbody tr th {\n",
       "        vertical-align: top;\n",
       "    }\n",
       "\n",
       "    .dataframe thead th {\n",
       "        text-align: right;\n",
       "    }\n",
       "</style>\n",
       "<table border=\"1\" class=\"dataframe\">\n",
       "  <thead>\n",
       "    <tr style=\"text-align: right;\">\n",
       "      <th></th>\n",
       "      <th>DISCOVERY_DOY</th>\n",
       "      <th>CONT_DOY</th>\n",
       "      <th>FIRE_SIZE_CLASS</th>\n",
       "      <th>Fire_duration</th>\n",
       "    </tr>\n",
       "  </thead>\n",
       "  <tbody>\n",
       "  </tbody>\n",
       "</table>\n",
       "</div>"
      ],
      "text/plain": [
       "Empty DataFrame\n",
       "Columns: [DISCOVERY_DOY, CONT_DOY, FIRE_SIZE_CLASS, Fire_duration]\n",
       "Index: []"
      ]
     },
     "execution_count": 42,
     "metadata": {},
     "output_type": "execute_result"
    }
   ],
   "source": [
    "#check\n",
    "duration[duration['Fire_duration'] < 0]"
   ]
  },
  {
   "cell_type": "code",
   "execution_count": 43,
   "id": "e8a48a05-a8b7-4641-8e7f-5e6bb468f6db",
   "metadata": {},
   "outputs": [
    {
     "data": {
      "text/plain": [
       "FIRE_SIZE_CLASS\n",
       "A     0.881918\n",
       "B     1.461714\n",
       "C     3.808609\n",
       "D     7.288856\n",
       "E     8.873436\n",
       "F    15.489555\n",
       "G    28.599721\n",
       "Name: Fire_duration, dtype: float64"
      ]
     },
     "execution_count": 43,
     "metadata": {},
     "output_type": "execute_result"
    }
   ],
   "source": [
    "# mean fire duration by grouped size of fire\n",
    "fireclass_mean = duration.groupby('FIRE_SIZE_CLASS')['Fire_duration'].mean()\n",
    "fireclass_mean"
   ]
  },
  {
   "cell_type": "code",
   "execution_count": 47,
   "id": "ab403ffa-56ff-4e46-9a7f-c12e0468facb",
   "metadata": {},
   "outputs": [],
   "source": [
    "def fireMeanLength(x):\n",
    "    '''\n",
    "    Function that returns a fire length for a given fire size class\n",
    "    x is a string A to G\n",
    "    '''\n",
    "    fire_classes = ['A', 'B', 'C', 'D', 'E', 'F', 'G']\n",
    "    position = fire_classes.index(x)\n",
    "    \n",
    "    return pd.to_timedelta(fireclass_mean[position], unit='D')"
   ]
  },
  {
   "cell_type": "code",
   "execution_count": 48,
   "id": "d0121bc6-441e-47a5-a17a-4ca4ff803240",
   "metadata": {},
   "outputs": [],
   "source": [
    "df['FIRE_MEAN_DURATION'] = df['FIRE_SIZE_CLASS'].apply(lambda x: fireMeanLength(x))"
   ]
  },
  {
   "cell_type": "code",
   "execution_count": 57,
   "id": "5a569b12-4fc7-47c6-99fd-bfdcb89edfda",
   "metadata": {},
   "outputs": [],
   "source": [
    "df['CONT_GREG_DATE'] = pd.to_datetime(df['CONT_GREG_DATE'])"
   ]
  },
  {
   "cell_type": "code",
   "execution_count": 60,
   "id": "00cb1a21-e3ab-4efa-adc8-2cfe3f75968d",
   "metadata": {},
   "outputs": [],
   "source": [
    "df['DISC_GREG_DATE'] = pd.to_datetime(df['DISC_GREG_DATE'])"
   ]
  },
  {
   "cell_type": "code",
   "execution_count": 61,
   "id": "34587ba4-5e6a-41a0-b80d-1e511a561cb3",
   "metadata": {},
   "outputs": [
    {
     "data": {
      "text/plain": [
       "(dtype('<M8[ns]'), dtype('<M8[ns]'))"
      ]
     },
     "execution_count": 61,
     "metadata": {},
     "output_type": "execute_result"
    }
   ],
   "source": [
    "df['CONT_GREG_DATE'].dtype, df['DISC_GREG_DATE'].dtype"
   ]
  },
  {
   "cell_type": "markdown",
   "id": "a6ca4cdc-3088-4104-b859-c1d9dbf9cddc",
   "metadata": {},
   "source": [
    "We will use the mean fire duration feature to impute the containment dates"
   ]
  },
  {
   "cell_type": "code",
   "execution_count": 62,
   "id": "d8dbe97d-4043-4ee9-a82e-0af9109d4d23",
   "metadata": {
    "tags": []
   },
   "outputs": [],
   "source": [
    "# Filling all missing data in CONT_GREG_DATE with the calculated date\n",
    "df['CONT_GREG_DATE'].fillna(value=(df['DISC_GREG_DATE'] + df['FIRE_MEAN_DURATION']), inplace=True)\n",
    "\n",
    "# Calculating the burn length of fire\n",
    "df['FIRE_DURATION'] = df['CONT_GREG_DATE'] - df['DISC_GREG_DATE']"
   ]
  },
  {
   "cell_type": "code",
   "execution_count": 66,
   "id": "4530b90c-c337-4755-afe0-45c1621a8262",
   "metadata": {},
   "outputs": [],
   "source": [
    "# Changing the dtype of Fire_duration from dt to int\n",
    "df['FIRE_DURATION'] = df['FIRE_DURATION'].dt.days"
   ]
  },
  {
   "cell_type": "code",
   "execution_count": 85,
   "id": "049a32a8-1c0a-4cde-a9ec-8f79252d9ced",
   "metadata": {},
   "outputs": [],
   "source": [
    "#we can now drop the mean duration\n",
    "df.drop('FIRE_MEAN_DURATION', axis = 1, inplace = True)"
   ]
  },
  {
   "cell_type": "markdown",
   "id": "e3f1b7ae-b2f4-4d25-84b3-0523047df66d",
   "metadata": {},
   "source": [
    "#### Dropping Misc/unknown fire causes from target"
   ]
  },
  {
   "cell_type": "code",
   "execution_count": 68,
   "id": "a085b78a-435c-42d4-bfed-553c54925b6f",
   "metadata": {},
   "outputs": [],
   "source": [
    "df = df[~df['STAT_CAUSE_DESCR'].isin(['Miscellaneous', 'Missing/Undefined'])]"
   ]
  },
  {
   "cell_type": "code",
   "execution_count": 73,
   "id": "487994b2-9178-42ef-8ae7-828016a8d2f7",
   "metadata": {},
   "outputs": [],
   "source": [
    "labels = df['STAT_CAUSE_DESCR'].unique()"
   ]
  },
  {
   "cell_type": "code",
   "execution_count": 79,
   "id": "4f69419a-607e-4b76-bdc8-3f0ac59c7198",
   "metadata": {},
   "outputs": [],
   "source": [
    "import matplotlib.pyplot as plt\n",
    "import seaborn as sns"
   ]
  },
  {
   "cell_type": "code",
   "execution_count": 80,
   "id": "52499da7-772e-4d63-b29e-c0fcf33c9516",
   "metadata": {},
   "outputs": [
    {
     "name": "stdout",
     "output_type": "stream",
     "text": [
      "             index  STAT_CAUSE_DESCR\n",
      "0        Lightning             68250\n",
      "1    Equipment Use             44958\n",
      "2   Debris Burning             24800\n",
      "3            Arson             22942\n",
      "4         Campfire             20812\n",
      "5          Smoking              9163\n",
      "6         Children              9155\n",
      "7        Powerline              1814\n",
      "8        Fireworks              1781\n",
      "9         Railroad              1299\n",
      "10       Structure               325\n"
     ]
    },
    {
     "data": {
      "image/png": "[encoded data removed]",
      "text/plain": [
       "<Figure size 720x432 with 1 Axes>"
      ]
     },
     "metadata": {
      "needs_background": "light"
     },
     "output_type": "display_data"
    }
   ],
   "source": [
    "# Bar plot for class imbalance\n",
    "\n",
    "cause_counts = pd.DataFrame(df['STAT_CAUSE_DESCR'].value_counts().reset_index(drop=False))\n",
    "print(cause_counts)\n",
    "\n",
    "plt.figure(figsize=(10,6))\n",
    "sns.barplot(x='index', y='STAT_CAUSE_DESCR', data=cause_counts, palette='magma_r')\n",
    "plt.title('Fire Cause Counts', size=20)\n",
    "plt.xlabel('')\n",
    "plt.xticks(rotation=45, size=12, horizontalalignment='right')\n",
    "plt.ylabel('Count', size=18)\n",
    "plt.yticks(size=12)\n",
    "plt.tight_layout()\n",
    "# plt.savefig./Figures/FireCausesCounts.pngpng', dpi=300)\n",
    "plt.show()"
   ]
  },
  {
   "cell_type": "code",
   "execution_count": null,
   "id": "c79d660d-4814-40d9-a9d8-27768f1f4225",
   "metadata": {},
   "outputs": [],
   "source": []
  },
  {
   "cell_type": "markdown",
   "id": "728ba029-8797-4e03-868d-f54f9e1029aa",
   "metadata": {},
   "source": [
    "### Dropping features with 30%+ null values"
   ]
  },
  {
   "cell_type": "code",
   "execution_count": 74,
   "id": "6a6f92a7-e95b-4781-9d70-7fc7860a6113",
   "metadata": {},
   "outputs": [],
   "source": [
    "def drop_null_30(df):\n",
    "    \"\"\"\n",
    "    drops all columns from input df with missing data of over 30%\n",
    "    \"\"\"\n",
    "    percent_missing = round(df.isnull().sum() * 100 / len(df))\n",
    "    missing_values = pd.DataFrame({'column_name': df.columns, 'percent_missing': percent_missing})\n",
    "    \n",
    "    cols_30 = missing_values[missing_values['percent_missing'] > 30].index\n",
    "    df.drop(cols_30, inplace=True, axis = 1)\n",
    "    return f'The following columns have been dropped: {cols_30}'"
   ]
  },
  {
   "cell_type": "code",
   "execution_count": 75,
   "id": "f82d2061-5031-4b5b-8fcd-bb6e4d37fcc7",
   "metadata": {},
   "outputs": [
    {
     "data": {
      "text/plain": [
       "\"The following columns have been dropped: Index(['LOCAL_FIRE_REPORT_ID', 'LOCAL_INCIDENT_ID', 'FIRE_CODE',\\n       'ICS_209_INCIDENT_NUMBER', 'ICS_209_NAME', 'MTBS_ID', 'MTBS_FIRE_NAME',\\n       'COMPLEX_NAME', 'DISCOVERY_TIME', 'CONT_DATE', 'CONT_DOY', 'CONT_TIME',\\n       'COUNTY', 'FIPS_CODE', 'FIPS_NAME'],\\n      dtype='object')\""
      ]
     },
     "execution_count": 75,
     "metadata": {},
     "output_type": "execute_result"
    }
   ],
   "source": [
    "drop_null_30(df)"
   ]
  },
  {
   "cell_type": "markdown",
   "id": "75d4b507-0948-4dc5-a9ee-81f36c5bb8b1",
   "metadata": {},
   "source": [
    "#### Save cleaned dataset to file"
   ]
  },
  {
   "cell_type": "code",
   "execution_count": 86,
   "id": "2f892911-26d1-44a7-bc6e-2f4874a3be0c",
   "metadata": {},
   "outputs": [],
   "source": [
    "df.to_csv('../../data/SQL/fires_clean.csv') "
   ]
  },
  {
   "cell_type": "code",
   "execution_count": null,
   "id": "629c1ae3-414a-49de-98bf-5780965c5aad",
   "metadata": {},
   "outputs": [],
   "source": []
  },
  {
   "cell_type": "code",
   "execution_count": null,
   "id": "1f27c58f-b9c7-4dba-9d55-d6b4705e1a0a",
   "metadata": {},
   "outputs": [],
   "source": []
  }
 ],
 "metadata": {
  "kernelspec": {
   "display_name": "lighthouse_env",
   "language": "python",
   "name": "lighthouse_env"
  },
  "language_info": {
   "codemirror_mode": {
    "name": "ipython",
    "version": 3
   },
   "file_extension": ".py",
   "mimetype": "text/x-python",
   "name": "python",
   "nbconvert_exporter": "python",
   "pygments_lexer": "ipython3",
   "version": "3.9.13"
  }
 },
 "nbformat": 4,
 "nbformat_minor": 5
}
