{
 "cells": [
  {
   "cell_type": "markdown",
   "id": "4e1debb1-0e80-4152-9f58-7badfbab5004",
   "metadata": {},
   "source": [
    "# Fire\n",
    "\n",
    "Explore the problem in following stages:\n",
    "1. Hypothesis Generation – understanding the problem better by brainstorming possible factors that can impact the outcome\n",
    "2. Data Exploration – looking at categorical and continuous feature summaries and making inferences about the data.\n",
    "3. Data Cleaning – imputing missing values in the data and checking for outliers\n",
    "4. Feature Engineering – modifying existing variables and creating new ones for analysis\n",
    "5. Model Building – making predictive models on the data\n",
    "\n",
    "## 5. Model Building"
   ]
  },
  {
   "cell_type": "code",
   "execution_count": 1,
   "id": "73d93ba2-a569-42d2-9118-0af5d3ec3501",
   "metadata": {},
   "outputs": [],
   "source": [
    "import pandas as pd"
   ]
  },
  {
   "cell_type": "code",
   "execution_count": 2,
   "id": "a4dee1ea-35d5-4372-a32a-9c7fab0a5c5e",
   "metadata": {},
   "outputs": [],
   "source": [
    "df = pd.read_csv(\"../../data/SQL/data_weather.csv\", index_col = 0)"
   ]
  },
  {
   "cell_type": "code",
   "execution_count": 3,
   "id": "0e362412-71e4-416e-bb61-15263d4c8be8",
   "metadata": {},
   "outputs": [
    {
     "data": {
      "text/html": [
       "<div>\n",
       "<style scoped>\n",
       "    .dataframe tbody tr th:only-of-type {\n",
       "        vertical-align: middle;\n",
       "    }\n",
       "\n",
       "    .dataframe tbody tr th {\n",
       "        vertical-align: top;\n",
       "    }\n",
       "\n",
       "    .dataframe thead th {\n",
       "        text-align: right;\n",
       "    }\n",
       "</style>\n",
       "<table border=\"1\" class=\"dataframe\">\n",
       "  <thead>\n",
       "    <tr style=\"text-align: right;\">\n",
       "      <th></th>\n",
       "      <th>OBJECTID</th>\n",
       "      <th>FOD_ID</th>\n",
       "      <th>FPA_ID</th>\n",
       "      <th>SOURCE_SYSTEM_TYPE</th>\n",
       "      <th>SOURCE_SYSTEM</th>\n",
       "      <th>NWCG_REPORTING_AGENCY</th>\n",
       "      <th>NWCG_REPORTING_UNIT_ID</th>\n",
       "      <th>NWCG_REPORTING_UNIT_NAME</th>\n",
       "      <th>SOURCE_REPORTING_UNIT</th>\n",
       "      <th>SOURCE_REPORTING_UNIT_NAME</th>\n",
       "      <th>...</th>\n",
       "      <th>Wind Gusts (10 m)</th>\n",
       "      <th>Soil Temperature (0-7 cm)</th>\n",
       "      <th>Soil Temperature (7-28 cm)</th>\n",
       "      <th>Soil Moisture (0-7 cm)</th>\n",
       "      <th>Soil Moisture (7-28 cm)</th>\n",
       "      <th>Maximum Temperature (2 m)</th>\n",
       "      <th>Minimum Temperature (2 m)</th>\n",
       "      <th>Precipitation Sum</th>\n",
       "      <th>Rain Sum</th>\n",
       "      <th>Snowfall Sum</th>\n",
       "    </tr>\n",
       "  </thead>\n",
       "  <tbody>\n",
       "    <tr>\n",
       "      <th>0</th>\n",
       "      <td>2</td>\n",
       "      <td>2</td>\n",
       "      <td>FS-1418827</td>\n",
       "      <td>FED</td>\n",
       "      <td>FS-FIRESTAT</td>\n",
       "      <td>FS</td>\n",
       "      <td>USCAENF</td>\n",
       "      <td>Eldorado National Forest</td>\n",
       "      <td>0503</td>\n",
       "      <td>Eldorado National Forest</td>\n",
       "      <td>...</td>\n",
       "      <td>30.0</td>\n",
       "      <td>5.0</td>\n",
       "      <td>4.0</td>\n",
       "      <td>0.0</td>\n",
       "      <td>0.0</td>\n",
       "      <td>15.0</td>\n",
       "      <td>0.0</td>\n",
       "      <td>0.0</td>\n",
       "      <td>0.0</td>\n",
       "      <td>0.0</td>\n",
       "    </tr>\n",
       "    <tr>\n",
       "      <th>1</th>\n",
       "      <td>3</td>\n",
       "      <td>3</td>\n",
       "      <td>FS-1418835</td>\n",
       "      <td>FED</td>\n",
       "      <td>FS-FIRESTAT</td>\n",
       "      <td>FS</td>\n",
       "      <td>USCAENF</td>\n",
       "      <td>Eldorado National Forest</td>\n",
       "      <td>0503</td>\n",
       "      <td>Eldorado National Forest</td>\n",
       "      <td>...</td>\n",
       "      <td>21.0</td>\n",
       "      <td>17.0</td>\n",
       "      <td>15.0</td>\n",
       "      <td>0.0</td>\n",
       "      <td>0.0</td>\n",
       "      <td>27.0</td>\n",
       "      <td>9.0</td>\n",
       "      <td>0.0</td>\n",
       "      <td>0.0</td>\n",
       "      <td>0.0</td>\n",
       "    </tr>\n",
       "    <tr>\n",
       "      <th>2</th>\n",
       "      <td>4</td>\n",
       "      <td>4</td>\n",
       "      <td>FS-1418845</td>\n",
       "      <td>FED</td>\n",
       "      <td>FS-FIRESTAT</td>\n",
       "      <td>FS</td>\n",
       "      <td>USCAENF</td>\n",
       "      <td>Eldorado National Forest</td>\n",
       "      <td>0503</td>\n",
       "      <td>Eldorado National Forest</td>\n",
       "      <td>...</td>\n",
       "      <td>18.0</td>\n",
       "      <td>12.0</td>\n",
       "      <td>12.0</td>\n",
       "      <td>0.0</td>\n",
       "      <td>0.0</td>\n",
       "      <td>21.0</td>\n",
       "      <td>6.0</td>\n",
       "      <td>5.0</td>\n",
       "      <td>5.0</td>\n",
       "      <td>0.0</td>\n",
       "    </tr>\n",
       "    <tr>\n",
       "      <th>3</th>\n",
       "      <td>5</td>\n",
       "      <td>5</td>\n",
       "      <td>FS-1418847</td>\n",
       "      <td>FED</td>\n",
       "      <td>FS-FIRESTAT</td>\n",
       "      <td>FS</td>\n",
       "      <td>USCAENF</td>\n",
       "      <td>Eldorado National Forest</td>\n",
       "      <td>0503</td>\n",
       "      <td>Eldorado National Forest</td>\n",
       "      <td>...</td>\n",
       "      <td>18.0</td>\n",
       "      <td>12.0</td>\n",
       "      <td>12.0</td>\n",
       "      <td>0.0</td>\n",
       "      <td>0.0</td>\n",
       "      <td>21.0</td>\n",
       "      <td>6.0</td>\n",
       "      <td>5.0</td>\n",
       "      <td>5.0</td>\n",
       "      <td>0.0</td>\n",
       "    </tr>\n",
       "    <tr>\n",
       "      <th>4</th>\n",
       "      <td>6</td>\n",
       "      <td>6</td>\n",
       "      <td>FS-1418849</td>\n",
       "      <td>FED</td>\n",
       "      <td>FS-FIRESTAT</td>\n",
       "      <td>FS</td>\n",
       "      <td>USCAENF</td>\n",
       "      <td>Eldorado National Forest</td>\n",
       "      <td>0503</td>\n",
       "      <td>Eldorado National Forest</td>\n",
       "      <td>...</td>\n",
       "      <td>18.0</td>\n",
       "      <td>10.0</td>\n",
       "      <td>10.0</td>\n",
       "      <td>0.0</td>\n",
       "      <td>0.0</td>\n",
       "      <td>16.0</td>\n",
       "      <td>4.0</td>\n",
       "      <td>5.0</td>\n",
       "      <td>5.0</td>\n",
       "      <td>0.0</td>\n",
       "    </tr>\n",
       "  </tbody>\n",
       "</table>\n",
       "<p>5 rows × 48 columns</p>\n",
       "</div>"
      ],
      "text/plain": [
       "   OBJECTID  FOD_ID      FPA_ID SOURCE_SYSTEM_TYPE SOURCE_SYSTEM  \\\n",
       "0         2       2  FS-1418827                FED   FS-FIRESTAT   \n",
       "1         3       3  FS-1418835                FED   FS-FIRESTAT   \n",
       "2         4       4  FS-1418845                FED   FS-FIRESTAT   \n",
       "3         5       5  FS-1418847                FED   FS-FIRESTAT   \n",
       "4         6       6  FS-1418849                FED   FS-FIRESTAT   \n",
       "\n",
       "  NWCG_REPORTING_AGENCY NWCG_REPORTING_UNIT_ID  NWCG_REPORTING_UNIT_NAME  \\\n",
       "0                    FS                USCAENF  Eldorado National Forest   \n",
       "1                    FS                USCAENF  Eldorado National Forest   \n",
       "2                    FS                USCAENF  Eldorado National Forest   \n",
       "3                    FS                USCAENF  Eldorado National Forest   \n",
       "4                    FS                USCAENF  Eldorado National Forest   \n",
       "\n",
       "  SOURCE_REPORTING_UNIT SOURCE_REPORTING_UNIT_NAME  ... Wind Gusts (10 m)  \\\n",
       "0                  0503   Eldorado National Forest  ...              30.0   \n",
       "1                  0503   Eldorado National Forest  ...              21.0   \n",
       "2                  0503   Eldorado National Forest  ...              18.0   \n",
       "3                  0503   Eldorado National Forest  ...              18.0   \n",
       "4                  0503   Eldorado National Forest  ...              18.0   \n",
       "\n",
       "   Soil Temperature (0-7 cm)  Soil Temperature (7-28 cm)  \\\n",
       "0                        5.0                         4.0   \n",
       "1                       17.0                        15.0   \n",
       "2                       12.0                        12.0   \n",
       "3                       12.0                        12.0   \n",
       "4                       10.0                        10.0   \n",
       "\n",
       "   Soil Moisture (0-7 cm)  Soil Moisture (7-28 cm)  Maximum Temperature (2 m)  \\\n",
       "0                     0.0                      0.0                       15.0   \n",
       "1                     0.0                      0.0                       27.0   \n",
       "2                     0.0                      0.0                       21.0   \n",
       "3                     0.0                      0.0                       21.0   \n",
       "4                     0.0                      0.0                       16.0   \n",
       "\n",
       "  Minimum Temperature (2 m)  Precipitation Sum  Rain Sum  Snowfall Sum  \n",
       "0                       0.0                0.0       0.0           0.0  \n",
       "1                       9.0                0.0       0.0           0.0  \n",
       "2                       6.0                5.0       5.0           0.0  \n",
       "3                       6.0                5.0       5.0           0.0  \n",
       "4                       4.0                5.0       5.0           0.0  \n",
       "\n",
       "[5 rows x 48 columns]"
      ]
     },
     "execution_count": 3,
     "metadata": {},
     "output_type": "execute_result"
    }
   ],
   "source": [
    "df.head()"
   ]
  },
  {
   "cell_type": "markdown",
   "id": "e5e84969-cdb8-49ef-9360-ffbdc0d737b4",
   "metadata": {},
   "source": [
    "#### For the model 1, we will retain some categorical features and engineer some others\n",
    "* keep OWNER_DESCR and STATE categorical features\n",
    "* add weather features"
   ]
  },
  {
   "cell_type": "code",
   "execution_count": 4,
   "id": "82496c71-3fa1-4eb4-9592-7deed9f56813",
   "metadata": {},
   "outputs": [
    {
     "data": {
      "text/plain": [
       "OBJECTID                        int64\n",
       "FOD_ID                          int64\n",
       "FPA_ID                         object\n",
       "SOURCE_SYSTEM_TYPE             object\n",
       "SOURCE_SYSTEM                  object\n",
       "NWCG_REPORTING_AGENCY          object\n",
       "NWCG_REPORTING_UNIT_ID         object\n",
       "NWCG_REPORTING_UNIT_NAME       object\n",
       "SOURCE_REPORTING_UNIT          object\n",
       "SOURCE_REPORTING_UNIT_NAME     object\n",
       "FIRE_NAME                      object\n",
       "FIRE_YEAR                       int64\n",
       "DISCOVERY_DATE                float64\n",
       "DISCOVERY_DOY                   int64\n",
       "DISCOVERY_TIME                float64\n",
       "STAT_CAUSE_CODE               float64\n",
       "STAT_CAUSE_DESCR               object\n",
       "CONT_DATE                     float64\n",
       "CONT_DOY                      float64\n",
       "FIRE_SIZE                     float64\n",
       "FIRE_SIZE_CLASS                object\n",
       "LATITUDE                      float64\n",
       "LONGITUDE                     float64\n",
       "OWNER_CODE                    float64\n",
       "OWNER_DESCR                    object\n",
       "STATE                          object\n",
       "COUNTY                         object\n",
       "FIPS_CODE                     float64\n",
       "FIPS_NAME                      object\n",
       "Shape                          object\n",
       "DISC_GREG_DATE                 object\n",
       "CONT_GREG_DATE                 object\n",
       "DISC_MONTH                      int64\n",
       "DISC_DAY                        int64\n",
       "DISC_DAYOFWEEK                  int64\n",
       "FIRE_DURATION                   int64\n",
       "Elevation                     float64\n",
       "Temperature (2 m)             float64\n",
       "Wind Gusts (10 m)             float64\n",
       "Soil Temperature (0-7 cm)     float64\n",
       "Soil Temperature (7-28 cm)    float64\n",
       "Soil Moisture (0-7 cm)        float64\n",
       "Soil Moisture (7-28 cm)       float64\n",
       "Maximum Temperature (2 m)     float64\n",
       "Minimum Temperature (2 m)     float64\n",
       "Precipitation Sum             float64\n",
       "Rain Sum                      float64\n",
       "Snowfall Sum                  float64\n",
       "dtype: object"
      ]
     },
     "execution_count": 4,
     "metadata": {},
     "output_type": "execute_result"
    }
   ],
   "source": [
    "df.dtypes"
   ]
  },
  {
   "cell_type": "code",
   "execution_count": 5,
   "id": "8ca2282a-f48d-405a-9220-5ce7fb924223",
   "metadata": {},
   "outputs": [
    {
     "data": {
      "text/plain": [
       "Index(['OBJECTID', 'FOD_ID', 'FPA_ID', 'SOURCE_SYSTEM_TYPE', 'SOURCE_SYSTEM',\n",
       "       'NWCG_REPORTING_AGENCY', 'NWCG_REPORTING_UNIT_ID',\n",
       "       'NWCG_REPORTING_UNIT_NAME', 'SOURCE_REPORTING_UNIT',\n",
       "       'SOURCE_REPORTING_UNIT_NAME', 'FIRE_NAME', 'FIRE_YEAR',\n",
       "       'DISCOVERY_DATE', 'DISCOVERY_DOY', 'DISCOVERY_TIME', 'STAT_CAUSE_CODE',\n",
       "       'STAT_CAUSE_DESCR', 'CONT_DATE', 'CONT_DOY', 'FIRE_SIZE',\n",
       "       'FIRE_SIZE_CLASS', 'LATITUDE', 'LONGITUDE', 'OWNER_CODE', 'OWNER_DESCR',\n",
       "       'STATE', 'COUNTY', 'FIPS_CODE', 'FIPS_NAME', 'Shape', 'DISC_GREG_DATE',\n",
       "       'CONT_GREG_DATE', 'DISC_MONTH', 'DISC_DAY', 'DISC_DAYOFWEEK',\n",
       "       'FIRE_DURATION', 'Elevation', 'Temperature (2 m)', 'Wind Gusts (10 m)',\n",
       "       'Soil Temperature (0-7 cm)', 'Soil Temperature (7-28 cm)',\n",
       "       'Soil Moisture (0-7 cm)', 'Soil Moisture (7-28 cm)',\n",
       "       'Maximum Temperature (2 m)', 'Minimum Temperature (2 m)',\n",
       "       'Precipitation Sum', 'Rain Sum', 'Snowfall Sum'],\n",
       "      dtype='object')"
      ]
     },
     "execution_count": 5,
     "metadata": {},
     "output_type": "execute_result"
    }
   ],
   "source": [
    "df.columns"
   ]
  },
  {
   "cell_type": "code",
   "execution_count": 15,
   "id": "73afb415-6b95-4cf5-8c53-b10059b7e502",
   "metadata": {},
   "outputs": [],
   "source": [
    "df_base = df[['FIRE_YEAR', 'DISCOVERY_DOY', 'STAT_CAUSE_CODE', 'FIRE_SIZE', 'LATITUDE', 'LONGITUDE', 'DISC_MONTH', \n",
    "              'DISC_DAY', 'FIRE_DURATION', 'DISC_DAYOFWEEK', 'OWNER_DESCR', \n",
    "              'Elevation', 'Temperature (2 m)', 'Wind Gusts (10 m)', 'Soil Temperature (0-7 cm)', \n",
    "              'Soil Temperature (7-28 cm)',\n",
    "              'Maximum Temperature (2 m)', 'Minimum Temperature (2 m)',\n",
    "              'Precipitation Sum', 'Rain Sum', 'Snowfall Sum']]"
   ]
  },
  {
   "cell_type": "code",
   "execution_count": 16,
   "id": "0524a846-8ff5-4bd2-8920-a2e811842db5",
   "metadata": {},
   "outputs": [
    {
     "data": {
      "text/plain": [
       "FIRE_YEAR                      0\n",
       "DISCOVERY_DOY                  0\n",
       "STAT_CAUSE_CODE                0\n",
       "FIRE_SIZE                      0\n",
       "LATITUDE                       0\n",
       "LONGITUDE                      0\n",
       "DISC_MONTH                     0\n",
       "DISC_DAY                       0\n",
       "FIRE_DURATION                  0\n",
       "DISC_DAYOFWEEK                 0\n",
       "OWNER_DESCR                    0\n",
       "Elevation                      1\n",
       "Temperature (2 m)             36\n",
       "Wind Gusts (10 m)             36\n",
       "Soil Temperature (0-7 cm)     36\n",
       "Soil Temperature (7-28 cm)    36\n",
       "Maximum Temperature (2 m)     36\n",
       "Minimum Temperature (2 m)     36\n",
       "Precipitation Sum             36\n",
       "Rain Sum                      36\n",
       "Snowfall Sum                  36\n",
       "dtype: int64"
      ]
     },
     "execution_count": 16,
     "metadata": {},
     "output_type": "execute_result"
    }
   ],
   "source": [
    "df_base.isna().sum()"
   ]
  },
  {
   "cell_type": "code",
   "execution_count": 17,
   "id": "d225470b-087a-472d-8c92-f62ba24dc16a",
   "metadata": {},
   "outputs": [
    {
     "name": "stderr",
     "output_type": "stream",
     "text": [
      "C:\\Users\\3_hal\\AppData\\Local\\Temp\\ipykernel_13196\\3944916447.py:1: SettingWithCopyWarning: \n",
      "A value is trying to be set on a copy of a slice from a DataFrame\n",
      "\n",
      "See the caveats in the documentation: https://pandas.pydata.org/pandas-docs/stable/user_guide/indexing.html#returning-a-view-versus-a-copy\n",
      "  df_base.dropna(inplace = True, axis = 0)\n"
     ]
    }
   ],
   "source": [
    "df_base.dropna(inplace = True, axis = 0)"
   ]
  },
  {
   "cell_type": "markdown",
   "id": "f05c1d50-39b0-40e4-8b3e-0a71c0044e55",
   "metadata": {},
   "source": [
    "#### Plot Correlation"
   ]
  },
  {
   "cell_type": "code",
   "execution_count": 11,
   "id": "91568a7e-c0ad-475d-a0de-05efdd002c68",
   "metadata": {},
   "outputs": [],
   "source": [
    "import seaborn as sns\n",
    "import matplotlib.pyplot as plt"
   ]
  },
  {
   "cell_type": "code",
   "execution_count": 19,
   "id": "f71c8ec0-fd86-4656-90ca-4b217258566b",
   "metadata": {},
   "outputs": [
    {
     "data": {
      "text/plain": [
       "<AxesSubplot:>"
      ]
     },
     "execution_count": 19,
     "metadata": {},
     "output_type": "execute_result"
    },
    {
     "data": {
      "image/png": "[encoded data removed]",
      "text/plain": [
       "<Figure size 432x288 with 2 Axes>"
      ]
     },
     "metadata": {
      "needs_background": "light"
     },
     "output_type": "display_data"
    }
   ],
   "source": [
    "corr = df_base.corr()\n",
    "sns.heatmap(corr, annot=False)"
   ]
  },
  {
   "cell_type": "code",
   "execution_count": null,
   "id": "243857a4-451e-4cc4-a1ba-576acfbae887",
   "metadata": {},
   "outputs": [],
   "source": []
  },
  {
   "cell_type": "code",
   "execution_count": null,
   "id": "403eb438-cb0c-4f71-99b1-0d4a2620e1cf",
   "metadata": {},
   "outputs": [],
   "source": []
  },
  {
   "cell_type": "code",
   "execution_count": null,
   "id": "bb8a7bcb-3a72-4f9e-a7ca-2aba82c0d1fc",
   "metadata": {},
   "outputs": [],
   "source": [
    "# zip code?\n",
    "# investigate shape\n",
    "# places of interest (5 closest establishments) - pull distances\n",
    "# temperatures?\n",
    "# altitude, meterological data\n",
    "# day before, few days before\n",
    "\n",
    "# plot correlation\n",
    "# feature importance metric - need to know which were mathematically the best\n",
    "# what are the features that will show up in the PCA (put this in the discussion)\n",
    "# if you build a model for each state, does it improve the model - am I generalizing?\n",
    "# the flask app could pick between which state's model\n",
    "\n",
    "#class imbalance"
   ]
  },
  {
   "cell_type": "markdown",
   "id": "4d91513a-b003-483a-b835-555b0d938288",
   "metadata": {},
   "source": [
    "### Check"
   ]
  },
  {
   "cell_type": "code",
   "execution_count": 20,
   "id": "c0270a2a-48d3-4d89-ba91-7d53498879c2",
   "metadata": {},
   "outputs": [
    {
     "data": {
      "text/plain": [
       "(84859, 21)"
      ]
     },
     "execution_count": 20,
     "metadata": {},
     "output_type": "execute_result"
    }
   ],
   "source": [
    "df_base.shape"
   ]
  },
  {
   "cell_type": "markdown",
   "id": "21f6be93-a346-4754-b73e-7bb7ca621ee0",
   "metadata": {
    "tags": []
   },
   "source": [
    "### Model 1\n",
    "- using the date, size, duration, and location of fire\n",
    "- added the owner code and state features\n",
    "- added weather features"
   ]
  },
  {
   "cell_type": "code",
   "execution_count": 21,
   "id": "6de496bb-589a-40dd-b0f9-1954058ef09e",
   "metadata": {},
   "outputs": [],
   "source": [
    "from sklearn.model_selection import train_test_split"
   ]
  },
  {
   "cell_type": "code",
   "execution_count": 22,
   "id": "548c8209-a555-48a1-b031-a7f7aa036147",
   "metadata": {},
   "outputs": [],
   "source": [
    "X = df_base.drop('STAT_CAUSE_CODE', axis = 1)\n",
    "y = df_base['STAT_CAUSE_CODE']"
   ]
  },
  {
   "cell_type": "code",
   "execution_count": 23,
   "id": "a67390c9-0611-4726-bebb-a8f20526f554",
   "metadata": {},
   "outputs": [],
   "source": [
    "X_train, X_test, y_train, y_test = train_test_split(X, y, test_size=0.20, random_state=42)"
   ]
  },
  {
   "cell_type": "code",
   "execution_count": 24,
   "id": "20c59a3f-9599-4306-9207-8508ba2a44fd",
   "metadata": {},
   "outputs": [],
   "source": [
    "from sklearn.metrics import f1_score\n",
    "from sklearn.pipeline import Pipeline, FeatureUnion\n",
    "from sklearn.compose import ColumnTransformer\n",
    "from sklearn.preprocessing import StandardScaler\n",
    "from sklearn.impute import SimpleImputer\n",
    "from sklearn.preprocessing import FunctionTransformer\n",
    "from sklearn.ensemble import RandomForestClassifier\n",
    "from sklearn.preprocessing import OneHotEncoder"
   ]
  },
  {
   "cell_type": "code",
   "execution_count": 25,
   "id": "b5b503e5-b246-4cf5-9889-afe7715729a6",
   "metadata": {},
   "outputs": [],
   "source": [
    "#categorical features\n",
    "cat_feats = X_train.dtypes[X_train.dtypes == 'object'].index.tolist()\n",
    "#numeric features\n",
    "num_feats = X_train.dtypes[~X_train.dtypes.index.isin(cat_feats)].index.tolist()"
   ]
  },
  {
   "cell_type": "code",
   "execution_count": 26,
   "id": "307ecae9-738d-4806-a019-ffe44b71a740",
   "metadata": {},
   "outputs": [],
   "source": [
    "numeric_transform = Pipeline([('FunctionTransformer', FunctionTransformer()), ('impute_mean', SimpleImputer(strategy='mean')),\n",
    "                              ('scaling', StandardScaler())]\n",
    "                            )\n",
    "\n",
    "categorical_transform = Pipeline([('FunctionTransformer',FunctionTransformer()), ('impute_mode', SimpleImputer(strategy='most_frequent')), \n",
    "                                  ('one-hot-encode', OneHotEncoder(sparse=False))]\n",
    "                                )\n",
    "\n",
    "preprocessing = ColumnTransformer([('numeric', numeric_transform, num_feats), \n",
    "                                        ('categorical', categorical_transform, cat_feats)])\n",
    "\n",
    "pipeline = Pipeline([('preprocessing', preprocessing), ('model', RandomForestClassifier())])"
   ]
  },
  {
   "cell_type": "code",
   "execution_count": 27,
   "id": "f46d0b09-834d-4da0-9eac-5a4bb856990b",
   "metadata": {},
   "outputs": [
    {
     "name": "stdout",
     "output_type": "stream",
     "text": [
      "Test set score: 0.659439076125383\n"
     ]
    }
   ],
   "source": [
    "pipeline.fit(X_train, y_train)\n",
    "score = pipeline.score(X_test, y_test)          \n",
    "print(f'Test set score: {score}')"
   ]
  },
  {
   "cell_type": "code",
   "execution_count": 28,
   "id": "ccef1599-31c9-40fc-8c50-ae427efc2fdf",
   "metadata": {},
   "outputs": [
    {
     "data": {
      "text/html": [
       "<style>#sk-container-id-1 {color: black;background-color: white;}#sk-container-id-1 pre{padding: 0;}#sk-container-id-1 div.sk-toggleable {background-color: white;}#sk-container-id-1 label.sk-toggleable__label {cursor: pointer;display: block;width: 100%;margin-bottom: 0;padding: 0.3em;box-sizing: border-box;text-align: center;}#sk-container-id-1 label.sk-toggleable__label-arrow:before {content: \"▸\";float: left;margin-right: 0.25em;color: #696969;}#sk-container-id-1 label.sk-toggleable__label-arrow:hover:before {color: black;}#sk-container-id-1 div.sk-estimator:hover label.sk-toggleable__label-arrow:before {color: black;}#sk-container-id-1 div.sk-toggleable__content {max-height: 0;max-width: 0;overflow: hidden;text-align: left;background-color: #f0f8ff;}#sk-container-id-1 div.sk-toggleable__content pre {margin: 0.2em;color: black;border-radius: 0.25em;background-color: #f0f8ff;}#sk-container-id-1 input.sk-toggleable__control:checked~div.sk-toggleable__content {max-height: 200px;max-width: 100%;overflow: auto;}#sk-container-id-1 input.sk-toggleable__control:checked~label.sk-toggleable__label-arrow:before {content: \"▾\";}#sk-container-id-1 div.sk-estimator input.sk-toggleable__control:checked~label.sk-toggleable__label {background-color: #d4ebff;}#sk-container-id-1 div.sk-label input.sk-toggleable__control:checked~label.sk-toggleable__label {background-color: #d4ebff;}#sk-container-id-1 input.sk-hidden--visually {border: 0;clip: rect(1px 1px 1px 1px);clip: rect(1px, 1px, 1px, 1px);height: 1px;margin: -1px;overflow: hidden;padding: 0;position: absolute;width: 1px;}#sk-container-id-1 div.sk-estimator {font-family: monospace;background-color: #f0f8ff;border: 1px dotted black;border-radius: 0.25em;box-sizing: border-box;margin-bottom: 0.5em;}#sk-container-id-1 div.sk-estimator:hover {background-color: #d4ebff;}#sk-container-id-1 div.sk-parallel-item::after {content: \"\";width: 100%;border-bottom: 1px solid gray;flex-grow: 1;}#sk-container-id-1 div.sk-label:hover label.sk-toggleable__label {background-color: #d4ebff;}#sk-container-id-1 div.sk-serial::before {content: \"\";position: absolute;border-left: 1px solid gray;box-sizing: border-box;top: 0;bottom: 0;left: 50%;z-index: 0;}#sk-container-id-1 div.sk-serial {display: flex;flex-direction: column;align-items: center;background-color: white;padding-right: 0.2em;padding-left: 0.2em;position: relative;}#sk-container-id-1 div.sk-item {position: relative;z-index: 1;}#sk-container-id-1 div.sk-parallel {display: flex;align-items: stretch;justify-content: center;background-color: white;position: relative;}#sk-container-id-1 div.sk-item::before, #sk-container-id-1 div.sk-parallel-item::before {content: \"\";position: absolute;border-left: 1px solid gray;box-sizing: border-box;top: 0;bottom: 0;left: 50%;z-index: -1;}#sk-container-id-1 div.sk-parallel-item {display: flex;flex-direction: column;z-index: 1;position: relative;background-color: white;}#sk-container-id-1 div.sk-parallel-item:first-child::after {align-self: flex-end;width: 50%;}#sk-container-id-1 div.sk-parallel-item:last-child::after {align-self: flex-start;width: 50%;}#sk-container-id-1 div.sk-parallel-item:only-child::after {width: 0;}#sk-container-id-1 div.sk-dashed-wrapped {border: 1px dashed gray;margin: 0 0.4em 0.5em 0.4em;box-sizing: border-box;padding-bottom: 0.4em;background-color: white;}#sk-container-id-1 div.sk-label label {font-family: monospace;font-weight: bold;display: inline-block;line-height: 1.2em;}#sk-container-id-1 div.sk-label-container {text-align: center;}#sk-container-id-1 div.sk-container {/* jupyter's `normalize.less` sets `[hidden] { display: none; }` but bootstrap.min.css set `[hidden] { display: none !important; }` so we also need the `!important` here to be able to override the default hidden behavior on the sphinx rendered scikit-learn.org. See: https://github.com/scikit-learn/scikit-learn/issues/21755 */display: inline-block !important;position: relative;}#sk-container-id-1 div.sk-text-repr-fallback {display: none;}</style><div id=\"sk-container-id-1\" class=\"sk-top-container\"><div class=\"sk-text-repr-fallback\"><pre>Pipeline(steps=[(&#x27;preprocessing&#x27;,\n",
       "                 ColumnTransformer(transformers=[(&#x27;numeric&#x27;,\n",
       "                                                  Pipeline(steps=[(&#x27;FunctionTransformer&#x27;,\n",
       "                                                                   FunctionTransformer()),\n",
       "                                                                  (&#x27;impute_mean&#x27;,\n",
       "                                                                   SimpleImputer()),\n",
       "                                                                  (&#x27;scaling&#x27;,\n",
       "                                                                   StandardScaler())]),\n",
       "                                                  [&#x27;FIRE_YEAR&#x27;, &#x27;DISCOVERY_DOY&#x27;,\n",
       "                                                   &#x27;FIRE_SIZE&#x27;, &#x27;LATITUDE&#x27;,\n",
       "                                                   &#x27;LONGITUDE&#x27;, &#x27;DISC_MONTH&#x27;,\n",
       "                                                   &#x27;DISC_DAY&#x27;, &#x27;FIRE_DURATION&#x27;,\n",
       "                                                   &#x27;DISC_DAYOFWEEK&#x27;,\n",
       "                                                   &#x27;Elevation&#x27;,\n",
       "                                                   &#x27;Temperature (2 m)...\n",
       "                                                   &#x27;Soil Temperature (7-28 cm)&#x27;,\n",
       "                                                   &#x27;Maximum Temperature (2 m)&#x27;,\n",
       "                                                   &#x27;Minimum Temperature (2 m)&#x27;,\n",
       "                                                   &#x27;Precipitation Sum&#x27;,\n",
       "                                                   &#x27;Rain Sum&#x27;,\n",
       "                                                   &#x27;Snowfall Sum&#x27;]),\n",
       "                                                 (&#x27;categorical&#x27;,\n",
       "                                                  Pipeline(steps=[(&#x27;FunctionTransformer&#x27;,\n",
       "                                                                   FunctionTransformer()),\n",
       "                                                                  (&#x27;impute_mode&#x27;,\n",
       "                                                                   SimpleImputer(strategy=&#x27;most_frequent&#x27;)),\n",
       "                                                                  (&#x27;one-hot-encode&#x27;,\n",
       "                                                                   OneHotEncoder(sparse=False))]),\n",
       "                                                  [&#x27;OWNER_DESCR&#x27;])])),\n",
       "                (&#x27;model&#x27;, RandomForestClassifier())])</pre><b>In a Jupyter environment, please rerun this cell to show the HTML representation or trust the notebook. <br />On GitHub, the HTML representation is unable to render, please try loading this page with nbviewer.org.</b></div><div class=\"sk-container\" hidden><div class=\"sk-item sk-dashed-wrapped\"><div class=\"sk-label-container\"><div class=\"sk-label sk-toggleable\"><input class=\"sk-toggleable__control sk-hidden--visually\" id=\"sk-estimator-id-1\" type=\"checkbox\" ><label for=\"sk-estimator-id-1\" class=\"sk-toggleable__label sk-toggleable__label-arrow\">Pipeline</label><div class=\"sk-toggleable__content\"><pre>Pipeline(steps=[(&#x27;preprocessing&#x27;,\n",
       "                 ColumnTransformer(transformers=[(&#x27;numeric&#x27;,\n",
       "                                                  Pipeline(steps=[(&#x27;FunctionTransformer&#x27;,\n",
       "                                                                   FunctionTransformer()),\n",
       "                                                                  (&#x27;impute_mean&#x27;,\n",
       "                                                                   SimpleImputer()),\n",
       "                                                                  (&#x27;scaling&#x27;,\n",
       "                                                                   StandardScaler())]),\n",
       "                                                  [&#x27;FIRE_YEAR&#x27;, &#x27;DISCOVERY_DOY&#x27;,\n",
       "                                                   &#x27;FIRE_SIZE&#x27;, &#x27;LATITUDE&#x27;,\n",
       "                                                   &#x27;LONGITUDE&#x27;, &#x27;DISC_MONTH&#x27;,\n",
       "                                                   &#x27;DISC_DAY&#x27;, &#x27;FIRE_DURATION&#x27;,\n",
       "                                                   &#x27;DISC_DAYOFWEEK&#x27;,\n",
       "                                                   &#x27;Elevation&#x27;,\n",
       "                                                   &#x27;Temperature (2 m)...\n",
       "                                                   &#x27;Soil Temperature (7-28 cm)&#x27;,\n",
       "                                                   &#x27;Maximum Temperature (2 m)&#x27;,\n",
       "                                                   &#x27;Minimum Temperature (2 m)&#x27;,\n",
       "                                                   &#x27;Precipitation Sum&#x27;,\n",
       "                                                   &#x27;Rain Sum&#x27;,\n",
       "                                                   &#x27;Snowfall Sum&#x27;]),\n",
       "                                                 (&#x27;categorical&#x27;,\n",
       "                                                  Pipeline(steps=[(&#x27;FunctionTransformer&#x27;,\n",
       "                                                                   FunctionTransformer()),\n",
       "                                                                  (&#x27;impute_mode&#x27;,\n",
       "                                                                   SimpleImputer(strategy=&#x27;most_frequent&#x27;)),\n",
       "                                                                  (&#x27;one-hot-encode&#x27;,\n",
       "                                                                   OneHotEncoder(sparse=False))]),\n",
       "                                                  [&#x27;OWNER_DESCR&#x27;])])),\n",
       "                (&#x27;model&#x27;, RandomForestClassifier())])</pre></div></div></div><div class=\"sk-serial\"><div class=\"sk-item sk-dashed-wrapped\"><div class=\"sk-label-container\"><div class=\"sk-label sk-toggleable\"><input class=\"sk-toggleable__control sk-hidden--visually\" id=\"sk-estimator-id-2\" type=\"checkbox\" ><label for=\"sk-estimator-id-2\" class=\"sk-toggleable__label sk-toggleable__label-arrow\">preprocessing: ColumnTransformer</label><div class=\"sk-toggleable__content\"><pre>ColumnTransformer(transformers=[(&#x27;numeric&#x27;,\n",
       "                                 Pipeline(steps=[(&#x27;FunctionTransformer&#x27;,\n",
       "                                                  FunctionTransformer()),\n",
       "                                                 (&#x27;impute_mean&#x27;,\n",
       "                                                  SimpleImputer()),\n",
       "                                                 (&#x27;scaling&#x27;,\n",
       "                                                  StandardScaler())]),\n",
       "                                 [&#x27;FIRE_YEAR&#x27;, &#x27;DISCOVERY_DOY&#x27;, &#x27;FIRE_SIZE&#x27;,\n",
       "                                  &#x27;LATITUDE&#x27;, &#x27;LONGITUDE&#x27;, &#x27;DISC_MONTH&#x27;,\n",
       "                                  &#x27;DISC_DAY&#x27;, &#x27;FIRE_DURATION&#x27;, &#x27;DISC_DAYOFWEEK&#x27;,\n",
       "                                  &#x27;Elevation&#x27;, &#x27;Temperature (2 m)&#x27;,\n",
       "                                  &#x27;Wind Gusts (10 m)&#x27;,\n",
       "                                  &#x27;Soil Temperature (0-7 cm)&#x27;,\n",
       "                                  &#x27;Soil Temperature (7-28 cm)&#x27;,\n",
       "                                  &#x27;Maximum Temperature (2 m)&#x27;,\n",
       "                                  &#x27;Minimum Temperature (2 m)&#x27;,\n",
       "                                  &#x27;Precipitation Sum&#x27;, &#x27;Rain Sum&#x27;,\n",
       "                                  &#x27;Snowfall Sum&#x27;]),\n",
       "                                (&#x27;categorical&#x27;,\n",
       "                                 Pipeline(steps=[(&#x27;FunctionTransformer&#x27;,\n",
       "                                                  FunctionTransformer()),\n",
       "                                                 (&#x27;impute_mode&#x27;,\n",
       "                                                  SimpleImputer(strategy=&#x27;most_frequent&#x27;)),\n",
       "                                                 (&#x27;one-hot-encode&#x27;,\n",
       "                                                  OneHotEncoder(sparse=False))]),\n",
       "                                 [&#x27;OWNER_DESCR&#x27;])])</pre></div></div></div><div class=\"sk-parallel\"><div class=\"sk-parallel-item\"><div class=\"sk-item\"><div class=\"sk-label-container\"><div class=\"sk-label sk-toggleable\"><input class=\"sk-toggleable__control sk-hidden--visually\" id=\"sk-estimator-id-3\" type=\"checkbox\" ><label for=\"sk-estimator-id-3\" class=\"sk-toggleable__label sk-toggleable__label-arrow\">numeric</label><div class=\"sk-toggleable__content\"><pre>[&#x27;FIRE_YEAR&#x27;, &#x27;DISCOVERY_DOY&#x27;, &#x27;FIRE_SIZE&#x27;, &#x27;LATITUDE&#x27;, &#x27;LONGITUDE&#x27;, &#x27;DISC_MONTH&#x27;, &#x27;DISC_DAY&#x27;, &#x27;FIRE_DURATION&#x27;, &#x27;DISC_DAYOFWEEK&#x27;, &#x27;Elevation&#x27;, &#x27;Temperature (2 m)&#x27;, &#x27;Wind Gusts (10 m)&#x27;, &#x27;Soil Temperature (0-7 cm)&#x27;, &#x27;Soil Temperature (7-28 cm)&#x27;, &#x27;Maximum Temperature (2 m)&#x27;, &#x27;Minimum Temperature (2 m)&#x27;, &#x27;Precipitation Sum&#x27;, &#x27;Rain Sum&#x27;, &#x27;Snowfall Sum&#x27;]</pre></div></div></div><div class=\"sk-serial\"><div class=\"sk-item\"><div class=\"sk-serial\"><div class=\"sk-item\"><div class=\"sk-estimator sk-toggleable\"><input class=\"sk-toggleable__control sk-hidden--visually\" id=\"sk-estimator-id-4\" type=\"checkbox\" ><label for=\"sk-estimator-id-4\" class=\"sk-toggleable__label sk-toggleable__label-arrow\">FunctionTransformer</label><div class=\"sk-toggleable__content\"><pre>FunctionTransformer()</pre></div></div></div><div class=\"sk-item\"><div class=\"sk-estimator sk-toggleable\"><input class=\"sk-toggleable__control sk-hidden--visually\" id=\"sk-estimator-id-5\" type=\"checkbox\" ><label for=\"sk-estimator-id-5\" class=\"sk-toggleable__label sk-toggleable__label-arrow\">SimpleImputer</label><div class=\"sk-toggleable__content\"><pre>SimpleImputer()</pre></div></div></div><div class=\"sk-item\"><div class=\"sk-estimator sk-toggleable\"><input class=\"sk-toggleable__control sk-hidden--visually\" id=\"sk-estimator-id-6\" type=\"checkbox\" ><label for=\"sk-estimator-id-6\" class=\"sk-toggleable__label sk-toggleable__label-arrow\">StandardScaler</label><div class=\"sk-toggleable__content\"><pre>StandardScaler()</pre></div></div></div></div></div></div></div></div><div class=\"sk-parallel-item\"><div class=\"sk-item\"><div class=\"sk-label-container\"><div class=\"sk-label sk-toggleable\"><input class=\"sk-toggleable__control sk-hidden--visually\" id=\"sk-estimator-id-7\" type=\"checkbox\" ><label for=\"sk-estimator-id-7\" class=\"sk-toggleable__label sk-toggleable__label-arrow\">categorical</label><div class=\"sk-toggleable__content\"><pre>[&#x27;OWNER_DESCR&#x27;]</pre></div></div></div><div class=\"sk-serial\"><div class=\"sk-item\"><div class=\"sk-serial\"><div class=\"sk-item\"><div class=\"sk-estimator sk-toggleable\"><input class=\"sk-toggleable__control sk-hidden--visually\" id=\"sk-estimator-id-8\" type=\"checkbox\" ><label for=\"sk-estimator-id-8\" class=\"sk-toggleable__label sk-toggleable__label-arrow\">FunctionTransformer</label><div class=\"sk-toggleable__content\"><pre>FunctionTransformer()</pre></div></div></div><div class=\"sk-item\"><div class=\"sk-estimator sk-toggleable\"><input class=\"sk-toggleable__control sk-hidden--visually\" id=\"sk-estimator-id-9\" type=\"checkbox\" ><label for=\"sk-estimator-id-9\" class=\"sk-toggleable__label sk-toggleable__label-arrow\">SimpleImputer</label><div class=\"sk-toggleable__content\"><pre>SimpleImputer(strategy=&#x27;most_frequent&#x27;)</pre></div></div></div><div class=\"sk-item\"><div class=\"sk-estimator sk-toggleable\"><input class=\"sk-toggleable__control sk-hidden--visually\" id=\"sk-estimator-id-10\" type=\"checkbox\" ><label for=\"sk-estimator-id-10\" class=\"sk-toggleable__label sk-toggleable__label-arrow\">OneHotEncoder</label><div class=\"sk-toggleable__content\"><pre>OneHotEncoder(sparse=False)</pre></div></div></div></div></div></div></div></div></div></div><div class=\"sk-item\"><div class=\"sk-estimator sk-toggleable\"><input class=\"sk-toggleable__control sk-hidden--visually\" id=\"sk-estimator-id-11\" type=\"checkbox\" ><label for=\"sk-estimator-id-11\" class=\"sk-toggleable__label sk-toggleable__label-arrow\">RandomForestClassifier</label><div class=\"sk-toggleable__content\"><pre>RandomForestClassifier()</pre></div></div></div></div></div></div></div>"
      ],
      "text/plain": [
       "Pipeline(steps=[('preprocessing',\n",
       "                 ColumnTransformer(transformers=[('numeric',\n",
       "                                                  Pipeline(steps=[('FunctionTransformer',\n",
       "                                                                   FunctionTransformer()),\n",
       "                                                                  ('impute_mean',\n",
       "                                                                   SimpleImputer()),\n",
       "                                                                  ('scaling',\n",
       "                                                                   StandardScaler())]),\n",
       "                                                  ['FIRE_YEAR', 'DISCOVERY_DOY',\n",
       "                                                   'FIRE_SIZE', 'LATITUDE',\n",
       "                                                   'LONGITUDE', 'DISC_MONTH',\n",
       "                                                   'DISC_DAY', 'FIRE_DURATION',\n",
       "                                                   'DISC_DAYOFWEEK',\n",
       "                                                   'Elevation',\n",
       "                                                   'Temperature (2 m)...\n",
       "                                                   'Soil Temperature (7-28 cm)',\n",
       "                                                   'Maximum Temperature (2 m)',\n",
       "                                                   'Minimum Temperature (2 m)',\n",
       "                                                   'Precipitation Sum',\n",
       "                                                   'Rain Sum',\n",
       "                                                   'Snowfall Sum']),\n",
       "                                                 ('categorical',\n",
       "                                                  Pipeline(steps=[('FunctionTransformer',\n",
       "                                                                   FunctionTransformer()),\n",
       "                                                                  ('impute_mode',\n",
       "                                                                   SimpleImputer(strategy='most_frequent')),\n",
       "                                                                  ('one-hot-encode',\n",
       "                                                                   OneHotEncoder(sparse=False))]),\n",
       "                                                  ['OWNER_DESCR'])])),\n",
       "                ('model', RandomForestClassifier())])"
      ]
     },
     "metadata": {},
     "output_type": "display_data"
    }
   ],
   "source": [
    "#display pipeline\n",
    "from sklearn import set_config\n",
    "\n",
    "set_config(display='diagram')\n",
    "display(pipeline)"
   ]
  },
  {
   "cell_type": "markdown",
   "id": "a87e0a90-6ce0-449d-a5bf-779607ca6b36",
   "metadata": {},
   "source": [
    "### Adding a grid search"
   ]
  },
  {
   "cell_type": "code",
   "execution_count": 29,
   "id": "757e2580-b995-4d02-952a-8ee458f436dc",
   "metadata": {},
   "outputs": [],
   "source": [
    "from sklearn.model_selection import GridSearchCV"
   ]
  },
  {
   "cell_type": "code",
   "execution_count": 30,
   "id": "4a3d73a0-7664-49cf-9d6b-4bf7bd2269e6",
   "metadata": {},
   "outputs": [
    {
     "name": "stdout",
     "output_type": "stream",
     "text": [
      "Fitting 5 folds for each of 9 candidates, totalling 45 fits\n"
     ]
    },
    {
     "data": {
      "text/html": [
       "<style>#sk-container-id-2 {color: black;background-color: white;}#sk-container-id-2 pre{padding: 0;}#sk-container-id-2 div.sk-toggleable {background-color: white;}#sk-container-id-2 label.sk-toggleable__label {cursor: pointer;display: block;width: 100%;margin-bottom: 0;padding: 0.3em;box-sizing: border-box;text-align: center;}#sk-container-id-2 label.sk-toggleable__label-arrow:before {content: \"▸\";float: left;margin-right: 0.25em;color: #696969;}#sk-container-id-2 label.sk-toggleable__label-arrow:hover:before {color: black;}#sk-container-id-2 div.sk-estimator:hover label.sk-toggleable__label-arrow:before {color: black;}#sk-container-id-2 div.sk-toggleable__content {max-height: 0;max-width: 0;overflow: hidden;text-align: left;background-color: #f0f8ff;}#sk-container-id-2 div.sk-toggleable__content pre {margin: 0.2em;color: black;border-radius: 0.25em;background-color: #f0f8ff;}#sk-container-id-2 input.sk-toggleable__control:checked~div.sk-toggleable__content {max-height: 200px;max-width: 100%;overflow: auto;}#sk-container-id-2 input.sk-toggleable__control:checked~label.sk-toggleable__label-arrow:before {content: \"▾\";}#sk-container-id-2 div.sk-estimator input.sk-toggleable__control:checked~label.sk-toggleable__label {background-color: #d4ebff;}#sk-container-id-2 div.sk-label input.sk-toggleable__control:checked~label.sk-toggleable__label {background-color: #d4ebff;}#sk-container-id-2 input.sk-hidden--visually {border: 0;clip: rect(1px 1px 1px 1px);clip: rect(1px, 1px, 1px, 1px);height: 1px;margin: -1px;overflow: hidden;padding: 0;position: absolute;width: 1px;}#sk-container-id-2 div.sk-estimator {font-family: monospace;background-color: #f0f8ff;border: 1px dotted black;border-radius: 0.25em;box-sizing: border-box;margin-bottom: 0.5em;}#sk-container-id-2 div.sk-estimator:hover {background-color: #d4ebff;}#sk-container-id-2 div.sk-parallel-item::after {content: \"\";width: 100%;border-bottom: 1px solid gray;flex-grow: 1;}#sk-container-id-2 div.sk-label:hover label.sk-toggleable__label {background-color: #d4ebff;}#sk-container-id-2 div.sk-serial::before {content: \"\";position: absolute;border-left: 1px solid gray;box-sizing: border-box;top: 0;bottom: 0;left: 50%;z-index: 0;}#sk-container-id-2 div.sk-serial {display: flex;flex-direction: column;align-items: center;background-color: white;padding-right: 0.2em;padding-left: 0.2em;position: relative;}#sk-container-id-2 div.sk-item {position: relative;z-index: 1;}#sk-container-id-2 div.sk-parallel {display: flex;align-items: stretch;justify-content: center;background-color: white;position: relative;}#sk-container-id-2 div.sk-item::before, #sk-container-id-2 div.sk-parallel-item::before {content: \"\";position: absolute;border-left: 1px solid gray;box-sizing: border-box;top: 0;bottom: 0;left: 50%;z-index: -1;}#sk-container-id-2 div.sk-parallel-item {display: flex;flex-direction: column;z-index: 1;position: relative;background-color: white;}#sk-container-id-2 div.sk-parallel-item:first-child::after {align-self: flex-end;width: 50%;}#sk-container-id-2 div.sk-parallel-item:last-child::after {align-self: flex-start;width: 50%;}#sk-container-id-2 div.sk-parallel-item:only-child::after {width: 0;}#sk-container-id-2 div.sk-dashed-wrapped {border: 1px dashed gray;margin: 0 0.4em 0.5em 0.4em;box-sizing: border-box;padding-bottom: 0.4em;background-color: white;}#sk-container-id-2 div.sk-label label {font-family: monospace;font-weight: bold;display: inline-block;line-height: 1.2em;}#sk-container-id-2 div.sk-label-container {text-align: center;}#sk-container-id-2 div.sk-container {/* jupyter's `normalize.less` sets `[hidden] { display: none; }` but bootstrap.min.css set `[hidden] { display: none !important; }` so we also need the `!important` here to be able to override the default hidden behavior on the sphinx rendered scikit-learn.org. See: https://github.com/scikit-learn/scikit-learn/issues/21755 */display: inline-block !important;position: relative;}#sk-container-id-2 div.sk-text-repr-fallback {display: none;}</style><div id=\"sk-container-id-2\" class=\"sk-top-container\"><div class=\"sk-text-repr-fallback\"><pre>GridSearchCV(estimator=Pipeline(steps=[(&#x27;preprocessing&#x27;,\n",
       "                                        ColumnTransformer(transformers=[(&#x27;numeric&#x27;,\n",
       "                                                                         Pipeline(steps=[(&#x27;FunctionTransformer&#x27;,\n",
       "                                                                                          FunctionTransformer()),\n",
       "                                                                                         (&#x27;impute_mean&#x27;,\n",
       "                                                                                          SimpleImputer()),\n",
       "                                                                                         (&#x27;scaling&#x27;,\n",
       "                                                                                          StandardScaler())]),\n",
       "                                                                         [&#x27;FIRE_YEAR&#x27;,\n",
       "                                                                          &#x27;DISCOVERY_DOY&#x27;,\n",
       "                                                                          &#x27;FIRE_SIZE&#x27;,\n",
       "                                                                          &#x27;LATITUDE&#x27;,\n",
       "                                                                          &#x27;LONGITUDE&#x27;,\n",
       "                                                                          &#x27;DISC_MONTH&#x27;,\n",
       "                                                                          &#x27;DISC_DAY&#x27;,\n",
       "                                                                          &#x27;FIRE_DURATION&#x27;,\n",
       "                                                                          &#x27;DISC_DAYOFWEEK&#x27;,\n",
       "                                                                          &#x27;Elev...\n",
       "                                                                          &#x27;Snowfall &#x27;\n",
       "                                                                          &#x27;Sum&#x27;]),\n",
       "                                                                        (&#x27;categorical&#x27;,\n",
       "                                                                         Pipeline(steps=[(&#x27;FunctionTransformer&#x27;,\n",
       "                                                                                          FunctionTransformer()),\n",
       "                                                                                         (&#x27;impute_mode&#x27;,\n",
       "                                                                                          SimpleImputer(strategy=&#x27;most_frequent&#x27;)),\n",
       "                                                                                         (&#x27;one-hot-encode&#x27;,\n",
       "                                                                                          OneHotEncoder(sparse=False))]),\n",
       "                                                                         [&#x27;OWNER_DESCR&#x27;])])),\n",
       "                                       (&#x27;model&#x27;, RandomForestClassifier())]),\n",
       "             n_jobs=-1,\n",
       "             param_grid={&#x27;model__max_depth&#x27;: [19, 20, 21],\n",
       "                         &#x27;model__n_estimators&#x27;: [100, 120, 140]},\n",
       "             verbose=10)</pre><b>In a Jupyter environment, please rerun this cell to show the HTML representation or trust the notebook. <br />On GitHub, the HTML representation is unable to render, please try loading this page with nbviewer.org.</b></div><div class=\"sk-container\" hidden><div class=\"sk-item sk-dashed-wrapped\"><div class=\"sk-label-container\"><div class=\"sk-label sk-toggleable\"><input class=\"sk-toggleable__control sk-hidden--visually\" id=\"sk-estimator-id-12\" type=\"checkbox\" ><label for=\"sk-estimator-id-12\" class=\"sk-toggleable__label sk-toggleable__label-arrow\">GridSearchCV</label><div class=\"sk-toggleable__content\"><pre>GridSearchCV(estimator=Pipeline(steps=[(&#x27;preprocessing&#x27;,\n",
       "                                        ColumnTransformer(transformers=[(&#x27;numeric&#x27;,\n",
       "                                                                         Pipeline(steps=[(&#x27;FunctionTransformer&#x27;,\n",
       "                                                                                          FunctionTransformer()),\n",
       "                                                                                         (&#x27;impute_mean&#x27;,\n",
       "                                                                                          SimpleImputer()),\n",
       "                                                                                         (&#x27;scaling&#x27;,\n",
       "                                                                                          StandardScaler())]),\n",
       "                                                                         [&#x27;FIRE_YEAR&#x27;,\n",
       "                                                                          &#x27;DISCOVERY_DOY&#x27;,\n",
       "                                                                          &#x27;FIRE_SIZE&#x27;,\n",
       "                                                                          &#x27;LATITUDE&#x27;,\n",
       "                                                                          &#x27;LONGITUDE&#x27;,\n",
       "                                                                          &#x27;DISC_MONTH&#x27;,\n",
       "                                                                          &#x27;DISC_DAY&#x27;,\n",
       "                                                                          &#x27;FIRE_DURATION&#x27;,\n",
       "                                                                          &#x27;DISC_DAYOFWEEK&#x27;,\n",
       "                                                                          &#x27;Elev...\n",
       "                                                                          &#x27;Snowfall &#x27;\n",
       "                                                                          &#x27;Sum&#x27;]),\n",
       "                                                                        (&#x27;categorical&#x27;,\n",
       "                                                                         Pipeline(steps=[(&#x27;FunctionTransformer&#x27;,\n",
       "                                                                                          FunctionTransformer()),\n",
       "                                                                                         (&#x27;impute_mode&#x27;,\n",
       "                                                                                          SimpleImputer(strategy=&#x27;most_frequent&#x27;)),\n",
       "                                                                                         (&#x27;one-hot-encode&#x27;,\n",
       "                                                                                          OneHotEncoder(sparse=False))]),\n",
       "                                                                         [&#x27;OWNER_DESCR&#x27;])])),\n",
       "                                       (&#x27;model&#x27;, RandomForestClassifier())]),\n",
       "             n_jobs=-1,\n",
       "             param_grid={&#x27;model__max_depth&#x27;: [19, 20, 21],\n",
       "                         &#x27;model__n_estimators&#x27;: [100, 120, 140]},\n",
       "             verbose=10)</pre></div></div></div><div class=\"sk-parallel\"><div class=\"sk-parallel-item\"><div class=\"sk-item\"><div class=\"sk-label-container\"><div class=\"sk-label sk-toggleable\"><input class=\"sk-toggleable__control sk-hidden--visually\" id=\"sk-estimator-id-13\" type=\"checkbox\" ><label for=\"sk-estimator-id-13\" class=\"sk-toggleable__label sk-toggleable__label-arrow\">estimator: Pipeline</label><div class=\"sk-toggleable__content\"><pre>Pipeline(steps=[(&#x27;preprocessing&#x27;,\n",
       "                 ColumnTransformer(transformers=[(&#x27;numeric&#x27;,\n",
       "                                                  Pipeline(steps=[(&#x27;FunctionTransformer&#x27;,\n",
       "                                                                   FunctionTransformer()),\n",
       "                                                                  (&#x27;impute_mean&#x27;,\n",
       "                                                                   SimpleImputer()),\n",
       "                                                                  (&#x27;scaling&#x27;,\n",
       "                                                                   StandardScaler())]),\n",
       "                                                  [&#x27;FIRE_YEAR&#x27;, &#x27;DISCOVERY_DOY&#x27;,\n",
       "                                                   &#x27;FIRE_SIZE&#x27;, &#x27;LATITUDE&#x27;,\n",
       "                                                   &#x27;LONGITUDE&#x27;, &#x27;DISC_MONTH&#x27;,\n",
       "                                                   &#x27;DISC_DAY&#x27;, &#x27;FIRE_DURATION&#x27;,\n",
       "                                                   &#x27;DISC_DAYOFWEEK&#x27;,\n",
       "                                                   &#x27;Elevation&#x27;,\n",
       "                                                   &#x27;Temperature (2 m)...\n",
       "                                                   &#x27;Soil Temperature (7-28 cm)&#x27;,\n",
       "                                                   &#x27;Maximum Temperature (2 m)&#x27;,\n",
       "                                                   &#x27;Minimum Temperature (2 m)&#x27;,\n",
       "                                                   &#x27;Precipitation Sum&#x27;,\n",
       "                                                   &#x27;Rain Sum&#x27;,\n",
       "                                                   &#x27;Snowfall Sum&#x27;]),\n",
       "                                                 (&#x27;categorical&#x27;,\n",
       "                                                  Pipeline(steps=[(&#x27;FunctionTransformer&#x27;,\n",
       "                                                                   FunctionTransformer()),\n",
       "                                                                  (&#x27;impute_mode&#x27;,\n",
       "                                                                   SimpleImputer(strategy=&#x27;most_frequent&#x27;)),\n",
       "                                                                  (&#x27;one-hot-encode&#x27;,\n",
       "                                                                   OneHotEncoder(sparse=False))]),\n",
       "                                                  [&#x27;OWNER_DESCR&#x27;])])),\n",
       "                (&#x27;model&#x27;, RandomForestClassifier())])</pre></div></div></div><div class=\"sk-serial\"><div class=\"sk-item\"><div class=\"sk-serial\"><div class=\"sk-item sk-dashed-wrapped\"><div class=\"sk-label-container\"><div class=\"sk-label sk-toggleable\"><input class=\"sk-toggleable__control sk-hidden--visually\" id=\"sk-estimator-id-14\" type=\"checkbox\" ><label for=\"sk-estimator-id-14\" class=\"sk-toggleable__label sk-toggleable__label-arrow\">preprocessing: ColumnTransformer</label><div class=\"sk-toggleable__content\"><pre>ColumnTransformer(transformers=[(&#x27;numeric&#x27;,\n",
       "                                 Pipeline(steps=[(&#x27;FunctionTransformer&#x27;,\n",
       "                                                  FunctionTransformer()),\n",
       "                                                 (&#x27;impute_mean&#x27;,\n",
       "                                                  SimpleImputer()),\n",
       "                                                 (&#x27;scaling&#x27;,\n",
       "                                                  StandardScaler())]),\n",
       "                                 [&#x27;FIRE_YEAR&#x27;, &#x27;DISCOVERY_DOY&#x27;, &#x27;FIRE_SIZE&#x27;,\n",
       "                                  &#x27;LATITUDE&#x27;, &#x27;LONGITUDE&#x27;, &#x27;DISC_MONTH&#x27;,\n",
       "                                  &#x27;DISC_DAY&#x27;, &#x27;FIRE_DURATION&#x27;, &#x27;DISC_DAYOFWEEK&#x27;,\n",
       "                                  &#x27;Elevation&#x27;, &#x27;Temperature (2 m)&#x27;,\n",
       "                                  &#x27;Wind Gusts (10 m)&#x27;,\n",
       "                                  &#x27;Soil Temperature (0-7 cm)&#x27;,\n",
       "                                  &#x27;Soil Temperature (7-28 cm)&#x27;,\n",
       "                                  &#x27;Maximum Temperature (2 m)&#x27;,\n",
       "                                  &#x27;Minimum Temperature (2 m)&#x27;,\n",
       "                                  &#x27;Precipitation Sum&#x27;, &#x27;Rain Sum&#x27;,\n",
       "                                  &#x27;Snowfall Sum&#x27;]),\n",
       "                                (&#x27;categorical&#x27;,\n",
       "                                 Pipeline(steps=[(&#x27;FunctionTransformer&#x27;,\n",
       "                                                  FunctionTransformer()),\n",
       "                                                 (&#x27;impute_mode&#x27;,\n",
       "                                                  SimpleImputer(strategy=&#x27;most_frequent&#x27;)),\n",
       "                                                 (&#x27;one-hot-encode&#x27;,\n",
       "                                                  OneHotEncoder(sparse=False))]),\n",
       "                                 [&#x27;OWNER_DESCR&#x27;])])</pre></div></div></div><div class=\"sk-parallel\"><div class=\"sk-parallel-item\"><div class=\"sk-item\"><div class=\"sk-label-container\"><div class=\"sk-label sk-toggleable\"><input class=\"sk-toggleable__control sk-hidden--visually\" id=\"sk-estimator-id-15\" type=\"checkbox\" ><label for=\"sk-estimator-id-15\" class=\"sk-toggleable__label sk-toggleable__label-arrow\">numeric</label><div class=\"sk-toggleable__content\"><pre>[&#x27;FIRE_YEAR&#x27;, &#x27;DISCOVERY_DOY&#x27;, &#x27;FIRE_SIZE&#x27;, &#x27;LATITUDE&#x27;, &#x27;LONGITUDE&#x27;, &#x27;DISC_MONTH&#x27;, &#x27;DISC_DAY&#x27;, &#x27;FIRE_DURATION&#x27;, &#x27;DISC_DAYOFWEEK&#x27;, &#x27;Elevation&#x27;, &#x27;Temperature (2 m)&#x27;, &#x27;Wind Gusts (10 m)&#x27;, &#x27;Soil Temperature (0-7 cm)&#x27;, &#x27;Soil Temperature (7-28 cm)&#x27;, &#x27;Maximum Temperature (2 m)&#x27;, &#x27;Minimum Temperature (2 m)&#x27;, &#x27;Precipitation Sum&#x27;, &#x27;Rain Sum&#x27;, &#x27;Snowfall Sum&#x27;]</pre></div></div></div><div class=\"sk-serial\"><div class=\"sk-item\"><div class=\"sk-serial\"><div class=\"sk-item\"><div class=\"sk-estimator sk-toggleable\"><input class=\"sk-toggleable__control sk-hidden--visually\" id=\"sk-estimator-id-16\" type=\"checkbox\" ><label for=\"sk-estimator-id-16\" class=\"sk-toggleable__label sk-toggleable__label-arrow\">FunctionTransformer</label><div class=\"sk-toggleable__content\"><pre>FunctionTransformer()</pre></div></div></div><div class=\"sk-item\"><div class=\"sk-estimator sk-toggleable\"><input class=\"sk-toggleable__control sk-hidden--visually\" id=\"sk-estimator-id-17\" type=\"checkbox\" ><label for=\"sk-estimator-id-17\" class=\"sk-toggleable__label sk-toggleable__label-arrow\">SimpleImputer</label><div class=\"sk-toggleable__content\"><pre>SimpleImputer()</pre></div></div></div><div class=\"sk-item\"><div class=\"sk-estimator sk-toggleable\"><input class=\"sk-toggleable__control sk-hidden--visually\" id=\"sk-estimator-id-18\" type=\"checkbox\" ><label for=\"sk-estimator-id-18\" class=\"sk-toggleable__label sk-toggleable__label-arrow\">StandardScaler</label><div class=\"sk-toggleable__content\"><pre>StandardScaler()</pre></div></div></div></div></div></div></div></div><div class=\"sk-parallel-item\"><div class=\"sk-item\"><div class=\"sk-label-container\"><div class=\"sk-label sk-toggleable\"><input class=\"sk-toggleable__control sk-hidden--visually\" id=\"sk-estimator-id-19\" type=\"checkbox\" ><label for=\"sk-estimator-id-19\" class=\"sk-toggleable__label sk-toggleable__label-arrow\">categorical</label><div class=\"sk-toggleable__content\"><pre>[&#x27;OWNER_DESCR&#x27;]</pre></div></div></div><div class=\"sk-serial\"><div class=\"sk-item\"><div class=\"sk-serial\"><div class=\"sk-item\"><div class=\"sk-estimator sk-toggleable\"><input class=\"sk-toggleable__control sk-hidden--visually\" id=\"sk-estimator-id-20\" type=\"checkbox\" ><label for=\"sk-estimator-id-20\" class=\"sk-toggleable__label sk-toggleable__label-arrow\">FunctionTransformer</label><div class=\"sk-toggleable__content\"><pre>FunctionTransformer()</pre></div></div></div><div class=\"sk-item\"><div class=\"sk-estimator sk-toggleable\"><input class=\"sk-toggleable__control sk-hidden--visually\" id=\"sk-estimator-id-21\" type=\"checkbox\" ><label for=\"sk-estimator-id-21\" class=\"sk-toggleable__label sk-toggleable__label-arrow\">SimpleImputer</label><div class=\"sk-toggleable__content\"><pre>SimpleImputer(strategy=&#x27;most_frequent&#x27;)</pre></div></div></div><div class=\"sk-item\"><div class=\"sk-estimator sk-toggleable\"><input class=\"sk-toggleable__control sk-hidden--visually\" id=\"sk-estimator-id-22\" type=\"checkbox\" ><label for=\"sk-estimator-id-22\" class=\"sk-toggleable__label sk-toggleable__label-arrow\">OneHotEncoder</label><div class=\"sk-toggleable__content\"><pre>OneHotEncoder(sparse=False)</pre></div></div></div></div></div></div></div></div></div></div><div class=\"sk-item\"><div class=\"sk-estimator sk-toggleable\"><input class=\"sk-toggleable__control sk-hidden--visually\" id=\"sk-estimator-id-23\" type=\"checkbox\" ><label for=\"sk-estimator-id-23\" class=\"sk-toggleable__label sk-toggleable__label-arrow\">RandomForestClassifier</label><div class=\"sk-toggleable__content\"><pre>RandomForestClassifier()</pre></div></div></div></div></div></div></div></div></div></div></div></div>"
      ],
      "text/plain": [
       "GridSearchCV(estimator=Pipeline(steps=[('preprocessing',\n",
       "                                        ColumnTransformer(transformers=[('numeric',\n",
       "                                                                         Pipeline(steps=[('FunctionTransformer',\n",
       "                                                                                          FunctionTransformer()),\n",
       "                                                                                         ('impute_mean',\n",
       "                                                                                          SimpleImputer()),\n",
       "                                                                                         ('scaling',\n",
       "                                                                                          StandardScaler())]),\n",
       "                                                                         ['FIRE_YEAR',\n",
       "                                                                          'DISCOVERY_DOY',\n",
       "                                                                          'FIRE_SIZE',\n",
       "                                                                          'LATITUDE',\n",
       "                                                                          'LONGITUDE',\n",
       "                                                                          'DISC_MONTH',\n",
       "                                                                          'DISC_DAY',\n",
       "                                                                          'FIRE_DURATION',\n",
       "                                                                          'DISC_DAYOFWEEK',\n",
       "                                                                          'Elev...\n",
       "                                                                          'Snowfall '\n",
       "                                                                          'Sum']),\n",
       "                                                                        ('categorical',\n",
       "                                                                         Pipeline(steps=[('FunctionTransformer',\n",
       "                                                                                          FunctionTransformer()),\n",
       "                                                                                         ('impute_mode',\n",
       "                                                                                          SimpleImputer(strategy='most_frequent')),\n",
       "                                                                                         ('one-hot-encode',\n",
       "                                                                                          OneHotEncoder(sparse=False))]),\n",
       "                                                                         ['OWNER_DESCR'])])),\n",
       "                                       ('model', RandomForestClassifier())]),\n",
       "             n_jobs=-1,\n",
       "             param_grid={'model__max_depth': [19, 20, 21],\n",
       "                         'model__n_estimators': [100, 120, 140]},\n",
       "             verbose=10)"
      ]
     },
     "execution_count": 30,
     "metadata": {},
     "output_type": "execute_result"
    }
   ],
   "source": [
    "# set up our parameters grid\n",
    "param_grid = {\"model__n_estimators\":[100, 120, 140], \"model__max_depth\":[19, 20, 21]}\n",
    "\n",
    "# create a Grid Search object\n",
    "grid_search = GridSearchCV(pipeline, param_grid, n_jobs = -1, verbose=10, refit=True)    \n",
    "\n",
    "# fit the model and tune parameters\n",
    "grid_search.fit(X_train, y_train)"
   ]
  },
  {
   "cell_type": "code",
   "execution_count": 31,
   "id": "df628b44-eeb1-43de-b748-1e57b0dcbb84",
   "metadata": {},
   "outputs": [
    {
     "name": "stdout",
     "output_type": "stream",
     "text": [
      "{'model__max_depth': 20, 'model__n_estimators': 140}\n"
     ]
    }
   ],
   "source": [
    "print(grid_search.best_params_)"
   ]
  },
  {
   "cell_type": "markdown",
   "id": "59b92439-6215-44c5-925a-3b316b13e778",
   "metadata": {},
   "source": [
    "### re-Fit Model"
   ]
  },
  {
   "cell_type": "code",
   "execution_count": 32,
   "id": "f1f6b93b-0fbb-4a6f-b9f1-b5f670cba41e",
   "metadata": {},
   "outputs": [],
   "source": [
    "pipeline = Pipeline([('preprocessing', preprocessing), ('model', RandomForestClassifier(max_depth=20, n_estimators= 140))])"
   ]
  },
  {
   "cell_type": "code",
   "execution_count": 33,
   "id": "d723b1c4-dcd7-4545-8d0c-446ee36354a0",
   "metadata": {},
   "outputs": [
    {
     "name": "stdout",
     "output_type": "stream",
     "text": [
      "Test set score: 0.6577303794485034\n"
     ]
    }
   ],
   "source": [
    "pipeline.fit(X_train, y_train)\n",
    "score = pipeline.score(X_test, y_test)          \n",
    "print(f'Test set score: {score}')"
   ]
  },
  {
   "cell_type": "markdown",
   "id": "115ea253-08fe-451a-9f67-0385fb747ff7",
   "metadata": {},
   "source": [
    "^this did worse than the pre-grid search?"
   ]
  },
  {
   "cell_type": "code",
   "execution_count": null,
   "id": "b7c6ee29-f915-420b-8f64-2498958d5820",
   "metadata": {},
   "outputs": [],
   "source": [
    "#Try another algorithm"
   ]
  },
  {
   "cell_type": "markdown",
   "id": "e18ed0d7-60db-4a9d-b816-0bda9c375432",
   "metadata": {},
   "source": [
    "### Basemodel Results"
   ]
  },
  {
   "cell_type": "code",
   "execution_count": 34,
   "id": "e87900ef-9af8-4745-984b-734109297217",
   "metadata": {},
   "outputs": [],
   "source": [
    "from sklearn.metrics import ConfusionMatrixDisplay"
   ]
  },
  {
   "cell_type": "code",
   "execution_count": 35,
   "id": "571a19ad-ffa8-4ecb-8869-4c54db2877a3",
   "metadata": {},
   "outputs": [
    {
     "data": {
      "text/plain": [
       "<sklearn.metrics._plot.confusion_matrix.ConfusionMatrixDisplay at 0x287e072e580>"
      ]
     },
     "execution_count": 35,
     "metadata": {},
     "output_type": "execute_result"
    },
    {
     "data": {
      "image/png": "[encoded data removed]",
      "text/plain": [
       "<Figure size 432x288 with 2 Axes>"
      ]
     },
     "metadata": {
      "needs_background": "light"
     },
     "output_type": "display_data"
    }
   ],
   "source": [
    "y_pred = pipeline.predict(X_test)\n",
    "ConfusionMatrixDisplay.from_predictions(y_test, y_pred)"
   ]
  },
  {
   "cell_type": "markdown",
   "id": "221b6985-d568-48f8-b004-5fab58418cd5",
   "metadata": {},
   "source": [
    "looks like it didn't predict any STAT_CAUSE_CODE 12 (structure)"
   ]
  },
  {
   "cell_type": "markdown",
   "id": "bf168f3c-cc6a-4354-8d43-9eb43c141490",
   "metadata": {},
   "source": [
    "### Save model as pickle to use in App"
   ]
  },
  {
   "cell_type": "code",
   "execution_count": 26,
   "id": "644bb32d-a71f-4238-b11a-d57047604b48",
   "metadata": {},
   "outputs": [],
   "source": [
    "import pickle"
   ]
  },
  {
   "cell_type": "code",
   "execution_count": 31,
   "id": "cc077673-bee4-4fe4-8522-4b25c93adaa3",
   "metadata": {},
   "outputs": [],
   "source": [
    "pickle.dump(pipeline, open( \"../scripts/model.p\", \"wb\" ))"
   ]
  },
  {
   "cell_type": "code",
   "execution_count": null,
   "id": "a3d9830c-9008-4cb4-be25-8ec3c1aec18a",
   "metadata": {},
   "outputs": [],
   "source": []
  },
  {
   "cell_type": "markdown",
   "id": "c1a3081f-a87a-4f1d-af5f-ee69f0987170",
   "metadata": {},
   "source": [
    "### Investigate feature importance\n",
    "- first make a features list accounting for the 'OWNER_DESCR' being one-hot encoded"
   ]
  },
  {
   "cell_type": "code",
   "execution_count": 46,
   "id": "b131c5af-476f-458d-bf26-2e83bee458cb",
   "metadata": {},
   "outputs": [
    {
     "data": {
      "text/plain": [
       "15"
      ]
     },
     "execution_count": 46,
     "metadata": {},
     "output_type": "execute_result"
    }
   ],
   "source": [
    "len(X_train['OWNER_DESCR'].unique())"
   ]
  },
  {
   "cell_type": "code",
   "execution_count": 47,
   "id": "0ccfc9b5-966a-435a-93f3-5713137face0",
   "metadata": {},
   "outputs": [
    {
     "data": {
      "text/plain": [
       "Index(['FIRE_YEAR', 'DISCOVERY_DOY', 'FIRE_SIZE', 'LATITUDE', 'LONGITUDE',\n",
       "       'DISC_MONTH', 'DISC_DAY', 'FIRE_DURATION', 'DISC_DAYOFWEEK',\n",
       "       'OWNER_DESCR', 'Elevation', 'Temperature (2 m)', 'Wind Gusts (10 m)',\n",
       "       'Soil Temperature (0-7 cm)', 'Soil Temperature (7-28 cm)',\n",
       "       'Maximum Temperature (2 m)', 'Minimum Temperature (2 m)',\n",
       "       'Precipitation Sum', 'Rain Sum', 'Snowfall Sum'],\n",
       "      dtype='object')"
      ]
     },
     "execution_count": 47,
     "metadata": {},
     "output_type": "execute_result"
    }
   ],
   "source": [
    "X_train.columns"
   ]
  },
  {
   "cell_type": "code",
   "execution_count": 67,
   "id": "0a6a5cd0-e143-4cb4-9503-1608fdc70a07",
   "metadata": {},
   "outputs": [],
   "source": [
    "features = X_train.columns.to_list()"
   ]
  },
  {
   "cell_type": "code",
   "execution_count": 69,
   "id": "5d3a57e5-c8f7-4165-8cbe-f0202a682bb3",
   "metadata": {},
   "outputs": [
    {
     "data": {
      "text/plain": [
       "'OWNER_DESCR'"
      ]
     },
     "execution_count": 69,
     "metadata": {},
     "output_type": "execute_result"
    }
   ],
   "source": [
    "features.pop(9)"
   ]
  },
  {
   "cell_type": "code",
   "execution_count": 70,
   "id": "9f6ca12b-3223-43ed-b00c-cfc41c250b98",
   "metadata": {},
   "outputs": [
    {
     "data": {
      "text/plain": [
       "array(['PRIVATE', 'USFS', 'BLM', 'MISSING/NOT SPECIFIED',\n",
       "       'STATE OR PRIVATE', 'COUNTY', 'UNDEFINED FEDERAL', 'STATE', 'FWS',\n",
       "       'NPS', 'BOR', 'MUNICIPAL/LOCAL', 'TRIBAL', 'OTHER FEDERAL', 'BIA'],\n",
       "      dtype=object)"
      ]
     },
     "execution_count": 70,
     "metadata": {},
     "output_type": "execute_result"
    }
   ],
   "source": [
    "X_train['OWNER_DESCR'].unique()"
   ]
  },
  {
   "cell_type": "code",
   "execution_count": 74,
   "id": "96be7741-94a0-47eb-8bc5-c58cc8b45592",
   "metadata": {},
   "outputs": [],
   "source": [
    "features.extend(['PRIVATE', 'USFS', 'BLM', 'MISSING/NOT SPECIFIED',\n",
    "       'STATE OR PRIVATE', 'COUNTY', 'UNDEFINED FEDERAL', 'STATE', 'FWS',\n",
    "       'NPS', 'BOR', 'MUNICIPAL/LOCAL', 'TRIBAL', 'OTHER FEDERAL', 'BIA'])"
   ]
  },
  {
   "cell_type": "code",
   "execution_count": 76,
   "id": "f1de4180-b0cc-4148-841d-409e8d7720e6",
   "metadata": {},
   "outputs": [
    {
     "data": {
      "text/plain": [
       "34"
      ]
     },
     "execution_count": 76,
     "metadata": {},
     "output_type": "execute_result"
    }
   ],
   "source": [
    "len(features)"
   ]
  },
  {
   "cell_type": "code",
   "execution_count": 77,
   "id": "0ae6a2e2-eb69-478a-b499-e4677a86558c",
   "metadata": {},
   "outputs": [],
   "source": [
    "importances = pd.DataFrame(data={\n",
    "    'Attribute': features,\n",
    "    'Importance': pipeline.steps[1][1].feature_importances_\n",
    "})\n",
    "importances = importances.sort_values(by='Importance', ascending=False)"
   ]
  },
  {
   "cell_type": "code",
   "execution_count": 79,
   "id": "c1750d44-dc05-4477-842f-3ffe5e778133",
   "metadata": {},
   "outputs": [
    {
     "data": {
      "image/png": "[encoded data removed]",
      "text/plain": [
       "<Figure size 864x576 with 1 Axes>"
      ]
     },
     "metadata": {
      "needs_background": "light"
     },
     "output_type": "display_data"
    }
   ],
   "source": [
    "plt.figure(figsize=(12,8))\n",
    "plt.bar(x=importances['Attribute'], height=importances['Importance'], color='#087E8B')\n",
    "plt.title('Feature importances obtained from coefficients', size=20)\n",
    "plt.xticks(rotation='vertical')\n",
    "plt.show()"
   ]
  },
  {
   "cell_type": "code",
   "execution_count": null,
   "id": "20bece14-e244-4bf5-92bf-d940b8811560",
   "metadata": {},
   "outputs": [],
   "source": []
  }
 ],
 "metadata": {
  "kernelspec": {
   "display_name": "lighthouse_env",
   "language": "python",
   "name": "lighthouse_env"
  },
  "language_info": {
   "codemirror_mode": {
    "name": "ipython",
    "version": 3
   },
   "file_extension": ".py",
   "mimetype": "text/x-python",
   "name": "python",
   "nbconvert_exporter": "python",
   "pygments_lexer": "ipython3",
   "version": "3.9.13"
  }
 },
 "nbformat": 4,
 "nbformat_minor": 5
}
