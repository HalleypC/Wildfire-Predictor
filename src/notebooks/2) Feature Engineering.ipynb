{
 "cells": [
  {
   "cell_type": "markdown",
   "id": "4e1debb1-0e80-4152-9f58-7badfbab5004",
   "metadata": {},
   "source": [
    "# Wildfire Prediction Project\n",
    "## Notebook 2) Feature Engineering \n",
    "\n",
    "In this notebook, I will finish cleaning for model 0 and develop additinal features for model 1.\n",
    "\n",
    "During the EDA, we did complete some basic cleaning like converting the float date feature to datetime and extracted the month, day, and day of week. Now we will continue adding features.\n",
    "\n",
    "* Imputing the containment date (just to calculate the fire furation)\n",
    "* Calculating the fire duration (in days)\n",
    "* Dropping features with null values"
   ]
  },
  {
   "cell_type": "markdown",
   "id": "025bf25b-6b7d-40d5-961c-c58a6498c64b",
   "metadata": {},
   "source": [
    "### Import Libraries"
   ]
  },
  {
   "cell_type": "code",
   "execution_count": 7,
   "id": "73d93ba2-a569-42d2-9118-0af5d3ec3501",
   "metadata": {},
   "outputs": [],
   "source": [
    "import pandas as pd\n",
    "import warnings\n",
    "warnings.filterwarnings(\"ignore\")"
   ]
  },
  {
   "cell_type": "code",
   "execution_count": 8,
   "id": "a4dee1ea-35d5-4372-a32a-9c7fab0a5c5e",
   "metadata": {},
   "outputs": [],
   "source": [
    "df = pd.read_csv(\"../../data/fires_FIPS_EDA.csv\", index_col = 0)"
   ]
  },
  {
   "cell_type": "code",
   "execution_count": 9,
   "id": "0e362412-71e4-416e-bb61-15263d4c8be8",
   "metadata": {},
   "outputs": [
    {
     "data": {
      "text/html": [
       "<div>\n",
       "<style scoped>\n",
       "    .dataframe tbody tr th:only-of-type {\n",
       "        vertical-align: middle;\n",
       "    }\n",
       "\n",
       "    .dataframe tbody tr th {\n",
       "        vertical-align: top;\n",
       "    }\n",
       "\n",
       "    .dataframe thead th {\n",
       "        text-align: right;\n",
       "    }\n",
       "</style>\n",
       "<table border=\"1\" class=\"dataframe\">\n",
       "  <thead>\n",
       "    <tr style=\"text-align: right;\">\n",
       "      <th></th>\n",
       "      <th>OBJECTID</th>\n",
       "      <th>FOD_ID</th>\n",
       "      <th>FPA_ID</th>\n",
       "      <th>SOURCE_SYSTEM_TYPE</th>\n",
       "      <th>SOURCE_SYSTEM</th>\n",
       "      <th>NWCG_REPORTING_AGENCY</th>\n",
       "      <th>NWCG_REPORTING_UNIT_ID</th>\n",
       "      <th>NWCG_REPORTING_UNIT_NAME</th>\n",
       "      <th>SOURCE_REPORTING_UNIT</th>\n",
       "      <th>SOURCE_REPORTING_UNIT_NAME</th>\n",
       "      <th>...</th>\n",
       "      <th>COUNTY</th>\n",
       "      <th>FIPS_CODE</th>\n",
       "      <th>FIPS_NAME</th>\n",
       "      <th>Shape</th>\n",
       "      <th>DISC_GREG_DATE</th>\n",
       "      <th>CONT_GREG_DATE</th>\n",
       "      <th>DISC_MONTH</th>\n",
       "      <th>DISC_DAY</th>\n",
       "      <th>DISC_DAYOFWEEK</th>\n",
       "      <th>LABEL</th>\n",
       "    </tr>\n",
       "  </thead>\n",
       "  <tbody>\n",
       "    <tr>\n",
       "      <th>1</th>\n",
       "      <td>2</td>\n",
       "      <td>2</td>\n",
       "      <td>FS-1418827</td>\n",
       "      <td>FED</td>\n",
       "      <td>FS-FIRESTAT</td>\n",
       "      <td>FS</td>\n",
       "      <td>USCAENF</td>\n",
       "      <td>Eldorado National Forest</td>\n",
       "      <td>0503</td>\n",
       "      <td>Eldorado National Forest</td>\n",
       "      <td>...</td>\n",
       "      <td>61</td>\n",
       "      <td>61</td>\n",
       "      <td>Placer</td>\n",
       "      <td>b'\\x00\\x01\\xad\\x10\\x00\\x00T\\xb6\\xeej\\xe2\\x19^\\...</td>\n",
       "      <td>2004-05-12</td>\n",
       "      <td>2004-05-12</td>\n",
       "      <td>5</td>\n",
       "      <td>12</td>\n",
       "      <td>2</td>\n",
       "      <td>1</td>\n",
       "    </tr>\n",
       "    <tr>\n",
       "      <th>2</th>\n",
       "      <td>3</td>\n",
       "      <td>3</td>\n",
       "      <td>FS-1418835</td>\n",
       "      <td>FED</td>\n",
       "      <td>FS-FIRESTAT</td>\n",
       "      <td>FS</td>\n",
       "      <td>USCAENF</td>\n",
       "      <td>Eldorado National Forest</td>\n",
       "      <td>0503</td>\n",
       "      <td>Eldorado National Forest</td>\n",
       "      <td>...</td>\n",
       "      <td>17</td>\n",
       "      <td>17</td>\n",
       "      <td>El Dorado</td>\n",
       "      <td>b'\\x00\\x01\\xad\\x10\\x00\\x00\\xd0\\xa5\\xa0W\\x13/^\\...</td>\n",
       "      <td>2004-05-31</td>\n",
       "      <td>2004-05-31</td>\n",
       "      <td>5</td>\n",
       "      <td>31</td>\n",
       "      <td>0</td>\n",
       "      <td>2</td>\n",
       "    </tr>\n",
       "    <tr>\n",
       "      <th>3</th>\n",
       "      <td>4</td>\n",
       "      <td>4</td>\n",
       "      <td>FS-1418845</td>\n",
       "      <td>FED</td>\n",
       "      <td>FS-FIRESTAT</td>\n",
       "      <td>FS</td>\n",
       "      <td>USCAENF</td>\n",
       "      <td>Eldorado National Forest</td>\n",
       "      <td>0503</td>\n",
       "      <td>Eldorado National Forest</td>\n",
       "      <td>...</td>\n",
       "      <td>3</td>\n",
       "      <td>3</td>\n",
       "      <td>Alpine</td>\n",
       "      <td>b'\\x00\\x01\\xad\\x10\\x00\\x00\\x94\\xac\\xa3\\rt\\xfa]...</td>\n",
       "      <td>2004-06-28</td>\n",
       "      <td>2004-07-03</td>\n",
       "      <td>6</td>\n",
       "      <td>28</td>\n",
       "      <td>0</td>\n",
       "      <td>1</td>\n",
       "    </tr>\n",
       "    <tr>\n",
       "      <th>4</th>\n",
       "      <td>5</td>\n",
       "      <td>5</td>\n",
       "      <td>FS-1418847</td>\n",
       "      <td>FED</td>\n",
       "      <td>FS-FIRESTAT</td>\n",
       "      <td>FS</td>\n",
       "      <td>USCAENF</td>\n",
       "      <td>Eldorado National Forest</td>\n",
       "      <td>0503</td>\n",
       "      <td>Eldorado National Forest</td>\n",
       "      <td>...</td>\n",
       "      <td>3</td>\n",
       "      <td>3</td>\n",
       "      <td>Alpine</td>\n",
       "      <td>b'\\x00\\x01\\xad\\x10\\x00\\x00@\\xe3\\xaa.\\xb7\\xfb]\\...</td>\n",
       "      <td>2004-06-28</td>\n",
       "      <td>2004-07-03</td>\n",
       "      <td>6</td>\n",
       "      <td>28</td>\n",
       "      <td>0</td>\n",
       "      <td>1</td>\n",
       "    </tr>\n",
       "    <tr>\n",
       "      <th>5</th>\n",
       "      <td>6</td>\n",
       "      <td>6</td>\n",
       "      <td>FS-1418849</td>\n",
       "      <td>FED</td>\n",
       "      <td>FS-FIRESTAT</td>\n",
       "      <td>FS</td>\n",
       "      <td>USCAENF</td>\n",
       "      <td>Eldorado National Forest</td>\n",
       "      <td>0503</td>\n",
       "      <td>Eldorado National Forest</td>\n",
       "      <td>...</td>\n",
       "      <td>5</td>\n",
       "      <td>5</td>\n",
       "      <td>Amador</td>\n",
       "      <td>b'\\x00\\x01\\xad\\x10\\x00\\x00\\xf0&lt;~\\x90\\xa1\\x06^\\...</td>\n",
       "      <td>2004-06-30</td>\n",
       "      <td>2004-07-01</td>\n",
       "      <td>6</td>\n",
       "      <td>30</td>\n",
       "      <td>2</td>\n",
       "      <td>1</td>\n",
       "    </tr>\n",
       "  </tbody>\n",
       "</table>\n",
       "<p>5 rows × 44 columns</p>\n",
       "</div>"
      ],
      "text/plain": [
       "   OBJECTID  FOD_ID      FPA_ID SOURCE_SYSTEM_TYPE SOURCE_SYSTEM  \\\n",
       "1         2       2  FS-1418827                FED   FS-FIRESTAT   \n",
       "2         3       3  FS-1418835                FED   FS-FIRESTAT   \n",
       "3         4       4  FS-1418845                FED   FS-FIRESTAT   \n",
       "4         5       5  FS-1418847                FED   FS-FIRESTAT   \n",
       "5         6       6  FS-1418849                FED   FS-FIRESTAT   \n",
       "\n",
       "  NWCG_REPORTING_AGENCY NWCG_REPORTING_UNIT_ID  NWCG_REPORTING_UNIT_NAME  \\\n",
       "1                    FS                USCAENF  Eldorado National Forest   \n",
       "2                    FS                USCAENF  Eldorado National Forest   \n",
       "3                    FS                USCAENF  Eldorado National Forest   \n",
       "4                    FS                USCAENF  Eldorado National Forest   \n",
       "5                    FS                USCAENF  Eldorado National Forest   \n",
       "\n",
       "  SOURCE_REPORTING_UNIT SOURCE_REPORTING_UNIT_NAME  ... COUNTY FIPS_CODE  \\\n",
       "1                  0503   Eldorado National Forest  ...     61        61   \n",
       "2                  0503   Eldorado National Forest  ...     17        17   \n",
       "3                  0503   Eldorado National Forest  ...      3         3   \n",
       "4                  0503   Eldorado National Forest  ...      3         3   \n",
       "5                  0503   Eldorado National Forest  ...      5         5   \n",
       "\n",
       "   FIPS_NAME                                              Shape  \\\n",
       "1     Placer  b'\\x00\\x01\\xad\\x10\\x00\\x00T\\xb6\\xeej\\xe2\\x19^\\...   \n",
       "2  El Dorado  b'\\x00\\x01\\xad\\x10\\x00\\x00\\xd0\\xa5\\xa0W\\x13/^\\...   \n",
       "3     Alpine  b'\\x00\\x01\\xad\\x10\\x00\\x00\\x94\\xac\\xa3\\rt\\xfa]...   \n",
       "4     Alpine  b'\\x00\\x01\\xad\\x10\\x00\\x00@\\xe3\\xaa.\\xb7\\xfb]\\...   \n",
       "5     Amador  b'\\x00\\x01\\xad\\x10\\x00\\x00\\xf0<~\\x90\\xa1\\x06^\\...   \n",
       "\n",
       "  DISC_GREG_DATE CONT_GREG_DATE DISC_MONTH DISC_DAY DISC_DAYOFWEEK  LABEL  \n",
       "1     2004-05-12     2004-05-12          5       12              2      1  \n",
       "2     2004-05-31     2004-05-31          5       31              0      2  \n",
       "3     2004-06-28     2004-07-03          6       28              0      1  \n",
       "4     2004-06-28     2004-07-03          6       28              0      1  \n",
       "5     2004-06-30     2004-07-01          6       30              2      1  \n",
       "\n",
       "[5 rows x 44 columns]"
      ]
     },
     "execution_count": 9,
     "metadata": {},
     "output_type": "execute_result"
    }
   ],
   "source": [
    "df.head()"
   ]
  },
  {
   "cell_type": "code",
   "execution_count": 10,
   "id": "51496a04-f60d-4dd6-abf2-814ba8b0fa29",
   "metadata": {},
   "outputs": [
    {
     "data": {
      "text/plain": [
       "(84893, 44)"
      ]
     },
     "execution_count": 10,
     "metadata": {},
     "output_type": "execute_result"
    }
   ],
   "source": [
    "df.shape"
   ]
  },
  {
   "cell_type": "markdown",
   "id": "c0570c2e-55ba-4bcf-bee2-b036b85c52e6",
   "metadata": {},
   "source": [
    "### Fire Duration Feature\n",
    "Let's correlate fire size with burn length so we can impute the containment date"
   ]
  },
  {
   "cell_type": "code",
   "execution_count": 11,
   "id": "a947048a-6a69-43a8-a77b-08dbebd3bb14",
   "metadata": {},
   "outputs": [],
   "source": [
    "duration = df[['DISCOVERY_DOY', 'CONT_DOY','FIRE_SIZE_CLASS']]\n",
    "duration.dropna(inplace=True)"
   ]
  },
  {
   "cell_type": "code",
   "execution_count": 12,
   "id": "3db31640-921b-431a-899d-bf662a98f701",
   "metadata": {},
   "outputs": [
    {
     "data": {
      "text/plain": [
       "DISCOVERY_DOY        int64\n",
       "CONT_DOY           float64\n",
       "FIRE_SIZE_CLASS     object\n",
       "dtype: object"
      ]
     },
     "execution_count": 12,
     "metadata": {},
     "output_type": "execute_result"
    }
   ],
   "source": [
    "duration.dtypes"
   ]
  },
  {
   "cell_type": "code",
   "execution_count": 13,
   "id": "9fd9fe15-7f92-436b-a794-b46c3aa2c8e5",
   "metadata": {},
   "outputs": [],
   "source": [
    "duration['Fire_duration'] = duration['CONT_DOY'] - duration['DISCOVERY_DOY']"
   ]
  },
  {
   "cell_type": "code",
   "execution_count": 14,
   "id": "bef7f4bb-c996-4d39-8d88-ec801ac9e6cc",
   "metadata": {},
   "outputs": [
    {
     "data": {
      "text/html": [
       "<div>\n",
       "<style scoped>\n",
       "    .dataframe tbody tr th:only-of-type {\n",
       "        vertical-align: middle;\n",
       "    }\n",
       "\n",
       "    .dataframe tbody tr th {\n",
       "        vertical-align: top;\n",
       "    }\n",
       "\n",
       "    .dataframe thead th {\n",
       "        text-align: right;\n",
       "    }\n",
       "</style>\n",
       "<table border=\"1\" class=\"dataframe\">\n",
       "  <thead>\n",
       "    <tr style=\"text-align: right;\">\n",
       "      <th></th>\n",
       "      <th>DISCOVERY_DOY</th>\n",
       "      <th>CONT_DOY</th>\n",
       "      <th>FIRE_SIZE_CLASS</th>\n",
       "      <th>Fire_duration</th>\n",
       "    </tr>\n",
       "  </thead>\n",
       "  <tbody>\n",
       "    <tr>\n",
       "      <th>1</th>\n",
       "      <td>133</td>\n",
       "      <td>133.0</td>\n",
       "      <td>A</td>\n",
       "      <td>0.0</td>\n",
       "    </tr>\n",
       "    <tr>\n",
       "      <th>2</th>\n",
       "      <td>152</td>\n",
       "      <td>152.0</td>\n",
       "      <td>A</td>\n",
       "      <td>0.0</td>\n",
       "    </tr>\n",
       "    <tr>\n",
       "      <th>3</th>\n",
       "      <td>180</td>\n",
       "      <td>185.0</td>\n",
       "      <td>A</td>\n",
       "      <td>5.0</td>\n",
       "    </tr>\n",
       "    <tr>\n",
       "      <th>4</th>\n",
       "      <td>180</td>\n",
       "      <td>185.0</td>\n",
       "      <td>A</td>\n",
       "      <td>5.0</td>\n",
       "    </tr>\n",
       "    <tr>\n",
       "      <th>5</th>\n",
       "      <td>182</td>\n",
       "      <td>183.0</td>\n",
       "      <td>A</td>\n",
       "      <td>1.0</td>\n",
       "    </tr>\n",
       "  </tbody>\n",
       "</table>\n",
       "</div>"
      ],
      "text/plain": [
       "   DISCOVERY_DOY  CONT_DOY FIRE_SIZE_CLASS  Fire_duration\n",
       "1            133     133.0               A            0.0\n",
       "2            152     152.0               A            0.0\n",
       "3            180     185.0               A            5.0\n",
       "4            180     185.0               A            5.0\n",
       "5            182     183.0               A            1.0"
      ]
     },
     "execution_count": 14,
     "metadata": {},
     "output_type": "execute_result"
    }
   ],
   "source": [
    "duration.head()"
   ]
  },
  {
   "cell_type": "code",
   "execution_count": 15,
   "id": "981050e5-285a-4f50-8760-0c7d38fca5df",
   "metadata": {},
   "outputs": [
    {
     "data": {
      "text/html": [
       "<div>\n",
       "<style scoped>\n",
       "    .dataframe tbody tr th:only-of-type {\n",
       "        vertical-align: middle;\n",
       "    }\n",
       "\n",
       "    .dataframe tbody tr th {\n",
       "        vertical-align: top;\n",
       "    }\n",
       "\n",
       "    .dataframe thead th {\n",
       "        text-align: right;\n",
       "    }\n",
       "</style>\n",
       "<table border=\"1\" class=\"dataframe\">\n",
       "  <thead>\n",
       "    <tr style=\"text-align: right;\">\n",
       "      <th></th>\n",
       "      <th>DISCOVERY_DOY</th>\n",
       "      <th>CONT_DOY</th>\n",
       "      <th>Fire_duration</th>\n",
       "    </tr>\n",
       "  </thead>\n",
       "  <tbody>\n",
       "    <tr>\n",
       "      <th>count</th>\n",
       "      <td>71958.000000</td>\n",
       "      <td>71958.000000</td>\n",
       "      <td>71958.000000</td>\n",
       "    </tr>\n",
       "    <tr>\n",
       "      <th>mean</th>\n",
       "      <td>207.283513</td>\n",
       "      <td>209.292157</td>\n",
       "      <td>2.008644</td>\n",
       "    </tr>\n",
       "    <tr>\n",
       "      <th>std</th>\n",
       "      <td>53.753622</td>\n",
       "      <td>54.332838</td>\n",
       "      <td>9.791609</td>\n",
       "    </tr>\n",
       "    <tr>\n",
       "      <th>min</th>\n",
       "      <td>1.000000</td>\n",
       "      <td>1.000000</td>\n",
       "      <td>-364.000000</td>\n",
       "    </tr>\n",
       "    <tr>\n",
       "      <th>25%</th>\n",
       "      <td>183.000000</td>\n",
       "      <td>184.000000</td>\n",
       "      <td>0.000000</td>\n",
       "    </tr>\n",
       "    <tr>\n",
       "      <th>50%</th>\n",
       "      <td>212.000000</td>\n",
       "      <td>213.000000</td>\n",
       "      <td>0.000000</td>\n",
       "    </tr>\n",
       "    <tr>\n",
       "      <th>75%</th>\n",
       "      <td>237.000000</td>\n",
       "      <td>240.000000</td>\n",
       "      <td>1.000000</td>\n",
       "    </tr>\n",
       "    <tr>\n",
       "      <th>max</th>\n",
       "      <td>366.000000</td>\n",
       "      <td>366.000000</td>\n",
       "      <td>335.000000</td>\n",
       "    </tr>\n",
       "  </tbody>\n",
       "</table>\n",
       "</div>"
      ],
      "text/plain": [
       "       DISCOVERY_DOY      CONT_DOY  Fire_duration\n",
       "count   71958.000000  71958.000000   71958.000000\n",
       "mean      207.283513    209.292157       2.008644\n",
       "std        53.753622     54.332838       9.791609\n",
       "min         1.000000      1.000000    -364.000000\n",
       "25%       183.000000    184.000000       0.000000\n",
       "50%       212.000000    213.000000       0.000000\n",
       "75%       237.000000    240.000000       1.000000\n",
       "max       366.000000    366.000000     335.000000"
      ]
     },
     "execution_count": 15,
     "metadata": {},
     "output_type": "execute_result"
    }
   ],
   "source": [
    "duration.describe()"
   ]
  },
  {
   "cell_type": "markdown",
   "id": "9cd0600e-33a6-4e6b-8fcb-07d83ebefa8f",
   "metadata": {},
   "source": [
    "Looks like fires that started and ended in different years are causing some negative fire durations."
   ]
  },
  {
   "cell_type": "code",
   "execution_count": 16,
   "id": "30730228-4811-40c2-b164-be1f94193fa2",
   "metadata": {},
   "outputs": [
    {
     "data": {
      "text/html": [
       "<div>\n",
       "<style scoped>\n",
       "    .dataframe tbody tr th:only-of-type {\n",
       "        vertical-align: middle;\n",
       "    }\n",
       "\n",
       "    .dataframe tbody tr th {\n",
       "        vertical-align: top;\n",
       "    }\n",
       "\n",
       "    .dataframe thead th {\n",
       "        text-align: right;\n",
       "    }\n",
       "</style>\n",
       "<table border=\"1\" class=\"dataframe\">\n",
       "  <thead>\n",
       "    <tr style=\"text-align: right;\">\n",
       "      <th></th>\n",
       "      <th>DISCOVERY_DOY</th>\n",
       "      <th>CONT_DOY</th>\n",
       "      <th>FIRE_SIZE_CLASS</th>\n",
       "      <th>Fire_duration</th>\n",
       "    </tr>\n",
       "  </thead>\n",
       "  <tbody>\n",
       "    <tr>\n",
       "      <th>7937</th>\n",
       "      <td>217</td>\n",
       "      <td>7.0</td>\n",
       "      <td>G</td>\n",
       "      <td>-210.0</td>\n",
       "    </tr>\n",
       "    <tr>\n",
       "      <th>214230</th>\n",
       "      <td>283</td>\n",
       "      <td>180.0</td>\n",
       "      <td>A</td>\n",
       "      <td>-103.0</td>\n",
       "    </tr>\n",
       "    <tr>\n",
       "      <th>224562</th>\n",
       "      <td>365</td>\n",
       "      <td>1.0</td>\n",
       "      <td>A</td>\n",
       "      <td>-364.0</td>\n",
       "    </tr>\n",
       "    <tr>\n",
       "      <th>257222</th>\n",
       "      <td>305</td>\n",
       "      <td>5.0</td>\n",
       "      <td>A</td>\n",
       "      <td>-300.0</td>\n",
       "    </tr>\n",
       "    <tr>\n",
       "      <th>260645</th>\n",
       "      <td>195</td>\n",
       "      <td>41.0</td>\n",
       "      <td>A</td>\n",
       "      <td>-154.0</td>\n",
       "    </tr>\n",
       "    <tr>\n",
       "      <th>260646</th>\n",
       "      <td>195</td>\n",
       "      <td>41.0</td>\n",
       "      <td>A</td>\n",
       "      <td>-154.0</td>\n",
       "    </tr>\n",
       "    <tr>\n",
       "      <th>260647</th>\n",
       "      <td>196</td>\n",
       "      <td>41.0</td>\n",
       "      <td>A</td>\n",
       "      <td>-155.0</td>\n",
       "    </tr>\n",
       "  </tbody>\n",
       "</table>\n",
       "</div>"
      ],
      "text/plain": [
       "        DISCOVERY_DOY  CONT_DOY FIRE_SIZE_CLASS  Fire_duration\n",
       "7937              217       7.0               G         -210.0\n",
       "214230            283     180.0               A         -103.0\n",
       "224562            365       1.0               A         -364.0\n",
       "257222            305       5.0               A         -300.0\n",
       "260645            195      41.0               A         -154.0\n",
       "260646            195      41.0               A         -154.0\n",
       "260647            196      41.0               A         -155.0"
      ]
     },
     "execution_count": 16,
     "metadata": {},
     "output_type": "execute_result"
    }
   ],
   "source": [
    "duration[duration['Fire_duration'] < 0]"
   ]
  },
  {
   "cell_type": "markdown",
   "id": "8bdef384-3895-4262-bb4b-2b061ec08252",
   "metadata": {},
   "source": [
    "There aren't very many with this issue, let's add 365 manually"
   ]
  },
  {
   "cell_type": "code",
   "execution_count": 17,
   "id": "6e371d99-380f-44a9-a55a-57a19d2157fa",
   "metadata": {},
   "outputs": [],
   "source": [
    "duration.loc[duration['Fire_duration'] < 0, 'Fire_duration'] = duration['Fire_duration'] + 365"
   ]
  },
  {
   "cell_type": "code",
   "execution_count": 18,
   "id": "003ef6ab-5d15-4aee-87a0-83f5c252125a",
   "metadata": {},
   "outputs": [
    {
     "data": {
      "text/html": [
       "<div>\n",
       "<style scoped>\n",
       "    .dataframe tbody tr th:only-of-type {\n",
       "        vertical-align: middle;\n",
       "    }\n",
       "\n",
       "    .dataframe tbody tr th {\n",
       "        vertical-align: top;\n",
       "    }\n",
       "\n",
       "    .dataframe thead th {\n",
       "        text-align: right;\n",
       "    }\n",
       "</style>\n",
       "<table border=\"1\" class=\"dataframe\">\n",
       "  <thead>\n",
       "    <tr style=\"text-align: right;\">\n",
       "      <th></th>\n",
       "      <th>DISCOVERY_DOY</th>\n",
       "      <th>CONT_DOY</th>\n",
       "      <th>FIRE_SIZE_CLASS</th>\n",
       "      <th>Fire_duration</th>\n",
       "    </tr>\n",
       "  </thead>\n",
       "  <tbody>\n",
       "  </tbody>\n",
       "</table>\n",
       "</div>"
      ],
      "text/plain": [
       "Empty DataFrame\n",
       "Columns: [DISCOVERY_DOY, CONT_DOY, FIRE_SIZE_CLASS, Fire_duration]\n",
       "Index: []"
      ]
     },
     "execution_count": 18,
     "metadata": {},
     "output_type": "execute_result"
    }
   ],
   "source": [
    "#check\n",
    "duration[duration['Fire_duration'] < 0]"
   ]
  },
  {
   "cell_type": "code",
   "execution_count": 19,
   "id": "e8a48a05-a8b7-4641-8e7f-5e6bb468f6db",
   "metadata": {},
   "outputs": [
    {
     "data": {
      "text/plain": [
       "FIRE_SIZE_CLASS\n",
       "A     1.181335\n",
       "B     2.128508\n",
       "C     5.833396\n",
       "D    10.256560\n",
       "E    12.814898\n",
       "F    22.422330\n",
       "G    37.924198\n",
       "Name: Fire_duration, dtype: float64"
      ]
     },
     "execution_count": 19,
     "metadata": {},
     "output_type": "execute_result"
    }
   ],
   "source": [
    "# mean fire duration by grouped size of fire\n",
    "fireclass_mean = duration.groupby('FIRE_SIZE_CLASS')['Fire_duration'].mean()\n",
    "fireclass_mean"
   ]
  },
  {
   "cell_type": "code",
   "execution_count": 20,
   "id": "ab403ffa-56ff-4e46-9a7f-c12e0468facb",
   "metadata": {},
   "outputs": [],
   "source": [
    "def fireMeanLength(x):\n",
    "    '''\n",
    "    Function that returns a fire length for a given fire size class\n",
    "    x is a string A to G\n",
    "    '''\n",
    "    fire_classes = ['A', 'B', 'C', 'D', 'E', 'F', 'G']\n",
    "    position = fire_classes.index(x)\n",
    "    \n",
    "    return pd.to_timedelta(fireclass_mean[position], unit='D')"
   ]
  },
  {
   "cell_type": "code",
   "execution_count": 21,
   "id": "d0121bc6-441e-47a5-a17a-4ca4ff803240",
   "metadata": {},
   "outputs": [],
   "source": [
    "df['FIRE_MEAN_DURATION'] = df['FIRE_SIZE_CLASS'].apply(lambda x: fireMeanLength(x))"
   ]
  },
  {
   "cell_type": "code",
   "execution_count": 22,
   "id": "5a569b12-4fc7-47c6-99fd-bfdcb89edfda",
   "metadata": {},
   "outputs": [],
   "source": [
    "df['CONT_GREG_DATE'] = pd.to_datetime(df['CONT_GREG_DATE'])\n",
    "df['DISC_GREG_DATE'] = pd.to_datetime(df['DISC_GREG_DATE'])"
   ]
  },
  {
   "cell_type": "code",
   "execution_count": 23,
   "id": "34587ba4-5e6a-41a0-b80d-1e511a561cb3",
   "metadata": {},
   "outputs": [
    {
     "data": {
      "text/plain": [
       "(dtype('<M8[ns]'), dtype('<M8[ns]'))"
      ]
     },
     "execution_count": 23,
     "metadata": {},
     "output_type": "execute_result"
    }
   ],
   "source": [
    "df['CONT_GREG_DATE'].dtype, df['DISC_GREG_DATE'].dtype"
   ]
  },
  {
   "cell_type": "markdown",
   "id": "a6ca4cdc-3088-4104-b859-c1d9dbf9cddc",
   "metadata": {},
   "source": [
    "We will use the mean fire duration feature to impute the containment dates"
   ]
  },
  {
   "cell_type": "code",
   "execution_count": 24,
   "id": "d8dbe97d-4043-4ee9-a82e-0af9109d4d23",
   "metadata": {
    "tags": []
   },
   "outputs": [],
   "source": [
    "# Filling all missing data in CONT_GREG_DATE with the calculated date\n",
    "df['CONT_GREG_DATE'].fillna(value=(df['DISC_GREG_DATE'] + df['FIRE_MEAN_DURATION']), inplace=True)\n",
    "\n",
    "# Calculating the burn length of fire\n",
    "df['FIRE_DURATION'] = df['CONT_GREG_DATE'] - df['DISC_GREG_DATE']"
   ]
  },
  {
   "cell_type": "code",
   "execution_count": 25,
   "id": "4530b90c-c337-4755-afe0-45c1621a8262",
   "metadata": {},
   "outputs": [],
   "source": [
    "# Changing the dtype of Fire_duration from dt to int\n",
    "df['FIRE_DURATION'] = df['FIRE_DURATION'].dt.days"
   ]
  },
  {
   "cell_type": "code",
   "execution_count": 26,
   "id": "049a32a8-1c0a-4cde-a9ec-8f79252d9ced",
   "metadata": {},
   "outputs": [],
   "source": [
    "#we can now drop the mean duration\n",
    "df.drop('FIRE_MEAN_DURATION', axis = 1, inplace = True)"
   ]
  },
  {
   "cell_type": "code",
   "execution_count": 27,
   "id": "bd781365-5439-4e03-ac73-65d5394c6e92",
   "metadata": {},
   "outputs": [
    {
     "data": {
      "text/plain": [
       "(84893, 45)"
      ]
     },
     "execution_count": 27,
     "metadata": {},
     "output_type": "execute_result"
    }
   ],
   "source": [
    "df.shape"
   ]
  },
  {
   "cell_type": "markdown",
   "id": "728ba029-8797-4e03-868d-f54f9e1029aa",
   "metadata": {},
   "source": [
    "### Dropping features with null values"
   ]
  },
  {
   "cell_type": "code",
   "execution_count": 28,
   "id": "db8c4805-7e6f-4600-99af-1c67717e3847",
   "metadata": {},
   "outputs": [
    {
     "data": {
      "text/plain": [
       "OBJECTID                          0\n",
       "FOD_ID                            0\n",
       "FPA_ID                            0\n",
       "SOURCE_SYSTEM_TYPE                0\n",
       "SOURCE_SYSTEM                     0\n",
       "NWCG_REPORTING_AGENCY             0\n",
       "NWCG_REPORTING_UNIT_ID            0\n",
       "NWCG_REPORTING_UNIT_NAME          0\n",
       "SOURCE_REPORTING_UNIT             0\n",
       "SOURCE_REPORTING_UNIT_NAME        0\n",
       "LOCAL_FIRE_REPORT_ID          39744\n",
       "LOCAL_INCIDENT_ID             29393\n",
       "FIRE_CODE                     40081\n",
       "FIRE_NAME                      9865\n",
       "ICS_209_INCIDENT_NUMBER       82680\n",
       "ICS_209_NAME                  82680\n",
       "MTBS_ID                       84054\n",
       "MTBS_FIRE_NAME                84054\n",
       "COMPLEX_NAME                  83639\n",
       "FIRE_YEAR                         0\n",
       "DISCOVERY_DATE                    0\n",
       "DISCOVERY_DOY                     0\n",
       "DISCOVERY_TIME                23618\n",
       "STAT_CAUSE_CODE                   0\n",
       "CONT_DATE                     12935\n",
       "CONT_DOY                      12935\n",
       "CONT_TIME                     29977\n",
       "FIRE_SIZE                         0\n",
       "FIRE_SIZE_CLASS                   0\n",
       "LATITUDE                          0\n",
       "LONGITUDE                         0\n",
       "OWNER_CODE                        0\n",
       "OWNER_DESCR                       0\n",
       "STATE                             0\n",
       "COUNTY                            0\n",
       "FIPS_CODE                         0\n",
       "FIPS_NAME                         0\n",
       "Shape                             0\n",
       "DISC_GREG_DATE                    0\n",
       "CONT_GREG_DATE                    0\n",
       "DISC_MONTH                        0\n",
       "DISC_DAY                          0\n",
       "DISC_DAYOFWEEK                    0\n",
       "LABEL                             0\n",
       "FIRE_DURATION                     0\n",
       "dtype: int64"
      ]
     },
     "execution_count": 28,
     "metadata": {},
     "output_type": "execute_result"
    }
   ],
   "source": [
    "df.isna().sum()"
   ]
  },
  {
   "cell_type": "code",
   "execution_count": 29,
   "id": "df5c37ae-4a32-426d-a09a-cc755d6442c0",
   "metadata": {},
   "outputs": [],
   "source": [
    "df.dropna(axis = 1, inplace=True)"
   ]
  },
  {
   "cell_type": "code",
   "execution_count": 30,
   "id": "6066fbc4-2e32-4408-a04d-375ad5dfe2cb",
   "metadata": {},
   "outputs": [
    {
     "data": {
      "text/plain": [
       "Index(['OBJECTID', 'FOD_ID', 'FPA_ID', 'SOURCE_SYSTEM_TYPE', 'SOURCE_SYSTEM',\n",
       "       'NWCG_REPORTING_AGENCY', 'NWCG_REPORTING_UNIT_ID',\n",
       "       'NWCG_REPORTING_UNIT_NAME', 'SOURCE_REPORTING_UNIT',\n",
       "       'SOURCE_REPORTING_UNIT_NAME', 'FIRE_YEAR', 'DISCOVERY_DATE',\n",
       "       'DISCOVERY_DOY', 'STAT_CAUSE_CODE', 'FIRE_SIZE', 'FIRE_SIZE_CLASS',\n",
       "       'LATITUDE', 'LONGITUDE', 'OWNER_CODE', 'OWNER_DESCR', 'STATE', 'COUNTY',\n",
       "       'FIPS_CODE', 'FIPS_NAME', 'Shape', 'DISC_GREG_DATE', 'CONT_GREG_DATE',\n",
       "       'DISC_MONTH', 'DISC_DAY', 'DISC_DAYOFWEEK', 'LABEL', 'FIRE_DURATION'],\n",
       "      dtype='object')"
      ]
     },
     "execution_count": 30,
     "metadata": {},
     "output_type": "execute_result"
    }
   ],
   "source": [
    "df.columns"
   ]
  },
  {
   "cell_type": "markdown",
   "id": "75d4b507-0948-4dc5-a9ee-81f36c5bb8b1",
   "metadata": {},
   "source": [
    "#### Save cleaned dataset to file"
   ]
  },
  {
   "cell_type": "code",
   "execution_count": 35,
   "id": "2f892911-26d1-44a7-bc6e-2f4874a3be0c",
   "metadata": {},
   "outputs": [],
   "source": [
    "df.to_csv('../../data/fires_clean_FIPS.csv') "
   ]
  },
  {
   "cell_type": "code",
   "execution_count": null,
   "id": "629c1ae3-414a-49de-98bf-5780965c5aad",
   "metadata": {},
   "outputs": [],
   "source": []
  }
 ],
 "metadata": {
  "kernelspec": {
   "display_name": "lighthouse_env",
   "language": "python",
   "name": "lighthouse_env"
  },
  "language_info": {
   "codemirror_mode": {
    "name": "ipython",
    "version": 3
   },
   "file_extension": ".py",
   "mimetype": "text/x-python",
   "name": "python",
   "nbconvert_exporter": "python",
   "pygments_lexer": "ipython3",
   "version": "3.9.13"
  }
 },
 "nbformat": 4,
 "nbformat_minor": 5
}
