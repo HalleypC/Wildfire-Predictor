{
 "cells": [
  {
   "cell_type": "markdown",
   "id": "4e1debb1-0e80-4152-9f58-7badfbab5004",
   "metadata": {},
   "source": [
    "# Wildfire Prediction Project\n",
    "## Notebook 6) Model 2\n",
    "\n",
    "After further reflection, it may be ideal to group all the human accident target categories together into one. "
   ]
  },
  {
   "cell_type": "code",
   "execution_count": 1,
   "id": "73d93ba2-a569-42d2-9118-0af5d3ec3501",
   "metadata": {},
   "outputs": [],
   "source": [
    "import pandas as pd"
   ]
  },
  {
   "cell_type": "code",
   "execution_count": 17,
   "id": "91568a7e-c0ad-475d-a0de-05efdd002c68",
   "metadata": {},
   "outputs": [],
   "source": [
    "import seaborn as sns\n",
    "import matplotlib.pyplot as plt"
   ]
  },
  {
   "cell_type": "code",
   "execution_count": 9,
   "id": "5b86efa9-3c82-4d54-b4d3-e07ef7a8060a",
   "metadata": {},
   "outputs": [],
   "source": [
    "import warnings\n",
    "warnings.filterwarnings(\"ignore\")"
   ]
  },
  {
   "cell_type": "code",
   "execution_count": 30,
   "id": "6de496bb-589a-40dd-b0f9-1954058ef09e",
   "metadata": {},
   "outputs": [],
   "source": [
    "from sklearn.model_selection import train_test_split\n",
    "\n",
    "from sklearn.metrics import f1_score, balanced_accuracy_score, ConfusionMatrixDisplay, classification_report\n",
    "from sklearn.pipeline import Pipeline, FeatureUnion\n",
    "from sklearn.compose import ColumnTransformer\n",
    "from sklearn.preprocessing import StandardScaler, FunctionTransformer, OneHotEncoder\n",
    "from sklearn.impute import SimpleImputer\n",
    "from sklearn.ensemble import RandomForestClassifier\n",
    "from sklearn.svm import SVC"
   ]
  },
  {
   "cell_type": "code",
   "execution_count": 2,
   "id": "a4dee1ea-35d5-4372-a32a-9c7fab0a5c5e",
   "metadata": {},
   "outputs": [],
   "source": [
    "df = pd.read_csv(\"../../data/data_weather.csv\", index_col = 0)"
   ]
  },
  {
   "cell_type": "code",
   "execution_count": 3,
   "id": "0e362412-71e4-416e-bb61-15263d4c8be8",
   "metadata": {},
   "outputs": [
    {
     "data": {
      "text/html": [
       "<div>\n",
       "<style scoped>\n",
       "    .dataframe tbody tr th:only-of-type {\n",
       "        vertical-align: middle;\n",
       "    }\n",
       "\n",
       "    .dataframe tbody tr th {\n",
       "        vertical-align: top;\n",
       "    }\n",
       "\n",
       "    .dataframe thead th {\n",
       "        text-align: right;\n",
       "    }\n",
       "</style>\n",
       "<table border=\"1\" class=\"dataframe\">\n",
       "  <thead>\n",
       "    <tr style=\"text-align: right;\">\n",
       "      <th></th>\n",
       "      <th>OBJECTID</th>\n",
       "      <th>FOD_ID</th>\n",
       "      <th>FPA_ID</th>\n",
       "      <th>SOURCE_SYSTEM_TYPE</th>\n",
       "      <th>SOURCE_SYSTEM</th>\n",
       "      <th>NWCG_REPORTING_AGENCY</th>\n",
       "      <th>NWCG_REPORTING_UNIT_ID</th>\n",
       "      <th>NWCG_REPORTING_UNIT_NAME</th>\n",
       "      <th>SOURCE_REPORTING_UNIT</th>\n",
       "      <th>SOURCE_REPORTING_UNIT_NAME</th>\n",
       "      <th>...</th>\n",
       "      <th>Wind Gusts (10 m)</th>\n",
       "      <th>Soil Temperature (0-7 cm)</th>\n",
       "      <th>Soil Temperature (7-28 cm)</th>\n",
       "      <th>Soil Moisture (0-7 cm)</th>\n",
       "      <th>Soil Moisture (7-28 cm)</th>\n",
       "      <th>Maximum Temperature (2 m)</th>\n",
       "      <th>Minimum Temperature (2 m)</th>\n",
       "      <th>Precipitation Sum</th>\n",
       "      <th>Rain Sum</th>\n",
       "      <th>Snowfall Sum</th>\n",
       "    </tr>\n",
       "  </thead>\n",
       "  <tbody>\n",
       "    <tr>\n",
       "      <th>0</th>\n",
       "      <td>2</td>\n",
       "      <td>2</td>\n",
       "      <td>FS-1418827</td>\n",
       "      <td>FED</td>\n",
       "      <td>FS-FIRESTAT</td>\n",
       "      <td>FS</td>\n",
       "      <td>USCAENF</td>\n",
       "      <td>Eldorado National Forest</td>\n",
       "      <td>0503</td>\n",
       "      <td>Eldorado National Forest</td>\n",
       "      <td>...</td>\n",
       "      <td>30.0</td>\n",
       "      <td>5.0</td>\n",
       "      <td>4.0</td>\n",
       "      <td>0.0</td>\n",
       "      <td>0.0</td>\n",
       "      <td>15.0</td>\n",
       "      <td>0.0</td>\n",
       "      <td>0.0</td>\n",
       "      <td>0.0</td>\n",
       "      <td>0.0</td>\n",
       "    </tr>\n",
       "    <tr>\n",
       "      <th>1</th>\n",
       "      <td>3</td>\n",
       "      <td>3</td>\n",
       "      <td>FS-1418835</td>\n",
       "      <td>FED</td>\n",
       "      <td>FS-FIRESTAT</td>\n",
       "      <td>FS</td>\n",
       "      <td>USCAENF</td>\n",
       "      <td>Eldorado National Forest</td>\n",
       "      <td>0503</td>\n",
       "      <td>Eldorado National Forest</td>\n",
       "      <td>...</td>\n",
       "      <td>21.0</td>\n",
       "      <td>17.0</td>\n",
       "      <td>15.0</td>\n",
       "      <td>0.0</td>\n",
       "      <td>0.0</td>\n",
       "      <td>27.0</td>\n",
       "      <td>9.0</td>\n",
       "      <td>0.0</td>\n",
       "      <td>0.0</td>\n",
       "      <td>0.0</td>\n",
       "    </tr>\n",
       "  </tbody>\n",
       "</table>\n",
       "<p>2 rows × 48 columns</p>\n",
       "</div>"
      ],
      "text/plain": [
       "   OBJECTID  FOD_ID      FPA_ID SOURCE_SYSTEM_TYPE SOURCE_SYSTEM  \\\n",
       "0         2       2  FS-1418827                FED   FS-FIRESTAT   \n",
       "1         3       3  FS-1418835                FED   FS-FIRESTAT   \n",
       "\n",
       "  NWCG_REPORTING_AGENCY NWCG_REPORTING_UNIT_ID  NWCG_REPORTING_UNIT_NAME  \\\n",
       "0                    FS                USCAENF  Eldorado National Forest   \n",
       "1                    FS                USCAENF  Eldorado National Forest   \n",
       "\n",
       "  SOURCE_REPORTING_UNIT SOURCE_REPORTING_UNIT_NAME  ... Wind Gusts (10 m)  \\\n",
       "0                  0503   Eldorado National Forest  ...              30.0   \n",
       "1                  0503   Eldorado National Forest  ...              21.0   \n",
       "\n",
       "   Soil Temperature (0-7 cm)  Soil Temperature (7-28 cm)  \\\n",
       "0                        5.0                         4.0   \n",
       "1                       17.0                        15.0   \n",
       "\n",
       "   Soil Moisture (0-7 cm)  Soil Moisture (7-28 cm)  Maximum Temperature (2 m)  \\\n",
       "0                     0.0                      0.0                       15.0   \n",
       "1                     0.0                      0.0                       27.0   \n",
       "\n",
       "  Minimum Temperature (2 m)  Precipitation Sum  Rain Sum  Snowfall Sum  \n",
       "0                       0.0                0.0       0.0           0.0  \n",
       "1                       9.0                0.0       0.0           0.0  \n",
       "\n",
       "[2 rows x 48 columns]"
      ]
     },
     "execution_count": 3,
     "metadata": {},
     "output_type": "execute_result"
    }
   ],
   "source": [
    "df.head(2)"
   ]
  },
  {
   "cell_type": "markdown",
   "id": "e5e84969-cdb8-49ef-9360-ffbdc0d737b4",
   "metadata": {},
   "source": [
    "#### For the model 2, we will retain the same features\n",
    "* main difference is reduce the number of target featrues"
   ]
  },
  {
   "cell_type": "code",
   "execution_count": 10,
   "id": "73afb415-6b95-4cf5-8c53-b10059b7e502",
   "metadata": {},
   "outputs": [],
   "source": [
    "df_base = df[['FIRE_YEAR', 'DISCOVERY_DOY', 'STAT_CAUSE_DESCR', 'FIRE_SIZE', 'LATITUDE', 'LONGITUDE', 'DISC_MONTH', \n",
    "              'DISC_DAY', 'FIRE_DURATION', 'DISC_DAYOFWEEK', 'OWNER_DESCR', \n",
    "              'Elevation', 'Temperature (2 m)', 'Wind Gusts (10 m)', 'Soil Temperature (0-7 cm)', \n",
    "              'Soil Temperature (7-28 cm)',\n",
    "              'Maximum Temperature (2 m)', 'Minimum Temperature (2 m)',\n",
    "              'Precipitation Sum', 'Rain Sum', 'Snowfall Sum']]"
   ]
  },
  {
   "cell_type": "code",
   "execution_count": 11,
   "id": "d225470b-087a-472d-8c92-f62ba24dc16a",
   "metadata": {},
   "outputs": [],
   "source": [
    "df_base.dropna(inplace = True, axis = 0)"
   ]
  },
  {
   "cell_type": "markdown",
   "id": "ef051e1c-5ab5-472e-94f6-793a46aa7f60",
   "metadata": {},
   "source": [
    "### Bin the Target Feature"
   ]
  },
  {
   "cell_type": "markdown",
   "id": "71ff2864-6cc5-4ff1-bcba-dce962409aea",
   "metadata": {},
   "source": [
    "There are a lot of different classes, let's bin them to just 3 classes. The 3 classes are: natural, accidental, malicious where \n",
    "* natural = ['Lightning'] \n",
    "* accidental = ['Structure','Fireworks','Powerline','Railroad','Smoking','Children','Campfire','Equipment Use','Debris Burning'] \n",
    "* malicious = ['Arson'] "
   ]
  },
  {
   "cell_type": "code",
   "execution_count": 12,
   "id": "2c4eb2e9-2348-4bfe-865f-c14530b5a37b",
   "metadata": {},
   "outputs": [],
   "source": [
    "def set_label(cat):\n",
    "    cause = 0\n",
    "    natural = ['Lightning']\n",
    "    accidental = ['Structure','Fireworks','Powerline','Railroad','Smoking','Children','Campfire','Equipment Use','Debris Burning']\n",
    "    malicious = ['Arson']\n",
    "    \n",
    "    if cat in natural:\n",
    "        cause = 1\n",
    "    elif cat in accidental:\n",
    "        cause = 2\n",
    "    else:\n",
    "        cause = 3\n",
    "    return cause"
   ]
  },
  {
   "cell_type": "code",
   "execution_count": 13,
   "id": "d21e6fe2-8feb-426f-b6d0-e61a6906710a",
   "metadata": {},
   "outputs": [],
   "source": [
    "df_base['LABEL'] = df_base['STAT_CAUSE_DESCR'].apply(lambda x: set_label(x))"
   ]
  },
  {
   "cell_type": "code",
   "execution_count": 14,
   "id": "199c3dcf-c9a2-4010-9628-722e26ae852b",
   "metadata": {},
   "outputs": [],
   "source": [
    "df_base.drop('STAT_CAUSE_DESCR',axis=1, inplace = True)"
   ]
  },
  {
   "cell_type": "code",
   "execution_count": 15,
   "id": "531a459b-c6fd-46f2-b9a3-add9b8390bab",
   "metadata": {},
   "outputs": [
    {
     "data": {
      "text/html": [
       "<div>\n",
       "<style scoped>\n",
       "    .dataframe tbody tr th:only-of-type {\n",
       "        vertical-align: middle;\n",
       "    }\n",
       "\n",
       "    .dataframe tbody tr th {\n",
       "        vertical-align: top;\n",
       "    }\n",
       "\n",
       "    .dataframe thead th {\n",
       "        text-align: right;\n",
       "    }\n",
       "</style>\n",
       "<table border=\"1\" class=\"dataframe\">\n",
       "  <thead>\n",
       "    <tr style=\"text-align: right;\">\n",
       "      <th></th>\n",
       "      <th>FIRE_YEAR</th>\n",
       "      <th>DISCOVERY_DOY</th>\n",
       "      <th>FIRE_SIZE</th>\n",
       "      <th>LATITUDE</th>\n",
       "      <th>LONGITUDE</th>\n",
       "      <th>DISC_MONTH</th>\n",
       "      <th>DISC_DAY</th>\n",
       "      <th>FIRE_DURATION</th>\n",
       "      <th>DISC_DAYOFWEEK</th>\n",
       "      <th>OWNER_DESCR</th>\n",
       "      <th>...</th>\n",
       "      <th>Temperature (2 m)</th>\n",
       "      <th>Wind Gusts (10 m)</th>\n",
       "      <th>Soil Temperature (0-7 cm)</th>\n",
       "      <th>Soil Temperature (7-28 cm)</th>\n",
       "      <th>Maximum Temperature (2 m)</th>\n",
       "      <th>Minimum Temperature (2 m)</th>\n",
       "      <th>Precipitation Sum</th>\n",
       "      <th>Rain Sum</th>\n",
       "      <th>Snowfall Sum</th>\n",
       "      <th>LABEL</th>\n",
       "    </tr>\n",
       "  </thead>\n",
       "  <tbody>\n",
       "    <tr>\n",
       "      <th>0</th>\n",
       "      <td>2004</td>\n",
       "      <td>133</td>\n",
       "      <td>0.25</td>\n",
       "      <td>38.933056</td>\n",
       "      <td>-120.404444</td>\n",
       "      <td>5</td>\n",
       "      <td>12</td>\n",
       "      <td>0</td>\n",
       "      <td>2</td>\n",
       "      <td>USFS</td>\n",
       "      <td>...</td>\n",
       "      <td>7.0</td>\n",
       "      <td>30.0</td>\n",
       "      <td>5.0</td>\n",
       "      <td>4.0</td>\n",
       "      <td>15.0</td>\n",
       "      <td>0.0</td>\n",
       "      <td>0.0</td>\n",
       "      <td>0.0</td>\n",
       "      <td>0.0</td>\n",
       "      <td>1</td>\n",
       "    </tr>\n",
       "    <tr>\n",
       "      <th>1</th>\n",
       "      <td>2004</td>\n",
       "      <td>152</td>\n",
       "      <td>0.10</td>\n",
       "      <td>38.984167</td>\n",
       "      <td>-120.735556</td>\n",
       "      <td>5</td>\n",
       "      <td>31</td>\n",
       "      <td>0</td>\n",
       "      <td>0</td>\n",
       "      <td>STATE OR PRIVATE</td>\n",
       "      <td>...</td>\n",
       "      <td>19.0</td>\n",
       "      <td>21.0</td>\n",
       "      <td>17.0</td>\n",
       "      <td>15.0</td>\n",
       "      <td>27.0</td>\n",
       "      <td>9.0</td>\n",
       "      <td>0.0</td>\n",
       "      <td>0.0</td>\n",
       "      <td>0.0</td>\n",
       "      <td>2</td>\n",
       "    </tr>\n",
       "  </tbody>\n",
       "</table>\n",
       "<p>2 rows × 21 columns</p>\n",
       "</div>"
      ],
      "text/plain": [
       "   FIRE_YEAR  DISCOVERY_DOY  FIRE_SIZE   LATITUDE   LONGITUDE  DISC_MONTH  \\\n",
       "0       2004            133       0.25  38.933056 -120.404444           5   \n",
       "1       2004            152       0.10  38.984167 -120.735556           5   \n",
       "\n",
       "   DISC_DAY  FIRE_DURATION  DISC_DAYOFWEEK       OWNER_DESCR  ...  \\\n",
       "0        12              0               2              USFS  ...   \n",
       "1        31              0               0  STATE OR PRIVATE  ...   \n",
       "\n",
       "   Temperature (2 m)  Wind Gusts (10 m)  Soil Temperature (0-7 cm)  \\\n",
       "0                7.0               30.0                        5.0   \n",
       "1               19.0               21.0                       17.0   \n",
       "\n",
       "   Soil Temperature (7-28 cm)  Maximum Temperature (2 m)  \\\n",
       "0                         4.0                       15.0   \n",
       "1                        15.0                       27.0   \n",
       "\n",
       "   Minimum Temperature (2 m)  Precipitation Sum  Rain Sum  Snowfall Sum  LABEL  \n",
       "0                        0.0                0.0       0.0           0.0      1  \n",
       "1                        9.0                0.0       0.0           0.0      2  \n",
       "\n",
       "[2 rows x 21 columns]"
      ]
     },
     "execution_count": 15,
     "metadata": {},
     "output_type": "execute_result"
    }
   ],
   "source": [
    "df_base.head(2)"
   ]
  },
  {
   "cell_type": "code",
   "execution_count": 27,
   "id": "6a954f77-ca36-4e8a-938b-bcb35d4bd8dc",
   "metadata": {},
   "outputs": [
    {
     "data": {
      "image/png": "[encoded data removed]",
      "text/plain": [
       "<Figure size 720x432 with 1 Axes>"
      ]
     },
     "metadata": {},
     "output_type": "display_data"
    }
   ],
   "source": [
    "sns.set(style=\"whitegrid\") \n",
    "plt.figure(figsize=(10,6))\n",
    "sns.histplot(data = df_base, x = 'LABEL', color = 'orange', binwidth = 0.3)\n",
    "plt.title('Fire Cause Counts', size=20)\n",
    "plt.xlabel('Labels')\n",
    "plt.ylabel('Count', size=18)\n",
    "plt.savefig('../../output/figures/FireCauseCounts_3.png', dpi=300)\n",
    "plt.show()"
   ]
  },
  {
   "cell_type": "markdown",
   "id": "f05c1d50-39b0-40e4-8b3e-0a71c0044e55",
   "metadata": {},
   "source": [
    "#### Plot Correlation"
   ]
  },
  {
   "cell_type": "code",
   "execution_count": 28,
   "id": "f71c8ec0-fd86-4656-90ca-4b217258566b",
   "metadata": {},
   "outputs": [
    {
     "data": {
      "text/plain": [
       "<AxesSubplot:>"
      ]
     },
     "execution_count": 28,
     "metadata": {},
     "output_type": "execute_result"
    },
    {
     "data": {
      "image/png": "[encoded data removed]",
      "text/plain": [
       "<Figure size 432x288 with 2 Axes>"
      ]
     },
     "metadata": {},
     "output_type": "display_data"
    }
   ],
   "source": [
    "corr = df_base.corr()\n",
    "sns.heatmap(corr, annot=False)"
   ]
  },
  {
   "cell_type": "code",
   "execution_count": 29,
   "id": "c0270a2a-48d3-4d89-ba91-7d53498879c2",
   "metadata": {},
   "outputs": [
    {
     "data": {
      "text/plain": [
       "(84859, 21)"
      ]
     },
     "execution_count": 29,
     "metadata": {},
     "output_type": "execute_result"
    }
   ],
   "source": [
    "df_base.shape"
   ]
  },
  {
   "cell_type": "markdown",
   "id": "21f6be93-a346-4754-b73e-7bb7ca621ee0",
   "metadata": {
    "tags": []
   },
   "source": [
    "### Model 2"
   ]
  },
  {
   "cell_type": "code",
   "execution_count": 31,
   "id": "548c8209-a555-48a1-b031-a7f7aa036147",
   "metadata": {},
   "outputs": [],
   "source": [
    "X = df_base.drop('LABEL', axis = 1)\n",
    "y = df_base['LABEL']"
   ]
  },
  {
   "cell_type": "code",
   "execution_count": 32,
   "id": "a67390c9-0611-4726-bebb-a8f20526f554",
   "metadata": {},
   "outputs": [],
   "source": [
    "X_train, X_test, y_train, y_test = train_test_split(X, y, test_size=0.20, random_state=42)"
   ]
  },
  {
   "cell_type": "code",
   "execution_count": 33,
   "id": "b5b503e5-b246-4cf5-9889-afe7715729a6",
   "metadata": {},
   "outputs": [],
   "source": [
    "#categorical features\n",
    "cat_feats = X_train.dtypes[X_train.dtypes == 'object'].index.tolist()\n",
    "#numeric features\n",
    "num_feats = X_train.dtypes[~X_train.dtypes.index.isin(cat_feats)].index.tolist()"
   ]
  },
  {
   "cell_type": "markdown",
   "id": "b3224bae-e19b-4bf6-bbac-0edcd9e012e5",
   "metadata": {},
   "source": [
    "#### Random Forest"
   ]
  },
  {
   "cell_type": "code",
   "execution_count": 34,
   "id": "307ecae9-738d-4806-a019-ffe44b71a740",
   "metadata": {},
   "outputs": [],
   "source": [
    "numeric_transform = Pipeline([('FunctionTransformer', FunctionTransformer()), ('impute_mean', SimpleImputer(strategy='mean')),\n",
    "                              ('scaling', StandardScaler())]\n",
    "                            )\n",
    "\n",
    "categorical_transform = Pipeline([('FunctionTransformer',FunctionTransformer()), ('impute_mode', SimpleImputer(strategy='most_frequent')), \n",
    "                                  ('one-hot-encode', OneHotEncoder(sparse=False))]\n",
    "                                )\n",
    "\n",
    "preprocessing = ColumnTransformer([('numeric', numeric_transform, num_feats), \n",
    "                                        ('categorical', categorical_transform, cat_feats)])\n",
    "\n",
    "pipeline = Pipeline([('preprocessing', preprocessing), ('model', RandomForestClassifier())])"
   ]
  },
  {
   "cell_type": "code",
   "execution_count": 36,
   "id": "ccef1599-31c9-40fc-8c50-ae427efc2fdf",
   "metadata": {},
   "outputs": [
    {
     "data": {
      "text/html": [
       "<style>#sk-container-id-1 {color: black;background-color: white;}#sk-container-id-1 pre{padding: 0;}#sk-container-id-1 div.sk-toggleable {background-color: white;}#sk-container-id-1 label.sk-toggleable__label {cursor: pointer;display: block;width: 100%;margin-bottom: 0;padding: 0.3em;box-sizing: border-box;text-align: center;}#sk-container-id-1 label.sk-toggleable__label-arrow:before {content: \"▸\";float: left;margin-right: 0.25em;color: #696969;}#sk-container-id-1 label.sk-toggleable__label-arrow:hover:before {color: black;}#sk-container-id-1 div.sk-estimator:hover label.sk-toggleable__label-arrow:before {color: black;}#sk-container-id-1 div.sk-toggleable__content {max-height: 0;max-width: 0;overflow: hidden;text-align: left;background-color: #f0f8ff;}#sk-container-id-1 div.sk-toggleable__content pre {margin: 0.2em;color: black;border-radius: 0.25em;background-color: #f0f8ff;}#sk-container-id-1 input.sk-toggleable__control:checked~div.sk-toggleable__content {max-height: 200px;max-width: 100%;overflow: auto;}#sk-container-id-1 input.sk-toggleable__control:checked~label.sk-toggleable__label-arrow:before {content: \"▾\";}#sk-container-id-1 div.sk-estimator input.sk-toggleable__control:checked~label.sk-toggleable__label {background-color: #d4ebff;}#sk-container-id-1 div.sk-label input.sk-toggleable__control:checked~label.sk-toggleable__label {background-color: #d4ebff;}#sk-container-id-1 input.sk-hidden--visually {border: 0;clip: rect(1px 1px 1px 1px);clip: rect(1px, 1px, 1px, 1px);height: 1px;margin: -1px;overflow: hidden;padding: 0;position: absolute;width: 1px;}#sk-container-id-1 div.sk-estimator {font-family: monospace;background-color: #f0f8ff;border: 1px dotted black;border-radius: 0.25em;box-sizing: border-box;margin-bottom: 0.5em;}#sk-container-id-1 div.sk-estimator:hover {background-color: #d4ebff;}#sk-container-id-1 div.sk-parallel-item::after {content: \"\";width: 100%;border-bottom: 1px solid gray;flex-grow: 1;}#sk-container-id-1 div.sk-label:hover label.sk-toggleable__label {background-color: #d4ebff;}#sk-container-id-1 div.sk-serial::before {content: \"\";position: absolute;border-left: 1px solid gray;box-sizing: border-box;top: 0;bottom: 0;left: 50%;z-index: 0;}#sk-container-id-1 div.sk-serial {display: flex;flex-direction: column;align-items: center;background-color: white;padding-right: 0.2em;padding-left: 0.2em;position: relative;}#sk-container-id-1 div.sk-item {position: relative;z-index: 1;}#sk-container-id-1 div.sk-parallel {display: flex;align-items: stretch;justify-content: center;background-color: white;position: relative;}#sk-container-id-1 div.sk-item::before, #sk-container-id-1 div.sk-parallel-item::before {content: \"\";position: absolute;border-left: 1px solid gray;box-sizing: border-box;top: 0;bottom: 0;left: 50%;z-index: -1;}#sk-container-id-1 div.sk-parallel-item {display: flex;flex-direction: column;z-index: 1;position: relative;background-color: white;}#sk-container-id-1 div.sk-parallel-item:first-child::after {align-self: flex-end;width: 50%;}#sk-container-id-1 div.sk-parallel-item:last-child::after {align-self: flex-start;width: 50%;}#sk-container-id-1 div.sk-parallel-item:only-child::after {width: 0;}#sk-container-id-1 div.sk-dashed-wrapped {border: 1px dashed gray;margin: 0 0.4em 0.5em 0.4em;box-sizing: border-box;padding-bottom: 0.4em;background-color: white;}#sk-container-id-1 div.sk-label label {font-family: monospace;font-weight: bold;display: inline-block;line-height: 1.2em;}#sk-container-id-1 div.sk-label-container {text-align: center;}#sk-container-id-1 div.sk-container {/* jupyter's `normalize.less` sets `[hidden] { display: none; }` but bootstrap.min.css set `[hidden] { display: none !important; }` so we also need the `!important` here to be able to override the default hidden behavior on the sphinx rendered scikit-learn.org. See: https://github.com/scikit-learn/scikit-learn/issues/21755 */display: inline-block !important;position: relative;}#sk-container-id-1 div.sk-text-repr-fallback {display: none;}</style><div id=\"sk-container-id-1\" class=\"sk-top-container\"><div class=\"sk-text-repr-fallback\"><pre>Pipeline(steps=[(&#x27;preprocessing&#x27;,\n",
       "                 ColumnTransformer(transformers=[(&#x27;numeric&#x27;,\n",
       "                                                  Pipeline(steps=[(&#x27;FunctionTransformer&#x27;,\n",
       "                                                                   FunctionTransformer()),\n",
       "                                                                  (&#x27;impute_mean&#x27;,\n",
       "                                                                   SimpleImputer()),\n",
       "                                                                  (&#x27;scaling&#x27;,\n",
       "                                                                   StandardScaler())]),\n",
       "                                                  [&#x27;FIRE_YEAR&#x27;, &#x27;DISCOVERY_DOY&#x27;,\n",
       "                                                   &#x27;FIRE_SIZE&#x27;, &#x27;LATITUDE&#x27;,\n",
       "                                                   &#x27;LONGITUDE&#x27;, &#x27;DISC_MONTH&#x27;,\n",
       "                                                   &#x27;DISC_DAY&#x27;, &#x27;FIRE_DURATION&#x27;,\n",
       "                                                   &#x27;DISC_DAYOFWEEK&#x27;,\n",
       "                                                   &#x27;Elevation&#x27;,\n",
       "                                                   &#x27;Temperature (2 m)...\n",
       "                                                   &#x27;Soil Temperature (7-28 cm)&#x27;,\n",
       "                                                   &#x27;Maximum Temperature (2 m)&#x27;,\n",
       "                                                   &#x27;Minimum Temperature (2 m)&#x27;,\n",
       "                                                   &#x27;Precipitation Sum&#x27;,\n",
       "                                                   &#x27;Rain Sum&#x27;,\n",
       "                                                   &#x27;Snowfall Sum&#x27;]),\n",
       "                                                 (&#x27;categorical&#x27;,\n",
       "                                                  Pipeline(steps=[(&#x27;FunctionTransformer&#x27;,\n",
       "                                                                   FunctionTransformer()),\n",
       "                                                                  (&#x27;impute_mode&#x27;,\n",
       "                                                                   SimpleImputer(strategy=&#x27;most_frequent&#x27;)),\n",
       "                                                                  (&#x27;one-hot-encode&#x27;,\n",
       "                                                                   OneHotEncoder(sparse=False))]),\n",
       "                                                  [&#x27;OWNER_DESCR&#x27;])])),\n",
       "                (&#x27;model&#x27;, RandomForestClassifier())])</pre><b>In a Jupyter environment, please rerun this cell to show the HTML representation or trust the notebook. <br />On GitHub, the HTML representation is unable to render, please try loading this page with nbviewer.org.</b></div><div class=\"sk-container\" hidden><div class=\"sk-item sk-dashed-wrapped\"><div class=\"sk-label-container\"><div class=\"sk-label sk-toggleable\"><input class=\"sk-toggleable__control sk-hidden--visually\" id=\"sk-estimator-id-1\" type=\"checkbox\" ><label for=\"sk-estimator-id-1\" class=\"sk-toggleable__label sk-toggleable__label-arrow\">Pipeline</label><div class=\"sk-toggleable__content\"><pre>Pipeline(steps=[(&#x27;preprocessing&#x27;,\n",
       "                 ColumnTransformer(transformers=[(&#x27;numeric&#x27;,\n",
       "                                                  Pipeline(steps=[(&#x27;FunctionTransformer&#x27;,\n",
       "                                                                   FunctionTransformer()),\n",
       "                                                                  (&#x27;impute_mean&#x27;,\n",
       "                                                                   SimpleImputer()),\n",
       "                                                                  (&#x27;scaling&#x27;,\n",
       "                                                                   StandardScaler())]),\n",
       "                                                  [&#x27;FIRE_YEAR&#x27;, &#x27;DISCOVERY_DOY&#x27;,\n",
       "                                                   &#x27;FIRE_SIZE&#x27;, &#x27;LATITUDE&#x27;,\n",
       "                                                   &#x27;LONGITUDE&#x27;, &#x27;DISC_MONTH&#x27;,\n",
       "                                                   &#x27;DISC_DAY&#x27;, &#x27;FIRE_DURATION&#x27;,\n",
       "                                                   &#x27;DISC_DAYOFWEEK&#x27;,\n",
       "                                                   &#x27;Elevation&#x27;,\n",
       "                                                   &#x27;Temperature (2 m)...\n",
       "                                                   &#x27;Soil Temperature (7-28 cm)&#x27;,\n",
       "                                                   &#x27;Maximum Temperature (2 m)&#x27;,\n",
       "                                                   &#x27;Minimum Temperature (2 m)&#x27;,\n",
       "                                                   &#x27;Precipitation Sum&#x27;,\n",
       "                                                   &#x27;Rain Sum&#x27;,\n",
       "                                                   &#x27;Snowfall Sum&#x27;]),\n",
       "                                                 (&#x27;categorical&#x27;,\n",
       "                                                  Pipeline(steps=[(&#x27;FunctionTransformer&#x27;,\n",
       "                                                                   FunctionTransformer()),\n",
       "                                                                  (&#x27;impute_mode&#x27;,\n",
       "                                                                   SimpleImputer(strategy=&#x27;most_frequent&#x27;)),\n",
       "                                                                  (&#x27;one-hot-encode&#x27;,\n",
       "                                                                   OneHotEncoder(sparse=False))]),\n",
       "                                                  [&#x27;OWNER_DESCR&#x27;])])),\n",
       "                (&#x27;model&#x27;, RandomForestClassifier())])</pre></div></div></div><div class=\"sk-serial\"><div class=\"sk-item sk-dashed-wrapped\"><div class=\"sk-label-container\"><div class=\"sk-label sk-toggleable\"><input class=\"sk-toggleable__control sk-hidden--visually\" id=\"sk-estimator-id-2\" type=\"checkbox\" ><label for=\"sk-estimator-id-2\" class=\"sk-toggleable__label sk-toggleable__label-arrow\">preprocessing: ColumnTransformer</label><div class=\"sk-toggleable__content\"><pre>ColumnTransformer(transformers=[(&#x27;numeric&#x27;,\n",
       "                                 Pipeline(steps=[(&#x27;FunctionTransformer&#x27;,\n",
       "                                                  FunctionTransformer()),\n",
       "                                                 (&#x27;impute_mean&#x27;,\n",
       "                                                  SimpleImputer()),\n",
       "                                                 (&#x27;scaling&#x27;,\n",
       "                                                  StandardScaler())]),\n",
       "                                 [&#x27;FIRE_YEAR&#x27;, &#x27;DISCOVERY_DOY&#x27;, &#x27;FIRE_SIZE&#x27;,\n",
       "                                  &#x27;LATITUDE&#x27;, &#x27;LONGITUDE&#x27;, &#x27;DISC_MONTH&#x27;,\n",
       "                                  &#x27;DISC_DAY&#x27;, &#x27;FIRE_DURATION&#x27;, &#x27;DISC_DAYOFWEEK&#x27;,\n",
       "                                  &#x27;Elevation&#x27;, &#x27;Temperature (2 m)&#x27;,\n",
       "                                  &#x27;Wind Gusts (10 m)&#x27;,\n",
       "                                  &#x27;Soil Temperature (0-7 cm)&#x27;,\n",
       "                                  &#x27;Soil Temperature (7-28 cm)&#x27;,\n",
       "                                  &#x27;Maximum Temperature (2 m)&#x27;,\n",
       "                                  &#x27;Minimum Temperature (2 m)&#x27;,\n",
       "                                  &#x27;Precipitation Sum&#x27;, &#x27;Rain Sum&#x27;,\n",
       "                                  &#x27;Snowfall Sum&#x27;]),\n",
       "                                (&#x27;categorical&#x27;,\n",
       "                                 Pipeline(steps=[(&#x27;FunctionTransformer&#x27;,\n",
       "                                                  FunctionTransformer()),\n",
       "                                                 (&#x27;impute_mode&#x27;,\n",
       "                                                  SimpleImputer(strategy=&#x27;most_frequent&#x27;)),\n",
       "                                                 (&#x27;one-hot-encode&#x27;,\n",
       "                                                  OneHotEncoder(sparse=False))]),\n",
       "                                 [&#x27;OWNER_DESCR&#x27;])])</pre></div></div></div><div class=\"sk-parallel\"><div class=\"sk-parallel-item\"><div class=\"sk-item\"><div class=\"sk-label-container\"><div class=\"sk-label sk-toggleable\"><input class=\"sk-toggleable__control sk-hidden--visually\" id=\"sk-estimator-id-3\" type=\"checkbox\" ><label for=\"sk-estimator-id-3\" class=\"sk-toggleable__label sk-toggleable__label-arrow\">numeric</label><div class=\"sk-toggleable__content\"><pre>[&#x27;FIRE_YEAR&#x27;, &#x27;DISCOVERY_DOY&#x27;, &#x27;FIRE_SIZE&#x27;, &#x27;LATITUDE&#x27;, &#x27;LONGITUDE&#x27;, &#x27;DISC_MONTH&#x27;, &#x27;DISC_DAY&#x27;, &#x27;FIRE_DURATION&#x27;, &#x27;DISC_DAYOFWEEK&#x27;, &#x27;Elevation&#x27;, &#x27;Temperature (2 m)&#x27;, &#x27;Wind Gusts (10 m)&#x27;, &#x27;Soil Temperature (0-7 cm)&#x27;, &#x27;Soil Temperature (7-28 cm)&#x27;, &#x27;Maximum Temperature (2 m)&#x27;, &#x27;Minimum Temperature (2 m)&#x27;, &#x27;Precipitation Sum&#x27;, &#x27;Rain Sum&#x27;, &#x27;Snowfall Sum&#x27;]</pre></div></div></div><div class=\"sk-serial\"><div class=\"sk-item\"><div class=\"sk-serial\"><div class=\"sk-item\"><div class=\"sk-estimator sk-toggleable\"><input class=\"sk-toggleable__control sk-hidden--visually\" id=\"sk-estimator-id-4\" type=\"checkbox\" ><label for=\"sk-estimator-id-4\" class=\"sk-toggleable__label sk-toggleable__label-arrow\">FunctionTransformer</label><div class=\"sk-toggleable__content\"><pre>FunctionTransformer()</pre></div></div></div><div class=\"sk-item\"><div class=\"sk-estimator sk-toggleable\"><input class=\"sk-toggleable__control sk-hidden--visually\" id=\"sk-estimator-id-5\" type=\"checkbox\" ><label for=\"sk-estimator-id-5\" class=\"sk-toggleable__label sk-toggleable__label-arrow\">SimpleImputer</label><div class=\"sk-toggleable__content\"><pre>SimpleImputer()</pre></div></div></div><div class=\"sk-item\"><div class=\"sk-estimator sk-toggleable\"><input class=\"sk-toggleable__control sk-hidden--visually\" id=\"sk-estimator-id-6\" type=\"checkbox\" ><label for=\"sk-estimator-id-6\" class=\"sk-toggleable__label sk-toggleable__label-arrow\">StandardScaler</label><div class=\"sk-toggleable__content\"><pre>StandardScaler()</pre></div></div></div></div></div></div></div></div><div class=\"sk-parallel-item\"><div class=\"sk-item\"><div class=\"sk-label-container\"><div class=\"sk-label sk-toggleable\"><input class=\"sk-toggleable__control sk-hidden--visually\" id=\"sk-estimator-id-7\" type=\"checkbox\" ><label for=\"sk-estimator-id-7\" class=\"sk-toggleable__label sk-toggleable__label-arrow\">categorical</label><div class=\"sk-toggleable__content\"><pre>[&#x27;OWNER_DESCR&#x27;]</pre></div></div></div><div class=\"sk-serial\"><div class=\"sk-item\"><div class=\"sk-serial\"><div class=\"sk-item\"><div class=\"sk-estimator sk-toggleable\"><input class=\"sk-toggleable__control sk-hidden--visually\" id=\"sk-estimator-id-8\" type=\"checkbox\" ><label for=\"sk-estimator-id-8\" class=\"sk-toggleable__label sk-toggleable__label-arrow\">FunctionTransformer</label><div class=\"sk-toggleable__content\"><pre>FunctionTransformer()</pre></div></div></div><div class=\"sk-item\"><div class=\"sk-estimator sk-toggleable\"><input class=\"sk-toggleable__control sk-hidden--visually\" id=\"sk-estimator-id-9\" type=\"checkbox\" ><label for=\"sk-estimator-id-9\" class=\"sk-toggleable__label sk-toggleable__label-arrow\">SimpleImputer</label><div class=\"sk-toggleable__content\"><pre>SimpleImputer(strategy=&#x27;most_frequent&#x27;)</pre></div></div></div><div class=\"sk-item\"><div class=\"sk-estimator sk-toggleable\"><input class=\"sk-toggleable__control sk-hidden--visually\" id=\"sk-estimator-id-10\" type=\"checkbox\" ><label for=\"sk-estimator-id-10\" class=\"sk-toggleable__label sk-toggleable__label-arrow\">OneHotEncoder</label><div class=\"sk-toggleable__content\"><pre>OneHotEncoder(sparse=False)</pre></div></div></div></div></div></div></div></div></div></div><div class=\"sk-item\"><div class=\"sk-estimator sk-toggleable\"><input class=\"sk-toggleable__control sk-hidden--visually\" id=\"sk-estimator-id-11\" type=\"checkbox\" ><label for=\"sk-estimator-id-11\" class=\"sk-toggleable__label sk-toggleable__label-arrow\">RandomForestClassifier</label><div class=\"sk-toggleable__content\"><pre>RandomForestClassifier()</pre></div></div></div></div></div></div></div>"
      ],
      "text/plain": [
       "Pipeline(steps=[('preprocessing',\n",
       "                 ColumnTransformer(transformers=[('numeric',\n",
       "                                                  Pipeline(steps=[('FunctionTransformer',\n",
       "                                                                   FunctionTransformer()),\n",
       "                                                                  ('impute_mean',\n",
       "                                                                   SimpleImputer()),\n",
       "                                                                  ('scaling',\n",
       "                                                                   StandardScaler())]),\n",
       "                                                  ['FIRE_YEAR', 'DISCOVERY_DOY',\n",
       "                                                   'FIRE_SIZE', 'LATITUDE',\n",
       "                                                   'LONGITUDE', 'DISC_MONTH',\n",
       "                                                   'DISC_DAY', 'FIRE_DURATION',\n",
       "                                                   'DISC_DAYOFWEEK',\n",
       "                                                   'Elevation',\n",
       "                                                   'Temperature (2 m)...\n",
       "                                                   'Soil Temperature (7-28 cm)',\n",
       "                                                   'Maximum Temperature (2 m)',\n",
       "                                                   'Minimum Temperature (2 m)',\n",
       "                                                   'Precipitation Sum',\n",
       "                                                   'Rain Sum',\n",
       "                                                   'Snowfall Sum']),\n",
       "                                                 ('categorical',\n",
       "                                                  Pipeline(steps=[('FunctionTransformer',\n",
       "                                                                   FunctionTransformer()),\n",
       "                                                                  ('impute_mode',\n",
       "                                                                   SimpleImputer(strategy='most_frequent')),\n",
       "                                                                  ('one-hot-encode',\n",
       "                                                                   OneHotEncoder(sparse=False))]),\n",
       "                                                  ['OWNER_DESCR'])])),\n",
       "                ('model', RandomForestClassifier())])"
      ]
     },
     "metadata": {},
     "output_type": "display_data"
    }
   ],
   "source": [
    "#display pipeline\n",
    "from sklearn import set_config\n",
    "\n",
    "set_config(display='diagram')\n",
    "display(pipeline)"
   ]
  },
  {
   "cell_type": "code",
   "execution_count": 35,
   "id": "f46d0b09-834d-4da0-9eac-5a4bb856990b",
   "metadata": {},
   "outputs": [
    {
     "name": "stdout",
     "output_type": "stream",
     "text": [
      "Test set score: 0.8392646712231911\n"
     ]
    }
   ],
   "source": [
    "pipeline.fit(X_train, y_train)\n",
    "score = pipeline.score(X_test, y_test)          \n",
    "print(f'Test set score: {score}')"
   ]
  },
  {
   "cell_type": "code",
   "execution_count": 37,
   "id": "0a33b06f-70ab-49e2-8c74-bb737417bab6",
   "metadata": {},
   "outputs": [
    {
     "name": "stdout",
     "output_type": "stream",
     "text": [
      "0.856513286256951 0.6641196836536543\n"
     ]
    }
   ],
   "source": [
    "y_pred = pipeline.predict(X_test)\n",
    "print(f1_score(y_pred, y_test, average='weighted'), balanced_accuracy_score(y_test, y_pred))"
   ]
  },
  {
   "cell_type": "code",
   "execution_count": 38,
   "id": "8f4c8f8a-c537-46b3-b05b-4bb02d6ed169",
   "metadata": {},
   "outputs": [
    {
     "name": "stdout",
     "output_type": "stream",
     "text": [
      "              precision    recall  f1-score   support\n",
      "\n",
      "           1       0.88      0.90      0.89      6736\n",
      "           2       0.82      0.90      0.86      8794\n",
      "           3       0.73      0.19      0.31      1442\n",
      "\n",
      "    accuracy                           0.84     16972\n",
      "   macro avg       0.81      0.66      0.68     16972\n",
      "weighted avg       0.83      0.84      0.82     16972\n",
      "\n"
     ]
    }
   ],
   "source": [
    "print(classification_report(y_test, y_pred))"
   ]
  },
  {
   "cell_type": "code",
   "execution_count": 35,
   "id": "757e2580-b995-4d02-952a-8ee458f436dc",
   "metadata": {},
   "outputs": [],
   "source": [
    "from sklearn.model_selection import GridSearchCV"
   ]
  },
  {
   "cell_type": "code",
   "execution_count": 30,
   "id": "b3011747",
   "metadata": {},
   "outputs": [
    {
     "name": "stdout",
     "output_type": "stream",
     "text": [
      "Fitting 5 folds for each of 9 candidates, totalling 45 fits\n"
     ]
    },
    {
     "data": {
      "text/html": [
       "<style>#sk-container-id-2 {color: black;background-color: white;}#sk-container-id-2 pre{padding: 0;}#sk-container-id-2 div.sk-toggleable {background-color: white;}#sk-container-id-2 label.sk-toggleable__label {cursor: pointer;display: block;width: 100%;margin-bottom: 0;padding: 0.3em;box-sizing: border-box;text-align: center;}#sk-container-id-2 label.sk-toggleable__label-arrow:before {content: \"▸\";float: left;margin-right: 0.25em;color: #696969;}#sk-container-id-2 label.sk-toggleable__label-arrow:hover:before {color: black;}#sk-container-id-2 div.sk-estimator:hover label.sk-toggleable__label-arrow:before {color: black;}#sk-container-id-2 div.sk-toggleable__content {max-height: 0;max-width: 0;overflow: hidden;text-align: left;background-color: #f0f8ff;}#sk-container-id-2 div.sk-toggleable__content pre {margin: 0.2em;color: black;border-radius: 0.25em;background-color: #f0f8ff;}#sk-container-id-2 input.sk-toggleable__control:checked~div.sk-toggleable__content {max-height: 200px;max-width: 100%;overflow: auto;}#sk-container-id-2 input.sk-toggleable__control:checked~label.sk-toggleable__label-arrow:before {content: \"▾\";}#sk-container-id-2 div.sk-estimator input.sk-toggleable__control:checked~label.sk-toggleable__label {background-color: #d4ebff;}#sk-container-id-2 div.sk-label input.sk-toggleable__control:checked~label.sk-toggleable__label {background-color: #d4ebff;}#sk-container-id-2 input.sk-hidden--visually {border: 0;clip: rect(1px 1px 1px 1px);clip: rect(1px, 1px, 1px, 1px);height: 1px;margin: -1px;overflow: hidden;padding: 0;position: absolute;width: 1px;}#sk-container-id-2 div.sk-estimator {font-family: monospace;background-color: #f0f8ff;border: 1px dotted black;border-radius: 0.25em;box-sizing: border-box;margin-bottom: 0.5em;}#sk-container-id-2 div.sk-estimator:hover {background-color: #d4ebff;}#sk-container-id-2 div.sk-parallel-item::after {content: \"\";width: 100%;border-bottom: 1px solid gray;flex-grow: 1;}#sk-container-id-2 div.sk-label:hover label.sk-toggleable__label {background-color: #d4ebff;}#sk-container-id-2 div.sk-serial::before {content: \"\";position: absolute;border-left: 1px solid gray;box-sizing: border-box;top: 0;bottom: 0;left: 50%;z-index: 0;}#sk-container-id-2 div.sk-serial {display: flex;flex-direction: column;align-items: center;background-color: white;padding-right: 0.2em;padding-left: 0.2em;position: relative;}#sk-container-id-2 div.sk-item {position: relative;z-index: 1;}#sk-container-id-2 div.sk-parallel {display: flex;align-items: stretch;justify-content: center;background-color: white;position: relative;}#sk-container-id-2 div.sk-item::before, #sk-container-id-2 div.sk-parallel-item::before {content: \"\";position: absolute;border-left: 1px solid gray;box-sizing: border-box;top: 0;bottom: 0;left: 50%;z-index: -1;}#sk-container-id-2 div.sk-parallel-item {display: flex;flex-direction: column;z-index: 1;position: relative;background-color: white;}#sk-container-id-2 div.sk-parallel-item:first-child::after {align-self: flex-end;width: 50%;}#sk-container-id-2 div.sk-parallel-item:last-child::after {align-self: flex-start;width: 50%;}#sk-container-id-2 div.sk-parallel-item:only-child::after {width: 0;}#sk-container-id-2 div.sk-dashed-wrapped {border: 1px dashed gray;margin: 0 0.4em 0.5em 0.4em;box-sizing: border-box;padding-bottom: 0.4em;background-color: white;}#sk-container-id-2 div.sk-label label {font-family: monospace;font-weight: bold;display: inline-block;line-height: 1.2em;}#sk-container-id-2 div.sk-label-container {text-align: center;}#sk-container-id-2 div.sk-container {/* jupyter's `normalize.less` sets `[hidden] { display: none; }` but bootstrap.min.css set `[hidden] { display: none !important; }` so we also need the `!important` here to be able to override the default hidden behavior on the sphinx rendered scikit-learn.org. See: https://github.com/scikit-learn/scikit-learn/issues/21755 */display: inline-block !important;position: relative;}#sk-container-id-2 div.sk-text-repr-fallback {display: none;}</style><div id=\"sk-container-id-2\" class=\"sk-top-container\"><div class=\"sk-text-repr-fallback\"><pre>GridSearchCV(estimator=Pipeline(steps=[(&#x27;preprocessing&#x27;,\n",
       "                                        ColumnTransformer(transformers=[(&#x27;numeric&#x27;,\n",
       "                                                                         Pipeline(steps=[(&#x27;FunctionTransformer&#x27;,\n",
       "                                                                                          FunctionTransformer()),\n",
       "                                                                                         (&#x27;impute_mean&#x27;,\n",
       "                                                                                          SimpleImputer()),\n",
       "                                                                                         (&#x27;scaling&#x27;,\n",
       "                                                                                          StandardScaler())]),\n",
       "                                                                         [&#x27;FIRE_YEAR&#x27;,\n",
       "                                                                          &#x27;DISCOVERY_DOY&#x27;,\n",
       "                                                                          &#x27;FIRE_SIZE&#x27;,\n",
       "                                                                          &#x27;LATITUDE&#x27;,\n",
       "                                                                          &#x27;LONGITUDE&#x27;,\n",
       "                                                                          &#x27;DISC_MONTH&#x27;,\n",
       "                                                                          &#x27;DISC_DAY&#x27;,\n",
       "                                                                          &#x27;FIRE_DURATION&#x27;,\n",
       "                                                                          &#x27;DISC_DAYOFWEEK&#x27;,\n",
       "                                                                          &#x27;Elev...\n",
       "                                                                          &#x27;Snowfall &#x27;\n",
       "                                                                          &#x27;Sum&#x27;]),\n",
       "                                                                        (&#x27;categorical&#x27;,\n",
       "                                                                         Pipeline(steps=[(&#x27;FunctionTransformer&#x27;,\n",
       "                                                                                          FunctionTransformer()),\n",
       "                                                                                         (&#x27;impute_mode&#x27;,\n",
       "                                                                                          SimpleImputer(strategy=&#x27;most_frequent&#x27;)),\n",
       "                                                                                         (&#x27;one-hot-encode&#x27;,\n",
       "                                                                                          OneHotEncoder(sparse=False))]),\n",
       "                                                                         [&#x27;OWNER_DESCR&#x27;])])),\n",
       "                                       (&#x27;model&#x27;, RandomForestClassifier())]),\n",
       "             n_jobs=-1,\n",
       "             param_grid={&#x27;model__max_depth&#x27;: [19, 20, 21],\n",
       "                         &#x27;model__n_estimators&#x27;: [100, 120, 140]},\n",
       "             verbose=10)</pre><b>In a Jupyter environment, please rerun this cell to show the HTML representation or trust the notebook. <br />On GitHub, the HTML representation is unable to render, please try loading this page with nbviewer.org.</b></div><div class=\"sk-container\" hidden><div class=\"sk-item sk-dashed-wrapped\"><div class=\"sk-label-container\"><div class=\"sk-label sk-toggleable\"><input class=\"sk-toggleable__control sk-hidden--visually\" id=\"sk-estimator-id-12\" type=\"checkbox\" ><label for=\"sk-estimator-id-12\" class=\"sk-toggleable__label sk-toggleable__label-arrow\">GridSearchCV</label><div class=\"sk-toggleable__content\"><pre>GridSearchCV(estimator=Pipeline(steps=[(&#x27;preprocessing&#x27;,\n",
       "                                        ColumnTransformer(transformers=[(&#x27;numeric&#x27;,\n",
       "                                                                         Pipeline(steps=[(&#x27;FunctionTransformer&#x27;,\n",
       "                                                                                          FunctionTransformer()),\n",
       "                                                                                         (&#x27;impute_mean&#x27;,\n",
       "                                                                                          SimpleImputer()),\n",
       "                                                                                         (&#x27;scaling&#x27;,\n",
       "                                                                                          StandardScaler())]),\n",
       "                                                                         [&#x27;FIRE_YEAR&#x27;,\n",
       "                                                                          &#x27;DISCOVERY_DOY&#x27;,\n",
       "                                                                          &#x27;FIRE_SIZE&#x27;,\n",
       "                                                                          &#x27;LATITUDE&#x27;,\n",
       "                                                                          &#x27;LONGITUDE&#x27;,\n",
       "                                                                          &#x27;DISC_MONTH&#x27;,\n",
       "                                                                          &#x27;DISC_DAY&#x27;,\n",
       "                                                                          &#x27;FIRE_DURATION&#x27;,\n",
       "                                                                          &#x27;DISC_DAYOFWEEK&#x27;,\n",
       "                                                                          &#x27;Elev...\n",
       "                                                                          &#x27;Snowfall &#x27;\n",
       "                                                                          &#x27;Sum&#x27;]),\n",
       "                                                                        (&#x27;categorical&#x27;,\n",
       "                                                                         Pipeline(steps=[(&#x27;FunctionTransformer&#x27;,\n",
       "                                                                                          FunctionTransformer()),\n",
       "                                                                                         (&#x27;impute_mode&#x27;,\n",
       "                                                                                          SimpleImputer(strategy=&#x27;most_frequent&#x27;)),\n",
       "                                                                                         (&#x27;one-hot-encode&#x27;,\n",
       "                                                                                          OneHotEncoder(sparse=False))]),\n",
       "                                                                         [&#x27;OWNER_DESCR&#x27;])])),\n",
       "                                       (&#x27;model&#x27;, RandomForestClassifier())]),\n",
       "             n_jobs=-1,\n",
       "             param_grid={&#x27;model__max_depth&#x27;: [19, 20, 21],\n",
       "                         &#x27;model__n_estimators&#x27;: [100, 120, 140]},\n",
       "             verbose=10)</pre></div></div></div><div class=\"sk-parallel\"><div class=\"sk-parallel-item\"><div class=\"sk-item\"><div class=\"sk-label-container\"><div class=\"sk-label sk-toggleable\"><input class=\"sk-toggleable__control sk-hidden--visually\" id=\"sk-estimator-id-13\" type=\"checkbox\" ><label for=\"sk-estimator-id-13\" class=\"sk-toggleable__label sk-toggleable__label-arrow\">estimator: Pipeline</label><div class=\"sk-toggleable__content\"><pre>Pipeline(steps=[(&#x27;preprocessing&#x27;,\n",
       "                 ColumnTransformer(transformers=[(&#x27;numeric&#x27;,\n",
       "                                                  Pipeline(steps=[(&#x27;FunctionTransformer&#x27;,\n",
       "                                                                   FunctionTransformer()),\n",
       "                                                                  (&#x27;impute_mean&#x27;,\n",
       "                                                                   SimpleImputer()),\n",
       "                                                                  (&#x27;scaling&#x27;,\n",
       "                                                                   StandardScaler())]),\n",
       "                                                  [&#x27;FIRE_YEAR&#x27;, &#x27;DISCOVERY_DOY&#x27;,\n",
       "                                                   &#x27;FIRE_SIZE&#x27;, &#x27;LATITUDE&#x27;,\n",
       "                                                   &#x27;LONGITUDE&#x27;, &#x27;DISC_MONTH&#x27;,\n",
       "                                                   &#x27;DISC_DAY&#x27;, &#x27;FIRE_DURATION&#x27;,\n",
       "                                                   &#x27;DISC_DAYOFWEEK&#x27;,\n",
       "                                                   &#x27;Elevation&#x27;,\n",
       "                                                   &#x27;Temperature (2 m)...\n",
       "                                                   &#x27;Soil Temperature (7-28 cm)&#x27;,\n",
       "                                                   &#x27;Maximum Temperature (2 m)&#x27;,\n",
       "                                                   &#x27;Minimum Temperature (2 m)&#x27;,\n",
       "                                                   &#x27;Precipitation Sum&#x27;,\n",
       "                                                   &#x27;Rain Sum&#x27;,\n",
       "                                                   &#x27;Snowfall Sum&#x27;]),\n",
       "                                                 (&#x27;categorical&#x27;,\n",
       "                                                  Pipeline(steps=[(&#x27;FunctionTransformer&#x27;,\n",
       "                                                                   FunctionTransformer()),\n",
       "                                                                  (&#x27;impute_mode&#x27;,\n",
       "                                                                   SimpleImputer(strategy=&#x27;most_frequent&#x27;)),\n",
       "                                                                  (&#x27;one-hot-encode&#x27;,\n",
       "                                                                   OneHotEncoder(sparse=False))]),\n",
       "                                                  [&#x27;OWNER_DESCR&#x27;])])),\n",
       "                (&#x27;model&#x27;, RandomForestClassifier())])</pre></div></div></div><div class=\"sk-serial\"><div class=\"sk-item\"><div class=\"sk-serial\"><div class=\"sk-item sk-dashed-wrapped\"><div class=\"sk-label-container\"><div class=\"sk-label sk-toggleable\"><input class=\"sk-toggleable__control sk-hidden--visually\" id=\"sk-estimator-id-14\" type=\"checkbox\" ><label for=\"sk-estimator-id-14\" class=\"sk-toggleable__label sk-toggleable__label-arrow\">preprocessing: ColumnTransformer</label><div class=\"sk-toggleable__content\"><pre>ColumnTransformer(transformers=[(&#x27;numeric&#x27;,\n",
       "                                 Pipeline(steps=[(&#x27;FunctionTransformer&#x27;,\n",
       "                                                  FunctionTransformer()),\n",
       "                                                 (&#x27;impute_mean&#x27;,\n",
       "                                                  SimpleImputer()),\n",
       "                                                 (&#x27;scaling&#x27;,\n",
       "                                                  StandardScaler())]),\n",
       "                                 [&#x27;FIRE_YEAR&#x27;, &#x27;DISCOVERY_DOY&#x27;, &#x27;FIRE_SIZE&#x27;,\n",
       "                                  &#x27;LATITUDE&#x27;, &#x27;LONGITUDE&#x27;, &#x27;DISC_MONTH&#x27;,\n",
       "                                  &#x27;DISC_DAY&#x27;, &#x27;FIRE_DURATION&#x27;, &#x27;DISC_DAYOFWEEK&#x27;,\n",
       "                                  &#x27;Elevation&#x27;, &#x27;Temperature (2 m)&#x27;,\n",
       "                                  &#x27;Wind Gusts (10 m)&#x27;,\n",
       "                                  &#x27;Soil Temperature (0-7 cm)&#x27;,\n",
       "                                  &#x27;Soil Temperature (7-28 cm)&#x27;,\n",
       "                                  &#x27;Maximum Temperature (2 m)&#x27;,\n",
       "                                  &#x27;Minimum Temperature (2 m)&#x27;,\n",
       "                                  &#x27;Precipitation Sum&#x27;, &#x27;Rain Sum&#x27;,\n",
       "                                  &#x27;Snowfall Sum&#x27;]),\n",
       "                                (&#x27;categorical&#x27;,\n",
       "                                 Pipeline(steps=[(&#x27;FunctionTransformer&#x27;,\n",
       "                                                  FunctionTransformer()),\n",
       "                                                 (&#x27;impute_mode&#x27;,\n",
       "                                                  SimpleImputer(strategy=&#x27;most_frequent&#x27;)),\n",
       "                                                 (&#x27;one-hot-encode&#x27;,\n",
       "                                                  OneHotEncoder(sparse=False))]),\n",
       "                                 [&#x27;OWNER_DESCR&#x27;])])</pre></div></div></div><div class=\"sk-parallel\"><div class=\"sk-parallel-item\"><div class=\"sk-item\"><div class=\"sk-label-container\"><div class=\"sk-label sk-toggleable\"><input class=\"sk-toggleable__control sk-hidden--visually\" id=\"sk-estimator-id-15\" type=\"checkbox\" ><label for=\"sk-estimator-id-15\" class=\"sk-toggleable__label sk-toggleable__label-arrow\">numeric</label><div class=\"sk-toggleable__content\"><pre>[&#x27;FIRE_YEAR&#x27;, &#x27;DISCOVERY_DOY&#x27;, &#x27;FIRE_SIZE&#x27;, &#x27;LATITUDE&#x27;, &#x27;LONGITUDE&#x27;, &#x27;DISC_MONTH&#x27;, &#x27;DISC_DAY&#x27;, &#x27;FIRE_DURATION&#x27;, &#x27;DISC_DAYOFWEEK&#x27;, &#x27;Elevation&#x27;, &#x27;Temperature (2 m)&#x27;, &#x27;Wind Gusts (10 m)&#x27;, &#x27;Soil Temperature (0-7 cm)&#x27;, &#x27;Soil Temperature (7-28 cm)&#x27;, &#x27;Maximum Temperature (2 m)&#x27;, &#x27;Minimum Temperature (2 m)&#x27;, &#x27;Precipitation Sum&#x27;, &#x27;Rain Sum&#x27;, &#x27;Snowfall Sum&#x27;]</pre></div></div></div><div class=\"sk-serial\"><div class=\"sk-item\"><div class=\"sk-serial\"><div class=\"sk-item\"><div class=\"sk-estimator sk-toggleable\"><input class=\"sk-toggleable__control sk-hidden--visually\" id=\"sk-estimator-id-16\" type=\"checkbox\" ><label for=\"sk-estimator-id-16\" class=\"sk-toggleable__label sk-toggleable__label-arrow\">FunctionTransformer</label><div class=\"sk-toggleable__content\"><pre>FunctionTransformer()</pre></div></div></div><div class=\"sk-item\"><div class=\"sk-estimator sk-toggleable\"><input class=\"sk-toggleable__control sk-hidden--visually\" id=\"sk-estimator-id-17\" type=\"checkbox\" ><label for=\"sk-estimator-id-17\" class=\"sk-toggleable__label sk-toggleable__label-arrow\">SimpleImputer</label><div class=\"sk-toggleable__content\"><pre>SimpleImputer()</pre></div></div></div><div class=\"sk-item\"><div class=\"sk-estimator sk-toggleable\"><input class=\"sk-toggleable__control sk-hidden--visually\" id=\"sk-estimator-id-18\" type=\"checkbox\" ><label for=\"sk-estimator-id-18\" class=\"sk-toggleable__label sk-toggleable__label-arrow\">StandardScaler</label><div class=\"sk-toggleable__content\"><pre>StandardScaler()</pre></div></div></div></div></div></div></div></div><div class=\"sk-parallel-item\"><div class=\"sk-item\"><div class=\"sk-label-container\"><div class=\"sk-label sk-toggleable\"><input class=\"sk-toggleable__control sk-hidden--visually\" id=\"sk-estimator-id-19\" type=\"checkbox\" ><label for=\"sk-estimator-id-19\" class=\"sk-toggleable__label sk-toggleable__label-arrow\">categorical</label><div class=\"sk-toggleable__content\"><pre>[&#x27;OWNER_DESCR&#x27;]</pre></div></div></div><div class=\"sk-serial\"><div class=\"sk-item\"><div class=\"sk-serial\"><div class=\"sk-item\"><div class=\"sk-estimator sk-toggleable\"><input class=\"sk-toggleable__control sk-hidden--visually\" id=\"sk-estimator-id-20\" type=\"checkbox\" ><label for=\"sk-estimator-id-20\" class=\"sk-toggleable__label sk-toggleable__label-arrow\">FunctionTransformer</label><div class=\"sk-toggleable__content\"><pre>FunctionTransformer()</pre></div></div></div><div class=\"sk-item\"><div class=\"sk-estimator sk-toggleable\"><input class=\"sk-toggleable__control sk-hidden--visually\" id=\"sk-estimator-id-21\" type=\"checkbox\" ><label for=\"sk-estimator-id-21\" class=\"sk-toggleable__label sk-toggleable__label-arrow\">SimpleImputer</label><div class=\"sk-toggleable__content\"><pre>SimpleImputer(strategy=&#x27;most_frequent&#x27;)</pre></div></div></div><div class=\"sk-item\"><div class=\"sk-estimator sk-toggleable\"><input class=\"sk-toggleable__control sk-hidden--visually\" id=\"sk-estimator-id-22\" type=\"checkbox\" ><label for=\"sk-estimator-id-22\" class=\"sk-toggleable__label sk-toggleable__label-arrow\">OneHotEncoder</label><div class=\"sk-toggleable__content\"><pre>OneHotEncoder(sparse=False)</pre></div></div></div></div></div></div></div></div></div></div><div class=\"sk-item\"><div class=\"sk-estimator sk-toggleable\"><input class=\"sk-toggleable__control sk-hidden--visually\" id=\"sk-estimator-id-23\" type=\"checkbox\" ><label for=\"sk-estimator-id-23\" class=\"sk-toggleable__label sk-toggleable__label-arrow\">RandomForestClassifier</label><div class=\"sk-toggleable__content\"><pre>RandomForestClassifier()</pre></div></div></div></div></div></div></div></div></div></div></div></div>"
      ],
      "text/plain": [
       "GridSearchCV(estimator=Pipeline(steps=[('preprocessing',\n",
       "                                        ColumnTransformer(transformers=[('numeric',\n",
       "                                                                         Pipeline(steps=[('FunctionTransformer',\n",
       "                                                                                          FunctionTransformer()),\n",
       "                                                                                         ('impute_mean',\n",
       "                                                                                          SimpleImputer()),\n",
       "                                                                                         ('scaling',\n",
       "                                                                                          StandardScaler())]),\n",
       "                                                                         ['FIRE_YEAR',\n",
       "                                                                          'DISCOVERY_DOY',\n",
       "                                                                          'FIRE_SIZE',\n",
       "                                                                          'LATITUDE',\n",
       "                                                                          'LONGITUDE',\n",
       "                                                                          'DISC_MONTH',\n",
       "                                                                          'DISC_DAY',\n",
       "                                                                          'FIRE_DURATION',\n",
       "                                                                          'DISC_DAYOFWEEK',\n",
       "                                                                          'Elev...\n",
       "                                                                          'Snowfall '\n",
       "                                                                          'Sum']),\n",
       "                                                                        ('categorical',\n",
       "                                                                         Pipeline(steps=[('FunctionTransformer',\n",
       "                                                                                          FunctionTransformer()),\n",
       "                                                                                         ('impute_mode',\n",
       "                                                                                          SimpleImputer(strategy='most_frequent')),\n",
       "                                                                                         ('one-hot-encode',\n",
       "                                                                                          OneHotEncoder(sparse=False))]),\n",
       "                                                                         ['OWNER_DESCR'])])),\n",
       "                                       ('model', RandomForestClassifier())]),\n",
       "             n_jobs=-1,\n",
       "             param_grid={'model__max_depth': [19, 20, 21],\n",
       "                         'model__n_estimators': [100, 120, 140]},\n",
       "             verbose=10)"
      ]
     },
     "execution_count": 30,
     "metadata": {},
     "output_type": "execute_result"
    }
   ],
   "source": [
    "# set up our parameters grid\n",
    "param_grid = {\"model__n_estimators\":[100, 120, 140], \"model__max_depth\":[19, 20, 21]}\n",
    "\n",
    "# create a Grid Search object\n",
    "grid_search = GridSearchCV(pipeline, param_grid, n_jobs = -1, verbose=10, refit=True)    \n",
    "\n",
    "# fit the model and tune parameters\n",
    "grid_search.fit(X_train, y_train)"
   ]
  },
  {
   "cell_type": "code",
   "execution_count": 31,
   "id": "6be8c81b",
   "metadata": {},
   "outputs": [
    {
     "name": "stdout",
     "output_type": "stream",
     "text": [
      "{'model__max_depth': 20, 'model__n_estimators': 140}\n"
     ]
    }
   ],
   "source": [
    "print(grid_search.best_params_)"
   ]
  },
  {
   "cell_type": "code",
   "execution_count": 32,
   "id": "2a37d7c9",
   "metadata": {},
   "outputs": [],
   "source": [
    "pipeline = Pipeline([('preprocessing', preprocessing), ('model', RandomForestClassifier(max_depth=20, n_estimators= 140))])"
   ]
  },
  {
   "cell_type": "code",
   "execution_count": 33,
   "id": "e50cc5d3",
   "metadata": {},
   "outputs": [
    {
     "name": "stdout",
     "output_type": "stream",
     "text": [
      "Test set score: 0.6577303794485034\n"
     ]
    }
   ],
   "source": [
    "pipeline.fit(X_train, y_train)\n",
    "score = pipeline.score(X_test, y_test)          \n",
    "print(f'Test set score: {score}')"
   ]
  },
  {
   "cell_type": "markdown",
   "id": "115ea253-08fe-451a-9f67-0385fb747ff7",
   "metadata": {},
   "source": [
    "^this did worse than the pre-grid search?"
   ]
  },
  {
   "cell_type": "code",
   "execution_count": null,
   "id": "ee703dd9",
   "metadata": {},
   "outputs": [],
   "source": [
    "#Try another algorithm"
   ]
  },
  {
   "cell_type": "code",
   "execution_count": 39,
   "id": "571a19ad-ffa8-4ecb-8869-4c54db2877a3",
   "metadata": {},
   "outputs": [
    {
     "data": {
      "text/plain": [
       "<sklearn.metrics._plot.confusion_matrix.ConfusionMatrixDisplay at 0x18b5c6e3310>"
      ]
     },
     "execution_count": 39,
     "metadata": {},
     "output_type": "execute_result"
    },
    {
     "data": {
      "image/png": "[encoded data removed]",
      "text/plain": [
       "<Figure size 432x288 with 2 Axes>"
      ]
     },
     "metadata": {},
     "output_type": "display_data"
    }
   ],
   "source": [
    "y_pred = pipeline.predict(X_test)\n",
    "ConfusionMatrixDisplay.from_predictions(y_test, y_pred)"
   ]
  },
  {
   "cell_type": "markdown",
   "id": "bf168f3c-cc6a-4354-8d43-9eb43c141490",
   "metadata": {},
   "source": [
    "### Save model as pickle to use in App"
   ]
  },
  {
   "cell_type": "code",
   "execution_count": 26,
   "id": "bf221945",
   "metadata": {},
   "outputs": [],
   "source": [
    "import pickle"
   ]
  },
  {
   "cell_type": "code",
   "execution_count": 31,
   "id": "7b27f7f3",
   "metadata": {},
   "outputs": [],
   "source": [
    "pickle.dump(pipeline, open( \"../scripts/model.p\", \"wb\" ))"
   ]
  },
  {
   "cell_type": "markdown",
   "id": "c1a3081f-a87a-4f1d-af5f-ee69f0987170",
   "metadata": {},
   "source": [
    "### Investigate feature importance\n",
    "- first make a features list accounting for the 'OWNER_DESCR' being one-hot encoded"
   ]
  },
  {
   "cell_type": "code",
   "execution_count": 41,
   "id": "96be7741-94a0-47eb-8bc5-c58cc8b45592",
   "metadata": {},
   "outputs": [],
   "source": [
    "features = X_train.columns.to_list()\n",
    "features.pop(9)\n",
    "features.extend(['PRIVATE', 'USFS', 'BLM', 'MISSING/NOT SPECIFIED',\n",
    "       'STATE OR PRIVATE', 'COUNTY', 'UNDEFINED FEDERAL', 'STATE', 'FWS',\n",
    "       'NPS', 'BOR', 'MUNICIPAL/LOCAL', 'TRIBAL', 'OTHER FEDERAL', 'BIA'])"
   ]
  },
  {
   "cell_type": "code",
   "execution_count": 42,
   "id": "0ae6a2e2-eb69-478a-b499-e4677a86558c",
   "metadata": {},
   "outputs": [],
   "source": [
    "importances = pd.DataFrame(data={\n",
    "    'Attribute': features,\n",
    "    'Importance': pipeline.steps[1][1].feature_importances_\n",
    "})\n",
    "importances = importances.sort_values(by='Importance', ascending=False)"
   ]
  },
  {
   "cell_type": "code",
   "execution_count": 63,
   "id": "c1750d44-dc05-4477-842f-3ffe5e778133",
   "metadata": {},
   "outputs": [
    {
     "data": {
      "image/png": "[encoded data removed]",
      "text/plain": [
       "<Figure size 864x576 with 1 Axes>"
      ]
     },
     "metadata": {},
     "output_type": "display_data"
    }
   ],
   "source": [
    "plt.figure(figsize=(12,8))\n",
    "plt.bar(x=importances['Attribute'], height=importances['Importance'], color='#087E8B')\n",
    "plt.title('Feature importances obtained from coefficients', size=20)\n",
    "plt.xticks(rotation='vertical')\n",
    "plt.savefig('../../output/figures/FeatureImportance.png', dpi=300)\n",
    "plt.show()"
   ]
  },
  {
   "cell_type": "markdown",
   "id": "1731c236-7941-443d-8f6d-3bafae70d50c",
   "metadata": {},
   "source": [
    "### Trying different algorithms"
   ]
  },
  {
   "cell_type": "markdown",
   "id": "06f404f8-b6a2-46d6-bec5-09fc9322fa19",
   "metadata": {},
   "source": [
    "#### SVM Algorithm"
   ]
  },
  {
   "cell_type": "code",
   "execution_count": 44,
   "id": "a25e2039-1131-49ab-85c3-71523672a787",
   "metadata": {},
   "outputs": [],
   "source": [
    "numeric_transform = Pipeline([('FunctionTransformer', FunctionTransformer()), ('impute_mean', SimpleImputer(strategy='mean')),\n",
    "                              ('scaling', StandardScaler())])\n",
    "\n",
    "categorical_transform = Pipeline([('FunctionTransformer', FunctionTransformer()), ('impute_mode', SimpleImputer(strategy='most_frequent')), \n",
    "                                  ('one-hot-encode', OneHotEncoder(sparse=False))])\n",
    "\n",
    "preprocessing = ColumnTransformer([('numeric', numeric_transform, num_feats), \n",
    "                                   ('categorical', categorical_transform, cat_feats)])\n",
    "\n",
    "pipeline1 = Pipeline([('preprocessing', preprocessing), ('model', SVC(gamma='auto'))])"
   ]
  },
  {
   "cell_type": "code",
   "execution_count": 45,
   "id": "caca8601-101a-4161-a9da-e1e091f53ddd",
   "metadata": {},
   "outputs": [
    {
     "data": {
      "text/html": [
       "<style>#sk-container-id-2 {color: black;background-color: white;}#sk-container-id-2 pre{padding: 0;}#sk-container-id-2 div.sk-toggleable {background-color: white;}#sk-container-id-2 label.sk-toggleable__label {cursor: pointer;display: block;width: 100%;margin-bottom: 0;padding: 0.3em;box-sizing: border-box;text-align: center;}#sk-container-id-2 label.sk-toggleable__label-arrow:before {content: \"▸\";float: left;margin-right: 0.25em;color: #696969;}#sk-container-id-2 label.sk-toggleable__label-arrow:hover:before {color: black;}#sk-container-id-2 div.sk-estimator:hover label.sk-toggleable__label-arrow:before {color: black;}#sk-container-id-2 div.sk-toggleable__content {max-height: 0;max-width: 0;overflow: hidden;text-align: left;background-color: #f0f8ff;}#sk-container-id-2 div.sk-toggleable__content pre {margin: 0.2em;color: black;border-radius: 0.25em;background-color: #f0f8ff;}#sk-container-id-2 input.sk-toggleable__control:checked~div.sk-toggleable__content {max-height: 200px;max-width: 100%;overflow: auto;}#sk-container-id-2 input.sk-toggleable__control:checked~label.sk-toggleable__label-arrow:before {content: \"▾\";}#sk-container-id-2 div.sk-estimator input.sk-toggleable__control:checked~label.sk-toggleable__label {background-color: #d4ebff;}#sk-container-id-2 div.sk-label input.sk-toggleable__control:checked~label.sk-toggleable__label {background-color: #d4ebff;}#sk-container-id-2 input.sk-hidden--visually {border: 0;clip: rect(1px 1px 1px 1px);clip: rect(1px, 1px, 1px, 1px);height: 1px;margin: -1px;overflow: hidden;padding: 0;position: absolute;width: 1px;}#sk-container-id-2 div.sk-estimator {font-family: monospace;background-color: #f0f8ff;border: 1px dotted black;border-radius: 0.25em;box-sizing: border-box;margin-bottom: 0.5em;}#sk-container-id-2 div.sk-estimator:hover {background-color: #d4ebff;}#sk-container-id-2 div.sk-parallel-item::after {content: \"\";width: 100%;border-bottom: 1px solid gray;flex-grow: 1;}#sk-container-id-2 div.sk-label:hover label.sk-toggleable__label {background-color: #d4ebff;}#sk-container-id-2 div.sk-serial::before {content: \"\";position: absolute;border-left: 1px solid gray;box-sizing: border-box;top: 0;bottom: 0;left: 50%;z-index: 0;}#sk-container-id-2 div.sk-serial {display: flex;flex-direction: column;align-items: center;background-color: white;padding-right: 0.2em;padding-left: 0.2em;position: relative;}#sk-container-id-2 div.sk-item {position: relative;z-index: 1;}#sk-container-id-2 div.sk-parallel {display: flex;align-items: stretch;justify-content: center;background-color: white;position: relative;}#sk-container-id-2 div.sk-item::before, #sk-container-id-2 div.sk-parallel-item::before {content: \"\";position: absolute;border-left: 1px solid gray;box-sizing: border-box;top: 0;bottom: 0;left: 50%;z-index: -1;}#sk-container-id-2 div.sk-parallel-item {display: flex;flex-direction: column;z-index: 1;position: relative;background-color: white;}#sk-container-id-2 div.sk-parallel-item:first-child::after {align-self: flex-end;width: 50%;}#sk-container-id-2 div.sk-parallel-item:last-child::after {align-self: flex-start;width: 50%;}#sk-container-id-2 div.sk-parallel-item:only-child::after {width: 0;}#sk-container-id-2 div.sk-dashed-wrapped {border: 1px dashed gray;margin: 0 0.4em 0.5em 0.4em;box-sizing: border-box;padding-bottom: 0.4em;background-color: white;}#sk-container-id-2 div.sk-label label {font-family: monospace;font-weight: bold;display: inline-block;line-height: 1.2em;}#sk-container-id-2 div.sk-label-container {text-align: center;}#sk-container-id-2 div.sk-container {/* jupyter's `normalize.less` sets `[hidden] { display: none; }` but bootstrap.min.css set `[hidden] { display: none !important; }` so we also need the `!important` here to be able to override the default hidden behavior on the sphinx rendered scikit-learn.org. See: https://github.com/scikit-learn/scikit-learn/issues/21755 */display: inline-block !important;position: relative;}#sk-container-id-2 div.sk-text-repr-fallback {display: none;}</style><div id=\"sk-container-id-2\" class=\"sk-top-container\"><div class=\"sk-text-repr-fallback\"><pre>Pipeline(steps=[(&#x27;preprocessing&#x27;,\n",
       "                 ColumnTransformer(transformers=[(&#x27;numeric&#x27;,\n",
       "                                                  Pipeline(steps=[(&#x27;FunctionTransformer&#x27;,\n",
       "                                                                   FunctionTransformer()),\n",
       "                                                                  (&#x27;impute_mean&#x27;,\n",
       "                                                                   SimpleImputer()),\n",
       "                                                                  (&#x27;scaling&#x27;,\n",
       "                                                                   StandardScaler())]),\n",
       "                                                  [&#x27;FIRE_YEAR&#x27;, &#x27;DISCOVERY_DOY&#x27;,\n",
       "                                                   &#x27;FIRE_SIZE&#x27;, &#x27;LATITUDE&#x27;,\n",
       "                                                   &#x27;LONGITUDE&#x27;, &#x27;DISC_MONTH&#x27;,\n",
       "                                                   &#x27;DISC_DAY&#x27;, &#x27;FIRE_DURATION&#x27;,\n",
       "                                                   &#x27;DISC_DAYOFWEEK&#x27;,\n",
       "                                                   &#x27;Elevation&#x27;,\n",
       "                                                   &#x27;Temperature (2 m)...\n",
       "                                                   &#x27;Soil Temperature (7-28 cm)&#x27;,\n",
       "                                                   &#x27;Maximum Temperature (2 m)&#x27;,\n",
       "                                                   &#x27;Minimum Temperature (2 m)&#x27;,\n",
       "                                                   &#x27;Precipitation Sum&#x27;,\n",
       "                                                   &#x27;Rain Sum&#x27;,\n",
       "                                                   &#x27;Snowfall Sum&#x27;]),\n",
       "                                                 (&#x27;categorical&#x27;,\n",
       "                                                  Pipeline(steps=[(&#x27;FunctionTransformer&#x27;,\n",
       "                                                                   FunctionTransformer()),\n",
       "                                                                  (&#x27;impute_mode&#x27;,\n",
       "                                                                   SimpleImputer(strategy=&#x27;most_frequent&#x27;)),\n",
       "                                                                  (&#x27;one-hot-encode&#x27;,\n",
       "                                                                   OneHotEncoder(sparse=False))]),\n",
       "                                                  [&#x27;OWNER_DESCR&#x27;])])),\n",
       "                (&#x27;model&#x27;, SVC(gamma=&#x27;auto&#x27;))])</pre><b>In a Jupyter environment, please rerun this cell to show the HTML representation or trust the notebook. <br />On GitHub, the HTML representation is unable to render, please try loading this page with nbviewer.org.</b></div><div class=\"sk-container\" hidden><div class=\"sk-item sk-dashed-wrapped\"><div class=\"sk-label-container\"><div class=\"sk-label sk-toggleable\"><input class=\"sk-toggleable__control sk-hidden--visually\" id=\"sk-estimator-id-12\" type=\"checkbox\" ><label for=\"sk-estimator-id-12\" class=\"sk-toggleable__label sk-toggleable__label-arrow\">Pipeline</label><div class=\"sk-toggleable__content\"><pre>Pipeline(steps=[(&#x27;preprocessing&#x27;,\n",
       "                 ColumnTransformer(transformers=[(&#x27;numeric&#x27;,\n",
       "                                                  Pipeline(steps=[(&#x27;FunctionTransformer&#x27;,\n",
       "                                                                   FunctionTransformer()),\n",
       "                                                                  (&#x27;impute_mean&#x27;,\n",
       "                                                                   SimpleImputer()),\n",
       "                                                                  (&#x27;scaling&#x27;,\n",
       "                                                                   StandardScaler())]),\n",
       "                                                  [&#x27;FIRE_YEAR&#x27;, &#x27;DISCOVERY_DOY&#x27;,\n",
       "                                                   &#x27;FIRE_SIZE&#x27;, &#x27;LATITUDE&#x27;,\n",
       "                                                   &#x27;LONGITUDE&#x27;, &#x27;DISC_MONTH&#x27;,\n",
       "                                                   &#x27;DISC_DAY&#x27;, &#x27;FIRE_DURATION&#x27;,\n",
       "                                                   &#x27;DISC_DAYOFWEEK&#x27;,\n",
       "                                                   &#x27;Elevation&#x27;,\n",
       "                                                   &#x27;Temperature (2 m)...\n",
       "                                                   &#x27;Soil Temperature (7-28 cm)&#x27;,\n",
       "                                                   &#x27;Maximum Temperature (2 m)&#x27;,\n",
       "                                                   &#x27;Minimum Temperature (2 m)&#x27;,\n",
       "                                                   &#x27;Precipitation Sum&#x27;,\n",
       "                                                   &#x27;Rain Sum&#x27;,\n",
       "                                                   &#x27;Snowfall Sum&#x27;]),\n",
       "                                                 (&#x27;categorical&#x27;,\n",
       "                                                  Pipeline(steps=[(&#x27;FunctionTransformer&#x27;,\n",
       "                                                                   FunctionTransformer()),\n",
       "                                                                  (&#x27;impute_mode&#x27;,\n",
       "                                                                   SimpleImputer(strategy=&#x27;most_frequent&#x27;)),\n",
       "                                                                  (&#x27;one-hot-encode&#x27;,\n",
       "                                                                   OneHotEncoder(sparse=False))]),\n",
       "                                                  [&#x27;OWNER_DESCR&#x27;])])),\n",
       "                (&#x27;model&#x27;, SVC(gamma=&#x27;auto&#x27;))])</pre></div></div></div><div class=\"sk-serial\"><div class=\"sk-item sk-dashed-wrapped\"><div class=\"sk-label-container\"><div class=\"sk-label sk-toggleable\"><input class=\"sk-toggleable__control sk-hidden--visually\" id=\"sk-estimator-id-13\" type=\"checkbox\" ><label for=\"sk-estimator-id-13\" class=\"sk-toggleable__label sk-toggleable__label-arrow\">preprocessing: ColumnTransformer</label><div class=\"sk-toggleable__content\"><pre>ColumnTransformer(transformers=[(&#x27;numeric&#x27;,\n",
       "                                 Pipeline(steps=[(&#x27;FunctionTransformer&#x27;,\n",
       "                                                  FunctionTransformer()),\n",
       "                                                 (&#x27;impute_mean&#x27;,\n",
       "                                                  SimpleImputer()),\n",
       "                                                 (&#x27;scaling&#x27;,\n",
       "                                                  StandardScaler())]),\n",
       "                                 [&#x27;FIRE_YEAR&#x27;, &#x27;DISCOVERY_DOY&#x27;, &#x27;FIRE_SIZE&#x27;,\n",
       "                                  &#x27;LATITUDE&#x27;, &#x27;LONGITUDE&#x27;, &#x27;DISC_MONTH&#x27;,\n",
       "                                  &#x27;DISC_DAY&#x27;, &#x27;FIRE_DURATION&#x27;, &#x27;DISC_DAYOFWEEK&#x27;,\n",
       "                                  &#x27;Elevation&#x27;, &#x27;Temperature (2 m)&#x27;,\n",
       "                                  &#x27;Wind Gusts (10 m)&#x27;,\n",
       "                                  &#x27;Soil Temperature (0-7 cm)&#x27;,\n",
       "                                  &#x27;Soil Temperature (7-28 cm)&#x27;,\n",
       "                                  &#x27;Maximum Temperature (2 m)&#x27;,\n",
       "                                  &#x27;Minimum Temperature (2 m)&#x27;,\n",
       "                                  &#x27;Precipitation Sum&#x27;, &#x27;Rain Sum&#x27;,\n",
       "                                  &#x27;Snowfall Sum&#x27;]),\n",
       "                                (&#x27;categorical&#x27;,\n",
       "                                 Pipeline(steps=[(&#x27;FunctionTransformer&#x27;,\n",
       "                                                  FunctionTransformer()),\n",
       "                                                 (&#x27;impute_mode&#x27;,\n",
       "                                                  SimpleImputer(strategy=&#x27;most_frequent&#x27;)),\n",
       "                                                 (&#x27;one-hot-encode&#x27;,\n",
       "                                                  OneHotEncoder(sparse=False))]),\n",
       "                                 [&#x27;OWNER_DESCR&#x27;])])</pre></div></div></div><div class=\"sk-parallel\"><div class=\"sk-parallel-item\"><div class=\"sk-item\"><div class=\"sk-label-container\"><div class=\"sk-label sk-toggleable\"><input class=\"sk-toggleable__control sk-hidden--visually\" id=\"sk-estimator-id-14\" type=\"checkbox\" ><label for=\"sk-estimator-id-14\" class=\"sk-toggleable__label sk-toggleable__label-arrow\">numeric</label><div class=\"sk-toggleable__content\"><pre>[&#x27;FIRE_YEAR&#x27;, &#x27;DISCOVERY_DOY&#x27;, &#x27;FIRE_SIZE&#x27;, &#x27;LATITUDE&#x27;, &#x27;LONGITUDE&#x27;, &#x27;DISC_MONTH&#x27;, &#x27;DISC_DAY&#x27;, &#x27;FIRE_DURATION&#x27;, &#x27;DISC_DAYOFWEEK&#x27;, &#x27;Elevation&#x27;, &#x27;Temperature (2 m)&#x27;, &#x27;Wind Gusts (10 m)&#x27;, &#x27;Soil Temperature (0-7 cm)&#x27;, &#x27;Soil Temperature (7-28 cm)&#x27;, &#x27;Maximum Temperature (2 m)&#x27;, &#x27;Minimum Temperature (2 m)&#x27;, &#x27;Precipitation Sum&#x27;, &#x27;Rain Sum&#x27;, &#x27;Snowfall Sum&#x27;]</pre></div></div></div><div class=\"sk-serial\"><div class=\"sk-item\"><div class=\"sk-serial\"><div class=\"sk-item\"><div class=\"sk-estimator sk-toggleable\"><input class=\"sk-toggleable__control sk-hidden--visually\" id=\"sk-estimator-id-15\" type=\"checkbox\" ><label for=\"sk-estimator-id-15\" class=\"sk-toggleable__label sk-toggleable__label-arrow\">FunctionTransformer</label><div class=\"sk-toggleable__content\"><pre>FunctionTransformer()</pre></div></div></div><div class=\"sk-item\"><div class=\"sk-estimator sk-toggleable\"><input class=\"sk-toggleable__control sk-hidden--visually\" id=\"sk-estimator-id-16\" type=\"checkbox\" ><label for=\"sk-estimator-id-16\" class=\"sk-toggleable__label sk-toggleable__label-arrow\">SimpleImputer</label><div class=\"sk-toggleable__content\"><pre>SimpleImputer()</pre></div></div></div><div class=\"sk-item\"><div class=\"sk-estimator sk-toggleable\"><input class=\"sk-toggleable__control sk-hidden--visually\" id=\"sk-estimator-id-17\" type=\"checkbox\" ><label for=\"sk-estimator-id-17\" class=\"sk-toggleable__label sk-toggleable__label-arrow\">StandardScaler</label><div class=\"sk-toggleable__content\"><pre>StandardScaler()</pre></div></div></div></div></div></div></div></div><div class=\"sk-parallel-item\"><div class=\"sk-item\"><div class=\"sk-label-container\"><div class=\"sk-label sk-toggleable\"><input class=\"sk-toggleable__control sk-hidden--visually\" id=\"sk-estimator-id-18\" type=\"checkbox\" ><label for=\"sk-estimator-id-18\" class=\"sk-toggleable__label sk-toggleable__label-arrow\">categorical</label><div class=\"sk-toggleable__content\"><pre>[&#x27;OWNER_DESCR&#x27;]</pre></div></div></div><div class=\"sk-serial\"><div class=\"sk-item\"><div class=\"sk-serial\"><div class=\"sk-item\"><div class=\"sk-estimator sk-toggleable\"><input class=\"sk-toggleable__control sk-hidden--visually\" id=\"sk-estimator-id-19\" type=\"checkbox\" ><label for=\"sk-estimator-id-19\" class=\"sk-toggleable__label sk-toggleable__label-arrow\">FunctionTransformer</label><div class=\"sk-toggleable__content\"><pre>FunctionTransformer()</pre></div></div></div><div class=\"sk-item\"><div class=\"sk-estimator sk-toggleable\"><input class=\"sk-toggleable__control sk-hidden--visually\" id=\"sk-estimator-id-20\" type=\"checkbox\" ><label for=\"sk-estimator-id-20\" class=\"sk-toggleable__label sk-toggleable__label-arrow\">SimpleImputer</label><div class=\"sk-toggleable__content\"><pre>SimpleImputer(strategy=&#x27;most_frequent&#x27;)</pre></div></div></div><div class=\"sk-item\"><div class=\"sk-estimator sk-toggleable\"><input class=\"sk-toggleable__control sk-hidden--visually\" id=\"sk-estimator-id-21\" type=\"checkbox\" ><label for=\"sk-estimator-id-21\" class=\"sk-toggleable__label sk-toggleable__label-arrow\">OneHotEncoder</label><div class=\"sk-toggleable__content\"><pre>OneHotEncoder(sparse=False)</pre></div></div></div></div></div></div></div></div></div></div><div class=\"sk-item\"><div class=\"sk-estimator sk-toggleable\"><input class=\"sk-toggleable__control sk-hidden--visually\" id=\"sk-estimator-id-22\" type=\"checkbox\" ><label for=\"sk-estimator-id-22\" class=\"sk-toggleable__label sk-toggleable__label-arrow\">SVC</label><div class=\"sk-toggleable__content\"><pre>SVC(gamma=&#x27;auto&#x27;)</pre></div></div></div></div></div></div></div>"
      ],
      "text/plain": [
       "Pipeline(steps=[('preprocessing',\n",
       "                 ColumnTransformer(transformers=[('numeric',\n",
       "                                                  Pipeline(steps=[('FunctionTransformer',\n",
       "                                                                   FunctionTransformer()),\n",
       "                                                                  ('impute_mean',\n",
       "                                                                   SimpleImputer()),\n",
       "                                                                  ('scaling',\n",
       "                                                                   StandardScaler())]),\n",
       "                                                  ['FIRE_YEAR', 'DISCOVERY_DOY',\n",
       "                                                   'FIRE_SIZE', 'LATITUDE',\n",
       "                                                   'LONGITUDE', 'DISC_MONTH',\n",
       "                                                   'DISC_DAY', 'FIRE_DURATION',\n",
       "                                                   'DISC_DAYOFWEEK',\n",
       "                                                   'Elevation',\n",
       "                                                   'Temperature (2 m)...\n",
       "                                                   'Soil Temperature (7-28 cm)',\n",
       "                                                   'Maximum Temperature (2 m)',\n",
       "                                                   'Minimum Temperature (2 m)',\n",
       "                                                   'Precipitation Sum',\n",
       "                                                   'Rain Sum',\n",
       "                                                   'Snowfall Sum']),\n",
       "                                                 ('categorical',\n",
       "                                                  Pipeline(steps=[('FunctionTransformer',\n",
       "                                                                   FunctionTransformer()),\n",
       "                                                                  ('impute_mode',\n",
       "                                                                   SimpleImputer(strategy='most_frequent')),\n",
       "                                                                  ('one-hot-encode',\n",
       "                                                                   OneHotEncoder(sparse=False))]),\n",
       "                                                  ['OWNER_DESCR'])])),\n",
       "                ('model', SVC(gamma='auto'))])"
      ]
     },
     "execution_count": 45,
     "metadata": {},
     "output_type": "execute_result"
    }
   ],
   "source": [
    "pipeline1.fit(X_train, y_train)"
   ]
  },
  {
   "cell_type": "code",
   "execution_count": 46,
   "id": "f04c6eec-aea3-4f06-b996-f12077f64615",
   "metadata": {},
   "outputs": [
    {
     "name": "stdout",
     "output_type": "stream",
     "text": [
      "Test set score: 0.7933655432477021\n"
     ]
    }
   ],
   "source": [
    "score = pipeline1.score(X_test, y_test)          \n",
    "print(f'Test set score: {score}')"
   ]
  },
  {
   "cell_type": "code",
   "execution_count": 47,
   "id": "d55c3176-b91e-445b-a8f9-db53ac7b9341",
   "metadata": {},
   "outputs": [
    {
     "name": "stdout",
     "output_type": "stream",
     "text": [
      "0.8283340958670322 0.5763496524928553\n"
     ]
    }
   ],
   "source": [
    "y_pred1 = pipeline1.predict(X_test) \n",
    "print(f1_score(y_pred1, y_test, average='weighted'), balanced_accuracy_score(y_test, y_pred1))"
   ]
  },
  {
   "cell_type": "code",
   "execution_count": 48,
   "id": "bb7ab6ed-a57f-4e19-8597-60556543826a",
   "metadata": {},
   "outputs": [
    {
     "data": {
      "text/plain": [
       "<sklearn.metrics._plot.confusion_matrix.ConfusionMatrixDisplay at 0x18b61fddc40>"
      ]
     },
     "execution_count": 48,
     "metadata": {},
     "output_type": "execute_result"
    },
    {
     "data": {
      "image/png": "[encoded data removed]",
      "text/plain": [
       "<Figure size 432x288 with 2 Axes>"
      ]
     },
     "metadata": {},
     "output_type": "display_data"
    }
   ],
   "source": [
    "ConfusionMatrixDisplay.from_predictions(y_test, y_pred1)"
   ]
  },
  {
   "cell_type": "code",
   "execution_count": 49,
   "id": "96008f3c-e562-4cb4-9c50-962a7ac362ca",
   "metadata": {},
   "outputs": [
    {
     "name": "stdout",
     "output_type": "stream",
     "text": [
      "              precision    recall  f1-score   support\n",
      "\n",
      "           1       0.83      0.85      0.84      6736\n",
      "           2       0.77      0.88      0.82      8794\n",
      "           3       0.00      0.00      0.00      1442\n",
      "\n",
      "    accuracy                           0.79     16972\n",
      "   macro avg       0.53      0.58      0.55     16972\n",
      "weighted avg       0.73      0.79      0.76     16972\n",
      "\n"
     ]
    }
   ],
   "source": [
    "print(classification_report(y_test, y_pred1))"
   ]
  },
  {
   "cell_type": "markdown",
   "id": "3a873442-793c-460d-b86d-5cc0183ef162",
   "metadata": {
    "tags": []
   },
   "source": [
    "#### XGBoost\n",
    "Labels must start at 0"
   ]
  },
  {
   "cell_type": "code",
   "execution_count": 50,
   "id": "f88b7fb9-b726-4ebc-baaf-b22ba8238c1b",
   "metadata": {},
   "outputs": [],
   "source": [
    "from xgboost import XGBClassifier"
   ]
  },
  {
   "cell_type": "code",
   "execution_count": 51,
   "id": "11d847e5-d1a2-4ff3-b0d2-3de7fc51fb0a",
   "metadata": {},
   "outputs": [],
   "source": [
    "# start at 0 and convert from float to int\n",
    "y_train_xg = (y_train - 1).astype('int64')\n",
    "y_test_xg = (y_test - 1).astype('int64')"
   ]
  },
  {
   "cell_type": "code",
   "execution_count": 52,
   "id": "fb9f6e3a-87c5-4870-b17a-de9816c2f043",
   "metadata": {
    "tags": []
   },
   "outputs": [],
   "source": [
    "numeric_transform = Pipeline([('FunctionTransformer', FunctionTransformer()), ('impute_mean', SimpleImputer(strategy='mean')),\n",
    "                              ('scaling', StandardScaler())])\n",
    "\n",
    "categorical_transform = Pipeline([('FunctionTransformer', FunctionTransformer()), ('impute_mode', SimpleImputer(strategy='most_frequent')), \n",
    "                                  ('one-hot-encode', OneHotEncoder(sparse=False))])\n",
    "\n",
    "preprocessing = ColumnTransformer([('numeric', numeric_transform, num_feats), \n",
    "                                   ('categorical', categorical_transform, cat_feats)])\n",
    "\n",
    "pipeline2 = Pipeline([('preprocessing', preprocessing), ('model', XGBClassifier(eval_metric= 'merror'))])"
   ]
  },
  {
   "cell_type": "code",
   "execution_count": 53,
   "id": "60101457-2f18-4471-96d8-8f8839dbf0f1",
   "metadata": {
    "tags": []
   },
   "outputs": [
    {
     "data": {
      "text/html": [
       "<style>#sk-container-id-3 {color: black;background-color: white;}#sk-container-id-3 pre{padding: 0;}#sk-container-id-3 div.sk-toggleable {background-color: white;}#sk-container-id-3 label.sk-toggleable__label {cursor: pointer;display: block;width: 100%;margin-bottom: 0;padding: 0.3em;box-sizing: border-box;text-align: center;}#sk-container-id-3 label.sk-toggleable__label-arrow:before {content: \"▸\";float: left;margin-right: 0.25em;color: #696969;}#sk-container-id-3 label.sk-toggleable__label-arrow:hover:before {color: black;}#sk-container-id-3 div.sk-estimator:hover label.sk-toggleable__label-arrow:before {color: black;}#sk-container-id-3 div.sk-toggleable__content {max-height: 0;max-width: 0;overflow: hidden;text-align: left;background-color: #f0f8ff;}#sk-container-id-3 div.sk-toggleable__content pre {margin: 0.2em;color: black;border-radius: 0.25em;background-color: #f0f8ff;}#sk-container-id-3 input.sk-toggleable__control:checked~div.sk-toggleable__content {max-height: 200px;max-width: 100%;overflow: auto;}#sk-container-id-3 input.sk-toggleable__control:checked~label.sk-toggleable__label-arrow:before {content: \"▾\";}#sk-container-id-3 div.sk-estimator input.sk-toggleable__control:checked~label.sk-toggleable__label {background-color: #d4ebff;}#sk-container-id-3 div.sk-label input.sk-toggleable__control:checked~label.sk-toggleable__label {background-color: #d4ebff;}#sk-container-id-3 input.sk-hidden--visually {border: 0;clip: rect(1px 1px 1px 1px);clip: rect(1px, 1px, 1px, 1px);height: 1px;margin: -1px;overflow: hidden;padding: 0;position: absolute;width: 1px;}#sk-container-id-3 div.sk-estimator {font-family: monospace;background-color: #f0f8ff;border: 1px dotted black;border-radius: 0.25em;box-sizing: border-box;margin-bottom: 0.5em;}#sk-container-id-3 div.sk-estimator:hover {background-color: #d4ebff;}#sk-container-id-3 div.sk-parallel-item::after {content: \"\";width: 100%;border-bottom: 1px solid gray;flex-grow: 1;}#sk-container-id-3 div.sk-label:hover label.sk-toggleable__label {background-color: #d4ebff;}#sk-container-id-3 div.sk-serial::before {content: \"\";position: absolute;border-left: 1px solid gray;box-sizing: border-box;top: 0;bottom: 0;left: 50%;z-index: 0;}#sk-container-id-3 div.sk-serial {display: flex;flex-direction: column;align-items: center;background-color: white;padding-right: 0.2em;padding-left: 0.2em;position: relative;}#sk-container-id-3 div.sk-item {position: relative;z-index: 1;}#sk-container-id-3 div.sk-parallel {display: flex;align-items: stretch;justify-content: center;background-color: white;position: relative;}#sk-container-id-3 div.sk-item::before, #sk-container-id-3 div.sk-parallel-item::before {content: \"\";position: absolute;border-left: 1px solid gray;box-sizing: border-box;top: 0;bottom: 0;left: 50%;z-index: -1;}#sk-container-id-3 div.sk-parallel-item {display: flex;flex-direction: column;z-index: 1;position: relative;background-color: white;}#sk-container-id-3 div.sk-parallel-item:first-child::after {align-self: flex-end;width: 50%;}#sk-container-id-3 div.sk-parallel-item:last-child::after {align-self: flex-start;width: 50%;}#sk-container-id-3 div.sk-parallel-item:only-child::after {width: 0;}#sk-container-id-3 div.sk-dashed-wrapped {border: 1px dashed gray;margin: 0 0.4em 0.5em 0.4em;box-sizing: border-box;padding-bottom: 0.4em;background-color: white;}#sk-container-id-3 div.sk-label label {font-family: monospace;font-weight: bold;display: inline-block;line-height: 1.2em;}#sk-container-id-3 div.sk-label-container {text-align: center;}#sk-container-id-3 div.sk-container {/* jupyter's `normalize.less` sets `[hidden] { display: none; }` but bootstrap.min.css set `[hidden] { display: none !important; }` so we also need the `!important` here to be able to override the default hidden behavior on the sphinx rendered scikit-learn.org. See: https://github.com/scikit-learn/scikit-learn/issues/21755 */display: inline-block !important;position: relative;}#sk-container-id-3 div.sk-text-repr-fallback {display: none;}</style><div id=\"sk-container-id-3\" class=\"sk-top-container\"><div class=\"sk-text-repr-fallback\"><pre>Pipeline(steps=[(&#x27;preprocessing&#x27;,\n",
       "                 ColumnTransformer(transformers=[(&#x27;numeric&#x27;,\n",
       "                                                  Pipeline(steps=[(&#x27;FunctionTransformer&#x27;,\n",
       "                                                                   FunctionTransformer()),\n",
       "                                                                  (&#x27;impute_mean&#x27;,\n",
       "                                                                   SimpleImputer()),\n",
       "                                                                  (&#x27;scaling&#x27;,\n",
       "                                                                   StandardScaler())]),\n",
       "                                                  [&#x27;FIRE_YEAR&#x27;, &#x27;DISCOVERY_DOY&#x27;,\n",
       "                                                   &#x27;FIRE_SIZE&#x27;, &#x27;LATITUDE&#x27;,\n",
       "                                                   &#x27;LONGITUDE&#x27;, &#x27;DISC_MONTH&#x27;,\n",
       "                                                   &#x27;DISC_DAY&#x27;, &#x27;FIRE_DURATION&#x27;,\n",
       "                                                   &#x27;DISC_DAYOFWEEK&#x27;,\n",
       "                                                   &#x27;Elevation&#x27;,\n",
       "                                                   &#x27;Temperature (2 m)...\n",
       "                               importance_type=None, interaction_constraints=&#x27;&#x27;,\n",
       "                               learning_rate=0.300000012, max_delta_step=0,\n",
       "                               max_depth=6, min_child_weight=1, missing=nan,\n",
       "                               monotone_constraints=&#x27;()&#x27;, n_estimators=100,\n",
       "                               n_jobs=8, num_parallel_tree=1,\n",
       "                               objective=&#x27;multi:softprob&#x27;, predictor=&#x27;auto&#x27;,\n",
       "                               random_state=0, reg_alpha=0, reg_lambda=1,\n",
       "                               scale_pos_weight=None, subsample=1,\n",
       "                               tree_method=&#x27;exact&#x27;, validate_parameters=1,\n",
       "                               verbosity=None))])</pre><b>In a Jupyter environment, please rerun this cell to show the HTML representation or trust the notebook. <br />On GitHub, the HTML representation is unable to render, please try loading this page with nbviewer.org.</b></div><div class=\"sk-container\" hidden><div class=\"sk-item sk-dashed-wrapped\"><div class=\"sk-label-container\"><div class=\"sk-label sk-toggleable\"><input class=\"sk-toggleable__control sk-hidden--visually\" id=\"sk-estimator-id-23\" type=\"checkbox\" ><label for=\"sk-estimator-id-23\" class=\"sk-toggleable__label sk-toggleable__label-arrow\">Pipeline</label><div class=\"sk-toggleable__content\"><pre>Pipeline(steps=[(&#x27;preprocessing&#x27;,\n",
       "                 ColumnTransformer(transformers=[(&#x27;numeric&#x27;,\n",
       "                                                  Pipeline(steps=[(&#x27;FunctionTransformer&#x27;,\n",
       "                                                                   FunctionTransformer()),\n",
       "                                                                  (&#x27;impute_mean&#x27;,\n",
       "                                                                   SimpleImputer()),\n",
       "                                                                  (&#x27;scaling&#x27;,\n",
       "                                                                   StandardScaler())]),\n",
       "                                                  [&#x27;FIRE_YEAR&#x27;, &#x27;DISCOVERY_DOY&#x27;,\n",
       "                                                   &#x27;FIRE_SIZE&#x27;, &#x27;LATITUDE&#x27;,\n",
       "                                                   &#x27;LONGITUDE&#x27;, &#x27;DISC_MONTH&#x27;,\n",
       "                                                   &#x27;DISC_DAY&#x27;, &#x27;FIRE_DURATION&#x27;,\n",
       "                                                   &#x27;DISC_DAYOFWEEK&#x27;,\n",
       "                                                   &#x27;Elevation&#x27;,\n",
       "                                                   &#x27;Temperature (2 m)...\n",
       "                               importance_type=None, interaction_constraints=&#x27;&#x27;,\n",
       "                               learning_rate=0.300000012, max_delta_step=0,\n",
       "                               max_depth=6, min_child_weight=1, missing=nan,\n",
       "                               monotone_constraints=&#x27;()&#x27;, n_estimators=100,\n",
       "                               n_jobs=8, num_parallel_tree=1,\n",
       "                               objective=&#x27;multi:softprob&#x27;, predictor=&#x27;auto&#x27;,\n",
       "                               random_state=0, reg_alpha=0, reg_lambda=1,\n",
       "                               scale_pos_weight=None, subsample=1,\n",
       "                               tree_method=&#x27;exact&#x27;, validate_parameters=1,\n",
       "                               verbosity=None))])</pre></div></div></div><div class=\"sk-serial\"><div class=\"sk-item sk-dashed-wrapped\"><div class=\"sk-label-container\"><div class=\"sk-label sk-toggleable\"><input class=\"sk-toggleable__control sk-hidden--visually\" id=\"sk-estimator-id-24\" type=\"checkbox\" ><label for=\"sk-estimator-id-24\" class=\"sk-toggleable__label sk-toggleable__label-arrow\">preprocessing: ColumnTransformer</label><div class=\"sk-toggleable__content\"><pre>ColumnTransformer(transformers=[(&#x27;numeric&#x27;,\n",
       "                                 Pipeline(steps=[(&#x27;FunctionTransformer&#x27;,\n",
       "                                                  FunctionTransformer()),\n",
       "                                                 (&#x27;impute_mean&#x27;,\n",
       "                                                  SimpleImputer()),\n",
       "                                                 (&#x27;scaling&#x27;,\n",
       "                                                  StandardScaler())]),\n",
       "                                 [&#x27;FIRE_YEAR&#x27;, &#x27;DISCOVERY_DOY&#x27;, &#x27;FIRE_SIZE&#x27;,\n",
       "                                  &#x27;LATITUDE&#x27;, &#x27;LONGITUDE&#x27;, &#x27;DISC_MONTH&#x27;,\n",
       "                                  &#x27;DISC_DAY&#x27;, &#x27;FIRE_DURATION&#x27;, &#x27;DISC_DAYOFWEEK&#x27;,\n",
       "                                  &#x27;Elevation&#x27;, &#x27;Temperature (2 m)&#x27;,\n",
       "                                  &#x27;Wind Gusts (10 m)&#x27;,\n",
       "                                  &#x27;Soil Temperature (0-7 cm)&#x27;,\n",
       "                                  &#x27;Soil Temperature (7-28 cm)&#x27;,\n",
       "                                  &#x27;Maximum Temperature (2 m)&#x27;,\n",
       "                                  &#x27;Minimum Temperature (2 m)&#x27;,\n",
       "                                  &#x27;Precipitation Sum&#x27;, &#x27;Rain Sum&#x27;,\n",
       "                                  &#x27;Snowfall Sum&#x27;]),\n",
       "                                (&#x27;categorical&#x27;,\n",
       "                                 Pipeline(steps=[(&#x27;FunctionTransformer&#x27;,\n",
       "                                                  FunctionTransformer()),\n",
       "                                                 (&#x27;impute_mode&#x27;,\n",
       "                                                  SimpleImputer(strategy=&#x27;most_frequent&#x27;)),\n",
       "                                                 (&#x27;one-hot-encode&#x27;,\n",
       "                                                  OneHotEncoder(sparse=False))]),\n",
       "                                 [&#x27;OWNER_DESCR&#x27;])])</pre></div></div></div><div class=\"sk-parallel\"><div class=\"sk-parallel-item\"><div class=\"sk-item\"><div class=\"sk-label-container\"><div class=\"sk-label sk-toggleable\"><input class=\"sk-toggleable__control sk-hidden--visually\" id=\"sk-estimator-id-25\" type=\"checkbox\" ><label for=\"sk-estimator-id-25\" class=\"sk-toggleable__label sk-toggleable__label-arrow\">numeric</label><div class=\"sk-toggleable__content\"><pre>[&#x27;FIRE_YEAR&#x27;, &#x27;DISCOVERY_DOY&#x27;, &#x27;FIRE_SIZE&#x27;, &#x27;LATITUDE&#x27;, &#x27;LONGITUDE&#x27;, &#x27;DISC_MONTH&#x27;, &#x27;DISC_DAY&#x27;, &#x27;FIRE_DURATION&#x27;, &#x27;DISC_DAYOFWEEK&#x27;, &#x27;Elevation&#x27;, &#x27;Temperature (2 m)&#x27;, &#x27;Wind Gusts (10 m)&#x27;, &#x27;Soil Temperature (0-7 cm)&#x27;, &#x27;Soil Temperature (7-28 cm)&#x27;, &#x27;Maximum Temperature (2 m)&#x27;, &#x27;Minimum Temperature (2 m)&#x27;, &#x27;Precipitation Sum&#x27;, &#x27;Rain Sum&#x27;, &#x27;Snowfall Sum&#x27;]</pre></div></div></div><div class=\"sk-serial\"><div class=\"sk-item\"><div class=\"sk-serial\"><div class=\"sk-item\"><div class=\"sk-estimator sk-toggleable\"><input class=\"sk-toggleable__control sk-hidden--visually\" id=\"sk-estimator-id-26\" type=\"checkbox\" ><label for=\"sk-estimator-id-26\" class=\"sk-toggleable__label sk-toggleable__label-arrow\">FunctionTransformer</label><div class=\"sk-toggleable__content\"><pre>FunctionTransformer()</pre></div></div></div><div class=\"sk-item\"><div class=\"sk-estimator sk-toggleable\"><input class=\"sk-toggleable__control sk-hidden--visually\" id=\"sk-estimator-id-27\" type=\"checkbox\" ><label for=\"sk-estimator-id-27\" class=\"sk-toggleable__label sk-toggleable__label-arrow\">SimpleImputer</label><div class=\"sk-toggleable__content\"><pre>SimpleImputer()</pre></div></div></div><div class=\"sk-item\"><div class=\"sk-estimator sk-toggleable\"><input class=\"sk-toggleable__control sk-hidden--visually\" id=\"sk-estimator-id-28\" type=\"checkbox\" ><label for=\"sk-estimator-id-28\" class=\"sk-toggleable__label sk-toggleable__label-arrow\">StandardScaler</label><div class=\"sk-toggleable__content\"><pre>StandardScaler()</pre></div></div></div></div></div></div></div></div><div class=\"sk-parallel-item\"><div class=\"sk-item\"><div class=\"sk-label-container\"><div class=\"sk-label sk-toggleable\"><input class=\"sk-toggleable__control sk-hidden--visually\" id=\"sk-estimator-id-29\" type=\"checkbox\" ><label for=\"sk-estimator-id-29\" class=\"sk-toggleable__label sk-toggleable__label-arrow\">categorical</label><div class=\"sk-toggleable__content\"><pre>[&#x27;OWNER_DESCR&#x27;]</pre></div></div></div><div class=\"sk-serial\"><div class=\"sk-item\"><div class=\"sk-serial\"><div class=\"sk-item\"><div class=\"sk-estimator sk-toggleable\"><input class=\"sk-toggleable__control sk-hidden--visually\" id=\"sk-estimator-id-30\" type=\"checkbox\" ><label for=\"sk-estimator-id-30\" class=\"sk-toggleable__label sk-toggleable__label-arrow\">FunctionTransformer</label><div class=\"sk-toggleable__content\"><pre>FunctionTransformer()</pre></div></div></div><div class=\"sk-item\"><div class=\"sk-estimator sk-toggleable\"><input class=\"sk-toggleable__control sk-hidden--visually\" id=\"sk-estimator-id-31\" type=\"checkbox\" ><label for=\"sk-estimator-id-31\" class=\"sk-toggleable__label sk-toggleable__label-arrow\">SimpleImputer</label><div class=\"sk-toggleable__content\"><pre>SimpleImputer(strategy=&#x27;most_frequent&#x27;)</pre></div></div></div><div class=\"sk-item\"><div class=\"sk-estimator sk-toggleable\"><input class=\"sk-toggleable__control sk-hidden--visually\" id=\"sk-estimator-id-32\" type=\"checkbox\" ><label for=\"sk-estimator-id-32\" class=\"sk-toggleable__label sk-toggleable__label-arrow\">OneHotEncoder</label><div class=\"sk-toggleable__content\"><pre>OneHotEncoder(sparse=False)</pre></div></div></div></div></div></div></div></div></div></div><div class=\"sk-item\"><div class=\"sk-estimator sk-toggleable\"><input class=\"sk-toggleable__control sk-hidden--visually\" id=\"sk-estimator-id-33\" type=\"checkbox\" ><label for=\"sk-estimator-id-33\" class=\"sk-toggleable__label sk-toggleable__label-arrow\">XGBClassifier</label><div class=\"sk-toggleable__content\"><pre>XGBClassifier(base_score=0.5, booster=&#x27;gbtree&#x27;, colsample_bylevel=1,\n",
       "              colsample_bynode=1, colsample_bytree=1, enable_categorical=False,\n",
       "              eval_metric=&#x27;merror&#x27;, gamma=0, gpu_id=-1, importance_type=None,\n",
       "              interaction_constraints=&#x27;&#x27;, learning_rate=0.300000012,\n",
       "              max_delta_step=0, max_depth=6, min_child_weight=1, missing=nan,\n",
       "              monotone_constraints=&#x27;()&#x27;, n_estimators=100, n_jobs=8,\n",
       "              num_parallel_tree=1, objective=&#x27;multi:softprob&#x27;, predictor=&#x27;auto&#x27;,\n",
       "              random_state=0, reg_alpha=0, reg_lambda=1, scale_pos_weight=None,\n",
       "              subsample=1, tree_method=&#x27;exact&#x27;, validate_parameters=1,\n",
       "              verbosity=None)</pre></div></div></div></div></div></div></div>"
      ],
      "text/plain": [
       "Pipeline(steps=[('preprocessing',\n",
       "                 ColumnTransformer(transformers=[('numeric',\n",
       "                                                  Pipeline(steps=[('FunctionTransformer',\n",
       "                                                                   FunctionTransformer()),\n",
       "                                                                  ('impute_mean',\n",
       "                                                                   SimpleImputer()),\n",
       "                                                                  ('scaling',\n",
       "                                                                   StandardScaler())]),\n",
       "                                                  ['FIRE_YEAR', 'DISCOVERY_DOY',\n",
       "                                                   'FIRE_SIZE', 'LATITUDE',\n",
       "                                                   'LONGITUDE', 'DISC_MONTH',\n",
       "                                                   'DISC_DAY', 'FIRE_DURATION',\n",
       "                                                   'DISC_DAYOFWEEK',\n",
       "                                                   'Elevation',\n",
       "                                                   'Temperature (2 m)...\n",
       "                               importance_type=None, interaction_constraints='',\n",
       "                               learning_rate=0.300000012, max_delta_step=0,\n",
       "                               max_depth=6, min_child_weight=1, missing=nan,\n",
       "                               monotone_constraints='()', n_estimators=100,\n",
       "                               n_jobs=8, num_parallel_tree=1,\n",
       "                               objective='multi:softprob', predictor='auto',\n",
       "                               random_state=0, reg_alpha=0, reg_lambda=1,\n",
       "                               scale_pos_weight=None, subsample=1,\n",
       "                               tree_method='exact', validate_parameters=1,\n",
       "                               verbosity=None))])"
      ]
     },
     "execution_count": 53,
     "metadata": {},
     "output_type": "execute_result"
    }
   ],
   "source": [
    "pipeline2.fit(X_train, y_train_xg)"
   ]
  },
  {
   "cell_type": "code",
   "execution_count": 54,
   "id": "48c36321-6080-4db5-9337-3f2d0e473e36",
   "metadata": {},
   "outputs": [
    {
     "name": "stdout",
     "output_type": "stream",
     "text": [
      "Test set score: 0.8333726137167099\n"
     ]
    }
   ],
   "source": [
    "score = pipeline2.score(X_test, y_test_xg)          \n",
    "print(f'Test set score: {score}')"
   ]
  },
  {
   "cell_type": "code",
   "execution_count": 55,
   "id": "23ab3ed6-55bc-4539-8fe9-61022127d9fa",
   "metadata": {},
   "outputs": [
    {
     "name": "stdout",
     "output_type": "stream",
     "text": [
      "0.8539743824114824 0.6467361784133914\n"
     ]
    }
   ],
   "source": [
    "y_pred2 = pipeline2.predict(X_test) \n",
    "print(f1_score(y_pred2, y_test_xg, average='weighted'), balanced_accuracy_score(y_test_xg, y_pred2))"
   ]
  },
  {
   "cell_type": "code",
   "execution_count": 56,
   "id": "8b5fb140-29b6-4e23-b978-23b6069a9ff0",
   "metadata": {},
   "outputs": [
    {
     "name": "stdout",
     "output_type": "stream",
     "text": [
      "              precision    recall  f1-score   support\n",
      "\n",
      "           0       0.87      0.89      0.88      6736\n",
      "           1       0.81      0.90      0.85      8794\n",
      "           2       0.71      0.15      0.24      1442\n",
      "\n",
      "    accuracy                           0.83     16972\n",
      "   macro avg       0.80      0.65      0.66     16972\n",
      "weighted avg       0.83      0.83      0.81     16972\n",
      "\n"
     ]
    }
   ],
   "source": [
    "print(classification_report(y_test_xg, y_pred2))"
   ]
  },
  {
   "cell_type": "markdown",
   "id": "0597bef9-f1d2-44d6-ad56-9e9fc3d9d81d",
   "metadata": {},
   "source": [
    "## Results"
   ]
  },
  {
   "cell_type": "code",
   "execution_count": 57,
   "id": "20bece14-e244-4bf5-92bf-d940b8811560",
   "metadata": {},
   "outputs": [],
   "source": [
    "results = pd.read_csv(\"../../output/results.csv\", index_col = 0)"
   ]
  },
  {
   "cell_type": "code",
   "execution_count": 58,
   "id": "87e6a058-695c-455f-be6e-2ce027e8e350",
   "metadata": {},
   "outputs": [],
   "source": [
    "new_rows = pd.DataFrame({'Model': [2,2,2], \n",
    "                                   'Classifier': ['Random Forest', 'SVC', 'XGBoost'], \n",
    "                                   'Accuracy': [0.8392646712231911, 0.7933655432477021, 0.8333726137167099], \n",
    "                                   'Balanced Score': [0.6641196836536543, 0.5763496524928553, 0.6467361784133914], \n",
    "                                   'F1 Score': [0.856513286256951, 0.8283340958670322, 0.8539743824114824]})"
   ]
  },
  {
   "cell_type": "code",
   "execution_count": 59,
   "id": "8775ea28-1096-4314-b39f-ddcd1979149b",
   "metadata": {},
   "outputs": [],
   "source": [
    "results = pd.concat([results, new_rows])"
   ]
  },
  {
   "cell_type": "code",
   "execution_count": 60,
   "id": "9525dba8-d7f3-4b20-9be8-993465342c03",
   "metadata": {},
   "outputs": [],
   "source": [
    "results.reset_index(inplace=True, drop= True)"
   ]
  },
  {
   "cell_type": "code",
   "execution_count": 61,
   "id": "eca958a4-9599-45f5-8a88-3a5e0284d184",
   "metadata": {},
   "outputs": [
    {
     "data": {
      "text/html": [
       "<div>\n",
       "<style scoped>\n",
       "    .dataframe tbody tr th:only-of-type {\n",
       "        vertical-align: middle;\n",
       "    }\n",
       "\n",
       "    .dataframe tbody tr th {\n",
       "        vertical-align: top;\n",
       "    }\n",
       "\n",
       "    .dataframe thead th {\n",
       "        text-align: right;\n",
       "    }\n",
       "</style>\n",
       "<table border=\"1\" class=\"dataframe\">\n",
       "  <thead>\n",
       "    <tr style=\"text-align: right;\">\n",
       "      <th></th>\n",
       "      <th>Model</th>\n",
       "      <th>Classifier</th>\n",
       "      <th>Accuracy</th>\n",
       "      <th>Balanced Score</th>\n",
       "      <th>F1 Score</th>\n",
       "    </tr>\n",
       "  </thead>\n",
       "  <tbody>\n",
       "    <tr>\n",
       "      <th>0</th>\n",
       "      <td>0</td>\n",
       "      <td>Random Forest</td>\n",
       "      <td>0.646740</td>\n",
       "      <td>0.336719</td>\n",
       "      <td>0.675347</td>\n",
       "    </tr>\n",
       "    <tr>\n",
       "      <th>1</th>\n",
       "      <td>0</td>\n",
       "      <td>SVC</td>\n",
       "      <td>0.648684</td>\n",
       "      <td>0.204975</td>\n",
       "      <td>0.622821</td>\n",
       "    </tr>\n",
       "    <tr>\n",
       "      <th>2</th>\n",
       "      <td>0</td>\n",
       "      <td>XGBoost</td>\n",
       "      <td>0.653513</td>\n",
       "      <td>0.352869</td>\n",
       "      <td>0.681627</td>\n",
       "    </tr>\n",
       "    <tr>\n",
       "      <th>3</th>\n",
       "      <td>1</td>\n",
       "      <td>Random Forest</td>\n",
       "      <td>0.659380</td>\n",
       "      <td>0.327566</td>\n",
       "      <td>0.690584</td>\n",
       "    </tr>\n",
       "    <tr>\n",
       "      <th>4</th>\n",
       "      <td>1</td>\n",
       "      <td>SVC</td>\n",
       "      <td>0.607000</td>\n",
       "      <td>0.247482</td>\n",
       "      <td>0.666549</td>\n",
       "    </tr>\n",
       "    <tr>\n",
       "      <th>5</th>\n",
       "      <td>1</td>\n",
       "      <td>XGBoost</td>\n",
       "      <td>0.666686</td>\n",
       "      <td>0.363703</td>\n",
       "      <td>0.692729</td>\n",
       "    </tr>\n",
       "    <tr>\n",
       "      <th>6</th>\n",
       "      <td>2</td>\n",
       "      <td>Random Forest</td>\n",
       "      <td>0.839265</td>\n",
       "      <td>0.664120</td>\n",
       "      <td>0.856513</td>\n",
       "    </tr>\n",
       "    <tr>\n",
       "      <th>7</th>\n",
       "      <td>2</td>\n",
       "      <td>SVC</td>\n",
       "      <td>0.793366</td>\n",
       "      <td>0.576350</td>\n",
       "      <td>0.828334</td>\n",
       "    </tr>\n",
       "    <tr>\n",
       "      <th>8</th>\n",
       "      <td>2</td>\n",
       "      <td>XGBoost</td>\n",
       "      <td>0.833373</td>\n",
       "      <td>0.646736</td>\n",
       "      <td>0.853974</td>\n",
       "    </tr>\n",
       "  </tbody>\n",
       "</table>\n",
       "</div>"
      ],
      "text/plain": [
       "   Model     Classifier  Accuracy  Balanced Score  F1 Score\n",
       "0      0  Random Forest  0.646740        0.336719  0.675347\n",
       "1      0            SVC  0.648684        0.204975  0.622821\n",
       "2      0        XGBoost  0.653513        0.352869  0.681627\n",
       "3      1  Random Forest  0.659380        0.327566  0.690584\n",
       "4      1            SVC  0.607000        0.247482  0.666549\n",
       "5      1        XGBoost  0.666686        0.363703  0.692729\n",
       "6      2  Random Forest  0.839265        0.664120  0.856513\n",
       "7      2            SVC  0.793366        0.576350  0.828334\n",
       "8      2        XGBoost  0.833373        0.646736  0.853974"
      ]
     },
     "execution_count": 61,
     "metadata": {},
     "output_type": "execute_result"
    }
   ],
   "source": [
    "results"
   ]
  },
  {
   "cell_type": "code",
   "execution_count": 62,
   "id": "7385514a-f603-49b8-bdbc-23bb2168421e",
   "metadata": {},
   "outputs": [],
   "source": [
    "results.to_csv(\"../../output/results.csv\")"
   ]
  },
  {
   "cell_type": "code",
   "execution_count": null,
   "id": "d7246d2c-5f7b-4086-aeea-9c964a49281f",
   "metadata": {},
   "outputs": [],
   "source": []
  }
 ],
 "metadata": {
  "kernelspec": {
   "display_name": "lighthouse_env",
   "language": "python",
   "name": "lighthouse_env"
  },
  "language_info": {
   "codemirror_mode": {
    "name": "ipython",
    "version": 3
   },
   "file_extension": ".py",
   "mimetype": "text/x-python",
   "name": "python",
   "nbconvert_exporter": "python",
   "pygments_lexer": "ipython3",
   "version": "3.9.13"
  }
 },
 "nbformat": 4,
 "nbformat_minor": 5
}
